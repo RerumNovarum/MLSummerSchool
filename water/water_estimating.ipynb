{
 "cells": [
  {
   "cell_type": "code",
   "execution_count": 1,
   "metadata": {},
   "outputs": [
    {
     "data": {
      "application/javascript": [
       "if (!(\"Notification\" in window)) {\n",
       "    alert(\"This browser does not support desktop notifications, so the %%notify magic will not work.\");\n",
       "} else if (Notification.permission !== 'granted' && Notification.permission !== 'denied') {\n",
       "    Notification.requestPermission(function (permission) {\n",
       "        if(!('permission' in Notification)) {\n",
       "            Notification.permission = permission;\n",
       "        }\n",
       "    })\n",
       "}\n"
      ],
      "text/plain": [
       "<IPython.core.display.Javascript object>"
      ]
     },
     "metadata": {},
     "output_type": "display_data"
    }
   ],
   "source": [
    "import pandas as pd, numpy as np\n",
    "import matplotlib.pyplot as plt\n",
    "import seaborn as sns\n",
    "import bokeh.plotting\n",
    "import catboost\n",
    "import sklearn.preprocessing, sklearn.feature_selection, sklearn.model_selection\n",
    "from sklearn.pipeline import Pipeline, make_pipeline\n",
    "import sklearn.base\n",
    "from sklearn.base import BaseEstimator, TransformerMixin\n",
    "import seaborn as sns\n",
    "import dateutil.parser\n",
    "import collections\n",
    "import sklearn.utils\n",
    "import itertools\n",
    "import re\n",
    "from sklearn.model_selection import train_test_split\n",
    "\n",
    "import jupyternotify\n",
    "ip = get_ipython()\n",
    "ip.register_magics(jupyternotify.JupyterNotifyMagics)\n",
    "\n",
    "SEED = 42\n",
    "np.random.seed = SEED\n",
    "\n",
    "%matplotlib inline"
   ]
  },
  {
   "cell_type": "code",
   "execution_count": 2,
   "metadata": {
    "collapsed": true
   },
   "outputs": [],
   "source": [
    "from water_transformers import *"
   ]
  },
  {
   "cell_type": "code",
   "execution_count": null,
   "metadata": {
    "collapsed": true
   },
   "outputs": [],
   "source": []
  },
  {
   "cell_type": "code",
   "execution_count": 3,
   "metadata": {},
   "outputs": [
    {
     "data": {
      "text/plain": [
       "array(['functional', 'functional needs repair', 'non functional'], dtype=object)"
      ]
     },
     "execution_count": 3,
     "metadata": {},
     "output_type": "execute_result"
    }
   ],
   "source": [
    "y_enc = sklearn.preprocessing.LabelEncoder()\n",
    "y_enc.fit(pd.Series.from_csv('out_classes.csv'))\n",
    "y_enc.classes_"
   ]
  },
  {
   "cell_type": "code",
   "execution_count": null,
   "metadata": {
    "collapsed": true
   },
   "outputs": [],
   "source": []
  },
  {
   "cell_type": "code",
   "execution_count": 4,
   "metadata": {
    "collapsed": true
   },
   "outputs": [],
   "source": [
    "X_tr, X_cv, X_va, y_tr, y_cv, y_va, X_te = [\n",
    "    pd.read_csv(fname) for fname in ['X_tr.csv', 'X_cv.csv', 'X_va.csv',\n",
    "                                     'y_tr.csv', 'y_cv.csv', 'y_va.csv',\n",
    "                                     'X_te.csv',]\n",
    "]\n",
    "\n",
    "datasets = [X_tr, X_cv, X_va, X_te]\n",
    "for ds in datasets:\n",
    "    ds.drop(['wpt_name', 'num_private', ], errors='ignore', axis=1, inplace=True)\n"
   ]
  },
  {
   "cell_type": "code",
   "execution_count": 5,
   "metadata": {},
   "outputs": [],
   "source": [
    "from sklearn.feature_selection import SelectKBest, chi2"
   ]
  },
  {
   "cell_type": "code",
   "execution_count": 6,
   "metadata": {},
   "outputs": [],
   "source": [
    "def cat_features_indices(X):\n",
    "    return np.where(np.array([(X[c].dtype == object)\n",
    "        or (c.endswith('code'))\n",
    "        or ('date' in c and '_fq' not in c)\n",
    "    for c in X.columns.values]))[0]\n",
    "\n",
    "tr = catboost.Pool(X_tr, y_tr, cat_features=cat_features_indices(X_tr), )\n",
    "\n",
    "cv = catboost.Pool(X_cv, y_cv, cat_features=cat_features_indices(X_cv))\n",
    "va = catboost.Pool(X_va, y_va, cat_features=cat_features_indices(X_va))\n",
    "te = catboost.Pool(X_te, cat_features=cat_features_indices(X_te))"
   ]
  },
  {
   "cell_type": "code",
   "execution_count": null,
   "metadata": {},
   "outputs": [],
   "source": []
  },
  {
   "cell_type": "code",
   "execution_count": null,
   "metadata": {},
   "outputs": [],
   "source": [
    "clf = catboost.CatBoostClassifier(\n",
    "                           random_seed=SEED,\n",
    "                           loss_function='MultiClass',\n",
    "                           verbose=True,\n",
    "                           calc_feature_importance=True,)\n",
    "print('create cb instance: %s' % clf)\n",
    "clf.fit(tr, verbose=True)\n",
    "print('fit!')"
   ]
  },
  {
   "cell_type": "code",
   "execution_count": null,
   "metadata": {
    "collapsed": true
   },
   "outputs": [],
   "source": [
    "\n",
    "display('train score: %s' % clf.score(X_tr, y_tr))\n",
    "display('cv score: %s' % clf.score(X_cv, y_cv))\n",
    "display('test score: %s' % clf.score(X_te, y_te))\n",
    "y_test = clf.predict(X_test)\n",
    "ans=pd.DataFrame({'status_group': y_enc.inverse_transform(\n",
    "    y_test.astype(int).ravel())},\n",
    "    index= X_test.iloc[:,0].values)\n",
    "ans.index.name = 'id'\n",
    "ans.to_csv(name)\n",
    "print('saved!')"
   ]
  }
 ],
 "metadata": {
  "kernelspec": {
   "display_name": "Python 3",
   "language": "python",
   "name": "python3"
  },
  "language_info": {
   "codemirror_mode": {
    "name": "ipython",
    "version": 3
   },
   "file_extension": ".py",
   "mimetype": "text/x-python",
   "name": "python",
   "nbconvert_exporter": "python",
   "pygments_lexer": "ipython3",
   "version": "3.6.1"
  }
 },
 "nbformat": 4,
 "nbformat_minor": 2
}
