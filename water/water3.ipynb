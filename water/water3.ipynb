{
 "cells": [
  {
   "cell_type": "code",
   "execution_count": 42,
   "metadata": {},
   "outputs": [],
   "source": [
    "import numpy as np, pandas as pd\n",
    "import seaborn as sns\n",
    "from sklearn.base import BaseEstimator, TransformerMixin\n",
    "import cython\n",
    "\n",
    "%matplotlib inline\n",
    "%reload_ext Cython"
   ]
  },
  {
   "cell_type": "code",
   "execution_count": 43,
   "metadata": {},
   "outputs": [],
   "source": [
    "X_train, y_train, X_test = [pd.read_csv(csv)\n",
    "                            for csv in ['X_train.csv', 'y_train.csv', 'X_test.csv']]"
   ]
  },
  {
   "cell_type": "code",
   "execution_count": 44,
   "metadata": {},
   "outputs": [],
   "source": [
    "m = X_train.as_matrix()"
   ]
  },
  {
   "cell_type": "code",
   "execution_count": null,
   "metadata": {},
   "outputs": [],
   "source": []
  },
  {
   "cell_type": "code",
   "execution_count": 46,
   "metadata": {
    "collapsed": true
   },
   "outputs": [],
   "source": [
    "def feat_indices(X, feats):\n",
    "    return np.array([X.columns.get_loc(f) for f in feats])\n",
    "\n",
    "def cat_feats_indices(X, add_cat_feats=[]):\n",
    "    return np.where(np.array([(X[c].dtype == object)\n",
    "                                  or (c.endswith('code'))\n",
    "                                  or (c in add_cat_feats) for c in X.columns.values]))[0]"
   ]
  },
  {
   "cell_type": "code",
   "execution_count": 47,
   "metadata": {},
   "outputs": [],
   "source": [
    "class Catenc(BaseEstimator, TransformerMixin):\n",
    "    def __init__(self, cat_feats):\n",
    "        self.cat_feats = cat_feats\n",
    "        self.labels_ = None\n",
    "    def fit(self, X, y=None):\n",
    "        findices = feat_indices(X, cat_feats)\n",
    "        X = X.values\n",
    "        self.labels_ = _catenc_fit(X, findices)\n",
    "    def transform(self, X):\n",
    "        findices = feat_indices(X, cat_feats)\n",
    "        X = X.values\n",
    "        _catenc_transform(X, findices, self.labels_)"
   ]
  },
  {
   "cell_type": "code",
   "execution_count": null,
   "metadata": {},
   "outputs": [],
   "source": []
  },
  {
   "cell_type": "code",
   "execution_count": null,
   "metadata": {
    "collapsed": true
   },
   "outputs": [],
   "source": []
  }
 ],
 "metadata": {
  "kernelspec": {
   "display_name": "Python 3",
   "language": "python",
   "name": "python3"
  },
  "language_info": {
   "codemirror_mode": {
    "name": "ipython",
    "version": 3
   },
   "file_extension": ".py",
   "mimetype": "text/x-python",
   "name": "python",
   "nbconvert_exporter": "python",
   "pygments_lexer": "ipython3",
   "version": "3.6.1"
  }
 },
 "nbformat": 4,
 "nbformat_minor": 2
}
