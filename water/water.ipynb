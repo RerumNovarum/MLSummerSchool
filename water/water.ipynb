{
 "cells": [
  {
   "cell_type": "markdown",
   "metadata": {},
   "source": [
    "## Suffering niggas"
   ]
  },
  {
   "cell_type": "code",
   "execution_count": 1,
   "metadata": {},
   "outputs": [
    {
     "data": {
      "application/javascript": [
       "if (!(\"Notification\" in window)) {\n",
       "    alert(\"This browser does not support desktop notifications, so the %%notify magic will not work.\");\n",
       "} else if (Notification.permission !== 'granted' && Notification.permission !== 'denied') {\n",
       "    Notification.requestPermission(function (permission) {\n",
       "        if(!('permission' in Notification)) {\n",
       "            Notification.permission = permission;\n",
       "        }\n",
       "    })\n",
       "}\n"
      ],
      "text/plain": [
       "<IPython.core.display.Javascript object>"
      ]
     },
     "metadata": {},
     "output_type": "display_data"
    }
   ],
   "source": [
    "import pandas as pd, numpy as np\n",
    "import matplotlib.pyplot as plt\n",
    "import seaborn as sns\n",
    "import bokeh.plotting\n",
    "import catboost\n",
    "import sklearn.preprocessing, sklearn.feature_selection, sklearn.model_selection\n",
    "from sklearn.pipeline import Pipeline, make_pipeline\n",
    "import sklearn.base\n",
    "from sklearn.base import BaseEstimator, TransformerMixin\n",
    "import seaborn as sns\n",
    "\n",
    "import jupyternotify\n",
    "ip = get_ipython()\n",
    "ip.register_magics(jupyternotify.JupyterNotifyMagics)\n",
    "\n",
    "SEED = 42\n",
    "np.random.seed = SEED\n",
    "\n",
    "%matplotlib inline"
   ]
  },
  {
   "cell_type": "code",
   "execution_count": 2,
   "metadata": {
    "collapsed": true
   },
   "outputs": [],
   "source": [
    "X_train = pd.read_csv('X_train.csv')\n",
    "y_train = pd.read_csv('y_train.csv')\n",
    "X_test = pd.read_csv('X_test.csv')"
   ]
  },
  {
   "cell_type": "code",
   "execution_count": 3,
   "metadata": {},
   "outputs": [
    {
     "data": {
      "text/plain": [
       "(59400, 40)"
      ]
     },
     "metadata": {},
     "output_type": "display_data"
    },
    {
     "data": {
      "text/plain": [
       "Index(['id', 'amount_tsh', 'date_recorded', 'funder', 'gps_height',\n",
       "       'installer', 'longitude', 'latitude', 'wpt_name', 'num_private',\n",
       "       'basin', 'subvillage', 'region', 'region_code', 'district_code', 'lga',\n",
       "       'ward', 'population', 'public_meeting', 'recorded_by',\n",
       "       'scheme_management', 'scheme_name', 'permit', 'construction_year',\n",
       "       'extraction_type', 'extraction_type_group', 'extraction_type_class',\n",
       "       'management', 'management_group', 'payment', 'payment_type',\n",
       "       'water_quality', 'quality_group', 'quantity', 'quantity_group',\n",
       "       'source', 'source_type', 'source_class', 'waterpoint_type',\n",
       "       'waterpoint_type_group'],\n",
       "      dtype='object')"
      ]
     },
     "metadata": {},
     "output_type": "display_data"
    },
    {
     "data": {
      "text/plain": [
       "id                           0\n",
       "amount_tsh                   0\n",
       "date_recorded                0\n",
       "funder                    3635\n",
       "gps_height                   0\n",
       "installer                 3655\n",
       "longitude                    0\n",
       "latitude                     0\n",
       "wpt_name                     0\n",
       "num_private                  0\n",
       "basin                        0\n",
       "subvillage                 371\n",
       "region                       0\n",
       "region_code                  0\n",
       "district_code                0\n",
       "lga                          0\n",
       "ward                         0\n",
       "population                   0\n",
       "public_meeting            3334\n",
       "recorded_by                  0\n",
       "scheme_management         3877\n",
       "scheme_name              28166\n",
       "permit                    3056\n",
       "construction_year            0\n",
       "extraction_type              0\n",
       "extraction_type_group        0\n",
       "extraction_type_class        0\n",
       "management                   0\n",
       "management_group             0\n",
       "payment                      0\n",
       "payment_type                 0\n",
       "water_quality                0\n",
       "quality_group                0\n",
       "quantity                     0\n",
       "quantity_group               0\n",
       "source                       0\n",
       "source_type                  0\n",
       "source_class                 0\n",
       "waterpoint_type              0\n",
       "waterpoint_type_group        0\n",
       "dtype: int64"
      ]
     },
     "metadata": {},
     "output_type": "display_data"
    }
   ],
   "source": [
    "display(\n",
    "    X_train.shape,\n",
    "    X_train.columns,\n",
    "    X_train.isnull().sum(),\n",
    ")"
   ]
  },
  {
   "cell_type": "code",
   "execution_count": 4,
   "metadata": {},
   "outputs": [
    {
     "data": {
      "text/plain": [
       "amount_tsh                     [dtype('float64'), 6000.0, 0.0, 25.0, 20.0]\n",
       "basin                    [dtype('O'), 'Lake Nyasa', 'Lake Victoria', 'P...\n",
       "construction_year                 [dtype('int64'), 1999, 2010, 2009, 1986]\n",
       "date_recorded            [dtype('O'), '2011-03-14', '2013-03-06', '2013...\n",
       "district_code                                [dtype('int64'), 5, 2, 4, 63]\n",
       "extraction_type          [dtype('O'), 'gravity', 'submersible', 'swn 80...\n",
       "extraction_type_class    [dtype('O'), 'gravity', 'submersible', 'handpu...\n",
       "extraction_type_group    [dtype('O'), 'gravity', 'submersible', 'swn 80...\n",
       "funder                   [dtype('O'), 'Roman', 'Grumeti', 'Lottery Club...\n",
       "gps_height                          [dtype('int64'), 1390, 1399, 686, 263]\n",
       "id                             [dtype('int64'), 69572, 8776, 34310, 67743]\n",
       "installer                [dtype('O'), 'Roman', 'GRUMETI', 'World vision...\n",
       "latitude                 [dtype('float64'), -9.8563217699999992, -2.147...\n",
       "lga                      [dtype('O'), 'Ludewa', 'Serengeti', 'Simanjiro...\n",
       "longitude                [dtype('float64'), 34.938092750000003, 34.6987...\n",
       "management               [dtype('O'), 'vwc', 'wug', 'other', 'private o...\n",
       "management_group         [dtype('O'), 'user-group', 'other', 'commercia...\n",
       "num_private                                 [dtype('int64'), 0, 39, 5, 45]\n",
       "payment                  [dtype('O'), 'pay annually', 'never pay', 'pay...\n",
       "payment_type             [dtype('O'), 'annually', 'never pay', 'per buc...\n",
       "permit                                      [dtype('O'), False, True, nan]\n",
       "population                             [dtype('int64'), 109, 280, 250, 58]\n",
       "public_meeting                              [dtype('O'), True, nan, False]\n",
       "quality_group            [dtype('O'), 'good', 'salty', 'milky', 'unknown']\n",
       "quantity                 [dtype('O'), 'enough', 'insufficient', 'dry', ...\n",
       "quantity_group           [dtype('O'), 'enough', 'insufficient', 'dry', ...\n",
       "recorded_by                        [dtype('O'), 'GeoData Consultants Ltd']\n",
       "region                   [dtype('O'), 'Iringa', 'Mara', 'Manyara', 'Mtw...\n",
       "region_code                               [dtype('int64'), 11, 20, 21, 90]\n",
       "scheme_management        [dtype('O'), 'VWC', 'Other', nan, 'Private ope...\n",
       "scheme_name              [dtype('O'), 'Roman', nan, 'Nyumba ya mungu pi...\n",
       "source                   [dtype('O'), 'spring', 'rainwater harvesting',...\n",
       "source_class             [dtype('O'), 'groundwater', 'surface', 'unknown']\n",
       "source_type              [dtype('O'), 'spring', 'rainwater harvesting',...\n",
       "subvillage               [dtype('O'), 'Mnyusi B', 'Nyamara', 'Majengo',...\n",
       "ward                     [dtype('O'), 'Mundindi', 'Natta', 'Ngorika', '...\n",
       "water_quality            [dtype('O'), 'soft', 'salty', 'milky', 'unknown']\n",
       "waterpoint_type          [dtype('O'), 'communal standpipe', 'communal s...\n",
       "waterpoint_type_group    [dtype('O'), 'communal standpipe', 'hand pump'...\n",
       "wpt_name                 [dtype('O'), 'none', 'Zahanati', 'Kwa Mahundi'...\n",
       "dtype: object"
      ]
     },
     "execution_count": 4,
     "metadata": {},
     "output_type": "execute_result"
    }
   ],
   "source": [
    "pd.Series({c: ([X_train[c].dtype] + list(X_train[c].unique()[:4])).__repr__() for c in X_train.columns})"
   ]
  },
  {
   "cell_type": "code",
   "execution_count": null,
   "metadata": {
    "collapsed": true
   },
   "outputs": [],
   "source": []
  },
  {
   "cell_type": "code",
   "execution_count": 5,
   "metadata": {},
   "outputs": [
    {
     "data": {
      "text/html": [
       "<div>\n",
       "<style>\n",
       "    .dataframe thead tr:only-child th {\n",
       "        text-align: right;\n",
       "    }\n",
       "\n",
       "    .dataframe thead th {\n",
       "        text-align: left;\n",
       "    }\n",
       "\n",
       "    .dataframe tbody tr th {\n",
       "        vertical-align: top;\n",
       "    }\n",
       "</style>\n",
       "<table border=\"1\" class=\"dataframe\">\n",
       "  <thead>\n",
       "    <tr style=\"text-align: right;\">\n",
       "      <th></th>\n",
       "      <th>id</th>\n",
       "      <th>status_group</th>\n",
       "    </tr>\n",
       "  </thead>\n",
       "  <tbody>\n",
       "    <tr>\n",
       "      <th>0</th>\n",
       "      <td>69572</td>\n",
       "      <td>functional</td>\n",
       "    </tr>\n",
       "    <tr>\n",
       "      <th>1</th>\n",
       "      <td>8776</td>\n",
       "      <td>functional</td>\n",
       "    </tr>\n",
       "    <tr>\n",
       "      <th>2</th>\n",
       "      <td>34310</td>\n",
       "      <td>functional</td>\n",
       "    </tr>\n",
       "    <tr>\n",
       "      <th>3</th>\n",
       "      <td>67743</td>\n",
       "      <td>non functional</td>\n",
       "    </tr>\n",
       "    <tr>\n",
       "      <th>4</th>\n",
       "      <td>19728</td>\n",
       "      <td>functional</td>\n",
       "    </tr>\n",
       "  </tbody>\n",
       "</table>\n",
       "</div>"
      ],
      "text/plain": [
       "      id    status_group\n",
       "0  69572      functional\n",
       "1   8776      functional\n",
       "2  34310      functional\n",
       "3  67743  non functional\n",
       "4  19728      functional"
      ]
     },
     "execution_count": 5,
     "metadata": {},
     "output_type": "execute_result"
    }
   ],
   "source": [
    "y_train.head()"
   ]
  },
  {
   "cell_type": "code",
   "execution_count": 6,
   "metadata": {
    "collapsed": true
   },
   "outputs": [],
   "source": [
    "import dateutil.parser"
   ]
  },
  {
   "cell_type": "code",
   "execution_count": 7,
   "metadata": {
    "collapsed": true
   },
   "outputs": [],
   "source": [
    "class HideMissingValues(BaseEstimator, TransformerMixin):\n",
    "    def fit(self, X, y=None):\n",
    "        return self\n",
    "    \n",
    "    def transform(self, X):\n",
    "        X = X.copy()\n",
    "        for c in X.columns:\n",
    "            if np.issubdtype(X[c].dtype, np.number):\n",
    "                X.loc[:,c].fillna(X.loc[:,c].median(), inplace=True)\n",
    "            else:\n",
    "                X.loc[:,c].fillna('Unknown', inplace=True)\n",
    "                X.loc[:,c] = X[c].map(lambda x: str(x))\n",
    "        return X\n",
    "    \n",
    "    \n",
    "class DropGarbage(BaseEstimator, TransformerMixin):\n",
    "    def __init__(self, cols=['id', 'funder', 'recorded_by', 'date_recorded']):\n",
    "        self.cols = cols\n",
    "        \n",
    "    def fit(self, X, y=None):\n",
    "        return self\n",
    "    \n",
    "    def transform(self, X):\n",
    "        return X.drop(self.cols, axis=1, errors='ignore')\n",
    "\n",
    "class SplitDate(BaseEstimator, TransformerMixin):\n",
    "    def __init__(self, col):\n",
    "        self.col = col\n",
    "    def fit(self, X, y=None):\n",
    "        return self\n",
    "    def transform(self, X):\n",
    "        def t(x):\n",
    "            if isinstance(x, str):\n",
    "                x = dateutil.parser.parse(x)\n",
    "            return (x.year, x.month, x.day, x.weekday())\n",
    "        X = X.copy()\n",
    "        (X.loc[:, self.col + '_year'],\n",
    "         X.loc[:, self.col + '_month'],\n",
    "         X.loc[:, self.col + '_day'],\n",
    "         X.loc[:, self.col + '_weekday']) = zip(\n",
    "        *X.loc[:, self.col].map(t))\n",
    "        return X"
   ]
  },
  {
   "cell_type": "code",
   "execution_count": 8,
   "metadata": {
    "collapsed": true
   },
   "outputs": [],
   "source": [
    "from sklearn.model_selection import train_test_split"
   ]
  },
  {
   "cell_type": "code",
   "execution_count": null,
   "metadata": {
    "collapsed": true,
    "scrolled": true
   },
   "outputs": [],
   "source": [
    "prepr1 = Pipeline([\n",
    "    ('fillna', HideMissingValues()),\n",
    "    ('date_recorded', SplitDate('date_recorded')),\n",
    "    ('drop', DropGarbage(cols=['id', 'recorded_by', ]))\n",
    "])\n",
    "\n",
    "y_enc = sklearn.preprocessing.LabelEncoder()\n",
    "X = prepr1.fit_transform(X_train)\n",
    "y = y_enc.fit_transform(y_train.iloc[:,1])\n",
    "\n",
    "X_tr, X_te, y_tr, y_te = train_test_split(X, y, train_size=0.66)\n",
    "\n",
    "!date\n",
    "cbc1 = catboost.CatBoostClassifier(random_seed=SEED,\n",
    "         loss_function='MultiClass',\n",
    "         eval_set=(X_te, y_te))\n",
    "cbc1.fit(X_tr,\n",
    "         y_tr,\n",
    "         cat_features=np.where(np.array([dt == object for dt in X.dtypes]))[0],\n",
    "         verbose=False)\n",
    "!date"
   ]
  },
  {
   "cell_type": "code",
   "execution_count": null,
   "metadata": {
    "collapsed": true
   },
   "outputs": [],
   "source": [
    "cbc1.score(X_te, y_te)"
   ]
  },
  {
   "cell_type": "code",
   "execution_count": null,
   "metadata": {
    "collapsed": true
   },
   "outputs": [],
   "source": [
    "X_train.iloc[0,[1,2]].values"
   ]
  },
  {
   "cell_type": "code",
   "execution_count": null,
   "metadata": {
    "collapsed": true
   },
   "outputs": [],
   "source": []
  },
  {
   "cell_type": "code",
   "execution_count": null,
   "metadata": {
    "collapsed": true
   },
   "outputs": [],
   "source": [
    "!head SubmissionFormat.csv"
   ]
  },
  {
   "cell_type": "code",
   "execution_count": null,
   "metadata": {
    "collapsed": true
   },
   "outputs": [],
   "source": [
    "y_test1 = cbc1.predict(prepr1.transform(X_test))"
   ]
  },
  {
   "cell_type": "code",
   "execution_count": null,
   "metadata": {
    "collapsed": true
   },
   "outputs": [],
   "source": [
    "y_test1[:4]"
   ]
  },
  {
   "cell_type": "code",
   "execution_count": null,
   "metadata": {
    "collapsed": true,
    "scrolled": true
   },
   "outputs": [],
   "source": [
    "ans1 = pd.DataFrame({'status_group': y_enc.inverse_transform(y_test1.astype(int).ravel())},\n",
    "                    index= X_test.iloc[:,0].values)\n",
    "ans1.index.name = 'id'\n",
    "ans1.to_csv('ans1.csv')"
   ]
  },
  {
   "cell_type": "code",
   "execution_count": null,
   "metadata": {
    "collapsed": true
   },
   "outputs": [],
   "source": [
    "!head ans1.csv"
   ]
  },
  {
   "cell_type": "code",
   "execution_count": 9,
   "metadata": {
    "collapsed": true
   },
   "outputs": [],
   "source": [
    "import collections"
   ]
  },
  {
   "cell_type": "code",
   "execution_count": 10,
   "metadata": {
    "collapsed": true
   },
   "outputs": [],
   "source": [
    "class HandyFeatures(BaseEstimator, TransformerMixin):\n",
    "    def fit(self, X, y=None):\n",
    "        return self\n",
    "    def transform(self, X):\n",
    "        X = X.copy()\n",
    "        X.loc[:,'amount_per_man'] = X.loc[:,'amount_tsh']/X.loc[:,'population']\n",
    "        return X\n",
    "\n",
    "class OutcomeFrequences(BaseException, TransformerMixin):\n",
    "    def __init__(self, groupby, drop=False):\n",
    "        self.groupby = groupby\n",
    "        self.drop = drop\n",
    "        self.cnts_ = None\n",
    "        self.fq_cols_ = None\n",
    "        self.unknowns_ = 0\n",
    "        \n",
    "    def fit(self, X, y=None):\n",
    "        possible_outcomes = [_.split()[-1] if isinstance(_, str) else _ for _ in np.unique(y)]\n",
    "        n_outs = len(possible_outcomes)\n",
    "        self.cnts_ = collections.defaultdict(lambda: np.zeros(n_outs))\n",
    "        # print(self.groupby)\n",
    "        igroupby = np.array([X.columns.get_loc(_) for _ in self.groupby])\n",
    "        for i in range(X.shape[0]):\n",
    "            # assuming $y$ is label-encoded\n",
    "            keys, out = tuple(X.iloc[i, igroupby].values), y[i]\n",
    "            self.cnts_[keys][out] += 1 # no of `(keys, out)` occurences\n",
    "        for k in self.cnts_:\n",
    "            self.cnts_[k] //= self.cnts_[k].sum()\n",
    "            \n",
    "        self.possible_outcomes_ = possible_outcomes\n",
    "        self.fq_cols_ = ['_'.join(self.groupby + [str(out), 'fq'],) for out in possible_outcomes]\n",
    "        return self\n",
    "    \n",
    "    def transform(self, X):\n",
    "        self.unknowns_ = 0\n",
    "        igroupby = np.array([X.columns.get_loc(_) for _ in self.groupby])\n",
    "        new_cols = [tuple([None for out in self.possible_outcomes_]) for _ in range(X.shape[0])]\n",
    "        for i in range(X.shape[0]):\n",
    "            keys = tuple(X.iloc[i, igroupby].values)\n",
    "            if keys in self.cnts_:\n",
    "                new_cols[i] = tuple([self.cnts_[keys][out] for out in self.possible_outcomes_])\n",
    "            else:\n",
    "                self.unknowns_ += 1\n",
    "        self.unknowns_ /= X.size\n",
    "        # print(str(X)[:100])\n",
    "        # print(str(new_cols)[:100])\n",
    "        # print(str(self.fq_cols_[:100]))\n",
    "        new_cols = pd.DataFrame(new_cols, columns=self.fq_cols_)\n",
    "        for c in self.fq_cols_:\n",
    "            new_cols.loc[:,c].fillna(0, inplace=True) # new_cols.loc[:,c].median(), inplace=True)\n",
    "        X = pd.concat((X, new_cols,), axis=1)\n",
    "        if self.drop:\n",
    "            X.drop(self.groupby, axis=1, inplace=True, errors='ignore')\n",
    "        return X\n"
   ]
  },
  {
   "cell_type": "code",
   "execution_count": null,
   "metadata": {
    "collapsed": true
   },
   "outputs": [],
   "source": [
    "prepr2 = Pipeline([\n",
    "    ('fillna', HideMissingValues()),\n",
    "    ('date_recorded', SplitDate('date_recorded')),\n",
    "    ('handyfeats', HandyFeatures()),\n",
    "    ('fq', OutcomeFrequences(['subvillage'])),\n",
    "    ('drop', DropGarbage(cols=['id', 'recorded_by']))\n",
    "])\n",
    "\n",
    "y_enc = sklearn.preprocessing.LabelEncoder()\n",
    "y = y_enc.fit_transform(y_train.iloc[:,1])\n",
    "X = prepr2.fit_transform(X_train, y)\n",
    "\n",
    "X_tr, X_te, y_tr, y_te = train_test_split(X, y, train_size=0.66)\n"
   ]
  },
  {
   "cell_type": "code",
   "execution_count": null,
   "metadata": {
    "collapsed": true
   },
   "outputs": [],
   "source": [
    "\n",
    "!date\n",
    "cbc2 = catboost.CatBoostClassifier(random_seed=SEED,\n",
    "         loss_function='MultiClass',\n",
    "         eval_set=(X_te, y_te))\n",
    "cbc2.fit(X_tr,\n",
    "         y_tr,\n",
    "         cat_features=np.where(np.array([dt == object for dt in X.dtypes]))[0],\n",
    "         verbose=False)\n",
    "!date\n",
    "display('score: %s' % cbc2.score(X_te, y_te))"
   ]
  },
  {
   "cell_type": "code",
   "execution_count": null,
   "metadata": {
    "collapsed": true
   },
   "outputs": [],
   "source": [
    "\n",
    "y_test2 = cbc2.predict(prepr2.transform(X_test))\n",
    "ans2 = pd.DataFrame({'status_group': y_enc.inverse_transform(y_test2.astype(int).ravel())},\n",
    "                    index= X_test.iloc[:,0].values)\n",
    "ans2.index.name = 'id'\n",
    "ans2.to_csv('ans2.csv')"
   ]
  },
  {
   "cell_type": "code",
   "execution_count": 11,
   "metadata": {
    "collapsed": true
   },
   "outputs": [],
   "source": [
    "import sklearn.utils\n",
    "import itertools"
   ]
  },
  {
   "cell_type": "markdown",
   "metadata": {},
   "source": [
    "Whoa! I overfited again! Drivendata scored it $0.8102$.\n",
    "We need some 1) diversification and 2) to validate model more carefully.\n",
    "We'll split train set into three parts this time and ensure we've got equal proportions of all classes in all of the (new_train, cv, test) sets."
   ]
  },
  {
   "cell_type": "code",
   "execution_count": 12,
   "metadata": {
    "collapsed": true
   },
   "outputs": [],
   "source": [
    "def split_train_cv_test(X, y, proportions=(.75, .25/2, .25/2)):\n",
    "    # expecting $y$ to be numpy array\n",
    "    outs = np.unique(y)\n",
    "    proportions = np.array(proportions)\n",
    "    classes = [np.where(y == i)[0] for i in outs]\n",
    "    xparts = [[] for _ in proportions]\n",
    "    yparts = [[] for _ in proportions]\n",
    "    for cidx in classes:\n",
    "        cidx = sklearn.utils.shuffle(cidx)\n",
    "        cprops = cidx.size * proportions\n",
    "        cprops = cprops.astype(int)\n",
    "        cprops[-1] = cidx.size - cprops[:-1].sum()\n",
    "        cx = X.iloc[cidx,:]\n",
    "        cy = y[cidx]\n",
    "        for xpart, ypart, sz in zip(xparts, yparts, cprops):\n",
    "            xpart.append(cx.iloc[:sz,:])\n",
    "            ypart.append(cy[:sz])\n",
    "            cx, cy = cx.iloc[sz:,:], cy[sz:]\n",
    "    xparts = [pd.concat(xpart) for xpart in xparts]\n",
    "    yparts = [np.concatenate(ypart) for ypart in yparts]\n",
    "    # parts = []\n",
    "    # print(len(xparts), 'parts')\n",
    "    # for xpart, ypart in zip(xparts, yparts):\n",
    "    #     parts.append(xpart)\n",
    "    #     parts.append(ypart)\n",
    "    parts = xparts + yparts\n",
    "    return parts"
   ]
  },
  {
   "cell_type": "code",
   "execution_count": null,
   "metadata": {
    "collapsed": true
   },
   "outputs": [],
   "source": []
  },
  {
   "cell_type": "code",
   "execution_count": 58,
   "metadata": {},
   "outputs": [
    {
     "data": {
      "text/plain": [
       "Index(['id', 'amount_tsh', 'date_recorded', 'funder', 'gps_height',\n",
       "       'installer', 'longitude', 'latitude', 'wpt_name', 'num_private',\n",
       "       'basin', 'subvillage', 'region', 'region_code', 'district_code', 'lga',\n",
       "       'ward', 'population', 'public_meeting', 'recorded_by',\n",
       "       'scheme_management', 'scheme_name', 'permit', 'construction_year',\n",
       "       'extraction_type', 'extraction_type_group', 'extraction_type_class',\n",
       "       'management', 'management_group', 'payment', 'payment_type',\n",
       "       'water_quality', 'quality_group', 'quantity', 'quantity_group',\n",
       "       'source', 'source_type', 'source_class', 'waterpoint_type',\n",
       "       'waterpoint_type_group'],\n",
       "      dtype='object')"
      ]
     },
     "execution_count": 58,
     "metadata": {},
     "output_type": "execute_result"
    }
   ],
   "source": [
    "X_train.columns"
   ]
  },
  {
   "cell_type": "code",
   "execution_count": null,
   "metadata": {
    "collapsed": true
   },
   "outputs": [],
   "source": []
  },
  {
   "cell_type": "code",
   "execution_count": null,
   "metadata": {
    "collapsed": true
   },
   "outputs": [],
   "source": []
  },
  {
   "cell_type": "code",
   "execution_count": null,
   "metadata": {
    "collapsed": true
   },
   "outputs": [],
   "source": []
  },
  {
   "cell_type": "code",
   "execution_count": 13,
   "metadata": {
    "collapsed": true
   },
   "outputs": [],
   "source": [
    "def show_intersections(A, B):\n",
    "    cat_features = np.where(np.array([(X_train[c].dtype == object)\n",
    "                                  or (c.endswith('code')) for c in X_train.columns.values]))[0]\n",
    "    cat_feats_observed = []\n",
    "    for c in cat_features:\n",
    "        n_uni = len(set(A.iloc[:,c]).union(B.iloc[:,c]))\n",
    "        n_int = len(set(A.iloc[:,c]).intersection(B.iloc[:,c]))\n",
    "        n_te = len(set(A.iloc[:,c]))\n",
    "        cat_feats_observed.append((A.columns[c], n_int/n_uni, n_int/n_te))\n",
    "    cat_feats_observed = (\n",
    "        pd.DataFrame(cat_feats_observed, columns=['var', 'intersection/union', 'intersection/B'])\n",
    "        .sort_values('intersection/B')\n",
    "    )\n",
    "    return cat_feats_observed"
   ]
  },
  {
   "cell_type": "code",
   "execution_count": 14,
   "metadata": {},
   "outputs": [
    {
     "data": {
      "text/html": [
       "<div>\n",
       "<style>\n",
       "    .dataframe thead tr:only-child th {\n",
       "        text-align: right;\n",
       "    }\n",
       "\n",
       "    .dataframe thead th {\n",
       "        text-align: left;\n",
       "    }\n",
       "\n",
       "    .dataframe tbody tr th {\n",
       "        vertical-align: top;\n",
       "    }\n",
       "</style>\n",
       "<table border=\"1\" class=\"dataframe\">\n",
       "  <thead>\n",
       "    <tr style=\"text-align: right;\">\n",
       "      <th></th>\n",
       "      <th>var</th>\n",
       "      <th>intersection/union</th>\n",
       "      <th>intersection/B</th>\n",
       "    </tr>\n",
       "  </thead>\n",
       "  <tbody>\n",
       "    <tr>\n",
       "      <th>3</th>\n",
       "      <td>wpt_name</td>\n",
       "      <td>0.055950</td>\n",
       "      <td>0.068342</td>\n",
       "    </tr>\n",
       "    <tr>\n",
       "      <th>5</th>\n",
       "      <td>subvillage</td>\n",
       "      <td>0.294315</td>\n",
       "      <td>0.326939</td>\n",
       "    </tr>\n",
       "    <tr>\n",
       "      <th>2</th>\n",
       "      <td>installer</td>\n",
       "      <td>0.343011</td>\n",
       "      <td>0.385368</td>\n",
       "    </tr>\n",
       "    <tr>\n",
       "      <th>1</th>\n",
       "      <td>funder</td>\n",
       "      <td>0.344699</td>\n",
       "      <td>0.388830</td>\n",
       "    </tr>\n",
       "    <tr>\n",
       "      <th>14</th>\n",
       "      <td>scheme_name</td>\n",
       "      <td>0.563960</td>\n",
       "      <td>0.599926</td>\n",
       "    </tr>\n",
       "    <tr>\n",
       "      <th>0</th>\n",
       "      <td>date_recorded</td>\n",
       "      <td>0.861789</td>\n",
       "      <td>0.893258</td>\n",
       "    </tr>\n",
       "    <tr>\n",
       "      <th>13</th>\n",
       "      <td>scheme_management</td>\n",
       "      <td>0.923077</td>\n",
       "      <td>0.923077</td>\n",
       "    </tr>\n",
       "    <tr>\n",
       "      <th>10</th>\n",
       "      <td>ward</td>\n",
       "      <td>0.930887</td>\n",
       "      <td>0.933556</td>\n",
       "    </tr>\n",
       "    <tr>\n",
       "      <th>16</th>\n",
       "      <td>extraction_type</td>\n",
       "      <td>0.944444</td>\n",
       "      <td>0.944444</td>\n",
       "    </tr>\n",
       "    <tr>\n",
       "      <th>7</th>\n",
       "      <td>region_code</td>\n",
       "      <td>0.962963</td>\n",
       "      <td>0.962963</td>\n",
       "    </tr>\n",
       "    <tr>\n",
       "      <th>22</th>\n",
       "      <td>payment_type</td>\n",
       "      <td>1.000000</td>\n",
       "      <td>1.000000</td>\n",
       "    </tr>\n",
       "    <tr>\n",
       "      <th>23</th>\n",
       "      <td>water_quality</td>\n",
       "      <td>1.000000</td>\n",
       "      <td>1.000000</td>\n",
       "    </tr>\n",
       "    <tr>\n",
       "      <th>26</th>\n",
       "      <td>quantity_group</td>\n",
       "      <td>1.000000</td>\n",
       "      <td>1.000000</td>\n",
       "    </tr>\n",
       "    <tr>\n",
       "      <th>25</th>\n",
       "      <td>quantity</td>\n",
       "      <td>1.000000</td>\n",
       "      <td>1.000000</td>\n",
       "    </tr>\n",
       "    <tr>\n",
       "      <th>21</th>\n",
       "      <td>payment</td>\n",
       "      <td>1.000000</td>\n",
       "      <td>1.000000</td>\n",
       "    </tr>\n",
       "    <tr>\n",
       "      <th>27</th>\n",
       "      <td>source</td>\n",
       "      <td>1.000000</td>\n",
       "      <td>1.000000</td>\n",
       "    </tr>\n",
       "    <tr>\n",
       "      <th>28</th>\n",
       "      <td>source_type</td>\n",
       "      <td>1.000000</td>\n",
       "      <td>1.000000</td>\n",
       "    </tr>\n",
       "    <tr>\n",
       "      <th>29</th>\n",
       "      <td>source_class</td>\n",
       "      <td>1.000000</td>\n",
       "      <td>1.000000</td>\n",
       "    </tr>\n",
       "    <tr>\n",
       "      <th>24</th>\n",
       "      <td>quality_group</td>\n",
       "      <td>1.000000</td>\n",
       "      <td>1.000000</td>\n",
       "    </tr>\n",
       "    <tr>\n",
       "      <th>20</th>\n",
       "      <td>management_group</td>\n",
       "      <td>1.000000</td>\n",
       "      <td>1.000000</td>\n",
       "    </tr>\n",
       "    <tr>\n",
       "      <th>15</th>\n",
       "      <td>permit</td>\n",
       "      <td>1.000000</td>\n",
       "      <td>1.000000</td>\n",
       "    </tr>\n",
       "    <tr>\n",
       "      <th>18</th>\n",
       "      <td>extraction_type_class</td>\n",
       "      <td>1.000000</td>\n",
       "      <td>1.000000</td>\n",
       "    </tr>\n",
       "    <tr>\n",
       "      <th>17</th>\n",
       "      <td>extraction_type_group</td>\n",
       "      <td>1.000000</td>\n",
       "      <td>1.000000</td>\n",
       "    </tr>\n",
       "    <tr>\n",
       "      <th>30</th>\n",
       "      <td>waterpoint_type</td>\n",
       "      <td>1.000000</td>\n",
       "      <td>1.000000</td>\n",
       "    </tr>\n",
       "    <tr>\n",
       "      <th>12</th>\n",
       "      <td>recorded_by</td>\n",
       "      <td>1.000000</td>\n",
       "      <td>1.000000</td>\n",
       "    </tr>\n",
       "    <tr>\n",
       "      <th>11</th>\n",
       "      <td>public_meeting</td>\n",
       "      <td>1.000000</td>\n",
       "      <td>1.000000</td>\n",
       "    </tr>\n",
       "    <tr>\n",
       "      <th>9</th>\n",
       "      <td>lga</td>\n",
       "      <td>1.000000</td>\n",
       "      <td>1.000000</td>\n",
       "    </tr>\n",
       "    <tr>\n",
       "      <th>8</th>\n",
       "      <td>district_code</td>\n",
       "      <td>1.000000</td>\n",
       "      <td>1.000000</td>\n",
       "    </tr>\n",
       "    <tr>\n",
       "      <th>6</th>\n",
       "      <td>region</td>\n",
       "      <td>1.000000</td>\n",
       "      <td>1.000000</td>\n",
       "    </tr>\n",
       "    <tr>\n",
       "      <th>4</th>\n",
       "      <td>basin</td>\n",
       "      <td>1.000000</td>\n",
       "      <td>1.000000</td>\n",
       "    </tr>\n",
       "    <tr>\n",
       "      <th>19</th>\n",
       "      <td>management</td>\n",
       "      <td>1.000000</td>\n",
       "      <td>1.000000</td>\n",
       "    </tr>\n",
       "    <tr>\n",
       "      <th>31</th>\n",
       "      <td>waterpoint_type_group</td>\n",
       "      <td>1.000000</td>\n",
       "      <td>1.000000</td>\n",
       "    </tr>\n",
       "  </tbody>\n",
       "</table>\n",
       "</div>"
      ],
      "text/plain": [
       "                      var  intersection/union  intersection/B\n",
       "3                wpt_name            0.055950        0.068342\n",
       "5              subvillage            0.294315        0.326939\n",
       "2               installer            0.343011        0.385368\n",
       "1                  funder            0.344699        0.388830\n",
       "14            scheme_name            0.563960        0.599926\n",
       "0           date_recorded            0.861789        0.893258\n",
       "13      scheme_management            0.923077        0.923077\n",
       "10                   ward            0.930887        0.933556\n",
       "16        extraction_type            0.944444        0.944444\n",
       "7             region_code            0.962963        0.962963\n",
       "22           payment_type            1.000000        1.000000\n",
       "23          water_quality            1.000000        1.000000\n",
       "26         quantity_group            1.000000        1.000000\n",
       "25               quantity            1.000000        1.000000\n",
       "21                payment            1.000000        1.000000\n",
       "27                 source            1.000000        1.000000\n",
       "28            source_type            1.000000        1.000000\n",
       "29           source_class            1.000000        1.000000\n",
       "24          quality_group            1.000000        1.000000\n",
       "20       management_group            1.000000        1.000000\n",
       "15                 permit            1.000000        1.000000\n",
       "18  extraction_type_class            1.000000        1.000000\n",
       "17  extraction_type_group            1.000000        1.000000\n",
       "30        waterpoint_type            1.000000        1.000000\n",
       "12            recorded_by            1.000000        1.000000\n",
       "11         public_meeting            1.000000        1.000000\n",
       "9                     lga            1.000000        1.000000\n",
       "8           district_code            1.000000        1.000000\n",
       "6                  region            1.000000        1.000000\n",
       "4                   basin            1.000000        1.000000\n",
       "19             management            1.000000        1.000000\n",
       "31  waterpoint_type_group            1.000000        1.000000"
      ]
     },
     "execution_count": 14,
     "metadata": {},
     "output_type": "execute_result"
    }
   ],
   "source": [
    "show_intersections(X_train, X_test)"
   ]
  },
  {
   "cell_type": "code",
   "execution_count": 15,
   "metadata": {
    "collapsed": true
   },
   "outputs": [],
   "source": [
    "class ExplicitAge(BaseEstimator, TransformerMixin):\n",
    "    def fit(self, X, y=None):\n",
    "        return self\n",
    "    def transform(self, X):\n",
    "        X = X.copy()\n",
    "        X.loc[:, 'age'] = X.loc[:,'date_recorded_year'] - X.loc[:,'construction_year']\n",
    "        return X"
   ]
  },
  {
   "cell_type": "code",
   "execution_count": 16,
   "metadata": {
    "collapsed": true
   },
   "outputs": [],
   "source": [
    "prepr3 = Pipeline([\n",
    "    ('fillna', HideMissingValues()),\n",
    "    ('date_recorded', SplitDate('date_recorded')),\n",
    "    ('handyfeats', HandyFeatures()),\n",
    "    ('age', ExplicitAge()),\n",
    "] + [\n",
    "    ('_'.join(catcol) + '_fq', OutcomeFrequences(catcol, drop=False))\n",
    "    for catcol in [\n",
    "        ['date_recorded_year', 'date_recorded_month',],\n",
    "    ]\n",
    "] + [\n",
    "    (catcol + '_fq', OutcomeFrequences([catcol], drop=True))\n",
    "    for catcol in ['management', 'ward', 'scheme_name', 'region_code', 'extraction_type',\n",
    "                   'construction_year',\n",
    "                   'date_recorded_year',\n",
    "                   'date_recorded_month',]\n",
    "] + [\n",
    "    (catcol + '_fq', OutcomeFrequences([catcol], drop=False))\n",
    "    for catcol in ['basin', 'lga',\n",
    "                   'extraction_type_class', 'region',]\n",
    "] + [\n",
    "    ('drop', DropGarbage(cols=[\n",
    "        'id', 'recorded_by', 'date_recorded'\n",
    "        'wtp_name', 'installer', 'funder', 'subvillage', # the top of intersection table\n",
    "        'longtitude', 'latitude',\n",
    "        'date_recorded_day', 'date_recorded_weekday',\n",
    "    ]))\n",
    "])\n"
   ]
  },
  {
   "cell_type": "code",
   "execution_count": 17,
   "metadata": {
    "collapsed": true
   },
   "outputs": [],
   "source": [
    "y_enc = sklearn.preprocessing.LabelEncoder()\n",
    "y = y_enc.fit_transform(y_train.iloc[:,1])"
   ]
  },
  {
   "cell_type": "code",
   "execution_count": 18,
   "metadata": {
    "collapsed": true
   },
   "outputs": [],
   "source": [
    "X = prepr3.fit_transform(X_train, y)"
   ]
  },
  {
   "cell_type": "code",
   "execution_count": null,
   "metadata": {
    "collapsed": true
   },
   "outputs": [],
   "source": []
  },
  {
   "cell_type": "code",
   "execution_count": 19,
   "metadata": {},
   "outputs": [
    {
     "name": "stdout",
     "output_type": "stream",
     "text": [
      "Fri Jul 28 15:03:41 MSK 2017\r\n"
     ]
    }
   ],
   "source": [
    "!date"
   ]
  },
  {
   "cell_type": "code",
   "execution_count": 20,
   "metadata": {
    "collapsed": true
   },
   "outputs": [],
   "source": [
    "X_tr, X_cv, X_te, y_tr, y_cv, y_te = split_train_cv_test(X, y)"
   ]
  },
  {
   "cell_type": "code",
   "execution_count": 21,
   "metadata": {},
   "outputs": [
    {
     "name": "stderr",
     "output_type": "stream",
     "text": [
      "/home/god/py/lib/python3.6/site-packages/matplotlib/font_manager.py:1297: UserWarning: findfont: Font family ['sans-serif'] not found. Falling back to DejaVu Sans\n",
      "  (prop.get_family(), self.defaultFamily[fontext]))\n"
     ]
    },
    {
     "data": {
      "image/png": "[encoded data removed]",
      "text/plain": [
       "<matplotlib.figure.Figure at 0x7f8bc418f780>"
      ]
     },
     "metadata": {},
     "output_type": "display_data"
    },
    {
     "data": {
      "image/png": "[encoded data removed]",
      "text/plain": [
       "<matplotlib.figure.Figure at 0x7f8b8cec20b8>"
      ]
     },
     "metadata": {},
     "output_type": "display_data"
    },
    {
     "data": {
      "text/plain": [
       "<matplotlib.axes._subplots.AxesSubplot at 0x7f8b8cf90b00>"
      ]
     },
     "execution_count": 21,
     "metadata": {},
     "output_type": "execute_result"
    },
    {
     "data": {
      "image/png": "[encoded data removed]",
      "text/plain": [
       "<matplotlib.figure.Figure at 0x7f8b8b605da0>"
      ]
     },
     "metadata": {},
     "output_type": "display_data"
    }
   ],
   "source": [
    "sns.countplot(y_tr)\n",
    "plt.show()\n",
    "sns.countplot(y_cv)\n",
    "plt.show()\n",
    "sns.countplot(y_te)"
   ]
  },
  {
   "cell_type": "code",
   "execution_count": null,
   "metadata": {
    "collapsed": true
   },
   "outputs": [],
   "source": []
  },
  {
   "cell_type": "code",
   "execution_count": 22,
   "metadata": {},
   "outputs": [
    {
     "name": "stdout",
     "output_type": "stream",
     "text": [
      "Fri Jul 28 15:03:44 MSK 2017\n",
      "Borders generated\n",
      "0:\tlearn -1.072085383passed: 0.532 sec\ttotal: 972ms\tremaining: 8m 5s\n",
      "1:\tlearn -1.047807589passed: 0.481 sec\ttotal: 1.45s\tremaining: 6m 1s\n",
      "2:\tlearn -1.024451385passed: 0.526 sec\ttotal: 1.98s\tremaining: 5m 27s\n",
      "3:\tlearn -1.002501661passed: 0.53 sec\ttotal: 2.51s\tremaining: 5m 11s\n",
      "4:\tlearn -0.9820205679passed: 0.452 sec\ttotal: 2.96s\tremaining: 4m 53s\n",
      "5:\tlearn -0.9625875968passed: 0.451 sec\ttotal: 3.41s\tremaining: 4m 41s\n",
      "6:\tlearn -0.9443652408passed: 0.506 sec\ttotal: 3.92s\tremaining: 4m 36s\n",
      "7:\tlearn -0.9276026648passed: 0.441 sec\ttotal: 4.36s\tremaining: 4m 28s\n",
      "8:\tlearn -0.9117098578passed: 0.549 sec\ttotal: 4.91s\tremaining: 4m 27s\n",
      "9:\tlearn -0.896959246passed: 0.452 sec\ttotal: 5.36s\tremaining: 4m 22s\n",
      "10:\tlearn -0.882738424passed: 0.461 sec\ttotal: 5.82s\tremaining: 4m 18s\n",
      "11:\tlearn -0.8694885131passed: 0.541 sec\ttotal: 6.36s\tremaining: 4m 18s\n",
      "12:\tlearn -0.8565667305passed: 0.439 sec\ttotal: 6.8s\tremaining: 4m 14s\n",
      "13:\tlearn -0.8442810149passed: 0.468 sec\ttotal: 7.27s\tremaining: 4m 12s\n",
      "14:\tlearn -0.8329990309passed: 0.484 sec\ttotal: 7.76s\tremaining: 4m 10s\n",
      "15:\tlearn -0.8216102274passed: 0.484 sec\ttotal: 8.24s\tremaining: 4m 9s\n",
      "16:\tlearn -0.8115423516passed: 0.445 sec\ttotal: 8.69s\tremaining: 4m 6s\n",
      "17:\tlearn -0.8017480966passed: 0.443 sec\ttotal: 9.13s\tremaining: 4m 4s\n",
      "18:\tlearn -0.7920881835passed: 0.43 sec\ttotal: 9.56s\tremaining: 4m 2s\n",
      "19:\tlearn -0.7828311069passed: 0.498 sec\ttotal: 10.1s\tremaining: 4m 1s\n",
      "20:\tlearn -0.7742963304passed: 0.437 sec\ttotal: 10.5s\tremaining: 3m 59s\n",
      "21:\tlearn -0.7661296467passed: 0.481 sec\ttotal: 11s\tremaining: 3m 58s\n",
      "22:\tlearn -0.7580196336passed: 0.431 sec\ttotal: 11.4s\tremaining: 3m 56s\n",
      "23:\tlearn -0.7501443362passed: 0.509 sec\ttotal: 11.9s\tremaining: 3m 56s\n",
      "24:\tlearn -0.7430117368passed: 0.541 sec\ttotal: 12.5s\tremaining: 3m 56s\n",
      "25:\tlearn -0.7362628673passed: 0.484 sec\ttotal: 12.9s\tremaining: 3m 55s\n",
      "26:\tlearn -0.7294945423passed: 0.495 sec\ttotal: 13.4s\tremaining: 3m 55s\n",
      "27:\tlearn -0.7236479345passed: 0.544 sec\ttotal: 14s\tremaining: 3m 55s\n",
      "28:\tlearn -0.7179540128passed: 0.513 sec\ttotal: 14.5s\tremaining: 3m 55s\n",
      "29:\tlearn -0.7122361609passed: 0.511 sec\ttotal: 15s\tremaining: 3m 55s\n",
      "30:\tlearn -0.7066275597passed: 0.501 sec\ttotal: 15.5s\tremaining: 3m 54s\n",
      "31:\tlearn -0.7013194308passed: 0.549 sec\ttotal: 16.1s\tremaining: 3m 54s\n",
      "32:\tlearn -0.6964937694passed: 0.518 sec\ttotal: 16.6s\tremaining: 3m 54s\n",
      "33:\tlearn -0.6914412498passed: 0.446 sec\ttotal: 17s\tremaining: 3m 53s\n",
      "34:\tlearn -0.6872020692passed: 0.522 sec\ttotal: 17.5s\tremaining: 3m 53s\n",
      "35:\tlearn -0.6824859999passed: 0.448 sec\ttotal: 18s\tremaining: 3m 51s\n",
      "36:\tlearn -0.6782266239passed: 0.435 sec\ttotal: 18.4s\tremaining: 3m 50s\n",
      "37:\tlearn -0.6740503424passed: 0.537 sec\ttotal: 19s\tremaining: 3m 50s\n",
      "38:\tlearn -0.6700511488passed: 0.516 sec\ttotal: 19.5s\tremaining: 3m 50s\n",
      "39:\tlearn -0.6662531524passed: 0.537 sec\ttotal: 20s\tremaining: 3m 50s\n",
      "40:\tlearn -0.6624299369passed: 0.482 sec\ttotal: 20.5s\tremaining: 3m 49s\n",
      "41:\tlearn -0.6588580221passed: 0.504 sec\ttotal: 21s\tremaining: 3m 49s\n",
      "42:\tlearn -0.6553813946passed: 0.548 sec\ttotal: 21.6s\tremaining: 3m 49s\n",
      "43:\tlearn -0.6523445759passed: 0.518 sec\ttotal: 22.1s\tremaining: 3m 48s\n",
      "44:\tlearn -0.6490438007passed: 0.479 sec\ttotal: 22.5s\tremaining: 3m 48s\n",
      "45:\tlearn -0.6458634435passed: 0.467 sec\ttotal: 23s\tremaining: 3m 47s\n",
      "46:\tlearn -0.643146797passed: 0.475 sec\ttotal: 23.5s\tremaining: 3m 46s\n",
      "47:\tlearn -0.6401591073passed: 0.442 sec\ttotal: 23.9s\tremaining: 3m 45s\n",
      "48:\tlearn -0.637436761passed: 0.479 sec\ttotal: 24.4s\tremaining: 3m 44s\n",
      "49:\tlearn -0.6345406496passed: 0.554 sec\ttotal: 25s\tremaining: 3m 44s\n",
      "50:\tlearn -0.6318739234passed: 0.547 sec\ttotal: 25.5s\tremaining: 3m 44s\n",
      "51:\tlearn -0.6290021187passed: 0.541 sec\ttotal: 26.1s\tremaining: 3m 44s\n",
      "52:\tlearn -0.6266566977passed: 0.5 sec\ttotal: 26.6s\tremaining: 3m 43s\n",
      "53:\tlearn -0.6244779862passed: 0.513 sec\ttotal: 27.1s\tremaining: 3m 43s\n",
      "54:\tlearn -0.6220938144passed: 0.502 sec\ttotal: 27.6s\tremaining: 3m 43s\n",
      "55:\tlearn -0.6197641492passed: 0.511 sec\ttotal: 28.1s\tremaining: 3m 42s\n",
      "56:\tlearn -0.617679542passed: 0.457 sec\ttotal: 28.5s\tremaining: 3m 41s\n",
      "57:\tlearn -0.6157545513passed: 0.503 sec\ttotal: 29s\tremaining: 3m 41s\n",
      "58:\tlearn -0.6138430814passed: 0.516 sec\ttotal: 29.6s\tremaining: 3m 40s\n",
      "59:\tlearn -0.6116402208passed: 0.509 sec\ttotal: 30.1s\tremaining: 3m 40s\n",
      "60:\tlearn -0.609892958passed: 0.494 sec\ttotal: 30.6s\tremaining: 3m 39s\n",
      "61:\tlearn -0.6082521386passed: 0.479 sec\ttotal: 31s\tremaining: 3m 39s\n",
      "62:\tlearn -0.6065045987passed: 0.462 sec\ttotal: 31.5s\tremaining: 3m 38s\n",
      "63:\tlearn -0.6047798153passed: 0.524 sec\ttotal: 32s\tremaining: 3m 38s\n",
      "64:\tlearn -0.6028732672passed: 0.485 sec\ttotal: 32.5s\tremaining: 3m 37s\n",
      "65:\tlearn -0.6013380519passed: 0.496 sec\ttotal: 33s\tremaining: 3m 37s\n",
      "66:\tlearn -0.599634695passed: 0.487 sec\ttotal: 33.5s\tremaining: 3m 36s\n",
      "67:\tlearn -0.5980886973passed: 0.56 sec\ttotal: 34.1s\tremaining: 3m 36s\n",
      "68:\tlearn -0.5967395483passed: 0.459 sec\ttotal: 34.5s\tremaining: 3m 35s\n",
      "69:\tlearn -0.5954344984passed: 0.48 sec\ttotal: 35s\tremaining: 3m 34s\n",
      "70:\tlearn -0.5940709854passed: 0.473 sec\ttotal: 35.5s\tremaining: 3m 34s\n",
      "71:\tlearn -0.5925624508passed: 0.529 sec\ttotal: 36s\tremaining: 3m 34s\n",
      "72:\tlearn -0.5912861764passed: 0.459 sec\ttotal: 36.5s\tremaining: 3m 33s\n",
      "73:\tlearn -0.5899102901passed: 0.498 sec\ttotal: 37s\tremaining: 3m 32s\n",
      "74:\tlearn -0.5886767061passed: 0.481 sec\ttotal: 37.4s\tremaining: 3m 32s\n",
      "75:\tlearn -0.5873191095passed: 0.544 sec\ttotal: 38s\tremaining: 3m 31s\n",
      "76:\tlearn -0.5861758263passed: 0.5 sec\ttotal: 38.5s\tremaining: 3m 31s\n",
      "77:\tlearn -0.58460412passed: 0.5 sec\ttotal: 39s\tremaining: 3m 30s\n",
      "78:\tlearn -0.5833061129passed: 0.433 sec\ttotal: 39.4s\tremaining: 3m 30s\n",
      "79:\tlearn -0.5820402717passed: 0.468 sec\ttotal: 39.9s\tremaining: 3m 29s\n",
      "80:\tlearn -0.5809292873passed: 0.487 sec\ttotal: 40.4s\tremaining: 3m 28s\n",
      "81:\tlearn -0.5799021637passed: 0.475 sec\ttotal: 40.8s\tremaining: 3m 28s\n",
      "82:\tlearn -0.5789484559passed: 0.427 sec\ttotal: 41.3s\tremaining: 3m 27s\n",
      "83:\tlearn -0.5779544621passed: 0.548 sec\ttotal: 41.8s\tremaining: 3m 27s\n",
      "84:\tlearn -0.5769327307passed: 0.504 sec\ttotal: 42.3s\tremaining: 3m 26s\n",
      "85:\tlearn -0.575849131passed: 0.439 sec\ttotal: 42.8s\tremaining: 3m 25s\n",
      "86:\tlearn -0.5747710409passed: 0.439 sec\ttotal: 43.2s\tremaining: 3m 25s\n",
      "87:\tlearn -0.5736730353passed: 0.494 sec\ttotal: 43.7s\tremaining: 3m 24s\n",
      "88:\tlearn -0.5727782349passed: 0.494 sec\ttotal: 44.2s\tremaining: 3m 24s\n",
      "89:\tlearn -0.5719820234passed: 0.46 sec\ttotal: 44.7s\tremaining: 3m 23s\n",
      "90:\tlearn -0.5713572903passed: 0.444 sec\ttotal: 45.1s\tremaining: 3m 22s\n",
      "91:\tlearn -0.5705375017passed: 0.528 sec\ttotal: 45.6s\tremaining: 3m 22s\n",
      "92:\tlearn -0.5698128533passed: 0.434 sec\ttotal: 46.1s\tremaining: 3m 21s\n",
      "93:\tlearn -0.5691636865passed: 0.444 sec\ttotal: 46.5s\tremaining: 3m 20s\n",
      "94:\tlearn -0.5684566577passed: 0.476 sec\ttotal: 47s\tremaining: 3m 20s\n",
      "95:\tlearn -0.5677343753passed: 0.452 sec\ttotal: 47.4s\tremaining: 3m 19s\n",
      "96:\tlearn -0.5668559979passed: 0.512 sec\ttotal: 47.9s\tremaining: 3m 19s\n",
      "97:\tlearn -0.5663059831passed: 0.517 sec\ttotal: 48.5s\tremaining: 3m 18s\n",
      "98:\tlearn -0.565524791passed: 0.499 sec\ttotal: 49s\tremaining: 3m 18s\n",
      "99:\tlearn -0.5648226862passed: 0.472 sec\ttotal: 49.4s\tremaining: 3m 17s\n",
      "100:\tlearn -0.5641746749passed: 0.462 sec\ttotal: 49.9s\tremaining: 3m 17s\n",
      "101:\tlearn -0.5634116844passed: 0.441 sec\ttotal: 50.3s\tremaining: 3m 16s\n",
      "102:\tlearn -0.5627051077passed: 0.416 sec\ttotal: 50.8s\tremaining: 3m 15s\n",
      "103:\tlearn -0.5618744639passed: 0.479 sec\ttotal: 51.2s\tremaining: 3m 15s\n",
      "104:\tlearn -0.5613762242passed: 0.432 sec\ttotal: 51.7s\tremaining: 3m 14s\n",
      "105:\tlearn -0.5608511197passed: 0.481 sec\ttotal: 52.1s\tremaining: 3m 13s\n",
      "106:\tlearn -0.5600914124passed: 0.445 sec\ttotal: 52.6s\tremaining: 3m 13s\n",
      "107:\tlearn -0.5595000487passed: 0.466 sec\ttotal: 53.1s\tremaining: 3m 12s\n",
      "108:\tlearn -0.5588788017passed: 0.49 sec\ttotal: 53.5s\tremaining: 3m 12s\n",
      "109:\tlearn -0.5581980939passed: 0.561 sec\ttotal: 54.1s\tremaining: 3m 11s\n",
      "110:\tlearn -0.5574600782passed: 0.457 sec\ttotal: 54.6s\tremaining: 3m 11s\n",
      "111:\tlearn -0.5569716816passed: 0.38 sec\ttotal: 54.9s\tremaining: 3m 10s\n",
      "112:\tlearn -0.5564293159passed: 0.537 sec\ttotal: 55.5s\tremaining: 3m 10s\n",
      "113:\tlearn -0.5559728085passed: 0.523 sec\ttotal: 56s\tremaining: 3m 9s\n",
      "114:\tlearn -0.5554648084passed: 0.474 sec\ttotal: 56.5s\tremaining: 3m 9s\n"
     ]
    },
    {
     "name": "stdout",
     "output_type": "stream",
     "text": [
      "115:\tlearn -0.555056192passed: 0.514 sec\ttotal: 57s\tremaining: 3m 8s\n",
      "116:\tlearn -0.554529975passed: 0.499 sec\ttotal: 57.5s\tremaining: 3m 8s\n",
      "117:\tlearn -0.5539498436passed: 0.475 sec\ttotal: 58s\tremaining: 3m 7s\n",
      "118:\tlearn -0.5535904562passed: 0.44 sec\ttotal: 58.4s\tremaining: 3m 7s\n",
      "119:\tlearn -0.5531519137passed: 0.479 sec\ttotal: 58.9s\tremaining: 3m 6s\n",
      "120:\tlearn -0.5526404138passed: 0.526 sec\ttotal: 59.4s\tremaining: 3m 6s\n",
      "121:\tlearn -0.5521580708passed: 0.473 sec\ttotal: 59.9s\tremaining: 3m 5s\n",
      "122:\tlearn -0.5517815264passed: 0.59 sec\ttotal: 1m\tremaining: 3m 5s\n",
      "123:\tlearn -0.5513792474passed: 0.516 sec\ttotal: 1m\tremaining: 3m 4s\n",
      "124:\tlearn -0.550856081passed: 0.504 sec\ttotal: 1m 1s\tremaining: 3m 4s\n",
      "125:\tlearn -0.5506009615passed: 0.605 sec\ttotal: 1m 2s\tremaining: 3m 4s\n",
      "126:\tlearn -0.5502307216passed: 0.473 sec\ttotal: 1m 2s\tremaining: 3m 3s\n",
      "127:\tlearn -0.5499665963passed: 0.54 sec\ttotal: 1m 3s\tremaining: 3m 3s\n",
      "128:\tlearn -0.5493493602passed: 0.522 sec\ttotal: 1m 3s\tremaining: 3m 3s\n",
      "129:\tlearn -0.5487660217passed: 0.519 sec\ttotal: 1m 4s\tremaining: 3m 2s\n",
      "130:\tlearn -0.5484614431passed: 0.435 sec\ttotal: 1m 4s\tremaining: 3m 1s\n",
      "131:\tlearn -0.5481003078passed: 0.483 sec\ttotal: 1m 5s\tremaining: 3m 1s\n",
      "132:\tlearn -0.5477878618passed: 0.481 sec\ttotal: 1m 5s\tremaining: 3m\n",
      "133:\tlearn -0.5475096254passed: 0.452 sec\ttotal: 1m 6s\tremaining: 3m\n",
      "134:\tlearn -0.5471763508passed: 0.491 sec\ttotal: 1m 6s\tremaining: 2m 59s\n",
      "135:\tlearn -0.5468466957passed: 0.396 sec\ttotal: 1m 6s\tremaining: 2m 59s\n",
      "136:\tlearn -0.5466039807passed: 0.566 sec\ttotal: 1m 7s\tremaining: 2m 58s\n",
      "137:\tlearn -0.5462877175passed: 0.491 sec\ttotal: 1m 7s\tremaining: 2m 58s\n",
      "138:\tlearn -0.5458864322passed: 0.517 sec\ttotal: 1m 8s\tremaining: 2m 57s\n",
      "139:\tlearn -0.5453928861passed: 0.499 sec\ttotal: 1m 8s\tremaining: 2m 57s\n",
      "140:\tlearn -0.5450526321passed: 0.431 sec\ttotal: 1m 9s\tremaining: 2m 56s\n",
      "141:\tlearn -0.5445945357passed: 0.454 sec\ttotal: 1m 9s\tremaining: 2m 56s\n",
      "142:\tlearn -0.5441871556passed: 0.562 sec\ttotal: 1m 10s\tremaining: 2m 55s\n",
      "143:\tlearn -0.5438296354passed: 0.474 sec\ttotal: 1m 10s\tremaining: 2m 55s\n",
      "144:\tlearn -0.5435866451passed: 0.553 sec\ttotal: 1m 11s\tremaining: 2m 54s\n",
      "145:\tlearn -0.5431993083passed: 0.526 sec\ttotal: 1m 11s\tremaining: 2m 54s\n",
      "146:\tlearn -0.5427386202passed: 0.46 sec\ttotal: 1m 12s\tremaining: 2m 53s\n",
      "147:\tlearn -0.5421229486passed: 0.454 sec\ttotal: 1m 12s\tremaining: 2m 53s\n",
      "148:\tlearn -0.5419751981passed: 0.323 sec\ttotal: 1m 13s\tremaining: 2m 52s\n",
      "149:\tlearn -0.5417712792passed: 0.508 sec\ttotal: 1m 13s\tremaining: 2m 52s\n",
      "150:\tlearn -0.5415903741passed: 0.449 sec\ttotal: 1m 14s\tremaining: 2m 51s\n",
      "151:\tlearn -0.5413530412passed: 0.44 sec\ttotal: 1m 14s\tremaining: 2m 50s\n",
      "152:\tlearn -0.5410546091passed: 0.496 sec\ttotal: 1m 15s\tremaining: 2m 50s\n",
      "153:\tlearn -0.54078619passed: 0.493 sec\ttotal: 1m 15s\tremaining: 2m 49s\n",
      "154:\tlearn -0.540429122passed: 0.603 sec\ttotal: 1m 16s\tremaining: 2m 49s\n",
      "155:\tlearn -0.5400322752passed: 0.433 sec\ttotal: 1m 16s\tremaining: 2m 48s\n",
      "156:\tlearn -0.5397987634passed: 0.483 sec\ttotal: 1m 17s\tremaining: 2m 48s\n",
      "157:\tlearn -0.5395447944passed: 0.592 sec\ttotal: 1m 17s\tremaining: 2m 48s\n",
      "158:\tlearn -0.5392866005passed: 0.528 sec\ttotal: 1m 18s\tremaining: 2m 47s\n",
      "159:\tlearn -0.5392206903passed: 0.432 sec\ttotal: 1m 18s\tremaining: 2m 47s\n",
      "160:\tlearn -0.5387692898passed: 0.591 sec\ttotal: 1m 19s\tremaining: 2m 46s\n",
      "161:\tlearn -0.5385183365passed: 0.434 sec\ttotal: 1m 19s\tremaining: 2m 46s\n",
      "162:\tlearn -0.538336621passed: 0.549 sec\ttotal: 1m 20s\tremaining: 2m 45s\n",
      "163:\tlearn -0.5381129549passed: 0.481 sec\ttotal: 1m 20s\tremaining: 2m 45s\n",
      "164:\tlearn -0.5378182131passed: 0.409 sec\ttotal: 1m 21s\tremaining: 2m 44s\n",
      "165:\tlearn -0.5376137342passed: 0.474 sec\ttotal: 1m 21s\tremaining: 2m 44s\n",
      "166:\tlearn -0.5372647913passed: 0.486 sec\ttotal: 1m 22s\tremaining: 2m 43s\n",
      "167:\tlearn -0.5368994065passed: 0.504 sec\ttotal: 1m 22s\tremaining: 2m 43s\n",
      "168:\tlearn -0.5365484102passed: 0.385 sec\ttotal: 1m 22s\tremaining: 2m 42s\n",
      "169:\tlearn -0.536238242passed: 0.505 sec\ttotal: 1m 23s\tremaining: 2m 42s\n",
      "170:\tlearn -0.5360478199passed: 0.497 sec\ttotal: 1m 23s\tremaining: 2m 41s\n",
      "171:\tlearn -0.5358066647passed: 0.489 sec\ttotal: 1m 24s\tremaining: 2m 41s\n",
      "172:\tlearn -0.5356669967passed: 0.286 sec\ttotal: 1m 24s\tremaining: 2m 40s\n",
      "173:\tlearn -0.5353999883passed: 0.508 sec\ttotal: 1m 25s\tremaining: 2m 39s\n",
      "174:\tlearn -0.5351516206passed: 0.549 sec\ttotal: 1m 25s\tremaining: 2m 39s\n",
      "175:\tlearn -0.5349470541passed: 0.385 sec\ttotal: 1m 26s\tremaining: 2m 38s\n",
      "176:\tlearn -0.5347200949passed: 0.538 sec\ttotal: 1m 26s\tremaining: 2m 38s\n",
      "177:\tlearn -0.5342913332passed: 0.428 sec\ttotal: 1m 27s\tremaining: 2m 37s\n",
      "178:\tlearn -0.534140967passed: 0.545 sec\ttotal: 1m 27s\tremaining: 2m 37s\n",
      "179:\tlearn -0.5340772957passed: 0.223 sec\ttotal: 1m 27s\tremaining: 2m 36s\n",
      "180:\tlearn -0.5336838095passed: 0.528 sec\ttotal: 1m 28s\tremaining: 2m 35s\n",
      "181:\tlearn -0.533522872passed: 0.416 sec\ttotal: 1m 28s\tremaining: 2m 35s\n",
      "182:\tlearn -0.5332966364passed: 0.506 sec\ttotal: 1m 29s\tremaining: 2m 34s\n",
      "183:\tlearn -0.5330159045passed: 0.511 sec\ttotal: 1m 29s\tremaining: 2m 34s\n",
      "184:\tlearn -0.5328281212passed: 0.434 sec\ttotal: 1m 30s\tremaining: 2m 33s\n",
      "185:\tlearn -0.5325832733passed: 0.537 sec\ttotal: 1m 30s\tremaining: 2m 33s\n",
      "186:\tlearn -0.5322294731passed: 0.449 sec\ttotal: 1m 31s\tremaining: 2m 32s\n",
      "187:\tlearn -0.5320075951passed: 0.474 sec\ttotal: 1m 31s\tremaining: 2m 32s\n",
      "188:\tlearn -0.5318334187passed: 0.543 sec\ttotal: 1m 32s\tremaining: 2m 31s\n",
      "189:\tlearn -0.5316837172passed: 0.584 sec\ttotal: 1m 32s\tremaining: 2m 31s\n",
      "190:\tlearn -0.5315839399passed: 0.468 sec\ttotal: 1m 33s\tremaining: 2m 31s\n",
      "191:\tlearn -0.5314125825passed: 0.466 sec\ttotal: 1m 33s\tremaining: 2m 30s\n",
      "192:\tlearn -0.5312538222passed: 0.518 sec\ttotal: 1m 34s\tremaining: 2m 30s\n",
      "193:\tlearn -0.5310106727passed: 0.502 sec\ttotal: 1m 34s\tremaining: 2m 29s\n",
      "194:\tlearn -0.530837073passed: 0.518 sec\ttotal: 1m 35s\tremaining: 2m 29s\n",
      "195:\tlearn -0.5306909486passed: 0.548 sec\ttotal: 1m 35s\tremaining: 2m 28s\n",
      "196:\tlearn -0.5304612724passed: 0.548 sec\ttotal: 1m 36s\tremaining: 2m 28s\n",
      "197:\tlearn -0.5304079882passed: 0.219 sec\ttotal: 1m 36s\tremaining: 2m 27s\n",
      "198:\tlearn -0.5301121661passed: 0.555 sec\ttotal: 1m 37s\tremaining: 2m 27s\n",
      "199:\tlearn -0.5297451491passed: 0.542 sec\ttotal: 1m 37s\tremaining: 2m 26s\n",
      "200:\tlearn -0.5295459982passed: 0.53 sec\ttotal: 1m 38s\tremaining: 2m 26s\n",
      "201:\tlearn -0.529230283passed: 0.504 sec\ttotal: 1m 38s\tremaining: 2m 25s\n",
      "202:\tlearn -0.5291165255passed: 0.37 sec\ttotal: 1m 39s\tremaining: 2m 25s\n",
      "203:\tlearn -0.5288072884passed: 0.462 sec\ttotal: 1m 39s\tremaining: 2m 24s\n",
      "204:\tlearn -0.528535975passed: 0.484 sec\ttotal: 1m 40s\tremaining: 2m 24s\n",
      "205:\tlearn -0.5284047387passed: 0.534 sec\ttotal: 1m 40s\tremaining: 2m 23s\n",
      "206:\tlearn -0.5282123405passed: 0.554 sec\ttotal: 1m 41s\tremaining: 2m 23s\n",
      "207:\tlearn -0.5280976185passed: 0.578 sec\ttotal: 1m 41s\tremaining: 2m 22s\n",
      "208:\tlearn -0.5279479136passed: 0.486 sec\ttotal: 1m 42s\tremaining: 2m 22s\n",
      "209:\tlearn -0.5277548012passed: 0.481 sec\ttotal: 1m 42s\tremaining: 2m 21s\n",
      "210:\tlearn -0.5275121697passed: 0.503 sec\ttotal: 1m 43s\tremaining: 2m 21s\n",
      "211:\tlearn -0.5272815905passed: 0.525 sec\ttotal: 1m 43s\tremaining: 2m 21s\n",
      "212:\tlearn -0.5271284371passed: 0.503 sec\ttotal: 1m 44s\tremaining: 2m 20s\n",
      "213:\tlearn -0.5269617704passed: 0.519 sec\ttotal: 1m 44s\tremaining: 2m 20s\n",
      "214:\tlearn -0.526860516passed: 0.54 sec\ttotal: 1m 45s\tremaining: 2m 19s\n",
      "215:\tlearn -0.5266279762passed: 0.568 sec\ttotal: 1m 45s\tremaining: 2m 19s\n",
      "216:\tlearn -0.5264376939passed: 0.432 sec\ttotal: 1m 46s\tremaining: 2m 18s\n",
      "217:\tlearn -0.5263219377passed: 0.469 sec\ttotal: 1m 46s\tremaining: 2m 18s\n",
      "218:\tlearn -0.5259440145passed: 0.462 sec\ttotal: 1m 47s\tremaining: 2m 17s\n",
      "219:\tlearn -0.5258205636passed: 0.523 sec\ttotal: 1m 47s\tremaining: 2m 17s\n",
      "220:\tlearn -0.5255586003passed: 0.506 sec\ttotal: 1m 48s\tremaining: 2m 16s\n",
      "221:\tlearn -0.5253578596passed: 0.495 sec\ttotal: 1m 48s\tremaining: 2m 16s\n",
      "222:\tlearn -0.5251240141passed: 0.508 sec\ttotal: 1m 49s\tremaining: 2m 15s\n",
      "223:\tlearn -0.5249883032passed: 0.507 sec\ttotal: 1m 49s\tremaining: 2m 15s\n",
      "224:\tlearn -0.5247400593passed: 0.489 sec\ttotal: 1m 50s\tremaining: 2m 14s\n",
      "225:\tlearn -0.524501192passed: 0.509 sec\ttotal: 1m 50s\tremaining: 2m 14s\n",
      "226:\tlearn -0.5243236227passed: 0.527 sec\ttotal: 1m 51s\tremaining: 2m 13s\n"
     ]
    },
    {
     "name": "stdout",
     "output_type": "stream",
     "text": [
      "227:\tlearn -0.5240647047passed: 0.512 sec\ttotal: 1m 51s\tremaining: 2m 13s\n",
      "228:\tlearn -0.5239673101passed: 0.457 sec\ttotal: 1m 52s\tremaining: 2m 12s\n",
      "229:\tlearn -0.523805694passed: 0.509 sec\ttotal: 1m 52s\tremaining: 2m 12s\n",
      "230:\tlearn -0.5236022527passed: 0.608 sec\ttotal: 1m 53s\tremaining: 2m 12s\n",
      "231:\tlearn -0.5233688passed: 0.531 sec\ttotal: 1m 53s\tremaining: 2m 11s\n",
      "232:\tlearn -0.5232797646passed: 0.271 sec\ttotal: 1m 54s\tremaining: 2m 10s\n",
      "233:\tlearn -0.5231884799passed: 0.455 sec\ttotal: 1m 54s\tremaining: 2m 10s\n",
      "234:\tlearn -0.5229860194passed: 0.533 sec\ttotal: 1m 55s\tremaining: 2m 9s\n",
      "235:\tlearn -0.5228382566passed: 0.477 sec\ttotal: 1m 55s\tremaining: 2m 9s\n",
      "236:\tlearn -0.5227614991passed: 0.217 sec\ttotal: 1m 55s\tremaining: 2m 8s\n",
      "237:\tlearn -0.5225729237passed: 0.519 sec\ttotal: 1m 56s\tremaining: 2m 8s\n",
      "238:\tlearn -0.522166557passed: 0.472 sec\ttotal: 1m 56s\tremaining: 2m 7s\n",
      "239:\tlearn -0.5219018656passed: 0.524 sec\ttotal: 1m 57s\tremaining: 2m 7s\n",
      "240:\tlearn -0.5216895994passed: 0.541 sec\ttotal: 1m 58s\tremaining: 2m 6s\n",
      "241:\tlearn -0.5214978365passed: 0.431 sec\ttotal: 1m 58s\tremaining: 2m 6s\n",
      "242:\tlearn -0.5213013458passed: 0.587 sec\ttotal: 1m 59s\tremaining: 2m 5s\n",
      "243:\tlearn -0.5211914955passed: 0.513 sec\ttotal: 1m 59s\tremaining: 2m 5s\n",
      "244:\tlearn -0.520987647passed: 0.482 sec\ttotal: 2m\tremaining: 2m 4s\n",
      "245:\tlearn -0.5208626603passed: 0.556 sec\ttotal: 2m\tremaining: 2m 4s\n",
      "246:\tlearn -0.5207230324passed: 0.495 sec\ttotal: 2m 1s\tremaining: 2m 4s\n",
      "247:\tlearn -0.5205795943passed: 0.51 sec\ttotal: 2m 1s\tremaining: 2m 3s\n",
      "248:\tlearn -0.5204235873passed: 0.496 sec\ttotal: 2m 2s\tremaining: 2m 3s\n",
      "249:\tlearn -0.5202877716passed: 0.446 sec\ttotal: 2m 2s\tremaining: 2m 2s\n",
      "250:\tlearn -0.5201622493passed: 0.569 sec\ttotal: 2m 3s\tremaining: 2m 2s\n",
      "251:\tlearn -0.519863111passed: 0.435 sec\ttotal: 2m 3s\tremaining: 2m 1s\n",
      "252:\tlearn -0.5197793994passed: 0.534 sec\ttotal: 2m 4s\tremaining: 2m 1s\n",
      "253:\tlearn -0.5195703735passed: 0.526 sec\ttotal: 2m 4s\tremaining: 2m\n",
      "254:\tlearn -0.5194458705passed: 0.538 sec\ttotal: 2m 5s\tremaining: 2m\n",
      "255:\tlearn -0.5193245818passed: 0.57 sec\ttotal: 2m 5s\tremaining: 1m 59s\n",
      "256:\tlearn -0.5192156228passed: 0.503 sec\ttotal: 2m 6s\tremaining: 1m 59s\n",
      "257:\tlearn -0.5190412787passed: 0.501 sec\ttotal: 2m 6s\tremaining: 1m 58s\n",
      "258:\tlearn -0.5188418475passed: 0.528 sec\ttotal: 2m 7s\tremaining: 1m 58s\n",
      "259:\tlearn -0.5186810942passed: 0.501 sec\ttotal: 2m 7s\tremaining: 1m 57s\n",
      "260:\tlearn -0.518543653passed: 0.504 sec\ttotal: 2m 8s\tremaining: 1m 57s\n",
      "261:\tlearn -0.5184165453passed: 0.525 sec\ttotal: 2m 8s\tremaining: 1m 56s\n",
      "262:\tlearn -0.5182853364passed: 0.479 sec\ttotal: 2m 9s\tremaining: 1m 56s\n",
      "263:\tlearn -0.5181976556passed: 0.516 sec\ttotal: 2m 9s\tremaining: 1m 55s\n",
      "264:\tlearn -0.5180934826passed: 0.606 sec\ttotal: 2m 10s\tremaining: 1m 55s\n",
      "265:\tlearn -0.5179697417passed: 0.507 sec\ttotal: 2m 10s\tremaining: 1m 55s\n",
      "266:\tlearn -0.5177279289passed: 0.475 sec\ttotal: 2m 11s\tremaining: 1m 54s\n",
      "267:\tlearn -0.517539503passed: 0.479 sec\ttotal: 2m 11s\tremaining: 1m 54s\n",
      "268:\tlearn -0.5173970436passed: 0.498 sec\ttotal: 2m 12s\tremaining: 1m 53s\n",
      "269:\tlearn -0.5172817025passed: 0.448 sec\ttotal: 2m 12s\tremaining: 1m 53s\n",
      "270:\tlearn -0.5171334652passed: 0.527 sec\ttotal: 2m 13s\tremaining: 1m 52s\n",
      "271:\tlearn -0.517035152passed: 0.505 sec\ttotal: 2m 13s\tremaining: 1m 52s\n",
      "272:\tlearn -0.5169429025passed: 0.434 sec\ttotal: 2m 14s\tremaining: 1m 51s\n",
      "273:\tlearn -0.5168050277passed: 0.575 sec\ttotal: 2m 14s\tremaining: 1m 51s\n",
      "274:\tlearn -0.5166714127passed: 0.544 sec\ttotal: 2m 15s\tremaining: 1m 50s\n",
      "275:\tlearn -0.5164270822passed: 0.521 sec\ttotal: 2m 15s\tremaining: 1m 50s\n",
      "276:\tlearn -0.5162222964passed: 0.509 sec\ttotal: 2m 16s\tremaining: 1m 49s\n",
      "277:\tlearn -0.5161106452passed: 0.525 sec\ttotal: 2m 16s\tremaining: 1m 49s\n",
      "278:\tlearn -0.5160364107passed: 0.464 sec\ttotal: 2m 17s\tremaining: 1m 48s\n",
      "279:\tlearn -0.5159892707passed: 0.632 sec\ttotal: 2m 18s\tremaining: 1m 48s\n",
      "280:\tlearn -0.5158649613passed: 0.469 sec\ttotal: 2m 18s\tremaining: 1m 47s\n",
      "281:\tlearn -0.5157713879passed: 0.536 sec\ttotal: 2m 19s\tremaining: 1m 47s\n",
      "282:\tlearn -0.5157081216passed: 0.561 sec\ttotal: 2m 19s\tremaining: 1m 47s\n",
      "283:\tlearn -0.5156499408passed: 0.223 sec\ttotal: 2m 19s\tremaining: 1m 46s\n",
      "284:\tlearn -0.5155810733passed: 0.537 sec\ttotal: 2m 20s\tremaining: 1m 45s\n",
      "285:\tlearn -0.5153742992passed: 0.518 sec\ttotal: 2m 20s\tremaining: 1m 45s\n",
      "286:\tlearn -0.5152426026passed: 0.434 sec\ttotal: 2m 21s\tremaining: 1m 44s\n",
      "287:\tlearn -0.5151292999passed: 0.553 sec\ttotal: 2m 21s\tremaining: 1m 44s\n",
      "288:\tlearn -0.5150392667passed: 0.388 sec\ttotal: 2m 22s\tremaining: 1m 43s\n",
      "289:\tlearn -0.5148502952passed: 0.518 sec\ttotal: 2m 22s\tremaining: 1m 43s\n",
      "290:\tlearn -0.5146274101passed: 0.516 sec\ttotal: 2m 23s\tremaining: 1m 42s\n",
      "291:\tlearn -0.5145550174passed: 0.504 sec\ttotal: 2m 23s\tremaining: 1m 42s\n",
      "292:\tlearn -0.5143848785passed: 0.534 sec\ttotal: 2m 24s\tremaining: 1m 41s\n",
      "293:\tlearn -0.5143732745passed: 0.154 sec\ttotal: 2m 24s\tremaining: 1m 41s\n",
      "294:\tlearn -0.514223074passed: 0.522 sec\ttotal: 2m 24s\tremaining: 1m 40s\n",
      "295:\tlearn -0.5141613716passed: 0.358 sec\ttotal: 2m 25s\tremaining: 1m 40s\n",
      "296:\tlearn -0.5140466561passed: 0.565 sec\ttotal: 2m 25s\tremaining: 1m 39s\n",
      "297:\tlearn -0.5139369641passed: 0.602 sec\ttotal: 2m 26s\tremaining: 1m 39s\n",
      "298:\tlearn -0.5138276156passed: 0.634 sec\ttotal: 2m 27s\tremaining: 1m 38s\n",
      "299:\tlearn -0.5135450198passed: 0.399 sec\ttotal: 2m 27s\tremaining: 1m 38s\n",
      "300:\tlearn -0.5133392907passed: 0.49 sec\ttotal: 2m 28s\tremaining: 1m 37s\n",
      "301:\tlearn -0.5131965727passed: 0.536 sec\ttotal: 2m 28s\tremaining: 1m 37s\n",
      "302:\tlearn -0.513032768passed: 0.542 sec\ttotal: 2m 29s\tremaining: 1m 36s\n",
      "303:\tlearn -0.5128736291passed: 0.509 sec\ttotal: 2m 29s\tremaining: 1m 36s\n",
      "304:\tlearn -0.512772855passed: 0.533 sec\ttotal: 2m 30s\tremaining: 1m 35s\n",
      "305:\tlearn -0.5125796743passed: 0.447 sec\ttotal: 2m 30s\tremaining: 1m 35s\n",
      "306:\tlearn -0.5125269452passed: 0.596 sec\ttotal: 2m 31s\tremaining: 1m 35s\n",
      "307:\tlearn -0.5123338537passed: 0.476 sec\ttotal: 2m 31s\tremaining: 1m 34s\n",
      "308:\tlearn -0.5122427149passed: 0.531 sec\ttotal: 2m 32s\tremaining: 1m 34s\n",
      "309:\tlearn -0.512217304passed: 0.234 sec\ttotal: 2m 32s\tremaining: 1m 33s\n",
      "310:\tlearn -0.5122062051passed: 0.156 sec\ttotal: 2m 32s\tremaining: 1m 32s\n",
      "311:\tlearn -0.5120680025passed: 0.477 sec\ttotal: 2m 33s\tremaining: 1m 32s\n",
      "312:\tlearn -0.5119318527passed: 0.571 sec\ttotal: 2m 33s\tremaining: 1m 31s\n",
      "313:\tlearn -0.5118643721passed: 0.579 sec\ttotal: 2m 34s\tremaining: 1m 31s\n",
      "314:\tlearn -0.5118013956passed: 0.495 sec\ttotal: 2m 34s\tremaining: 1m 30s\n",
      "315:\tlearn -0.5117092756passed: 0.49 sec\ttotal: 2m 35s\tremaining: 1m 30s\n",
      "316:\tlearn -0.5116124219passed: 0.564 sec\ttotal: 2m 35s\tremaining: 1m 29s\n",
      "317:\tlearn -0.5114975515passed: 0.506 sec\ttotal: 2m 36s\tremaining: 1m 29s\n",
      "318:\tlearn -0.5112785398passed: 0.474 sec\ttotal: 2m 36s\tremaining: 1m 28s\n",
      "319:\tlearn -0.5111566169passed: 0.491 sec\ttotal: 2m 37s\tremaining: 1m 28s\n",
      "320:\tlearn -0.5110392547passed: 0.548 sec\ttotal: 2m 37s\tremaining: 1m 27s\n",
      "321:\tlearn -0.5109747378passed: 0.516 sec\ttotal: 2m 38s\tremaining: 1m 27s\n",
      "322:\tlearn -0.5108658288passed: 0.551 sec\ttotal: 2m 38s\tremaining: 1m 27s\n",
      "323:\tlearn -0.5107865578passed: 0.5 sec\ttotal: 2m 39s\tremaining: 1m 26s\n",
      "324:\tlearn -0.5105221846passed: 0.511 sec\ttotal: 2m 39s\tremaining: 1m 26s\n",
      "325:\tlearn -0.5104435735passed: 0.498 sec\ttotal: 2m 40s\tremaining: 1m 25s\n",
      "326:\tlearn -0.5103479873passed: 0.518 sec\ttotal: 2m 40s\tremaining: 1m 25s\n",
      "327:\tlearn -0.510150947passed: 0.524 sec\ttotal: 2m 41s\tremaining: 1m 24s\n",
      "328:\tlearn -0.5100115493passed: 0.531 sec\ttotal: 2m 41s\tremaining: 1m 24s\n",
      "329:\tlearn -0.5098560918passed: 0.543 sec\ttotal: 2m 42s\tremaining: 1m 23s\n",
      "330:\tlearn -0.5097463721passed: 0.536 sec\ttotal: 2m 43s\tremaining: 1m 23s\n",
      "331:\tlearn -0.5096434077passed: 0.511 sec\ttotal: 2m 43s\tremaining: 1m 22s\n",
      "332:\tlearn -0.5095301879passed: 0.466 sec\ttotal: 2m 43s\tremaining: 1m 22s\n",
      "333:\tlearn -0.5094619153passed: 0.444 sec\ttotal: 2m 44s\tremaining: 1m 21s\n",
      "334:\tlearn -0.509394331passed: 0.452 sec\ttotal: 2m 44s\tremaining: 1m 21s\n",
      "335:\tlearn -0.5092939246passed: 0.529 sec\ttotal: 2m 45s\tremaining: 1m 20s\n",
      "336:\tlearn -0.5091856849passed: 0.629 sec\ttotal: 2m 46s\tremaining: 1m 20s\n",
      "337:\tlearn -0.5090976191passed: 0.54 sec\ttotal: 2m 46s\tremaining: 1m 19s\n",
      "338:\tlearn -0.509040655passed: 0.564 sec\ttotal: 2m 47s\tremaining: 1m 19s\n"
     ]
    },
    {
     "name": "stdout",
     "output_type": "stream",
     "text": [
      "339:\tlearn -0.5089593558passed: 0.564 sec\ttotal: 2m 47s\tremaining: 1m 18s\n",
      "340:\tlearn -0.5088872516passed: 0.444 sec\ttotal: 2m 48s\tremaining: 1m 18s\n",
      "341:\tlearn -0.5087166022passed: 0.449 sec\ttotal: 2m 48s\tremaining: 1m 17s\n",
      "342:\tlearn -0.5086294505passed: 0.432 sec\ttotal: 2m 49s\tremaining: 1m 17s\n",
      "343:\tlearn -0.5084557929passed: 0.496 sec\ttotal: 2m 49s\tremaining: 1m 16s\n",
      "344:\tlearn -0.5083182136passed: 0.527 sec\ttotal: 2m 50s\tremaining: 1m 16s\n",
      "345:\tlearn -0.508254805passed: 0.528 sec\ttotal: 2m 50s\tremaining: 1m 15s\n",
      "346:\tlearn -0.5081502014passed: 0.575 sec\ttotal: 2m 51s\tremaining: 1m 15s\n",
      "347:\tlearn -0.5080303722passed: 0.531 sec\ttotal: 2m 51s\tremaining: 1m 14s\n",
      "348:\tlearn -0.5079469641passed: 0.548 sec\ttotal: 2m 52s\tremaining: 1m 14s\n",
      "349:\tlearn -0.5078543336passed: 0.554 sec\ttotal: 2m 52s\tremaining: 1m 14s\n",
      "350:\tlearn -0.5078100088passed: 0.542 sec\ttotal: 2m 53s\tremaining: 1m 13s\n",
      "351:\tlearn -0.5077237353passed: 0.568 sec\ttotal: 2m 53s\tremaining: 1m 13s\n",
      "352:\tlearn -0.5076592211passed: 0.589 sec\ttotal: 2m 54s\tremaining: 1m 12s\n",
      "353:\tlearn -0.5074797057passed: 0.514 sec\ttotal: 2m 55s\tremaining: 1m 12s\n",
      "354:\tlearn -0.5074153031passed: 0.547 sec\ttotal: 2m 55s\tremaining: 1m 11s\n",
      "355:\tlearn -0.5073070867passed: 0.509 sec\ttotal: 2m 56s\tremaining: 1m 11s\n",
      "356:\tlearn -0.5072266838passed: 0.565 sec\ttotal: 2m 56s\tremaining: 1m 10s\n",
      "357:\tlearn -0.5071598993passed: 0.419 sec\ttotal: 2m 57s\tremaining: 1m 10s\n",
      "358:\tlearn -0.507001662passed: 0.52 sec\ttotal: 2m 57s\tremaining: 1m 9s\n",
      "359:\tlearn -0.506923838passed: 0.535 sec\ttotal: 2m 58s\tremaining: 1m 9s\n",
      "360:\tlearn -0.5068036634passed: 0.479 sec\ttotal: 2m 58s\tremaining: 1m 8s\n",
      "361:\tlearn -0.5067218506passed: 0.495 sec\ttotal: 2m 59s\tremaining: 1m 8s\n",
      "362:\tlearn -0.5066193666passed: 0.451 sec\ttotal: 2m 59s\tremaining: 1m 7s\n",
      "363:\tlearn -0.5065349859passed: 0.469 sec\ttotal: 2m 59s\tremaining: 1m 7s\n",
      "364:\tlearn -0.5064618641passed: 0.548 sec\ttotal: 3m\tremaining: 1m 6s\n",
      "365:\tlearn -0.5062157099passed: 0.378 sec\ttotal: 3m\tremaining: 1m 6s\n",
      "366:\tlearn -0.5060621171passed: 0.498 sec\ttotal: 3m 1s\tremaining: 1m 5s\n",
      "367:\tlearn -0.5059977864passed: 0.528 sec\ttotal: 3m 1s\tremaining: 1m 5s\n",
      "368:\tlearn -0.5059297184passed: 0.511 sec\ttotal: 3m 2s\tremaining: 1m 4s\n",
      "369:\tlearn -0.5058314513passed: 0.46 sec\ttotal: 3m 2s\tremaining: 1m 4s\n",
      "370:\tlearn -0.5056725037passed: 0.47 sec\ttotal: 3m 3s\tremaining: 1m 3s\n",
      "371:\tlearn -0.5055426711passed: 0.577 sec\ttotal: 3m 3s\tremaining: 1m 3s\n",
      "372:\tlearn -0.5054432922passed: 0.556 sec\ttotal: 3m 4s\tremaining: 1m 2s\n",
      "373:\tlearn -0.5053145798passed: 0.48 sec\ttotal: 3m 5s\tremaining: 1m 2s\n",
      "374:\tlearn -0.5051768891passed: 0.551 sec\ttotal: 3m 5s\tremaining: 1m 1s\n",
      "375:\tlearn -0.505044642passed: 0.546 sec\ttotal: 3m 6s\tremaining: 1m 1s\n",
      "376:\tlearn -0.5049833096passed: 0.556 sec\ttotal: 3m 6s\tremaining: 1m\n",
      "377:\tlearn -0.5049066505passed: 0.425 sec\ttotal: 3m 7s\tremaining: 1m\n",
      "378:\tlearn -0.5048248981passed: 0.506 sec\ttotal: 3m 7s\tremaining: 59.9s\n",
      "379:\tlearn -0.504755404passed: 0.598 sec\ttotal: 3m 8s\tremaining: 59.4s\n",
      "380:\tlearn -0.5046386823passed: 0.524 sec\ttotal: 3m 8s\tremaining: 58.9s\n",
      "381:\tlearn -0.504463998passed: 0.441 sec\ttotal: 3m 9s\tremaining: 58.4s\n",
      "382:\tlearn -0.5044205842passed: 0.553 sec\ttotal: 3m 9s\tremaining: 58s\n",
      "383:\tlearn -0.5043893531passed: 0.538 sec\ttotal: 3m 10s\tremaining: 57.5s\n",
      "384:\tlearn -0.5043273326passed: 0.509 sec\ttotal: 3m 10s\tremaining: 57s\n",
      "385:\tlearn -0.5041616285passed: 0.536 sec\ttotal: 3m 11s\tremaining: 56.5s\n",
      "386:\tlearn -0.5040342737passed: 0.444 sec\ttotal: 3m 11s\tremaining: 56s\n",
      "387:\tlearn -0.5038987422passed: 0.515 sec\ttotal: 3m 12s\tremaining: 55.5s\n",
      "388:\tlearn -0.5036946586passed: 0.512 sec\ttotal: 3m 12s\tremaining: 55s\n",
      "389:\tlearn -0.5035616377passed: 0.524 sec\ttotal: 3m 13s\tremaining: 54.5s\n",
      "390:\tlearn -0.5034935033passed: 0.597 sec\ttotal: 3m 13s\tremaining: 54s\n",
      "391:\tlearn -0.5034414255passed: 0.532 sec\ttotal: 3m 14s\tremaining: 53.6s\n",
      "392:\tlearn -0.5033058441passed: 0.461 sec\ttotal: 3m 14s\tremaining: 53.1s\n",
      "393:\tlearn -0.5032217183passed: 0.569 sec\ttotal: 3m 15s\tremaining: 52.6s\n",
      "394:\tlearn -0.5031782975passed: 0.552 sec\ttotal: 3m 15s\tremaining: 52.1s\n",
      "395:\tlearn -0.5030924576passed: 0.549 sec\ttotal: 3m 16s\tremaining: 51.6s\n",
      "396:\tlearn -0.5029372208passed: 0.479 sec\ttotal: 3m 17s\tremaining: 51.1s\n",
      "397:\tlearn -0.502894999passed: 0.6 sec\ttotal: 3m 17s\tremaining: 50.6s\n",
      "398:\tlearn -0.5026603732passed: 0.534 sec\ttotal: 3m 18s\tremaining: 50.2s\n",
      "399:\tlearn -0.5025619682passed: 0.514 sec\ttotal: 3m 18s\tremaining: 49.7s\n",
      "400:\tlearn -0.5023923414passed: 0.436 sec\ttotal: 3m 19s\tremaining: 49.2s\n",
      "401:\tlearn -0.502322557passed: 0.567 sec\ttotal: 3m 19s\tremaining: 48.7s\n",
      "402:\tlearn -0.5021909412passed: 0.547 sec\ttotal: 3m 20s\tremaining: 48.2s\n",
      "403:\tlearn -0.5020499036passed: 0.486 sec\ttotal: 3m 20s\tremaining: 47.7s\n",
      "404:\tlearn -0.5019253893passed: 0.551 sec\ttotal: 3m 21s\tremaining: 47.2s\n",
      "405:\tlearn -0.5017725804passed: 0.413 sec\ttotal: 3m 21s\tremaining: 46.7s\n",
      "406:\tlearn -0.5016862509passed: 0.485 sec\ttotal: 3m 22s\tremaining: 46.2s\n",
      "407:\tlearn -0.5016452059passed: 0.574 sec\ttotal: 3m 22s\tremaining: 45.7s\n",
      "408:\tlearn -0.5015647835passed: 0.436 sec\ttotal: 3m 23s\tremaining: 45.2s\n",
      "409:\tlearn -0.5013856246passed: 0.543 sec\ttotal: 3m 23s\tremaining: 44.7s\n",
      "410:\tlearn -0.5012823049passed: 0.522 sec\ttotal: 3m 24s\tremaining: 44.2s\n",
      "411:\tlearn -0.5011991193passed: 0.448 sec\ttotal: 3m 24s\tremaining: 43.7s\n",
      "412:\tlearn -0.5011169338passed: 0.465 sec\ttotal: 3m 25s\tremaining: 43.2s\n",
      "413:\tlearn -0.5010900885passed: 0.585 sec\ttotal: 3m 25s\tremaining: 42.7s\n",
      "414:\tlearn -0.5010203078passed: 0.587 sec\ttotal: 3m 26s\tremaining: 42.3s\n",
      "415:\tlearn -0.5009617passed: 0.483 sec\ttotal: 3m 26s\tremaining: 41.8s\n",
      "416:\tlearn -0.5008564327passed: 0.512 sec\ttotal: 3m 27s\tremaining: 41.3s\n",
      "417:\tlearn -0.5006092657passed: 0.508 sec\ttotal: 3m 27s\tremaining: 40.8s\n",
      "418:\tlearn -0.5005379303passed: 0.545 sec\ttotal: 3m 28s\tremaining: 40.3s\n",
      "419:\tlearn -0.5004356708passed: 0.543 sec\ttotal: 3m 28s\tremaining: 39.8s\n",
      "420:\tlearn -0.5003468553passed: 0.528 sec\ttotal: 3m 29s\tremaining: 39.3s\n",
      "421:\tlearn -0.5002236586passed: 0.428 sec\ttotal: 3m 29s\tremaining: 38.8s\n",
      "422:\tlearn -0.5000878523passed: 0.526 sec\ttotal: 3m 30s\tremaining: 38.3s\n",
      "423:\tlearn -0.5000634446passed: 0.562 sec\ttotal: 3m 30s\tremaining: 37.8s\n",
      "424:\tlearn -0.4999720416passed: 0.501 sec\ttotal: 3m 31s\tremaining: 37.3s\n",
      "425:\tlearn -0.4999478686passed: 0.464 sec\ttotal: 3m 31s\tremaining: 36.8s\n",
      "426:\tlearn -0.4998752227passed: 0.514 sec\ttotal: 3m 32s\tremaining: 36.3s\n",
      "427:\tlearn -0.4997250682passed: 0.509 sec\ttotal: 3m 32s\tremaining: 35.8s\n",
      "428:\tlearn -0.4996595092passed: 0.541 sec\ttotal: 3m 33s\tremaining: 35.3s\n",
      "429:\tlearn -0.4995768228passed: 0.573 sec\ttotal: 3m 34s\tremaining: 34.8s\n",
      "430:\tlearn -0.4994309198passed: 0.538 sec\ttotal: 3m 34s\tremaining: 34.4s\n",
      "431:\tlearn -0.4993626614passed: 0.548 sec\ttotal: 3m 35s\tremaining: 33.9s\n",
      "432:\tlearn -0.4992925295passed: 0.574 sec\ttotal: 3m 35s\tremaining: 33.4s\n",
      "433:\tlearn -0.4992221746passed: 0.589 sec\ttotal: 3m 36s\tremaining: 32.9s\n",
      "434:\tlearn -0.4991584897passed: 0.542 sec\ttotal: 3m 36s\tremaining: 32.4s\n",
      "435:\tlearn -0.4989047817passed: 0.495 sec\ttotal: 3m 37s\tremaining: 31.9s\n",
      "436:\tlearn -0.4988206353passed: 0.528 sec\ttotal: 3m 37s\tremaining: 31.4s\n",
      "437:\tlearn -0.4986154536passed: 0.491 sec\ttotal: 3m 38s\tremaining: 30.9s\n",
      "438:\tlearn -0.4984434571passed: 0.446 sec\ttotal: 3m 38s\tremaining: 30.4s\n",
      "439:\tlearn -0.4983403154passed: 0.464 sec\ttotal: 3m 39s\tremaining: 29.9s\n",
      "440:\tlearn -0.4982747248passed: 0.541 sec\ttotal: 3m 39s\tremaining: 29.4s\n",
      "441:\tlearn -0.4981898083passed: 0.498 sec\ttotal: 3m 40s\tremaining: 28.9s\n",
      "442:\tlearn -0.4981574973passed: 0.53 sec\ttotal: 3m 40s\tremaining: 28.4s\n",
      "443:\tlearn -0.4980772252passed: 0.554 sec\ttotal: 3m 41s\tremaining: 27.9s\n",
      "444:\tlearn -0.498051089passed: 0.614 sec\ttotal: 3m 42s\tremaining: 27.4s\n",
      "445:\tlearn -0.497908657passed: 0.486 sec\ttotal: 3m 42s\tremaining: 26.9s\n",
      "446:\tlearn -0.4978207385passed: 0.536 sec\ttotal: 3m 43s\tremaining: 26.4s\n",
      "447:\tlearn -0.4977779601passed: 0.593 sec\ttotal: 3m 43s\tremaining: 26s\n",
      "448:\tlearn -0.4977308655passed: 0.564 sec\ttotal: 3m 44s\tremaining: 25.5s\n",
      "449:\tlearn -0.4976927237passed: 0.502 sec\ttotal: 3m 44s\tremaining: 25s\n",
      "450:\tlearn -0.4975600489passed: 0.529 sec\ttotal: 3m 45s\tremaining: 24.5s\n",
      "451:\tlearn -0.4974957931passed: 0.556 sec\ttotal: 3m 45s\tremaining: 24s\n"
     ]
    },
    {
     "name": "stdout",
     "output_type": "stream",
     "text": [
      "452:\tlearn -0.4974442318passed: 0.524 sec\ttotal: 3m 46s\tremaining: 23.5s\n",
      "453:\tlearn -0.4973551431passed: 0.522 sec\ttotal: 3m 46s\tremaining: 23s\n",
      "454:\tlearn -0.4972398205passed: 0.532 sec\ttotal: 3m 47s\tremaining: 22.5s\n",
      "455:\tlearn -0.4971765411passed: 0.595 sec\ttotal: 3m 47s\tremaining: 22s\n",
      "456:\tlearn -0.4971193348passed: 0.527 sec\ttotal: 3m 48s\tremaining: 21.5s\n",
      "457:\tlearn -0.4971015125passed: 0.592 sec\ttotal: 3m 49s\tremaining: 21s\n",
      "458:\tlearn -0.4969928293passed: 0.46 sec\ttotal: 3m 49s\tremaining: 20.5s\n",
      "459:\tlearn -0.4969510412passed: 0.561 sec\ttotal: 3m 50s\tremaining: 20s\n",
      "460:\tlearn -0.4968591089passed: 0.579 sec\ttotal: 3m 50s\tremaining: 19.5s\n",
      "461:\tlearn -0.4967081194passed: 0.5 sec\ttotal: 3m 51s\tremaining: 19s\n",
      "462:\tlearn -0.4966697611passed: 0.546 sec\ttotal: 3m 51s\tremaining: 18.5s\n",
      "463:\tlearn -0.4965858664passed: 0.512 sec\ttotal: 3m 52s\tremaining: 18s\n",
      "464:\tlearn -0.4965087341passed: 0.517 sec\ttotal: 3m 52s\tremaining: 17.5s\n",
      "465:\tlearn -0.4964144443passed: 0.515 sec\ttotal: 3m 53s\tremaining: 17s\n",
      "466:\tlearn -0.4963788496passed: 0.592 sec\ttotal: 3m 53s\tremaining: 16.5s\n",
      "467:\tlearn -0.4963461038passed: 0.456 sec\ttotal: 3m 54s\tremaining: 16s\n",
      "468:\tlearn -0.4962943556passed: 0.551 sec\ttotal: 3m 54s\tremaining: 15.5s\n",
      "469:\tlearn -0.4961827867passed: 0.491 sec\ttotal: 3m 55s\tremaining: 15s\n",
      "470:\tlearn -0.496094041passed: 0.551 sec\ttotal: 3m 55s\tremaining: 14.5s\n",
      "471:\tlearn -0.4960109146passed: 0.469 sec\ttotal: 3m 56s\tremaining: 14s\n",
      "472:\tlearn -0.4959446358passed: 0.549 sec\ttotal: 3m 56s\tremaining: 13.5s\n",
      "473:\tlearn -0.4957834185passed: 0.522 sec\ttotal: 3m 57s\tremaining: 13s\n",
      "474:\tlearn -0.4956885548passed: 0.491 sec\ttotal: 3m 57s\tremaining: 12.5s\n",
      "475:\tlearn -0.4956305468passed: 0.509 sec\ttotal: 3m 58s\tremaining: 12s\n",
      "476:\tlearn -0.4955731058passed: 0.533 sec\ttotal: 3m 58s\tremaining: 11.5s\n",
      "477:\tlearn -0.495519753passed: 0.539 sec\ttotal: 3m 59s\tremaining: 11s\n",
      "478:\tlearn -0.4954316574passed: 0.528 sec\ttotal: 4m\tremaining: 10.5s\n",
      "479:\tlearn -0.4953399477passed: 0.567 sec\ttotal: 4m\tremaining: 10s\n",
      "480:\tlearn -0.4952297983passed: 0.539 sec\ttotal: 4m 1s\tremaining: 9.53s\n",
      "481:\tlearn -0.4951710578passed: 0.611 sec\ttotal: 4m 1s\tremaining: 9.03s\n",
      "482:\tlearn -0.4951185019passed: 0.573 sec\ttotal: 4m 2s\tremaining: 8.53s\n",
      "483:\tlearn -0.495082416passed: 0.574 sec\ttotal: 4m 2s\tremaining: 8.03s\n",
      "484:\tlearn -0.4950226558passed: 0.552 sec\ttotal: 4m 3s\tremaining: 7.53s\n",
      "485:\tlearn -0.4949668233passed: 0.594 sec\ttotal: 4m 4s\tremaining: 7.03s\n",
      "486:\tlearn -0.4948732516passed: 0.514 sec\ttotal: 4m 4s\tremaining: 6.53s\n",
      "487:\tlearn -0.4947142466passed: 0.545 sec\ttotal: 4m 5s\tremaining: 6.03s\n",
      "488:\tlearn -0.4946387171passed: 0.498 sec\ttotal: 4m 5s\tremaining: 5.53s\n",
      "489:\tlearn -0.4945768989passed: 0.551 sec\ttotal: 4m 6s\tremaining: 5.02s\n",
      "490:\tlearn -0.4944421371passed: 0.484 sec\ttotal: 4m 6s\tremaining: 4.52s\n",
      "491:\tlearn -0.4943809776passed: 0.545 sec\ttotal: 4m 7s\tremaining: 4.02s\n",
      "492:\tlearn -0.4943084589passed: 0.546 sec\ttotal: 4m 7s\tremaining: 3.52s\n",
      "493:\tlearn -0.4942088809passed: 0.513 sec\ttotal: 4m 8s\tremaining: 3.02s\n",
      "494:\tlearn -0.4941439756passed: 0.519 sec\ttotal: 4m 8s\tremaining: 2.51s\n",
      "495:\tlearn -0.4940943635passed: 0.466 sec\ttotal: 4m 9s\tremaining: 2.01s\n",
      "496:\tlearn -0.4940392366passed: 0.463 sec\ttotal: 4m 9s\tremaining: 1.51s\n",
      "497:\tlearn -0.4939664917passed: 0.564 sec\ttotal: 4m 10s\tremaining: 1s\n",
      "498:\tlearn -0.4939106057passed: 0.563 sec\ttotal: 4m 10s\tremaining: 503ms\n",
      "499:\tlearn -0.4937836557passed: 0.546 sec\ttotal: 4m 11s\tremaining: 0us\n",
      "Fri Jul 28 15:07:57 MSK 2017\n"
     ]
    },
    {
     "data": {
      "text/plain": [
       "'cv score: 0.800646551724'"
      ]
     },
     "metadata": {},
     "output_type": "display_data"
    },
    {
     "data": {
      "text/plain": [
       "'test score: 0.804227817423'"
      ]
     },
     "metadata": {},
     "output_type": "display_data"
    }
   ],
   "source": [
    "!date\n",
    "cbc3 = catboost.CatBoostClassifier(random_seed=SEED,\n",
    "         loss_function='MultiClass',\n",
    "         eval_set=(X_cv, y_cv))\n",
    "cbc3.fit(X_tr,\n",
    "         y_tr,\n",
    "         cat_features=np.where(np.array([(X[c].dtype == object)\n",
    "                                  or (c.endswith('code')) for c in X.columns.values]))[0],\n",
    "         verbose=True)\n",
    "!date\n",
    "\n",
    "display('cv score: %s' % cbc3.score(X_cv, y_cv))\n",
    "display('test score: %s' % cbc3.score(X_te, y_te))"
   ]
  },
  {
   "cell_type": "code",
   "execution_count": null,
   "metadata": {
    "collapsed": true
   },
   "outputs": [],
   "source": []
  },
  {
   "cell_type": "code",
   "execution_count": null,
   "metadata": {
    "collapsed": true
   },
   "outputs": [],
   "source": []
  },
  {
   "cell_type": "code",
   "execution_count": 23,
   "metadata": {},
   "outputs": [
    {
     "data": {
      "text/plain": [
       "'date_recorded_year_date_recorded_month_fq: 4.39174352218e-06 unknowns'"
      ]
     },
     "metadata": {},
     "output_type": "display_data"
    },
    {
     "data": {
      "text/plain": [
       "'management_fq: 0.0 unknowns'"
      ]
     },
     "metadata": {},
     "output_type": "display_data"
    },
    {
     "data": {
      "text/plain": [
       "'ward_fq: 1.32039347726e-05 unknowns'"
      ]
     },
     "metadata": {},
     "output_type": "display_data"
    },
    {
     "data": {
      "text/plain": [
       "'scheme_name_fq: 0.000237596086653 unknowns'"
      ]
     },
     "metadata": {},
     "output_type": "display_data"
    },
    {
     "data": {
      "text/plain": [
       "'region_code_fq: 0.0 unknowns'"
      ]
     },
     "metadata": {},
     "output_type": "display_data"
    },
    {
     "data": {
      "text/plain": [
       "'extraction_type_fq: 0.0 unknowns'"
      ]
     },
     "metadata": {},
     "output_type": "display_data"
    },
    {
     "data": {
      "text/plain": [
       "'construction_year_fq: 0.0 unknowns'"
      ]
     },
     "metadata": {},
     "output_type": "display_data"
    },
    {
     "data": {
      "text/plain": [
       "'date_recorded_year_fq: 1.10393553017e-06 unknowns'"
      ]
     },
     "metadata": {},
     "output_type": "display_data"
    },
    {
     "data": {
      "text/plain": [
       "'date_recorded_month_fq: 0.0 unknowns'"
      ]
     },
     "metadata": {},
     "output_type": "display_data"
    },
    {
     "data": {
      "text/plain": [
       "'basin_fq: 0.0 unknowns'"
      ]
     },
     "metadata": {},
     "output_type": "display_data"
    },
    {
     "data": {
      "text/plain": [
       "'lga_fq: 0.0 unknowns'"
      ]
     },
     "metadata": {},
     "output_type": "display_data"
    },
    {
     "data": {
      "text/plain": [
       "'extraction_type_class_fq: 0.0 unknowns'"
      ]
     },
     "metadata": {},
     "output_type": "display_data"
    },
    {
     "data": {
      "text/plain": [
       "'region_fq: 0.0 unknowns'"
      ]
     },
     "metadata": {},
     "output_type": "display_data"
    }
   ],
   "source": [
    "y_test3 = cbc3.predict(prepr3.transform(X_test))\n",
    "for sn, st in prepr3.steps:\n",
    "    if sn.endswith('_fq'):\n",
    "        display('%s: %s unknowns' % (sn, st.unknowns_))"
   ]
  },
  {
   "cell_type": "code",
   "execution_count": 24,
   "metadata": {
    "collapsed": true
   },
   "outputs": [],
   "source": [
    "ans3 = pd.DataFrame({'status_group': y_enc.inverse_transform(y_test3.astype(int).ravel())},\n",
    "                    index= X_test.iloc[:,0].values)\n",
    "ans3.index.name = 'id'\n",
    "ans3.to_csv('ans3.csv')"
   ]
  },
  {
   "cell_type": "code",
   "execution_count": 26,
   "metadata": {},
   "outputs": [
    {
     "name": "stdout",
     "output_type": "stream",
     "text": [
      "==> ans1.csv <==\r\n",
      "id,status_group\r\n",
      "50785,functional\r\n",
      "51630,functional\r\n",
      "17168,functional\r\n",
      "45559,non functional\r\n",
      "49871,functional\r\n",
      "52449,functional\r\n",
      "24806,non functional\r\n",
      "28965,non functional\r\n",
      "36301,non functional\r\n",
      "\r\n",
      "==> ans2.csv <==\r\n",
      "id,status_group\r\n",
      "50785,functional\r\n",
      "51630,functional\r\n",
      "17168,functional\r\n",
      "45559,non functional\r\n",
      "49871,functional\r\n",
      "52449,functional\r\n",
      "24806,non functional\r\n",
      "28965,non functional\r\n",
      "36301,non functional\r\n",
      "\r\n",
      "==> ans3.csv <==\r\n",
      "id,status_group\r\n",
      "50785,functional\r\n",
      "51630,functional\r\n",
      "17168,functional\r\n",
      "45559,non functional\r\n",
      "49871,functional\r\n",
      "52449,functional\r\n",
      "24806,functional\r\n",
      "28965,non functional\r\n",
      "36301,non functional\r\n"
     ]
    }
   ],
   "source": [
    "!head ans1.csv ans2.csv ans3.csv"
   ]
  },
  {
   "cell_type": "code",
   "execution_count": 25,
   "metadata": {},
   "outputs": [
    {
     "data": {
      "text/plain": [
       "'score on a full train: 0.833265993266'"
      ]
     },
     "metadata": {},
     "output_type": "display_data"
    }
   ],
   "source": [
    "display('score on a full train: %s' % cbc3.score(X, y))"
   ]
  },
  {
   "cell_type": "code",
   "execution_count": null,
   "metadata": {
    "collapsed": true
   },
   "outputs": [],
   "source": []
  },
  {
   "cell_type": "code",
   "execution_count": null,
   "metadata": {
    "collapsed": true
   },
   "outputs": [],
   "source": []
  },
  {
   "cell_type": "code",
   "execution_count": null,
   "metadata": {
    "collapsed": true
   },
   "outputs": [],
   "source": []
  },
  {
   "cell_type": "code",
   "execution_count": null,
   "metadata": {
    "collapsed": true
   },
   "outputs": [],
   "source": []
  },
  {
   "cell_type": "code",
   "execution_count": null,
   "metadata": {
    "collapsed": true
   },
   "outputs": [],
   "source": [
    "prepr4 = Pipeline([\n",
    "    ('fillna', HideMissingValues()),\n",
    "    ('date_recorded', SplitDate('date_recorded')),\n",
    "    ('handyfeats', HandyFeatures()),\n",
    "    ('district_fq', OutcomeFrequences(['district_code'])),\n",
    "    ('extraction_t_c_fq', OutcomeFrequences(['extraction_type_class'])),\n",
    "    ('age', ExplicitAge()),\n",
    "    ('drop', DropGarbage(cols=[\n",
    "        'id', 'recorded_by',\n",
    "        'region', 'funder', 'installer',\n",
    "        'wtp_name', 'scheme_management',\n",
    "        'num_private', 'subvillage', \n",
    "        'longtitude', 'latitude',\n",
    "        'date_recorded_day', 'date_recorded_weekday'\n",
    "    ]))\n",
    "])\n",
    "\n",
    "y = y_enc.fit_transform(y_train.iloc[:,1])\n",
    "X = prepr4.fit_transform(X_train, y)\n",
    "X_tr, X_cv, X_te, y_tr, y_cv, y_te = split_train_cv_test(X, y)\n",
    "!date\n",
    "cbc4 = catboost.CatBoostClassifier(random_seed=SEED,\n",
    "         loss_function='MultiClass',\n",
    "         eval_set=(X_cv, y_cv))\n",
    "cbc4.fit(X_tr,\n",
    "         y_tr,\n",
    "         cat_features=cat_features,\n",
    "         verbose=True)\n",
    "!date\n",
    "display('score: %s' % cbc4.score(X_te, y_te))\n",
    "y_test4 = cbc4.predict(prepr4.transform(X_test))\n",
    "ans4 = pd.DataFrame({'status_group': y_enc.inverse_transform(y_test4.astype(int).ravel())},\n",
    "                    index= X_test.iloc[:,0].values)\n",
    "ans4.index.name = 'id'\n",
    "ans4.to_csv('ans4.csv')"
   ]
  },
  {
   "cell_type": "code",
   "execution_count": null,
   "metadata": {
    "collapsed": true
   },
   "outputs": [],
   "source": []
  },
  {
   "cell_type": "code",
   "execution_count": null,
   "metadata": {
    "collapsed": true
   },
   "outputs": [],
   "source": [
    "prepr5 = Pipeline([\n",
    "    ('fillna', HideMissingValues()),\n",
    "    ('date_recorded', SplitDate('date_recorded')),\n",
    "    ('drop', DropGarbage(cols=['id', 'recorded_by', 'wpt_name']))\n",
    "])\n",
    "\n",
    "y_enc = sklearn.preprocessing.LabelEncoder()\n",
    "X = prepr5.fit_transform(X_train)\n",
    "y = y_enc.fit_transform(y_train.iloc[:,1])\n",
    "\n",
    "X_tr, X_cv, X_te, y_tr, y_cv, y_te = split_train_cv_test(X, y)\n",
    "\n",
    "!date\n",
    "cbc5 = catboost.CatBoostClassifier(random_seed=SEED,\n",
    "         loss_function='MultiClass',\n",
    "         eval_set=(X_te, y_te),\n",
    "         auto_stop_pval=1e-10)\n",
    "cbc5.fit(X_tr,\n",
    "         y_tr,\n",
    "         cat_features=np.where(np.array([dt == object for dt in X.dtypes]))[0],\n",
    "         verbose=False)\n",
    "display('cv score: %s' % cbc5.score(X_cv, y_cv))\n",
    "display('test score: %s' % cbc5.score(X_te, y_te))\n",
    "\n",
    "y_test5 = cbc5.predict(prepr5.transform(X_test))\n",
    "ans5 = pd.DataFrame({'status_group': y_enc.inverse_transform(y_test5.astype(int).ravel())},\n",
    "                    index= X_test.iloc[:,0].values)\n",
    "ans5.index.name = 'id'\n",
    "ans5.to_csv('ans5.csv')\n",
    "!date"
   ]
  },
  {
   "cell_type": "code",
   "execution_count": null,
   "metadata": {
    "collapsed": true
   },
   "outputs": [],
   "source": []
  },
  {
   "cell_type": "code",
   "execution_count": null,
   "metadata": {
    "collapsed": true
   },
   "outputs": [],
   "source": []
  }
 ],
 "metadata": {
  "kernelspec": {
   "display_name": "Python 3",
   "language": "python",
   "name": "python3"
  },
  "language_info": {
   "codemirror_mode": {
    "name": "ipython",
    "version": 3
   },
   "file_extension": ".py",
   "mimetype": "text/x-python",
   "name": "python",
   "nbconvert_exporter": "python",
   "pygments_lexer": "ipython3",
   "version": "3.6.1"
  }
 },
 "nbformat": 4,
 "nbformat_minor": 2
}
