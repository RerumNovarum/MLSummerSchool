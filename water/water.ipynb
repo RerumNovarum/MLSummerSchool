{
 "cells": [
  {
   "cell_type": "markdown",
   "metadata": {},
   "source": [
    "## Suffering niggas"
   ]
  },
  {
   "cell_type": "code",
   "execution_count": 1,
   "metadata": {
    "collapsed": true
   },
   "outputs": [],
   "source": [
    "import pandas as pd, numpy as np\n",
    "import matplotlib.pyplot as plt\n",
    "import seaborn as sns\n",
    "import bokeh.plotting\n",
    "import catboost\n",
    "import sklearn.preprocessing, sklearn.feature_selection, sklearn.model_selection\n",
    "from sklearn.pipeline import Pipeline, make_pipeline\n",
    "import sklearn.base\n",
    "from sklearn.base import BaseEstimator, TransformerMixin\n",
    "\n",
    "SEED = 42\n",
    "np.random.seed = SEED\n",
    "\n",
    "%matplotlib inline"
   ]
  },
  {
   "cell_type": "code",
   "execution_count": 2,
   "metadata": {
    "collapsed": true
   },
   "outputs": [],
   "source": [
    "X_train = pd.read_csv('X_train.csv')\n",
    "y_train = pd.read_csv('y_train.csv')\n",
    "X_test = pd.read_csv('X_test.csv')"
   ]
  },
  {
   "cell_type": "code",
   "execution_count": 3,
   "metadata": {},
   "outputs": [
    {
     "data": {
      "text/plain": [
       "(59400, 40)"
      ]
     },
     "metadata": {},
     "output_type": "display_data"
    },
    {
     "data": {
      "text/plain": [
       "Index(['id', 'amount_tsh', 'date_recorded', 'funder', 'gps_height',\n",
       "       'installer', 'longitude', 'latitude', 'wpt_name', 'num_private',\n",
       "       'basin', 'subvillage', 'region', 'region_code', 'district_code', 'lga',\n",
       "       'ward', 'population', 'public_meeting', 'recorded_by',\n",
       "       'scheme_management', 'scheme_name', 'permit', 'construction_year',\n",
       "       'extraction_type', 'extraction_type_group', 'extraction_type_class',\n",
       "       'management', 'management_group', 'payment', 'payment_type',\n",
       "       'water_quality', 'quality_group', 'quantity', 'quantity_group',\n",
       "       'source', 'source_type', 'source_class', 'waterpoint_type',\n",
       "       'waterpoint_type_group'],\n",
       "      dtype='object')"
      ]
     },
     "metadata": {},
     "output_type": "display_data"
    },
    {
     "data": {
      "text/plain": [
       "id                           0\n",
       "amount_tsh                   0\n",
       "date_recorded                0\n",
       "funder                    3635\n",
       "gps_height                   0\n",
       "installer                 3655\n",
       "longitude                    0\n",
       "latitude                     0\n",
       "wpt_name                     0\n",
       "num_private                  0\n",
       "basin                        0\n",
       "subvillage                 371\n",
       "region                       0\n",
       "region_code                  0\n",
       "district_code                0\n",
       "lga                          0\n",
       "ward                         0\n",
       "population                   0\n",
       "public_meeting            3334\n",
       "recorded_by                  0\n",
       "scheme_management         3877\n",
       "scheme_name              28166\n",
       "permit                    3056\n",
       "construction_year            0\n",
       "extraction_type              0\n",
       "extraction_type_group        0\n",
       "extraction_type_class        0\n",
       "management                   0\n",
       "management_group             0\n",
       "payment                      0\n",
       "payment_type                 0\n",
       "water_quality                0\n",
       "quality_group                0\n",
       "quantity                     0\n",
       "quantity_group               0\n",
       "source                       0\n",
       "source_type                  0\n",
       "source_class                 0\n",
       "waterpoint_type              0\n",
       "waterpoint_type_group        0\n",
       "dtype: int64"
      ]
     },
     "metadata": {},
     "output_type": "display_data"
    }
   ],
   "source": [
    "display(\n",
    "    X_train.shape,\n",
    "    X_train.columns,\n",
    "    X_train.isnull().sum(),\n",
    ")"
   ]
  },
  {
   "cell_type": "code",
   "execution_count": 4,
   "metadata": {},
   "outputs": [
    {
     "data": {
      "text/plain": [
       "amount_tsh                     [dtype('float64'), 6000.0, 0.0, 25.0, 20.0]\n",
       "basin                    [dtype('O'), 'Lake Nyasa', 'Lake Victoria', 'P...\n",
       "construction_year                 [dtype('int64'), 1999, 2010, 2009, 1986]\n",
       "date_recorded            [dtype('O'), '2011-03-14', '2013-03-06', '2013...\n",
       "district_code                                [dtype('int64'), 5, 2, 4, 63]\n",
       "extraction_type          [dtype('O'), 'gravity', 'submersible', 'swn 80...\n",
       "extraction_type_class    [dtype('O'), 'gravity', 'submersible', 'handpu...\n",
       "extraction_type_group    [dtype('O'), 'gravity', 'submersible', 'swn 80...\n",
       "funder                   [dtype('O'), 'Roman', 'Grumeti', 'Lottery Club...\n",
       "gps_height                          [dtype('int64'), 1390, 1399, 686, 263]\n",
       "id                             [dtype('int64'), 69572, 8776, 34310, 67743]\n",
       "installer                [dtype('O'), 'Roman', 'GRUMETI', 'World vision...\n",
       "latitude                 [dtype('float64'), -9.8563217699999992, -2.147...\n",
       "lga                      [dtype('O'), 'Ludewa', 'Serengeti', 'Simanjiro...\n",
       "longitude                [dtype('float64'), 34.938092750000003, 34.6987...\n",
       "management               [dtype('O'), 'vwc', 'wug', 'other', 'private o...\n",
       "management_group         [dtype('O'), 'user-group', 'other', 'commercia...\n",
       "num_private                                 [dtype('int64'), 0, 39, 5, 45]\n",
       "payment                  [dtype('O'), 'pay annually', 'never pay', 'pay...\n",
       "payment_type             [dtype('O'), 'annually', 'never pay', 'per buc...\n",
       "permit                                      [dtype('O'), False, True, nan]\n",
       "population                             [dtype('int64'), 109, 280, 250, 58]\n",
       "public_meeting                              [dtype('O'), True, nan, False]\n",
       "quality_group            [dtype('O'), 'good', 'salty', 'milky', 'unknown']\n",
       "quantity                 [dtype('O'), 'enough', 'insufficient', 'dry', ...\n",
       "quantity_group           [dtype('O'), 'enough', 'insufficient', 'dry', ...\n",
       "recorded_by                        [dtype('O'), 'GeoData Consultants Ltd']\n",
       "region                   [dtype('O'), 'Iringa', 'Mara', 'Manyara', 'Mtw...\n",
       "region_code                               [dtype('int64'), 11, 20, 21, 90]\n",
       "scheme_management        [dtype('O'), 'VWC', 'Other', nan, 'Private ope...\n",
       "scheme_name              [dtype('O'), 'Roman', nan, 'Nyumba ya mungu pi...\n",
       "source                   [dtype('O'), 'spring', 'rainwater harvesting',...\n",
       "source_class             [dtype('O'), 'groundwater', 'surface', 'unknown']\n",
       "source_type              [dtype('O'), 'spring', 'rainwater harvesting',...\n",
       "subvillage               [dtype('O'), 'Mnyusi B', 'Nyamara', 'Majengo',...\n",
       "ward                     [dtype('O'), 'Mundindi', 'Natta', 'Ngorika', '...\n",
       "water_quality            [dtype('O'), 'soft', 'salty', 'milky', 'unknown']\n",
       "waterpoint_type          [dtype('O'), 'communal standpipe', 'communal s...\n",
       "waterpoint_type_group    [dtype('O'), 'communal standpipe', 'hand pump'...\n",
       "wpt_name                 [dtype('O'), 'none', 'Zahanati', 'Kwa Mahundi'...\n",
       "dtype: object"
      ]
     },
     "execution_count": 4,
     "metadata": {},
     "output_type": "execute_result"
    }
   ],
   "source": [
    "pd.Series({c: ([X_train[c].dtype] + list(X_train[c].unique()[:4])).__repr__() for c in X_train.columns})"
   ]
  },
  {
   "cell_type": "code",
   "execution_count": null,
   "metadata": {
    "collapsed": true
   },
   "outputs": [],
   "source": []
  },
  {
   "cell_type": "code",
   "execution_count": 5,
   "metadata": {},
   "outputs": [
    {
     "data": {
      "text/html": [
       "<div>\n",
       "<style>\n",
       "    .dataframe thead tr:only-child th {\n",
       "        text-align: right;\n",
       "    }\n",
       "\n",
       "    .dataframe thead th {\n",
       "        text-align: left;\n",
       "    }\n",
       "\n",
       "    .dataframe tbody tr th {\n",
       "        vertical-align: top;\n",
       "    }\n",
       "</style>\n",
       "<table border=\"1\" class=\"dataframe\">\n",
       "  <thead>\n",
       "    <tr style=\"text-align: right;\">\n",
       "      <th></th>\n",
       "      <th>id</th>\n",
       "      <th>status_group</th>\n",
       "    </tr>\n",
       "  </thead>\n",
       "  <tbody>\n",
       "    <tr>\n",
       "      <th>0</th>\n",
       "      <td>69572</td>\n",
       "      <td>functional</td>\n",
       "    </tr>\n",
       "    <tr>\n",
       "      <th>1</th>\n",
       "      <td>8776</td>\n",
       "      <td>functional</td>\n",
       "    </tr>\n",
       "    <tr>\n",
       "      <th>2</th>\n",
       "      <td>34310</td>\n",
       "      <td>functional</td>\n",
       "    </tr>\n",
       "    <tr>\n",
       "      <th>3</th>\n",
       "      <td>67743</td>\n",
       "      <td>non functional</td>\n",
       "    </tr>\n",
       "    <tr>\n",
       "      <th>4</th>\n",
       "      <td>19728</td>\n",
       "      <td>functional</td>\n",
       "    </tr>\n",
       "  </tbody>\n",
       "</table>\n",
       "</div>"
      ],
      "text/plain": [
       "      id    status_group\n",
       "0  69572      functional\n",
       "1   8776      functional\n",
       "2  34310      functional\n",
       "3  67743  non functional\n",
       "4  19728      functional"
      ]
     },
     "execution_count": 5,
     "metadata": {},
     "output_type": "execute_result"
    }
   ],
   "source": [
    "y_train.head()"
   ]
  },
  {
   "cell_type": "code",
   "execution_count": 6,
   "metadata": {
    "collapsed": true
   },
   "outputs": [],
   "source": [
    "import dateutil.parser"
   ]
  },
  {
   "cell_type": "code",
   "execution_count": 7,
   "metadata": {
    "collapsed": true
   },
   "outputs": [],
   "source": [
    "class HideMissingValues(BaseEstimator, TransformerMixin):\n",
    "    def fit(self, X, y=None):\n",
    "        return self\n",
    "    \n",
    "    def transform(self, X):\n",
    "        X = X.copy()\n",
    "        for c in X.columns:\n",
    "            if np.issubdtype(X[c].dtype, np.number):\n",
    "                X.loc[:,c].fillna(X.loc[:,c].median(), inplace=True)\n",
    "            else:\n",
    "                X.loc[:,c].fillna('Unknown', inplace=True)\n",
    "                X.loc[:,c] = X[c].map(lambda x: str(x))\n",
    "        return X\n",
    "    \n",
    "    \n",
    "class DropGarbage(BaseEstimator, TransformerMixin):\n",
    "    def __init__(self, cols=['id', 'funder', 'recorded_by', 'date_recorded']):\n",
    "        self.cols = cols\n",
    "        \n",
    "    def fit(self, X, y=None):\n",
    "        return self\n",
    "    \n",
    "    def transform(self, X):\n",
    "        return X.drop(self.cols, axis=1)\n",
    "\n",
    "class SplitDate(BaseEstimator, TransformerMixin):\n",
    "    def __init__(self, col):\n",
    "        self.col = col\n",
    "    def fit(self, X, y=None):\n",
    "        return self\n",
    "    def transform(self, X):\n",
    "        def t(x):\n",
    "            if isinstance(x, str):\n",
    "                x = dateutil.parser.parse(x)\n",
    "            return (x.year, x.month, x.day, x.weekday())\n",
    "        X = X.copy()\n",
    "        (X.loc[:, self.col + '_year'],\n",
    "         X.loc[:, self.col + '_month'],\n",
    "         X.loc[:, self.col + '_day'],\n",
    "         X.loc[:, self.col + '_weekday']) = zip(\n",
    "        *X.loc[:, self.col].map(t))\n",
    "        return X"
   ]
  },
  {
   "cell_type": "code",
   "execution_count": 8,
   "metadata": {
    "collapsed": true
   },
   "outputs": [],
   "source": [
    "from sklearn.model_selection import train_test_split"
   ]
  },
  {
   "cell_type": "code",
   "execution_count": 11,
   "metadata": {
    "scrolled": true
   },
   "outputs": [
    {
     "name": "stdout",
     "output_type": "stream",
     "text": [
      "Thu Jul 27 18:12:14 MSK 2017\n",
      "Thu Jul 27 18:25:23 MSK 2017\n"
     ]
    }
   ],
   "source": [
    "prepr1 = Pipeline([\n",
    "    ('fillna', HideMissingValues()),\n",
    "    ('date_recorded', SplitDate('date_recorded')),\n",
    "    ('drop', DropGarbage(cols=['id', 'recorded_by', ]))\n",
    "])\n",
    "\n",
    "y_enc = sklearn.preprocessing.LabelEncoder()\n",
    "X = prepr1.fit_transform(X_train)\n",
    "y = y_enc.fit_transform(y_train.iloc[:,1])\n",
    "\n",
    "X_tr, X_te, y_tr, y_te = train_test_split(X, y, train_size=0.66)\n",
    "\n",
    "!date\n",
    "cbc1 = catboost.CatBoostClassifier(random_seed=SEED,\n",
    "         loss_function='MultiClass',\n",
    "         eval_set=(X_te, y_te))\n",
    "cbc1.fit(X_tr,\n",
    "         y_tr,\n",
    "         cat_features=np.where(np.array([dt == object for dt in X.dtypes]))[0],\n",
    "         verbose=False)\n",
    "!date"
   ]
  },
  {
   "cell_type": "code",
   "execution_count": 12,
   "metadata": {},
   "outputs": [
    {
     "data": {
      "text/plain": [
       "0.80842741136858787"
      ]
     },
     "execution_count": 12,
     "metadata": {},
     "output_type": "execute_result"
    }
   ],
   "source": [
    "cbc1.score(X_te, y_te)"
   ]
  },
  {
   "cell_type": "code",
   "execution_count": null,
   "metadata": {
    "collapsed": true
   },
   "outputs": [],
   "source": []
  },
  {
   "cell_type": "code",
   "execution_count": null,
   "metadata": {
    "collapsed": true
   },
   "outputs": [],
   "source": []
  },
  {
   "cell_type": "code",
   "execution_count": null,
   "metadata": {
    "collapsed": true
   },
   "outputs": [],
   "source": [
    "!head SubmissionFormat.csv"
   ]
  },
  {
   "cell_type": "code",
   "execution_count": 15,
   "metadata": {
    "collapsed": true
   },
   "outputs": [],
   "source": [
    "y_test1 = cbc1.predict(prepr1.transform(X_test))"
   ]
  },
  {
   "cell_type": "code",
   "execution_count": 16,
   "metadata": {},
   "outputs": [
    {
     "data": {
      "text/plain": [
       "array([[ 0.],\n",
       "       [ 0.],\n",
       "       [ 0.],\n",
       "       [ 2.]])"
      ]
     },
     "execution_count": 16,
     "metadata": {},
     "output_type": "execute_result"
    }
   ],
   "source": [
    "y_test1[:4]"
   ]
  },
  {
   "cell_type": "code",
   "execution_count": 25,
   "metadata": {
    "collapsed": true,
    "scrolled": true
   },
   "outputs": [],
   "source": [
    "ans1 = pd.DataFrame({'status_group': y_enc.inverse_transform(y_test1.astype(int).ravel())},\n",
    "                    index= X_test.iloc[:,0].values)\n",
    "ans1.index.name = 'id'\n",
    "ans1.to_csv('ans1.csv')"
   ]
  },
  {
   "cell_type": "code",
   "execution_count": 26,
   "metadata": {},
   "outputs": [
    {
     "name": "stdout",
     "output_type": "stream",
     "text": [
      "id,status_group\r\n",
      "50785,functional\r\n",
      "51630,functional\r\n",
      "17168,functional\r\n",
      "45559,non functional\r\n",
      "49871,functional\r\n",
      "52449,functional\r\n",
      "24806,functional\r\n",
      "28965,non functional\r\n",
      "36301,non functional\r\n"
     ]
    }
   ],
   "source": [
    "!head ans1.csv"
   ]
  },
  {
   "cell_type": "code",
   "execution_count": 13,
   "metadata": {
    "collapsed": true
   },
   "outputs": [],
   "source": [
    "class HandyFeatures(BaseEstimator, TransformerMixin):\n",
    "    def fit(self, X, y=None):\n",
    "        return self\n",
    "    def transform(self, X):\n",
    "        X = X.copy()\n",
    "        X.loc[:,'amount_per_man'] = X.loc[:,'amount_tsh']/X.loc[:,'population']\n",
    "        return X"
   ]
  },
  {
   "cell_type": "code",
   "execution_count": 14,
   "metadata": {},
   "outputs": [
    {
     "name": "stdout",
     "output_type": "stream",
     "text": [
      "Thu Jul 27 20:46:30 MSK 2017\n",
      "Thu Jul 27 21:00:41 MSK 2017\n"
     ]
    },
    {
     "data": {
      "text/plain": [
       "'score: 0.806001188354'"
      ]
     },
     "metadata": {},
     "output_type": "display_data"
    }
   ],
   "source": [
    "prepr2 = Pipeline([\n",
    "    ('fillna', HideMissingValues()),\n",
    "    ('date_recorded', SplitDate('date_recorded')),\n",
    "    ('handyfeats', HandyFeatures()),\n",
    "    ('drop', DropGarbage(cols=['id', 'recorded_by']))\n",
    "])\n",
    "\n",
    "y_enc = sklearn.preprocessing.LabelEncoder()\n",
    "X = prepr2.fit_transform(X_train)\n",
    "y = y_enc.fit_transform(y_train.iloc[:,1])\n",
    "\n",
    "X_tr, X_te, y_tr, y_te = train_test_split(X, y, train_size=0.66)\n",
    "\n",
    "!date\n",
    "cbc2 = catboost.CatBoostClassifier(random_seed=SEED,\n",
    "         loss_function='MultiClass',\n",
    "         eval_set=(X_te, y_te))\n",
    "cbc2.fit(X_tr,\n",
    "         y_tr,\n",
    "         cat_features=np.where(np.array([dt == object for dt in X.dtypes]))[0],\n",
    "         verbose=False)\n",
    "!date\n",
    "display('score: %s' % cbc2.score(X_te, y_te))\n",
    "y_test2 = cbc2.predict(prepr2.transform(X_test))\n",
    "ans2 = pd.DataFrame({'status_group': y_enc.inverse_transform(y_test2.astype(int).ravel())},\n",
    "                    index= X_test.iloc[:,0].values)\n",
    "ans2.index.name = 'id'\n",
    "ans2.to_csv('ans2.csv')"
   ]
  },
  {
   "cell_type": "code",
   "execution_count": null,
   "metadata": {},
   "outputs": [],
   "source": []
  },
  {
   "cell_type": "code",
   "execution_count": null,
   "metadata": {
    "collapsed": true
   },
   "outputs": [],
   "source": []
  },
  {
   "cell_type": "code",
   "execution_count": null,
   "metadata": {
    "collapsed": true
   },
   "outputs": [],
   "source": []
  }
 ],
 "metadata": {
  "kernelspec": {
   "display_name": "Python 3",
   "language": "python",
   "name": "python3"
  },
  "language_info": {
   "codemirror_mode": {
    "name": "ipython",
    "version": 3
   },
   "file_extension": ".py",
   "mimetype": "text/x-python",
   "name": "python",
   "nbconvert_exporter": "python",
   "pygments_lexer": "ipython3",
   "version": "3.6.1"
  }
 },
 "nbformat": 4,
 "nbformat_minor": 2
}
