{
 "cells": [
  {
   "cell_type": "markdown",
   "metadata": {},
   "source": [
    "## Suffering niggas"
   ]
  },
  {
   "cell_type": "code",
   "execution_count": 1,
   "metadata": {},
   "outputs": [
    {
     "data": {
      "application/javascript": [
       "if (!(\"Notification\" in window)) {\n",
       "    alert(\"This browser does not support desktop notifications, so the %%notify magic will not work.\");\n",
       "} else if (Notification.permission !== 'granted' && Notification.permission !== 'denied') {\n",
       "    Notification.requestPermission(function (permission) {\n",
       "        if(!('permission' in Notification)) {\n",
       "            Notification.permission = permission;\n",
       "        }\n",
       "    })\n",
       "}\n"
      ],
      "text/plain": [
       "<IPython.core.display.Javascript object>"
      ]
     },
     "metadata": {},
     "output_type": "display_data"
    }
   ],
   "source": [
    "import pandas as pd, numpy as np\n",
    "import matplotlib.pyplot as plt\n",
    "import seaborn as sns\n",
    "import bokeh.plotting\n",
    "import catboost\n",
    "import sklearn.preprocessing, sklearn.feature_selection, sklearn.model_selection\n",
    "from sklearn.pipeline import Pipeline, make_pipeline\n",
    "import sklearn.base\n",
    "from sklearn.base import BaseEstimator, TransformerMixin\n",
    "import seaborn as sns\n",
    "import dateutil.parser\n",
    "import collections\n",
    "import sklearn.utils\n",
    "import itertools\n",
    "import re\n",
    "\n",
    "import jupyternotify\n",
    "ip = get_ipython()\n",
    "ip.register_magics(jupyternotify.JupyterNotifyMagics)\n",
    "\n",
    "SEED = 42\n",
    "np.random.seed = SEED\n",
    "\n",
    "%matplotlib inline"
   ]
  },
  {
   "cell_type": "code",
   "execution_count": 2,
   "metadata": {
    "collapsed": true
   },
   "outputs": [],
   "source": [
    "X_train = pd.read_csv('X_train.csv')\n",
    "y_train = pd.read_csv('y_train.csv')\n",
    "X_test = pd.read_csv('X_test.csv')"
   ]
  },
  {
   "cell_type": "code",
   "execution_count": 5,
   "metadata": {},
   "outputs": [
    {
     "data": {
      "text/plain": [
       "(59400, 40)"
      ]
     },
     "execution_count": 5,
     "metadata": {},
     "output_type": "execute_result"
    }
   ],
   "source": [
    "X_train.shape"
   ]
  },
  {
   "cell_type": "code",
   "execution_count": 4,
   "metadata": {},
   "outputs": [
    {
     "data": {
      "text/plain": [
       "array(['enough', 'insufficient', 'dry', 'seasonal', 'unknown'], dtype=object)"
      ]
     },
     "execution_count": 4,
     "metadata": {},
     "output_type": "execute_result"
    }
   ],
   "source": [
    "X_train.quantity_group.unique()"
   ]
  },
  {
   "cell_type": "code",
   "execution_count": 6,
   "metadata": {},
   "outputs": [
    {
     "data": {
      "text/plain": [
       "(59400, 40)"
      ]
     },
     "metadata": {},
     "output_type": "display_data"
    },
    {
     "data": {
      "text/plain": [
       "Index(['id', 'amount_tsh', 'date_recorded', 'funder', 'gps_height',\n",
       "       'installer', 'longitude', 'latitude', 'wpt_name', 'num_private',\n",
       "       'basin', 'subvillage', 'region', 'region_code', 'district_code', 'lga',\n",
       "       'ward', 'population', 'public_meeting', 'recorded_by',\n",
       "       'scheme_management', 'scheme_name', 'permit', 'construction_year',\n",
       "       'extraction_type', 'extraction_type_group', 'extraction_type_class',\n",
       "       'management', 'management_group', 'payment', 'payment_type',\n",
       "       'water_quality', 'quality_group', 'quantity', 'quantity_group',\n",
       "       'source', 'source_type', 'source_class', 'waterpoint_type',\n",
       "       'waterpoint_type_group'],\n",
       "      dtype='object')"
      ]
     },
     "metadata": {},
     "output_type": "display_data"
    },
    {
     "data": {
      "text/plain": [
       "funder                3635\n",
       "installer             3655\n",
       "subvillage             371\n",
       "public_meeting        3334\n",
       "scheme_management     3877\n",
       "scheme_name          28166\n",
       "permit                3056\n",
       "dtype: int64"
      ]
     },
     "metadata": {},
     "output_type": "display_data"
    },
    {
     "data": {
      "text/plain": [
       "funder                869\n",
       "installer             877\n",
       "subvillage             99\n",
       "public_meeting        821\n",
       "scheme_management     969\n",
       "scheme_name          7092\n",
       "permit                737\n",
       "dtype: int64"
      ]
     },
     "metadata": {},
     "output_type": "display_data"
    }
   ],
   "source": [
    "display(\n",
    "    X_train.shape,\n",
    "    X_train.columns,\n",
    "    X_train.isnull().sum()[X_train.isnull().sum() > 0],\n",
    "    X_test.isnull().sum()[X_test.isnull().sum() > 0],\n",
    ")"
   ]
  },
  {
   "cell_type": "code",
   "execution_count": 12,
   "metadata": {},
   "outputs": [
    {
     "data": {
      "text/plain": [
       "13"
      ]
     },
     "execution_count": 12,
     "metadata": {},
     "output_type": "execute_result"
    }
   ],
   "source": [
    "X_train.scheme_management.unique().size"
   ]
  },
  {
   "cell_type": "code",
   "execution_count": 4,
   "metadata": {},
   "outputs": [
    {
     "data": {
      "text/plain": [
       "amount_tsh                     [dtype('float64'), 6000.0, 0.0, 25.0, 20.0]\n",
       "basin                    [dtype('O'), 'Lake Nyasa', 'Lake Victoria', 'P...\n",
       "construction_year                 [dtype('int64'), 1999, 2010, 2009, 1986]\n",
       "date_recorded            [dtype('O'), '2011-03-14', '2013-03-06', '2013...\n",
       "district_code                                [dtype('int64'), 5, 2, 4, 63]\n",
       "extraction_type          [dtype('O'), 'gravity', 'submersible', 'swn 80...\n",
       "extraction_type_class    [dtype('O'), 'gravity', 'submersible', 'handpu...\n",
       "extraction_type_group    [dtype('O'), 'gravity', 'submersible', 'swn 80...\n",
       "funder                   [dtype('O'), 'Roman', 'Grumeti', 'Lottery Club...\n",
       "gps_height                          [dtype('int64'), 1390, 1399, 686, 263]\n",
       "id                             [dtype('int64'), 69572, 8776, 34310, 67743]\n",
       "installer                [dtype('O'), 'Roman', 'GRUMETI', 'World vision...\n",
       "latitude                 [dtype('float64'), -9.8563217699999992, -2.147...\n",
       "lga                      [dtype('O'), 'Ludewa', 'Serengeti', 'Simanjiro...\n",
       "longitude                [dtype('float64'), 34.938092750000003, 34.6987...\n",
       "management               [dtype('O'), 'vwc', 'wug', 'other', 'private o...\n",
       "management_group         [dtype('O'), 'user-group', 'other', 'commercia...\n",
       "num_private                                 [dtype('int64'), 0, 39, 5, 45]\n",
       "payment                  [dtype('O'), 'pay annually', 'never pay', 'pay...\n",
       "payment_type             [dtype('O'), 'annually', 'never pay', 'per buc...\n",
       "permit                                      [dtype('O'), False, True, nan]\n",
       "population                             [dtype('int64'), 109, 280, 250, 58]\n",
       "public_meeting                              [dtype('O'), True, nan, False]\n",
       "quality_group            [dtype('O'), 'good', 'salty', 'milky', 'unknown']\n",
       "quantity                 [dtype('O'), 'enough', 'insufficient', 'dry', ...\n",
       "quantity_group           [dtype('O'), 'enough', 'insufficient', 'dry', ...\n",
       "recorded_by                        [dtype('O'), 'GeoData Consultants Ltd']\n",
       "region                   [dtype('O'), 'Iringa', 'Mara', 'Manyara', 'Mtw...\n",
       "region_code                               [dtype('int64'), 11, 20, 21, 90]\n",
       "scheme_management        [dtype('O'), 'VWC', 'Other', nan, 'Private ope...\n",
       "scheme_name              [dtype('O'), 'Roman', nan, 'Nyumba ya mungu pi...\n",
       "source                   [dtype('O'), 'spring', 'rainwater harvesting',...\n",
       "source_class             [dtype('O'), 'groundwater', 'surface', 'unknown']\n",
       "source_type              [dtype('O'), 'spring', 'rainwater harvesting',...\n",
       "subvillage               [dtype('O'), 'Mnyusi B', 'Nyamara', 'Majengo',...\n",
       "ward                     [dtype('O'), 'Mundindi', 'Natta', 'Ngorika', '...\n",
       "water_quality            [dtype('O'), 'soft', 'salty', 'milky', 'unknown']\n",
       "waterpoint_type          [dtype('O'), 'communal standpipe', 'communal s...\n",
       "waterpoint_type_group    [dtype('O'), 'communal standpipe', 'hand pump'...\n",
       "wpt_name                 [dtype('O'), 'none', 'Zahanati', 'Kwa Mahundi'...\n",
       "dtype: object"
      ]
     },
     "execution_count": 4,
     "metadata": {},
     "output_type": "execute_result"
    }
   ],
   "source": [
    "pd.Series({c: ([X_train[c].dtype] + list(X_train[c].unique()[:4])).__repr__() for c in X_train.columns})"
   ]
  },
  {
   "cell_type": "code",
   "execution_count": 5,
   "metadata": {},
   "outputs": [
    {
     "data": {
      "text/html": [
       "<div>\n",
       "<style>\n",
       "    .dataframe thead tr:only-child th {\n",
       "        text-align: right;\n",
       "    }\n",
       "\n",
       "    .dataframe thead th {\n",
       "        text-align: left;\n",
       "    }\n",
       "\n",
       "    .dataframe tbody tr th {\n",
       "        vertical-align: top;\n",
       "    }\n",
       "</style>\n",
       "<table border=\"1\" class=\"dataframe\">\n",
       "  <thead>\n",
       "    <tr style=\"text-align: right;\">\n",
       "      <th></th>\n",
       "      <th>id</th>\n",
       "      <th>status_group</th>\n",
       "    </tr>\n",
       "  </thead>\n",
       "  <tbody>\n",
       "    <tr>\n",
       "      <th>0</th>\n",
       "      <td>69572</td>\n",
       "      <td>functional</td>\n",
       "    </tr>\n",
       "    <tr>\n",
       "      <th>1</th>\n",
       "      <td>8776</td>\n",
       "      <td>functional</td>\n",
       "    </tr>\n",
       "    <tr>\n",
       "      <th>2</th>\n",
       "      <td>34310</td>\n",
       "      <td>functional</td>\n",
       "    </tr>\n",
       "    <tr>\n",
       "      <th>3</th>\n",
       "      <td>67743</td>\n",
       "      <td>non functional</td>\n",
       "    </tr>\n",
       "    <tr>\n",
       "      <th>4</th>\n",
       "      <td>19728</td>\n",
       "      <td>functional</td>\n",
       "    </tr>\n",
       "  </tbody>\n",
       "</table>\n",
       "</div>"
      ],
      "text/plain": [
       "      id    status_group\n",
       "0  69572      functional\n",
       "1   8776      functional\n",
       "2  34310      functional\n",
       "3  67743  non functional\n",
       "4  19728      functional"
      ]
     },
     "execution_count": 5,
     "metadata": {},
     "output_type": "execute_result"
    }
   ],
   "source": [
    "y_train.head()"
   ]
  },
  {
   "cell_type": "code",
   "execution_count": 6,
   "metadata": {},
   "outputs": [
    {
     "data": {
      "text/html": [
       "<div>\n",
       "<style>\n",
       "    .dataframe thead tr:only-child th {\n",
       "        text-align: right;\n",
       "    }\n",
       "\n",
       "    .dataframe thead th {\n",
       "        text-align: left;\n",
       "    }\n",
       "\n",
       "    .dataframe tbody tr th {\n",
       "        vertical-align: top;\n",
       "    }\n",
       "</style>\n",
       "<table border=\"1\" class=\"dataframe\">\n",
       "  <thead>\n",
       "    <tr style=\"text-align: right;\">\n",
       "      <th></th>\n",
       "      <th>var</th>\n",
       "      <th>intersection/union</th>\n",
       "      <th>intersection/B</th>\n",
       "    </tr>\n",
       "  </thead>\n",
       "  <tbody>\n",
       "    <tr>\n",
       "      <th>3</th>\n",
       "      <td>wpt_name</td>\n",
       "      <td>0.055950</td>\n",
       "      <td>0.068342</td>\n",
       "    </tr>\n",
       "    <tr>\n",
       "      <th>5</th>\n",
       "      <td>subvillage</td>\n",
       "      <td>0.294315</td>\n",
       "      <td>0.326939</td>\n",
       "    </tr>\n",
       "    <tr>\n",
       "      <th>2</th>\n",
       "      <td>installer</td>\n",
       "      <td>0.343011</td>\n",
       "      <td>0.385368</td>\n",
       "    </tr>\n",
       "    <tr>\n",
       "      <th>1</th>\n",
       "      <td>funder</td>\n",
       "      <td>0.344699</td>\n",
       "      <td>0.388830</td>\n",
       "    </tr>\n",
       "    <tr>\n",
       "      <th>14</th>\n",
       "      <td>scheme_name</td>\n",
       "      <td>0.563960</td>\n",
       "      <td>0.599926</td>\n",
       "    </tr>\n",
       "    <tr>\n",
       "      <th>0</th>\n",
       "      <td>date_recorded</td>\n",
       "      <td>0.861789</td>\n",
       "      <td>0.893258</td>\n",
       "    </tr>\n",
       "    <tr>\n",
       "      <th>13</th>\n",
       "      <td>scheme_management</td>\n",
       "      <td>0.923077</td>\n",
       "      <td>0.923077</td>\n",
       "    </tr>\n",
       "    <tr>\n",
       "      <th>10</th>\n",
       "      <td>ward</td>\n",
       "      <td>0.930887</td>\n",
       "      <td>0.933556</td>\n",
       "    </tr>\n",
       "    <tr>\n",
       "      <th>17</th>\n",
       "      <td>extraction_type</td>\n",
       "      <td>0.944444</td>\n",
       "      <td>0.944444</td>\n",
       "    </tr>\n",
       "    <tr>\n",
       "      <th>7</th>\n",
       "      <td>region_code</td>\n",
       "      <td>0.962963</td>\n",
       "      <td>0.962963</td>\n",
       "    </tr>\n",
       "    <tr>\n",
       "      <th>23</th>\n",
       "      <td>payment_type</td>\n",
       "      <td>1.000000</td>\n",
       "      <td>1.000000</td>\n",
       "    </tr>\n",
       "    <tr>\n",
       "      <th>24</th>\n",
       "      <td>water_quality</td>\n",
       "      <td>1.000000</td>\n",
       "      <td>1.000000</td>\n",
       "    </tr>\n",
       "    <tr>\n",
       "      <th>27</th>\n",
       "      <td>quantity_group</td>\n",
       "      <td>1.000000</td>\n",
       "      <td>1.000000</td>\n",
       "    </tr>\n",
       "    <tr>\n",
       "      <th>26</th>\n",
       "      <td>quantity</td>\n",
       "      <td>1.000000</td>\n",
       "      <td>1.000000</td>\n",
       "    </tr>\n",
       "    <tr>\n",
       "      <th>22</th>\n",
       "      <td>payment</td>\n",
       "      <td>1.000000</td>\n",
       "      <td>1.000000</td>\n",
       "    </tr>\n",
       "    <tr>\n",
       "      <th>28</th>\n",
       "      <td>source</td>\n",
       "      <td>1.000000</td>\n",
       "      <td>1.000000</td>\n",
       "    </tr>\n",
       "    <tr>\n",
       "      <th>29</th>\n",
       "      <td>source_type</td>\n",
       "      <td>1.000000</td>\n",
       "      <td>1.000000</td>\n",
       "    </tr>\n",
       "    <tr>\n",
       "      <th>30</th>\n",
       "      <td>source_class</td>\n",
       "      <td>1.000000</td>\n",
       "      <td>1.000000</td>\n",
       "    </tr>\n",
       "    <tr>\n",
       "      <th>25</th>\n",
       "      <td>quality_group</td>\n",
       "      <td>1.000000</td>\n",
       "      <td>1.000000</td>\n",
       "    </tr>\n",
       "    <tr>\n",
       "      <th>21</th>\n",
       "      <td>management_group</td>\n",
       "      <td>1.000000</td>\n",
       "      <td>1.000000</td>\n",
       "    </tr>\n",
       "    <tr>\n",
       "      <th>16</th>\n",
       "      <td>construction_year</td>\n",
       "      <td>1.000000</td>\n",
       "      <td>1.000000</td>\n",
       "    </tr>\n",
       "    <tr>\n",
       "      <th>19</th>\n",
       "      <td>extraction_type_class</td>\n",
       "      <td>1.000000</td>\n",
       "      <td>1.000000</td>\n",
       "    </tr>\n",
       "    <tr>\n",
       "      <th>18</th>\n",
       "      <td>extraction_type_group</td>\n",
       "      <td>1.000000</td>\n",
       "      <td>1.000000</td>\n",
       "    </tr>\n",
       "    <tr>\n",
       "      <th>31</th>\n",
       "      <td>waterpoint_type</td>\n",
       "      <td>1.000000</td>\n",
       "      <td>1.000000</td>\n",
       "    </tr>\n",
       "    <tr>\n",
       "      <th>15</th>\n",
       "      <td>permit</td>\n",
       "      <td>1.000000</td>\n",
       "      <td>1.000000</td>\n",
       "    </tr>\n",
       "    <tr>\n",
       "      <th>12</th>\n",
       "      <td>recorded_by</td>\n",
       "      <td>1.000000</td>\n",
       "      <td>1.000000</td>\n",
       "    </tr>\n",
       "    <tr>\n",
       "      <th>11</th>\n",
       "      <td>public_meeting</td>\n",
       "      <td>1.000000</td>\n",
       "      <td>1.000000</td>\n",
       "    </tr>\n",
       "    <tr>\n",
       "      <th>9</th>\n",
       "      <td>lga</td>\n",
       "      <td>1.000000</td>\n",
       "      <td>1.000000</td>\n",
       "    </tr>\n",
       "    <tr>\n",
       "      <th>8</th>\n",
       "      <td>district_code</td>\n",
       "      <td>1.000000</td>\n",
       "      <td>1.000000</td>\n",
       "    </tr>\n",
       "    <tr>\n",
       "      <th>6</th>\n",
       "      <td>region</td>\n",
       "      <td>1.000000</td>\n",
       "      <td>1.000000</td>\n",
       "    </tr>\n",
       "    <tr>\n",
       "      <th>4</th>\n",
       "      <td>basin</td>\n",
       "      <td>1.000000</td>\n",
       "      <td>1.000000</td>\n",
       "    </tr>\n",
       "    <tr>\n",
       "      <th>20</th>\n",
       "      <td>management</td>\n",
       "      <td>1.000000</td>\n",
       "      <td>1.000000</td>\n",
       "    </tr>\n",
       "    <tr>\n",
       "      <th>32</th>\n",
       "      <td>waterpoint_type_group</td>\n",
       "      <td>1.000000</td>\n",
       "      <td>1.000000</td>\n",
       "    </tr>\n",
       "  </tbody>\n",
       "</table>\n",
       "</div>"
      ],
      "text/plain": [
       "                      var  intersection/union  intersection/B\n",
       "3                wpt_name            0.055950        0.068342\n",
       "5              subvillage            0.294315        0.326939\n",
       "2               installer            0.343011        0.385368\n",
       "1                  funder            0.344699        0.388830\n",
       "14            scheme_name            0.563960        0.599926\n",
       "0           date_recorded            0.861789        0.893258\n",
       "13      scheme_management            0.923077        0.923077\n",
       "10                   ward            0.930887        0.933556\n",
       "17        extraction_type            0.944444        0.944444\n",
       "7             region_code            0.962963        0.962963\n",
       "23           payment_type            1.000000        1.000000\n",
       "24          water_quality            1.000000        1.000000\n",
       "27         quantity_group            1.000000        1.000000\n",
       "26               quantity            1.000000        1.000000\n",
       "22                payment            1.000000        1.000000\n",
       "28                 source            1.000000        1.000000\n",
       "29            source_type            1.000000        1.000000\n",
       "30           source_class            1.000000        1.000000\n",
       "25          quality_group            1.000000        1.000000\n",
       "21       management_group            1.000000        1.000000\n",
       "16      construction_year            1.000000        1.000000\n",
       "19  extraction_type_class            1.000000        1.000000\n",
       "18  extraction_type_group            1.000000        1.000000\n",
       "31        waterpoint_type            1.000000        1.000000\n",
       "15                 permit            1.000000        1.000000\n",
       "12            recorded_by            1.000000        1.000000\n",
       "11         public_meeting            1.000000        1.000000\n",
       "9                     lga            1.000000        1.000000\n",
       "8           district_code            1.000000        1.000000\n",
       "6                  region            1.000000        1.000000\n",
       "4                   basin            1.000000        1.000000\n",
       "20             management            1.000000        1.000000\n",
       "32  waterpoint_type_group            1.000000        1.000000"
      ]
     },
     "execution_count": 6,
     "metadata": {},
     "output_type": "execute_result"
    }
   ],
   "source": [
    "def show_intersections(A, B, add_cat_feats=['date_recorded', 'construction_year',\n",
    "                                            'date_recorded_year', 'date_recorded_month']):\n",
    "    cat_features = np.where(np.array([(X_train[c].dtype == object)\n",
    "                                  or (c.endswith('code'))\n",
    "                                  or (c in add_cat_feats) for c in X_train.columns.values]))[0]\n",
    "    cat_feats_observed = []\n",
    "    for c in cat_features:\n",
    "        n_uni = len(set(A.iloc[:,c]).union(B.iloc[:,c]))\n",
    "        n_int = len(set(A.iloc[:,c]).intersection(B.iloc[:,c]))\n",
    "        n_te = len(set(A.iloc[:,c]))\n",
    "        cat_feats_observed.append((A.columns[c], n_int/n_uni, n_int/n_te))\n",
    "    cat_feats_observed = (\n",
    "        pd.DataFrame(cat_feats_observed, columns=['var', 'intersection/union', 'intersection/B'])\n",
    "        .sort_values('intersection/B')\n",
    "    )\n",
    "    return cat_feats_observed\n",
    "show_intersections(X_train, X_test)"
   ]
  },
  {
   "cell_type": "code",
   "execution_count": 7,
   "metadata": {
    "collapsed": true
   },
   "outputs": [],
   "source": [
    "from sklearn.model_selection import train_test_split"
   ]
  },
  {
   "cell_type": "code",
   "execution_count": 8,
   "metadata": {
    "collapsed": true
   },
   "outputs": [],
   "source": [
    "class HideMissingValues(BaseEstimator, TransformerMixin):\n",
    "    def fit(self, X, y=None):\n",
    "        return self\n",
    "    \n",
    "    def transform(self, X):\n",
    "        X = X.copy()\n",
    "        for c in X.columns:\n",
    "            if np.issubdtype(X[c].dtype, np.number):\n",
    "                X.loc[:,c].fillna(X.loc[:,c].median(), inplace=True)\n",
    "            else:\n",
    "                X.loc[:,c].fillna('Unknown', inplace=True)\n",
    "                X.loc[:,c] = X[c].map(lambda x: str(x))\n",
    "        return X\n",
    "    \n",
    "    \n",
    "class DropGarbage(BaseEstimator, TransformerMixin):\n",
    "    def __init__(self, cols=['id', 'funder', 'recorded_by', 'date_recorded']):\n",
    "        self.cols = cols\n",
    "        \n",
    "    def fit(self, X, y=None):\n",
    "        return self\n",
    "    \n",
    "    def transform(self, X):\n",
    "        return X.drop(self.cols, axis=1, errors='ignore')\n",
    "\n",
    "class SplitDate(BaseEstimator, TransformerMixin):\n",
    "    def __init__(self, col):\n",
    "        self.col = col\n",
    "    def fit(self, X, y=None):\n",
    "        return self\n",
    "    def transform(self, X):\n",
    "        def t(x):\n",
    "            if isinstance(x, str):\n",
    "                x = dateutil.parser.parse(x)\n",
    "            return (x.year, x.month, x.day, x.weekday())\n",
    "        X = X.copy()\n",
    "        (X.loc[:, self.col + '_year'],\n",
    "         X.loc[:, self.col + '_month'],\n",
    "         X.loc[:, self.col + '_day'],\n",
    "         X.loc[:, self.col + '_weekday']) = zip(\n",
    "        *X.loc[:, self.col].map(t))\n",
    "        return X\n",
    "\n",
    "    \n",
    "class HandyFeatures(BaseEstimator, TransformerMixin):\n",
    "    def fit(self, X, y=None):\n",
    "        return self\n",
    "    def transform(self, X):\n",
    "        X = X.copy()\n",
    "        X.loc[:,'amount_per_man'] = X.loc[:,'amount_tsh']/X.loc[:,'population']\n",
    "        return X\n",
    "\n",
    "class OutcomeFrequences(BaseException, TransformerMixin):\n",
    "    def __init__(self, groupby, drop=False):\n",
    "        self.groupby = groupby\n",
    "        self.drop = drop\n",
    "        self.cnts_ = None\n",
    "        self.fq_cols_ = None\n",
    "        self.unknowns_ = 0\n",
    "        \n",
    "    def fit(self, X, y=None):\n",
    "        possible_outcomes = [_.split()[-1] if isinstance(_, str) else _ for _ in np.unique(y)]\n",
    "        n_outs = len(possible_outcomes)\n",
    "        self.cnts_ = collections.defaultdict(lambda: np.zeros(n_outs))\n",
    "        # print(self.groupby)\n",
    "        igroupby = np.array([X.columns.get_loc(_) for _ in self.groupby])\n",
    "        for i in range(X.shape[0]):\n",
    "            # assuming $y$ is label-encoded\n",
    "            keys, out = tuple(X.iloc[i, igroupby].values), y[i]\n",
    "            self.cnts_[keys][out] += 1 # no of `(keys, out)` occurences\n",
    "        for k in self.cnts_:\n",
    "            self.cnts_[k] //= self.cnts_[k].sum()\n",
    "            \n",
    "        self.possible_outcomes_ = possible_outcomes\n",
    "        self.fq_cols_ = ['_'.join(self.groupby + [str(out), 'fq'],) for out in possible_outcomes]\n",
    "        return self\n",
    "    \n",
    "    def transform(self, X):\n",
    "        self.unknowns_ = 0\n",
    "        igroupby = np.array([X.columns.get_loc(_) for _ in self.groupby])\n",
    "        new_cols = [tuple([None for out in self.possible_outcomes_]) for _ in range(X.shape[0])]\n",
    "        for i in range(X.shape[0]):\n",
    "            keys = tuple(X.iloc[i, igroupby].values)\n",
    "            if keys in self.cnts_:\n",
    "                new_cols[i] = tuple([self.cnts_[keys][out] for out in self.possible_outcomes_])\n",
    "            else:\n",
    "                self.unknowns_ += 1\n",
    "        self.unknowns_ /= X.size\n",
    "        # print(str(X)[:100])\n",
    "        # print(str(new_cols)[:100])\n",
    "        # print(str(self.fq_cols_[:100]))\n",
    "        new_cols = pd.DataFrame(new_cols, columns=self.fq_cols_)\n",
    "        for c in self.fq_cols_:\n",
    "            new_cols.loc[:,c].fillna(0, inplace=True) # new_cols.loc[:,c].median(), inplace=True)\n",
    "        X = pd.concat((X, new_cols,), axis=1)\n",
    "        if self.drop:\n",
    "            X.drop(self.groupby, axis=1, inplace=True, errors='ignore')\n",
    "        return X\n",
    "\n",
    "class ExplicitAge(BaseEstimator, TransformerMixin):\n",
    "    def fit(self, X, y=None):\n",
    "        return self\n",
    "    def transform(self, X):\n",
    "        X = X.copy()\n",
    "        X.loc[:, 'age'] = X.loc[:,'date_recorded_year'] - X.loc[:,'construction_year']\n",
    "        return X"
   ]
  },
  {
   "cell_type": "code",
   "execution_count": 9,
   "metadata": {
    "collapsed": true
   },
   "outputs": [],
   "source": [
    "def split_train_cv_test(X, y, proportions=(.75, .25/2, .25/2)):\n",
    "    # expecting $y$ to be numpy array\n",
    "    outs = np.unique(y)\n",
    "    proportions = np.array(proportions)\n",
    "    classes = [np.where(y == i)[0] for i in outs]\n",
    "    xparts = [[] for _ in proportions]\n",
    "    yparts = [[] for _ in proportions]\n",
    "    for cidx in classes:\n",
    "        cidx = sklearn.utils.shuffle(cidx)\n",
    "        cprops = cidx.size * proportions\n",
    "        cprops = cprops.astype(int)\n",
    "        cprops[-1] = cidx.size - cprops[:-1].sum()\n",
    "        cx = X.iloc[cidx,:]\n",
    "        cy = y[cidx]\n",
    "        for xpart, ypart, sz in zip(xparts, yparts, cprops):\n",
    "            xpart.append(cx.iloc[:sz,:])\n",
    "            ypart.append(cy[:sz])\n",
    "            cx, cy = cx.iloc[sz:,:], cy[sz:]\n",
    "    xparts = [pd.concat(xpart) for xpart in xparts]\n",
    "    yparts = [np.concatenate(ypart) for ypart in yparts]\n",
    "    # parts = []\n",
    "    # print(len(xparts), 'parts')\n",
    "    # for xpart, ypart in zip(xparts, yparts):\n",
    "    #     parts.append(xpart)\n",
    "    #     parts.append(ypart)\n",
    "    parts = xparts + yparts\n",
    "    return parts"
   ]
  },
  {
   "cell_type": "code",
   "execution_count": 15,
   "metadata": {},
   "outputs": [
    {
     "data": {
      "image/png": "[encoded data removed]",
      "text/plain": [
       "<matplotlib.figure.Figure at 0x7f87dea219b0>"
      ]
     },
     "metadata": {},
     "output_type": "display_data"
    },
    {
     "data": {
      "image/png": "[encoded data removed]",
      "text/plain": [
       "<matplotlib.figure.Figure at 0x7f87ddc74470>"
      ]
     },
     "metadata": {},
     "output_type": "display_data"
    },
    {
     "data": {
      "text/plain": [
       "<matplotlib.axes._subplots.AxesSubplot at 0x7f87df137e80>"
      ]
     },
     "execution_count": 15,
     "metadata": {},
     "output_type": "execute_result"
    },
    {
     "data": {
      "image/png": "[encoded data removed]",
      "text/plain": [
       "<matplotlib.figure.Figure at 0x7f87df1937f0>"
      ]
     },
     "metadata": {},
     "output_type": "display_data"
    }
   ],
   "source": [
    "prepr = Pipeline([\n",
    "    ('fillna', HideMissingValues()),\n",
    "    ('date_recorded', SplitDate('date_recorded')),\n",
    "    ('handyfeats', HandyFeatures()),\n",
    "    ('age', ExplicitAge()),\n",
    "] + [\n",
    "    ('_'.join(catcol) + '_fq', OutcomeFrequences(catcol, drop=False))\n",
    "    for catcol in [\n",
    "        ['date_recorded_year', 'date_recorded_month',],\n",
    "    ]\n",
    "] + [\n",
    "    (catcol + '_fq', OutcomeFrequences([catcol], drop=False))\n",
    "    for catcol in ['basin', 'lga', 'funder', 'installer', 'subvillage', 'wpt_name',\n",
    "                   'extraction_type_class', 'region',\n",
    "                   'management', 'ward', 'scheme_name', 'region_code', 'extraction_type',\n",
    "                   'construction_year',\n",
    "                   'date_recorded_year',\n",
    "                   'date_recorded_month',]\n",
    "] + [\n",
    "    ('drop', DropGarbage(cols=[\n",
    "        'id', 'recorded_by',\n",
    "    ]))\n",
    "])\n",
    "\n",
    "y_enc = sklearn.preprocessing.LabelEncoder()\n",
    "y = y_enc.fit_transform(y_train.iloc[:,1])\n",
    "X = prepr.fit_transform(X_train, y)\n",
    "X_te = prepr.transform(X_test)\n",
    "X_tr, X_cv, X_va, y_tr, y_cv, y_va = split_train_cv_test(X, y, proportions=(.7, .2, .1))\n",
    "\n",
    "sns.countplot(y_tr)\n",
    "plt.show()\n",
    "sns.countplot(y_cv)\n",
    "plt.show()\n",
    "sns.countplot(y_va)\n"
   ]
  },
  {
   "cell_type": "code",
   "execution_count": 16,
   "metadata": {
    "collapsed": true
   },
   "outputs": [],
   "source": [
    "for fname, ds in [('X_tr.csv', X_tr),\n",
    "                  ('X_cv.csv', X_cv),\n",
    "                  ('X_va.csv', X_va),\n",
    "                  ('y_tr.csv', y_tr),\n",
    "                  ('y_cv.csv', y_cv),\n",
    "                  ('y_va.csv', y_va),\n",
    "                  ('X_te.csv', X_te)]:\n",
    "    if not isinstance(ds, pd.DataFrame):\n",
    "        ds = pd.DataFrame(ds, columns=['status_group'])\n",
    "    ds.to_csv(fname)"
   ]
  },
  {
   "cell_type": "code",
   "execution_count": 17,
   "metadata": {
    "collapsed": true
   },
   "outputs": [],
   "source": [
    "pd.Series(y_enc.classes_).to_csv('out_classes.csv')"
   ]
  },
  {
   "cell_type": "code",
   "execution_count": 18,
   "metadata": {},
   "outputs": [
    {
     "data": {
      "text/plain": [
       "Index(['amount_tsh', 'date_recorded', 'funder', 'gps_height', 'installer',\n",
       "       'longitude', 'latitude', 'wpt_name', 'num_private', 'basin',\n",
       "       'subvillage', 'region', 'region_code', 'district_code', 'lga', 'ward',\n",
       "       'population', 'public_meeting', 'scheme_management', 'scheme_name',\n",
       "       'permit', 'construction_year', 'extraction_type',\n",
       "       'extraction_type_group', 'extraction_type_class', 'management',\n",
       "       'management_group', 'payment', 'payment_type', 'water_quality',\n",
       "       'quality_group', 'quantity', 'quantity_group', 'source', 'source_type',\n",
       "       'source_class', 'waterpoint_type', 'waterpoint_type_group',\n",
       "       'date_recorded_year', 'date_recorded_month', 'date_recorded_day',\n",
       "       'date_recorded_weekday', 'amount_per_man', 'age',\n",
       "       'date_recorded_year_date_recorded_month_0_fq',\n",
       "       'date_recorded_year_date_recorded_month_1_fq',\n",
       "       'date_recorded_year_date_recorded_month_2_fq', 'basin_0_fq',\n",
       "       'basin_1_fq', 'basin_2_fq', 'lga_0_fq', 'lga_1_fq', 'lga_2_fq',\n",
       "       'funder_0_fq', 'funder_1_fq', 'funder_2_fq', 'installer_0_fq',\n",
       "       'installer_1_fq', 'installer_2_fq', 'subvillage_0_fq',\n",
       "       'subvillage_1_fq', 'subvillage_2_fq', 'wpt_name_0_fq', 'wpt_name_1_fq',\n",
       "       'wpt_name_2_fq', 'extraction_type_class_0_fq',\n",
       "       'extraction_type_class_1_fq', 'extraction_type_class_2_fq',\n",
       "       'region_0_fq', 'region_1_fq', 'region_2_fq', 'management_0_fq',\n",
       "       'management_1_fq', 'management_2_fq', 'ward_0_fq', 'ward_1_fq',\n",
       "       'ward_2_fq', 'scheme_name_0_fq', 'scheme_name_1_fq', 'scheme_name_2_fq',\n",
       "       'region_code_0_fq', 'region_code_1_fq', 'region_code_2_fq',\n",
       "       'extraction_type_0_fq', 'extraction_type_1_fq', 'extraction_type_2_fq',\n",
       "       'construction_year_0_fq', 'construction_year_1_fq',\n",
       "       'construction_year_2_fq', 'date_recorded_year_0_fq',\n",
       "       'date_recorded_year_1_fq', 'date_recorded_year_2_fq',\n",
       "       'date_recorded_month_0_fq', 'date_recorded_month_1_fq',\n",
       "       'date_recorded_month_2_fq'],\n",
       "      dtype='object')"
      ]
     },
     "execution_count": 18,
     "metadata": {},
     "output_type": "execute_result"
    }
   ],
   "source": [
    "X_tr.columns"
   ]
  },
  {
   "cell_type": "code",
   "execution_count": 19,
   "metadata": {},
   "outputs": [
    {
     "data": {
      "text/plain": [
       "Index(['amount_tsh', 'date_recorded', 'funder', 'gps_height', 'installer',\n",
       "       'longitude', 'latitude', 'wpt_name', 'num_private', 'basin',\n",
       "       'subvillage', 'region', 'region_code', 'district_code', 'lga', 'ward',\n",
       "       'population', 'public_meeting', 'scheme_management', 'scheme_name',\n",
       "       'permit', 'construction_year', 'extraction_type',\n",
       "       'extraction_type_group', 'extraction_type_class', 'management',\n",
       "       'management_group', 'payment', 'payment_type', 'water_quality',\n",
       "       'quality_group', 'quantity', 'quantity_group', 'source', 'source_type',\n",
       "       'source_class', 'waterpoint_type', 'waterpoint_type_group',\n",
       "       'date_recorded_year', 'date_recorded_month', 'date_recorded_day',\n",
       "       'date_recorded_weekday', 'amount_per_man', 'age',\n",
       "       'date_recorded_year_date_recorded_month_0_fq',\n",
       "       'date_recorded_year_date_recorded_month_1_fq',\n",
       "       'date_recorded_year_date_recorded_month_2_fq', 'basin_0_fq',\n",
       "       'basin_1_fq', 'basin_2_fq', 'lga_0_fq', 'lga_1_fq', 'lga_2_fq',\n",
       "       'funder_0_fq', 'funder_1_fq', 'funder_2_fq', 'installer_0_fq',\n",
       "       'installer_1_fq', 'installer_2_fq', 'subvillage_0_fq',\n",
       "       'subvillage_1_fq', 'subvillage_2_fq', 'wpt_name_0_fq', 'wpt_name_1_fq',\n",
       "       'wpt_name_2_fq', 'extraction_type_class_0_fq',\n",
       "       'extraction_type_class_1_fq', 'extraction_type_class_2_fq',\n",
       "       'region_0_fq', 'region_1_fq', 'region_2_fq', 'management_0_fq',\n",
       "       'management_1_fq', 'management_2_fq', 'ward_0_fq', 'ward_1_fq',\n",
       "       'ward_2_fq', 'scheme_name_0_fq', 'scheme_name_1_fq', 'scheme_name_2_fq',\n",
       "       'region_code_0_fq', 'region_code_1_fq', 'region_code_2_fq',\n",
       "       'extraction_type_0_fq', 'extraction_type_1_fq', 'extraction_type_2_fq',\n",
       "       'construction_year_0_fq', 'construction_year_1_fq',\n",
       "       'construction_year_2_fq', 'date_recorded_year_0_fq',\n",
       "       'date_recorded_year_1_fq', 'date_recorded_year_2_fq',\n",
       "       'date_recorded_month_0_fq', 'date_recorded_month_1_fq',\n",
       "       'date_recorded_month_2_fq'],\n",
       "      dtype='object')"
      ]
     },
     "execution_count": 19,
     "metadata": {},
     "output_type": "execute_result"
    }
   ],
   "source": [
    "X_tr.columns"
   ]
  },
  {
   "cell_type": "code",
   "execution_count": null,
   "metadata": {
    "collapsed": true
   },
   "outputs": [],
   "source": []
  },
  {
   "cell_type": "code",
   "execution_count": null,
   "metadata": {
    "collapsed": true
   },
   "outputs": [],
   "source": []
  },
  {
   "cell_type": "code",
   "execution_count": null,
   "metadata": {
    "collapsed": true
   },
   "outputs": [],
   "source": []
  },
  {
   "cell_type": "code",
   "execution_count": null,
   "metadata": {
    "collapsed": true
   },
   "outputs": [],
   "source": []
  },
  {
   "cell_type": "code",
   "execution_count": null,
   "metadata": {
    "collapsed": true
   },
   "outputs": [],
   "source": []
  },
  {
   "cell_type": "code",
   "execution_count": null,
   "metadata": {
    "collapsed": true
   },
   "outputs": [],
   "source": []
  },
  {
   "cell_type": "code",
   "execution_count": null,
   "metadata": {
    "collapsed": true
   },
   "outputs": [],
   "source": []
  },
  {
   "cell_type": "code",
   "execution_count": null,
   "metadata": {
    "collapsed": true
   },
   "outputs": [],
   "source": []
  },
  {
   "cell_type": "code",
   "execution_count": null,
   "metadata": {
    "collapsed": true
   },
   "outputs": [],
   "source": []
  },
  {
   "cell_type": "code",
   "execution_count": null,
   "metadata": {
    "collapsed": true
   },
   "outputs": [],
   "source": []
  },
  {
   "cell_type": "code",
   "execution_count": null,
   "metadata": {
    "collapsed": true
   },
   "outputs": [],
   "source": []
  }
 ],
 "metadata": {
  "kernelspec": {
   "display_name": "Python 3",
   "language": "python",
   "name": "python3"
  },
  "language_info": {
   "codemirror_mode": {
    "name": "ipython",
    "version": 3
   },
   "file_extension": ".py",
   "mimetype": "text/x-python",
   "name": "python",
   "nbconvert_exporter": "python",
   "pygments_lexer": "ipython3",
   "version": "3.6.1"
  }
 },
 "nbformat": 4,
 "nbformat_minor": 2
}
