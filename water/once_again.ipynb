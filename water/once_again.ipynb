{
 "cells": [
  {
   "cell_type": "markdown",
   "metadata": {},
   "source": [
    "# I fucking hate `pandas` and `sklearn` for their messy and inconsistent interfaces\n",
    "# for their opposition to any extensions of their libraries\n",
    "# and all that crap.\n",
    "# I can't even sleep because of how much I hate them.\n",
    "# I was trying to write things according to their API\n",
    "# implementing BaseEstimator and TransformerMixin\n",
    "# and using pipes\n",
    "# but that makes things even worser\n",
    "# because of uglyness of this environment!\n",
    "\n",
    "# I wanted to try pretty obvious tricks and models\n",
    "# but this environment makes it impossible"
   ]
  },
  {
   "cell_type": "code",
   "execution_count": 1,
   "metadata": {
    "collapsed": true
   },
   "outputs": [],
   "source": [
    "import pandas as pd\n",
    "import numpy as np\n",
    "import dateutil.parser\n",
    "import datetime\n",
    "import sklearn.preprocessing\n",
    "import collections\n",
    "from sklearn.feature_extraction.text import TfidfVectorizer\n",
    "from sklearn.feature_selection import SelectKBest, chi2\n",
    "\n",
    "%matplotlib inline"
   ]
  },
  {
   "cell_type": "code",
   "execution_count": 2,
   "metadata": {
    "collapsed": true
   },
   "outputs": [],
   "source": [
    "X_train = pd.read_csv('X_train.csv')\n",
    "y_train = pd.read_csv('y_train.csv')\n",
    "X_test = pd.read_csv('X_test.csv')"
   ]
  },
  {
   "cell_type": "code",
   "execution_count": 3,
   "metadata": {},
   "outputs": [
    {
     "data": {
      "text/plain": [
       "id                         int64\n",
       "amount_tsh               float64\n",
       "date_recorded             object\n",
       "funder                    object\n",
       "gps_height                 int64\n",
       "installer                 object\n",
       "longitude                float64\n",
       "latitude                 float64\n",
       "wpt_name                  object\n",
       "num_private                int64\n",
       "basin                     object\n",
       "subvillage                object\n",
       "region                    object\n",
       "region_code                int64\n",
       "district_code              int64\n",
       "lga                       object\n",
       "ward                      object\n",
       "population                 int64\n",
       "public_meeting            object\n",
       "recorded_by               object\n",
       "scheme_management         object\n",
       "scheme_name               object\n",
       "permit                    object\n",
       "construction_year          int64\n",
       "extraction_type           object\n",
       "extraction_type_group     object\n",
       "extraction_type_class     object\n",
       "management                object\n",
       "management_group          object\n",
       "payment                   object\n",
       "payment_type              object\n",
       "water_quality             object\n",
       "quality_group             object\n",
       "quantity                  object\n",
       "quantity_group            object\n",
       "source                    object\n",
       "source_type               object\n",
       "source_class              object\n",
       "waterpoint_type           object\n",
       "waterpoint_type_group     object\n",
       "dtype: object"
      ]
     },
     "execution_count": 3,
     "metadata": {},
     "output_type": "execute_result"
    }
   ],
   "source": [
    "X_train.dtypes"
   ]
  },
  {
   "cell_type": "code",
   "execution_count": 4,
   "metadata": {
    "collapsed": true
   },
   "outputs": [],
   "source": [
    "def date_to_ymd(x):\n",
    "    res = (np.nan, np.nan, np.nan)\n",
    "    if isinstance(x, str):\n",
    "        try:\n",
    "            x = dateutil.parser.parse(x)\n",
    "        except:\n",
    "            pass\n",
    "    if isinstance(x, datetime.date):\n",
    "            res = (x.year, x.month, x.day)\n",
    "    return res"
   ]
  },
  {
   "cell_type": "code",
   "execution_count": 5,
   "metadata": {
    "collapsed": true
   },
   "outputs": [],
   "source": [
    "X_train.drop(['id', 'recorded_by', 'num_private'], axis=1, inplace=True)\n",
    "X_test.drop(['id', 'recorded_by', 'num_private'], axis=1, inplace=True)"
   ]
  },
  {
   "cell_type": "code",
   "execution_count": 6,
   "metadata": {
    "collapsed": true
   },
   "outputs": [],
   "source": [
    "(X_train.loc[:,'date_recorded_year'],\n",
    " X_train.loc[:,'date_recorded_month'],\n",
    " X_train.loc[:,'date_recorded_day']) = zip(*X_train.loc[:,'date_recorded'].map(date_to_ymd))\n",
    "(X_test.loc[:,'date_recorded_year'],\n",
    " X_test.loc[:,'date_recorded_month'],\n",
    " X_test.loc[:,'date_recorded_day']) = zip(*X_test.loc[:,'date_recorded'].map(date_to_ymd))\n",
    "\n",
    "X_train.drop('date_recorded', axis=1, inplace=True)\n",
    "X_test.drop('date_recorded', axis=1, inplace=True)"
   ]
  },
  {
   "cell_type": "code",
   "execution_count": 7,
   "metadata": {
    "collapsed": true
   },
   "outputs": [],
   "source": [
    "X_train.loc[:,'age'] = X_train.loc[:,'date_recorded_year'] - X_train.loc[:,'construction_year']\n",
    "X_test.loc[:,'age'] = X_test.loc[:,'date_recorded_year'] - X_test.loc[:,'construction_year']"
   ]
  },
  {
   "cell_type": "code",
   "execution_count": 8,
   "metadata": {
    "collapsed": true
   },
   "outputs": [],
   "source": [
    "X_train.loc[:,'amount_per_man'] = (X_train.loc[:,'amount_tsh']/X_train.loc[:,'population']).fillna(0)\n",
    "X_test.loc[:,'amount_per_man'] = (X_test.loc[:,'amount_tsh']/X_test.loc[:,'population']).fillna(0)"
   ]
  },
  {
   "cell_type": "code",
   "execution_count": 9,
   "metadata": {
    "collapsed": true
   },
   "outputs": [],
   "source": [
    "X_train.loc[X_train.loc[:,'permit'] == True, 'permit'] = 1\n",
    "X_train.loc[X_train.loc[:,'permit'] == False, 'permit'] = 0\n",
    "X_train.loc[:,'permit'].fillna(0.5, inplace=True)\n",
    "X_test.loc[X_test.loc[:,'permit'] == True, 'permit'] = 1\n",
    "X_test.loc[X_test.loc[:,'permit'] == False, 'permit'] = 0\n",
    "X_test.loc[:,'permit'].fillna(0.5, inplace=True)"
   ]
  },
  {
   "cell_type": "code",
   "execution_count": 10,
   "metadata": {
    "collapsed": true
   },
   "outputs": [],
   "source": [
    "X_train.loc[X_train.loc[:,'public_meeting'] == True, 'public_meeting'] = 1\n",
    "X_train.loc[X_train.loc[:,'public_meeting'] == False, 'public_meeting'] = 0\n",
    "X_train.loc[:,'public_meeting'].fillna(0.5, inplace=True)\n",
    "X_test.loc[X_test.loc[:,'public_meeting'] == True, 'public_meeting'] = 1\n",
    "X_test.loc[X_test.loc[:,'public_meeting'] == False, 'public_meeting'] = 0\n",
    "X_test.loc[:,'public_meeting'].fillna(0.5, inplace=True)"
   ]
  },
  {
   "cell_type": "code",
   "execution_count": 11,
   "metadata": {
    "collapsed": true
   },
   "outputs": [],
   "source": [
    "X_train.loc[:,'wpt_name'] = X_train.loc[:,'wpt_name'].notnull() * 1\n",
    "X_test.loc[:,'wpt_name'] = X_test.loc[:,'wpt_name'].notnull() * 1"
   ]
  },
  {
   "cell_type": "code",
   "execution_count": 12,
   "metadata": {
    "collapsed": true
   },
   "outputs": [],
   "source": [
    "X_train.loc[:,'source'] = (\n",
    "    X_train.loc[:,'source'] + ' '\n",
    "    + X_train.loc[:,'source_type'] + ' '\n",
    "    + X_train.loc[:,'source_class']\n",
    ")\n",
    "X_test.loc[:,'source'] = (\n",
    "    X_test.loc[:,'source'] + ' '\n",
    "    + X_test.loc[:,'source_type'] + ' '\n",
    "    + X_test.loc[:,'source_class']\n",
    ")"
   ]
  },
  {
   "cell_type": "code",
   "execution_count": 13,
   "metadata": {
    "collapsed": true
   },
   "outputs": [],
   "source": [
    "X_train.loc[:,'quality'] = (\n",
    "    X_train.loc[:,'water_quality'] + ' '\n",
    "    + X_train.loc[:,'quality_group']\n",
    ")\n",
    "X_test.loc[:,'quality'] = (\n",
    "    X_test.loc[:,'water_quality'] + ' '\n",
    "    + X_test.loc[:,'quality_group']\n",
    ")"
   ]
  },
  {
   "cell_type": "code",
   "execution_count": 14,
   "metadata": {
    "collapsed": true
   },
   "outputs": [],
   "source": [
    "X_train.loc[:,'waterpoint_type'] = (\n",
    "    X_train.loc[:,'waterpoint_type'] + ' '\n",
    "    + X_train.loc[:,'waterpoint_type_group']\n",
    ")\n",
    "X_test.loc[:,'waterpoint_type'] = (\n",
    "    X_test.loc[:,'waterpoint_type'] + ' '\n",
    "    + X_test.loc[:,'waterpoint_type_group']\n",
    ")"
   ]
  },
  {
   "cell_type": "code",
   "execution_count": 15,
   "metadata": {
    "collapsed": true
   },
   "outputs": [],
   "source": [
    "X_train.loc[:,'quantity'] = (\n",
    "    X_train.loc[:,'quantity'] + ' '\n",
    "    + X_train.loc[:,'quantity_group']\n",
    ")\n",
    "X_test.loc[:,'quantity'] = (\n",
    "    X_test.loc[:,'quantity'] + ' '\n",
    "    + X_test.loc[:,'quantity_group']\n",
    ")"
   ]
  },
  {
   "cell_type": "code",
   "execution_count": 16,
   "metadata": {
    "collapsed": true
   },
   "outputs": [],
   "source": [
    "X_train.loc[:,'management'] = (\n",
    "    X_train.loc[:,'management'] + ' '\n",
    "    + X_train.loc[:,'management_group']\n",
    ")\n",
    "X_test.loc[:,'management'] = (\n",
    "    X_test.loc[:,'management'] + ' '\n",
    "    + X_test.loc[:,'management_group']\n",
    ")"
   ]
  },
  {
   "cell_type": "code",
   "execution_count": 17,
   "metadata": {
    "collapsed": true
   },
   "outputs": [],
   "source": [
    "X_train.loc[:,'scheme'] = (\n",
    "    X_train.loc[:,'scheme_name'] + ' '\n",
    "    + X_train.loc[:,'scheme_management']\n",
    ")\n",
    "X_test.loc[:,'scheme'] = (\n",
    "    X_test.loc[:,'scheme_name'] + ' '\n",
    "    + X_test.loc[:,'scheme_management']\n",
    ")"
   ]
  },
  {
   "cell_type": "code",
   "execution_count": 18,
   "metadata": {
    "collapsed": true
   },
   "outputs": [],
   "source": [
    "X_train.loc[:,'payment'] = (\n",
    "    X_train.loc[:,'payment'] + ' '\n",
    "    + X_train.loc[:,'payment_type']\n",
    ")\n",
    "X_test.loc[:,'payment'] = (\n",
    "    X_test.loc[:,'payment'] + ' '\n",
    "    + X_test.loc[:,'payment_type']\n",
    ")"
   ]
  },
  {
   "cell_type": "code",
   "execution_count": 19,
   "metadata": {
    "collapsed": true
   },
   "outputs": [],
   "source": [
    "X_train.loc[:,'extraction_type'] = (\n",
    "    X_train.loc[:,'extraction_type'] + ' '\n",
    "    + X_train.loc[:,'extraction_type_group'] + ' '\n",
    "    + X_train.loc[:,'extraction_type_class']\n",
    ")\n",
    "X_test.loc[:,'extraction_type'] = (\n",
    "    X_test.loc[:,'extraction_type'] + ' '\n",
    "    + X_test.loc[:,'extraction_type_group'] + ' '\n",
    "    + X_test.loc[:,'extraction_type_class']\n",
    ")"
   ]
  },
  {
   "cell_type": "code",
   "execution_count": 20,
   "metadata": {
    "collapsed": true
   },
   "outputs": [],
   "source": [
    "drop_cats = ['source_type', 'source_class',\n",
    "              'water_quality', 'quality_group',\n",
    "              'quantity_group', 'waterpoint_type_group',\n",
    "              'payment_type', 'extraction_type_group',\n",
    "              'extraction_type_class', 'management_group',\n",
    "             'scheme_name', 'scheme_management',\n",
    "              ]\n",
    "X_train.drop(drop_cats, axis=1, inplace=True, errors='ignore')\n",
    "X_test.drop(drop_cats, axis=1, inplace=True, errors='ignore')"
   ]
  },
  {
   "cell_type": "code",
   "execution_count": null,
   "metadata": {
    "collapsed": true
   },
   "outputs": [],
   "source": []
  },
  {
   "cell_type": "code",
   "execution_count": null,
   "metadata": {},
   "outputs": [],
   "source": []
  },
  {
   "cell_type": "code",
   "execution_count": 21,
   "metadata": {},
   "outputs": [
    {
     "data": {
      "text/plain": [
       "amount_tsh                                              6000\n",
       "funder                                                 Roman\n",
       "gps_height                                              1390\n",
       "installer                                              Roman\n",
       "longitude                                            34.9381\n",
       "latitude                                            -9.85632\n",
       "wpt_name                                                   1\n",
       "basin                                             Lake Nyasa\n",
       "subvillage                                          Mnyusi B\n",
       "region                                                Iringa\n",
       "region_code                                               11\n",
       "district_code                                              5\n",
       "lga                                                   Ludewa\n",
       "ward                                                Mundindi\n",
       "population                                               109\n",
       "public_meeting                                             1\n",
       "permit                                                     0\n",
       "construction_year                                       1999\n",
       "extraction_type                      gravity gravity gravity\n",
       "management                                    vwc user-group\n",
       "payment                                pay annually annually\n",
       "quantity                                       enough enough\n",
       "source                             spring spring groundwater\n",
       "waterpoint_type        communal standpipe communal standpipe\n",
       "date_recorded_year                                      2011\n",
       "date_recorded_month                                        3\n",
       "date_recorded_day                                         14\n",
       "age                                                       12\n",
       "amount_per_man                                       55.0459\n",
       "quality                                            soft good\n",
       "scheme                                             Roman VWC\n",
       "Name: 0, dtype: object"
      ]
     },
     "execution_count": 21,
     "metadata": {},
     "output_type": "execute_result"
    }
   ],
   "source": [
    "X_train.iloc[0,:]"
   ]
  },
  {
   "cell_type": "code",
   "execution_count": null,
   "metadata": {
    "collapsed": true
   },
   "outputs": [],
   "source": []
  },
  {
   "cell_type": "code",
   "execution_count": 22,
   "metadata": {},
   "outputs": [],
   "source": [
    "text_features = ['funder', 'installer', 'basin',\n",
    "                'subvillage', 'region', 'region_code', 'district_code',\n",
    "                'lga', 'ward', \n",
    "                 'quality',\n",
    "                 #'water_quality', 'quality_group',\n",
    "                 'scheme', #'scheme_management', 'scheme_name',\n",
    "                'extraction_type', #'extraction_type_group',\n",
    "                'management',# 'management_group', \n",
    "                 'payment',# 'payment_type',\n",
    "                'quantity',# 'quantity_group',\n",
    "                'source',# 'source_type', 'source_class',\n",
    "                 'waterpoint_type', #'waterpoint_type_group',\n",
    "                #'date_recorded_year', 'construction_year',\n",
    "               ]\n",
    "text_features_vectorizers = dict()\n",
    "text_feats_train = []\n",
    "text_feats_test = []"
   ]
  },
  {
   "cell_type": "code",
   "execution_count": 23,
   "metadata": {
    "collapsed": true
   },
   "outputs": [],
   "source": [
    "y_enc1 = sklearn.preprocessing.LabelEncoder().fit(y_train.iloc[:,1])\n",
    "ytr = y_enc1.transform(y_train.iloc[:,1])"
   ]
  },
  {
   "cell_type": "code",
   "execution_count": 24,
   "metadata": {},
   "outputs": [
    {
     "name": "stdout",
     "output_type": "stream",
     "text": [
      "region_code\n",
      "district_code\n"
     ]
    }
   ],
   "source": [
    "for cat in text_features:\n",
    "    if X_train.loc[:,cat].dtype == object:\n",
    "        X_train.loc[:,cat].fillna('unknown', inplace=True)\n",
    "        X_train.loc[X_train.loc[:,cat].str.contains('other') == True, cat] = 'unknown'\n",
    "        X_test.loc[:,cat].fillna('unknown', inplace=True)\n",
    "        X_test.loc[X_test.loc[:,cat].str.contains('other') == True, cat] = 'unknown'\n",
    "    else:\n",
    "        print(cat)\n",
    "        X_train.loc[:,cat].fillna(0, inplace=True)\n",
    "        X_test.loc[:,cat].fillna(0, inplace=True)\n",
    "        X_train.loc[:,cat] = X_train.loc[:,cat].astype(str)\n",
    "        X_test.loc[:,cat] = X_test.loc[:,cat].astype(str)\n",
    "    v = TfidfVectorizer(ngram_range=(1,2))\n",
    "    v.fit(X_test.loc[:,cat])\n",
    "    tr = v.transform(X_train.loc[:,cat])\n",
    "    te = v.transform(X_test.loc[:,cat])\n",
    "    kbest = SelectKBest(chi2, min(10, tr.shape[1])).fit(tr, ytr)\n",
    "    tr = kbest.transform(tr)\n",
    "    te = kbest.transform(te)\n",
    "    tr = pd.DataFrame(tr.toarray()).add_prefix(cat + '_')\n",
    "    te = pd.DataFrame(te.toarray()).add_prefix(cat + '_')\n",
    "    text_feats_train.append(tr)\n",
    "    text_feats_test.append(te)\n",
    "\n",
    "\n",
    "X_train = pd.concat([X_train.drop(text_features, axis=1, errors='ignore')] + text_feats_train,\n",
    "                    axis=1)\n",
    "X_test = pd.concat([X_test.drop(text_features, axis=1, errors='ignore')] + text_feats_test,\n",
    "                    axis=1)\n"
   ]
  },
  {
   "cell_type": "code",
   "execution_count": 25,
   "metadata": {},
   "outputs": [
    {
     "data": {
      "text/html": [
       "<div>\n",
       "<style>\n",
       "    .dataframe thead tr:only-child th {\n",
       "        text-align: right;\n",
       "    }\n",
       "\n",
       "    .dataframe thead th {\n",
       "        text-align: left;\n",
       "    }\n",
       "\n",
       "    .dataframe tbody tr th {\n",
       "        vertical-align: top;\n",
       "    }\n",
       "</style>\n",
       "<table border=\"1\" class=\"dataframe\">\n",
       "  <thead>\n",
       "    <tr style=\"text-align: right;\">\n",
       "      <th></th>\n",
       "      <th>amount_tsh</th>\n",
       "      <th>gps_height</th>\n",
       "      <th>longitude</th>\n",
       "      <th>latitude</th>\n",
       "      <th>wpt_name</th>\n",
       "      <th>population</th>\n",
       "      <th>public_meeting</th>\n",
       "      <th>permit</th>\n",
       "      <th>construction_year</th>\n",
       "      <th>date_recorded_year</th>\n",
       "      <th>...</th>\n",
       "      <th>waterpoint_type_0</th>\n",
       "      <th>waterpoint_type_1</th>\n",
       "      <th>waterpoint_type_2</th>\n",
       "      <th>waterpoint_type_3</th>\n",
       "      <th>waterpoint_type_4</th>\n",
       "      <th>waterpoint_type_5</th>\n",
       "      <th>waterpoint_type_6</th>\n",
       "      <th>waterpoint_type_7</th>\n",
       "      <th>waterpoint_type_8</th>\n",
       "      <th>waterpoint_type_9</th>\n",
       "    </tr>\n",
       "  </thead>\n",
       "  <tbody>\n",
       "    <tr>\n",
       "      <th>0</th>\n",
       "      <td>6000.0</td>\n",
       "      <td>1390</td>\n",
       "      <td>34.938093</td>\n",
       "      <td>-9.856322</td>\n",
       "      <td>1</td>\n",
       "      <td>109</td>\n",
       "      <td>1.0</td>\n",
       "      <td>0.0</td>\n",
       "      <td>1999</td>\n",
       "      <td>2011</td>\n",
       "      <td>...</td>\n",
       "      <td>0.549138</td>\n",
       "      <td>0.549138</td>\n",
       "      <td>0.0</td>\n",
       "      <td>0.000000</td>\n",
       "      <td>0.000000</td>\n",
       "      <td>0.0</td>\n",
       "      <td>0.549138</td>\n",
       "      <td>0.308775</td>\n",
       "      <td>0.000000</td>\n",
       "      <td>0.0</td>\n",
       "    </tr>\n",
       "    <tr>\n",
       "      <th>1</th>\n",
       "      <td>0.0</td>\n",
       "      <td>1399</td>\n",
       "      <td>34.698766</td>\n",
       "      <td>-2.147466</td>\n",
       "      <td>1</td>\n",
       "      <td>280</td>\n",
       "      <td>0.5</td>\n",
       "      <td>1.0</td>\n",
       "      <td>2010</td>\n",
       "      <td>2013</td>\n",
       "      <td>...</td>\n",
       "      <td>0.549138</td>\n",
       "      <td>0.549138</td>\n",
       "      <td>0.0</td>\n",
       "      <td>0.000000</td>\n",
       "      <td>0.000000</td>\n",
       "      <td>0.0</td>\n",
       "      <td>0.549138</td>\n",
       "      <td>0.308775</td>\n",
       "      <td>0.000000</td>\n",
       "      <td>0.0</td>\n",
       "    </tr>\n",
       "    <tr>\n",
       "      <th>2</th>\n",
       "      <td>25.0</td>\n",
       "      <td>686</td>\n",
       "      <td>37.460664</td>\n",
       "      <td>-3.821329</td>\n",
       "      <td>1</td>\n",
       "      <td>250</td>\n",
       "      <td>1.0</td>\n",
       "      <td>1.0</td>\n",
       "      <td>2009</td>\n",
       "      <td>2013</td>\n",
       "      <td>...</td>\n",
       "      <td>0.395413</td>\n",
       "      <td>0.395413</td>\n",
       "      <td>0.0</td>\n",
       "      <td>0.420692</td>\n",
       "      <td>0.420692</td>\n",
       "      <td>0.0</td>\n",
       "      <td>0.395413</td>\n",
       "      <td>0.000000</td>\n",
       "      <td>0.420692</td>\n",
       "      <td>0.0</td>\n",
       "    </tr>\n",
       "    <tr>\n",
       "      <th>3</th>\n",
       "      <td>0.0</td>\n",
       "      <td>263</td>\n",
       "      <td>38.486161</td>\n",
       "      <td>-11.155298</td>\n",
       "      <td>1</td>\n",
       "      <td>58</td>\n",
       "      <td>1.0</td>\n",
       "      <td>1.0</td>\n",
       "      <td>1986</td>\n",
       "      <td>2013</td>\n",
       "      <td>...</td>\n",
       "      <td>0.395413</td>\n",
       "      <td>0.395413</td>\n",
       "      <td>0.0</td>\n",
       "      <td>0.420692</td>\n",
       "      <td>0.420692</td>\n",
       "      <td>0.0</td>\n",
       "      <td>0.395413</td>\n",
       "      <td>0.000000</td>\n",
       "      <td>0.420692</td>\n",
       "      <td>0.0</td>\n",
       "    </tr>\n",
       "    <tr>\n",
       "      <th>4</th>\n",
       "      <td>0.0</td>\n",
       "      <td>0</td>\n",
       "      <td>31.130847</td>\n",
       "      <td>-1.825359</td>\n",
       "      <td>1</td>\n",
       "      <td>0</td>\n",
       "      <td>1.0</td>\n",
       "      <td>1.0</td>\n",
       "      <td>0</td>\n",
       "      <td>2011</td>\n",
       "      <td>...</td>\n",
       "      <td>0.549138</td>\n",
       "      <td>0.549138</td>\n",
       "      <td>0.0</td>\n",
       "      <td>0.000000</td>\n",
       "      <td>0.000000</td>\n",
       "      <td>0.0</td>\n",
       "      <td>0.549138</td>\n",
       "      <td>0.308775</td>\n",
       "      <td>0.000000</td>\n",
       "      <td>0.0</td>\n",
       "    </tr>\n",
       "  </tbody>\n",
       "</table>\n",
       "<p>5 rows × 184 columns</p>\n",
       "</div>"
      ],
      "text/plain": [
       "   amount_tsh  gps_height  longitude   latitude  wpt_name  population  \\\n",
       "0      6000.0        1390  34.938093  -9.856322         1         109   \n",
       "1         0.0        1399  34.698766  -2.147466         1         280   \n",
       "2        25.0         686  37.460664  -3.821329         1         250   \n",
       "3         0.0         263  38.486161 -11.155298         1          58   \n",
       "4         0.0           0  31.130847  -1.825359         1           0   \n",
       "\n",
       "   public_meeting  permit  construction_year  date_recorded_year  \\\n",
       "0             1.0     0.0               1999                2011   \n",
       "1             0.5     1.0               2010                2013   \n",
       "2             1.0     1.0               2009                2013   \n",
       "3             1.0     1.0               1986                2013   \n",
       "4             1.0     1.0                  0                2011   \n",
       "\n",
       "         ...          waterpoint_type_0  waterpoint_type_1  waterpoint_type_2  \\\n",
       "0        ...                   0.549138           0.549138                0.0   \n",
       "1        ...                   0.549138           0.549138                0.0   \n",
       "2        ...                   0.395413           0.395413                0.0   \n",
       "3        ...                   0.395413           0.395413                0.0   \n",
       "4        ...                   0.549138           0.549138                0.0   \n",
       "\n",
       "   waterpoint_type_3  waterpoint_type_4  waterpoint_type_5  waterpoint_type_6  \\\n",
       "0           0.000000           0.000000                0.0           0.549138   \n",
       "1           0.000000           0.000000                0.0           0.549138   \n",
       "2           0.420692           0.420692                0.0           0.395413   \n",
       "3           0.420692           0.420692                0.0           0.395413   \n",
       "4           0.000000           0.000000                0.0           0.549138   \n",
       "\n",
       "   waterpoint_type_7  waterpoint_type_8  waterpoint_type_9  \n",
       "0           0.308775           0.000000                0.0  \n",
       "1           0.308775           0.000000                0.0  \n",
       "2           0.000000           0.420692                0.0  \n",
       "3           0.000000           0.420692                0.0  \n",
       "4           0.308775           0.000000                0.0  \n",
       "\n",
       "[5 rows x 184 columns]"
      ]
     },
     "metadata": {},
     "output_type": "display_data"
    }
   ],
   "source": [
    "display(X_train.head())"
   ]
  },
  {
   "cell_type": "code",
   "execution_count": 26,
   "metadata": {},
   "outputs": [
    {
     "data": {
      "text/plain": [
       "[]"
      ]
     },
     "execution_count": 26,
     "metadata": {},
     "output_type": "execute_result"
    }
   ],
   "source": [
    "[(c, X_train[c].dtype) for c in X_train.columns if not np.issubdtype(X_train[c].dtype, np.number)]"
   ]
  },
  {
   "cell_type": "code",
   "execution_count": 27,
   "metadata": {},
   "outputs": [
    {
     "data": {
      "text/plain": [
       "Index(['amount_tsh', 'gps_height', 'longitude', 'latitude', 'wpt_name',\n",
       "       'population', 'public_meeting', 'permit', 'construction_year',\n",
       "       'date_recorded_year',\n",
       "       ...\n",
       "       'waterpoint_type_0', 'waterpoint_type_1', 'waterpoint_type_2',\n",
       "       'waterpoint_type_3', 'waterpoint_type_4', 'waterpoint_type_5',\n",
       "       'waterpoint_type_6', 'waterpoint_type_7', 'waterpoint_type_8',\n",
       "       'waterpoint_type_9'],\n",
       "      dtype='object', length=184)"
      ]
     },
     "execution_count": 27,
     "metadata": {},
     "output_type": "execute_result"
    }
   ],
   "source": [
    "def split_train_cv_test(X, y, proportions=(.75, .25/2, .25/2)):\n",
    "    # expecting $y$ to be numpy array\n",
    "    outs = np.unique(y)\n",
    "    proportions = np.array(proportions)\n",
    "    classes = [np.where(y == i)[0] for i in outs]\n",
    "    xparts = [[] for _ in proportions]\n",
    "    yparts = [[] for _ in proportions]\n",
    "    for cidx in classes:\n",
    "        cidx = sklearn.utils.shuffle(cidx)\n",
    "        cprops = cidx.size * proportions\n",
    "        cprops = cprops.astype(int)\n",
    "        cprops[-1] = cidx.size - cprops[:-1].sum()\n",
    "        # print(cidx)\n",
    "        cx = X.iloc[cidx,:]\n",
    "        cy = y[cidx]\n",
    "        for xpart, ypart, sz in zip(xparts, yparts, cprops):\n",
    "            xpart.append(cx.iloc[:sz,:])\n",
    "            ypart.append(cy[:sz])\n",
    "            cx, cy = cx.iloc[sz:,:], cy[sz:]\n",
    "    xparts = [pd.concat(xpart) for xpart in xparts]\n",
    "    yparts = [np.concatenate(ypart) for ypart in yparts]\n",
    "    parts = xparts + yparts\n",
    "    return parts\n",
    "\n",
    "X_train.columns"
   ]
  },
  {
   "cell_type": "code",
   "execution_count": null,
   "metadata": {},
   "outputs": [],
   "source": []
  },
  {
   "cell_type": "code",
   "execution_count": 28,
   "metadata": {},
   "outputs": [],
   "source": [
    "def divide_by_tmax(f):\n",
    "    X_train.loc[:,f] /= X_test.loc[:,f].max()\n",
    "    X_test.loc[:,f] /= X_test.loc[:,f].max()\n",
    "def extract_tmin(f):\n",
    "    X_train.loc[:,f] -= X_test.loc[:,f].min()\n",
    "    X_test.loc[:,f] -= X_test.loc[:,f].min()\n",
    "    \n",
    "divide_by_tmax('amount_tsh')\n",
    "divide_by_tmax('population')\n",
    "divide_by_tmax('age')\n",
    "divide_by_tmax('amount_per_man')\n",
    "\n",
    "extract_tmin('construction_year')\n",
    "divide_by_tmax('construction_year')\n",
    "\n",
    "X_train.drop(['date_recorded_year'], axis=1, inplace=True)\n",
    "X_test.drop(['date_recorded_year'], axis=1, inplace=True)"
   ]
  },
  {
   "cell_type": "code",
   "execution_count": 29,
   "metadata": {},
   "outputs": [
    {
     "data": {
      "text/plain": [
       "array([22581, 22582, 22583, 22584, 22585, 22586, 22587, 22588, 22589,\n",
       "       22590, 22591, 22592, 22593, 22594, 22595, 22596, 22597, 22598,\n",
       "       22599, 22600, 22601, 22602, 22603, 22604, 22605, 22606, 22607,\n",
       "       22608, 22609, 22610, 22611, 22612, 22613, 22614, 22615, 22616,\n",
       "       22617, 22618, 22619, 22620])"
      ]
     },
     "metadata": {},
     "output_type": "display_data"
    },
    {
     "data": {
      "text/plain": [
       "array([4838, 4839, 4840, 4841, 4842, 4843, 4844, 4845, 4846, 4847, 4848,\n",
       "       4849, 4850, 4851, 4852, 4853, 4854, 4855, 4856, 4857, 4858, 4859,\n",
       "       4860, 4861, 4862, 4863, 4864, 4865, 4866, 4867, 4868, 4869, 4870,\n",
       "       4871, 4872, 4873, 4874, 4875, 4876, 4877])"
      ]
     },
     "metadata": {},
     "output_type": "display_data"
    },
    {
     "data": {
      "text/plain": [
       "array([4840, 4841, 4842, 4843, 4844, 4845, 4846, 4847, 4848, 4849, 4850,\n",
       "       4851, 4852, 4853, 4854, 4855, 4856, 4857, 4858, 4859, 4860, 4861,\n",
       "       4862, 4863, 4864, 4865, 4866, 4867, 4868, 4869, 4870, 4871, 4872,\n",
       "       4873, 4874, 4875, 4876, 4877, 4878, 4879])"
      ]
     },
     "metadata": {},
     "output_type": "display_data"
    }
   ],
   "source": [
    "xtr = X_train # ref\n",
    "xte = X_test # ref\n",
    "xtr, xcv, xva, ytr, ycv, yva = (\n",
    "    split_train_cv_test(xtr, ytr, proportions=(.7, .15, .15))\n",
    ")\n",
    "y_bin = sklearn.preprocessing.LabelBinarizer().fit(ytr)\n",
    "display(\n",
    "    np.where(ytr != 0)[0][:40],\n",
    "    np.where(ycv != 0)[0][:40],\n",
    "    np.where(yva != 0)[0][:40],)\n",
    "ytr = y_bin.transform(ytr)\n",
    "ycv = y_bin.transform(ycv)\n",
    "yva = y_bin.transform(yva)"
   ]
  },
  {
   "cell_type": "code",
   "execution_count": null,
   "metadata": {
    "collapsed": true
   },
   "outputs": [],
   "source": []
  },
  {
   "cell_type": "code",
   "execution_count": null,
   "metadata": {
    "collapsed": true
   },
   "outputs": [],
   "source": []
  },
  {
   "cell_type": "code",
   "execution_count": 30,
   "metadata": {
    "collapsed": true
   },
   "outputs": [],
   "source": [
    "def y_to_df(y, ids):\n",
    "    y = y_bin.inverse_transform(y)\n",
    "    y = y_enc1.inverse_transform(y)\n",
    "    df = pd.DataFrame({'status_group': y}, index=ids)\n",
    "    df.index.name = 'id'\n",
    "    return df"
   ]
  },
  {
   "cell_type": "code",
   "execution_count": 31,
   "metadata": {},
   "outputs": [
    {
     "data": {
      "text/plain": [
       "['amount_tsh',\n",
       " 'gps_height',\n",
       " 'longitude',\n",
       " 'latitude',\n",
       " 'wpt_name',\n",
       " 'population',\n",
       " 'public_meeting',\n",
       " 'permit',\n",
       " 'construction_year',\n",
       " 'date_recorded_month',\n",
       " 'date_recorded_day',\n",
       " 'age',\n",
       " 'amount_per_man',\n",
       " 'funder_0',\n",
       " 'funder_1',\n",
       " 'funder_2',\n",
       " 'funder_3',\n",
       " 'funder_4',\n",
       " 'funder_5',\n",
       " 'funder_6',\n",
       " 'funder_7',\n",
       " 'funder_8',\n",
       " 'funder_9',\n",
       " 'installer_0',\n",
       " 'installer_1',\n",
       " 'installer_2',\n",
       " 'installer_3',\n",
       " 'installer_4',\n",
       " 'installer_5',\n",
       " 'installer_6',\n",
       " 'installer_7',\n",
       " 'installer_8',\n",
       " 'installer_9',\n",
       " 'basin_0',\n",
       " 'basin_1',\n",
       " 'basin_2',\n",
       " 'basin_3',\n",
       " 'basin_4',\n",
       " 'basin_5',\n",
       " 'basin_6',\n",
       " 'basin_7',\n",
       " 'basin_8',\n",
       " 'basin_9',\n",
       " 'subvillage_0',\n",
       " 'subvillage_1',\n",
       " 'subvillage_2',\n",
       " 'subvillage_3',\n",
       " 'subvillage_4',\n",
       " 'subvillage_5',\n",
       " 'subvillage_6',\n",
       " 'subvillage_7',\n",
       " 'subvillage_8',\n",
       " 'subvillage_9',\n",
       " 'region_0',\n",
       " 'region_1',\n",
       " 'region_2',\n",
       " 'region_3',\n",
       " 'region_4',\n",
       " 'region_5',\n",
       " 'region_6',\n",
       " 'region_7',\n",
       " 'region_8',\n",
       " 'region_9',\n",
       " 'region_code_0',\n",
       " 'region_code_1',\n",
       " 'region_code_2',\n",
       " 'region_code_3',\n",
       " 'region_code_4',\n",
       " 'region_code_5',\n",
       " 'region_code_6',\n",
       " 'region_code_7',\n",
       " 'region_code_8',\n",
       " 'region_code_9',\n",
       " 'district_code_0',\n",
       " 'district_code_1',\n",
       " 'district_code_2',\n",
       " 'district_code_3',\n",
       " 'district_code_4',\n",
       " 'district_code_5',\n",
       " 'district_code_6',\n",
       " 'district_code_7',\n",
       " 'district_code_8',\n",
       " 'district_code_9',\n",
       " 'lga_0',\n",
       " 'lga_1',\n",
       " 'lga_2',\n",
       " 'lga_3',\n",
       " 'lga_4',\n",
       " 'lga_5',\n",
       " 'lga_6',\n",
       " 'lga_7',\n",
       " 'lga_8',\n",
       " 'lga_9',\n",
       " 'ward_0',\n",
       " 'ward_1',\n",
       " 'ward_2',\n",
       " 'ward_3',\n",
       " 'ward_4',\n",
       " 'ward_5',\n",
       " 'ward_6',\n",
       " 'ward_7',\n",
       " 'ward_8',\n",
       " 'ward_9',\n",
       " 'quality_0',\n",
       " 'quality_1',\n",
       " 'quality_2',\n",
       " 'quality_3',\n",
       " 'quality_4',\n",
       " 'quality_5',\n",
       " 'quality_6',\n",
       " 'quality_7',\n",
       " 'quality_8',\n",
       " 'quality_9',\n",
       " 'scheme_0',\n",
       " 'scheme_1',\n",
       " 'scheme_2',\n",
       " 'scheme_3',\n",
       " 'scheme_4',\n",
       " 'scheme_5',\n",
       " 'scheme_6',\n",
       " 'scheme_7',\n",
       " 'scheme_8',\n",
       " 'scheme_9',\n",
       " 'extraction_type_0',\n",
       " 'extraction_type_1',\n",
       " 'extraction_type_2',\n",
       " 'extraction_type_3',\n",
       " 'extraction_type_4',\n",
       " 'extraction_type_5',\n",
       " 'extraction_type_6',\n",
       " 'extraction_type_7',\n",
       " 'extraction_type_8',\n",
       " 'extraction_type_9',\n",
       " 'management_0',\n",
       " 'management_1',\n",
       " 'management_2',\n",
       " 'management_3',\n",
       " 'management_4',\n",
       " 'management_5',\n",
       " 'management_6',\n",
       " 'management_7',\n",
       " 'management_8',\n",
       " 'management_9',\n",
       " 'payment_0',\n",
       " 'payment_1',\n",
       " 'payment_2',\n",
       " 'payment_3',\n",
       " 'payment_4',\n",
       " 'payment_5',\n",
       " 'payment_6',\n",
       " 'payment_7',\n",
       " 'payment_8',\n",
       " 'payment_9',\n",
       " 'quantity_0',\n",
       " 'quantity_1',\n",
       " 'quantity_2',\n",
       " 'quantity_3',\n",
       " 'quantity_4',\n",
       " 'quantity_5',\n",
       " 'quantity_6',\n",
       " 'quantity_7',\n",
       " 'quantity_8',\n",
       " 'quantity_9',\n",
       " 'source_0',\n",
       " 'source_1',\n",
       " 'source_2',\n",
       " 'source_3',\n",
       " 'source_4',\n",
       " 'source_5',\n",
       " 'source_6',\n",
       " 'source_7',\n",
       " 'source_8',\n",
       " 'source_9',\n",
       " 'waterpoint_type_0',\n",
       " 'waterpoint_type_1',\n",
       " 'waterpoint_type_2',\n",
       " 'waterpoint_type_3',\n",
       " 'waterpoint_type_4',\n",
       " 'waterpoint_type_5',\n",
       " 'waterpoint_type_6',\n",
       " 'waterpoint_type_7',\n",
       " 'waterpoint_type_8',\n",
       " 'waterpoint_type_9']"
      ]
     },
     "execution_count": 31,
     "metadata": {},
     "output_type": "execute_result"
    }
   ],
   "source": [
    "xtr.columns.tolist()"
   ]
  },
  {
   "cell_type": "code",
   "execution_count": null,
   "metadata": {
    "collapsed": true
   },
   "outputs": [],
   "source": []
  },
  {
   "cell_type": "code",
   "execution_count": 32,
   "metadata": {
    "collapsed": true
   },
   "outputs": [],
   "source": [
    "X_train.to_csv('X_train_prepr.csv')\n",
    "X_test.to_csv('X_test_prepr.csv')\n",
    "pd.DataFrame(ytr, columns=y_enc1.classes_).to_csv('y_train_prepr2.csv')\n",
    "#pd.Series(ytr).to_csv('y_train_prepr.csv')\n",
    "pd.Series(y_enc1.classes_).to_csv('y_classes.csv')"
   ]
  },
  {
   "cell_type": "code",
   "execution_count": null,
   "metadata": {
    "collapsed": true
   },
   "outputs": [],
   "source": []
  },
  {
   "cell_type": "code",
   "execution_count": 33,
   "metadata": {},
   "outputs": [
    {
     "name": "stderr",
     "output_type": "stream",
     "text": [
      "Using TensorFlow backend.\n"
     ]
    }
   ],
   "source": [
    "from keras.models import Sequential\n",
    "from keras.layers import Dense, Activation, Dropout\n",
    "import keras.utils"
   ]
  },
  {
   "cell_type": "code",
   "execution_count": 34,
   "metadata": {
    "collapsed": true
   },
   "outputs": [],
   "source": [
    "\n",
    "clf = Sequential([\n",
    "    Dense(2*xtr.shape[1], input_shape=(xtr.shape[1],), activation='softmax'),\n",
    "    Dropout(.2),\n",
    "    Dense(2*xtr.shape[1], activation='softmax'),\n",
    "    Dense(2*xtr.shape[1], activation='softmax'),\n",
    "    Dense(2*xtr.shape[1], activation='softmax'),\n",
    "    Dense(3, activation='softmax'),\n",
    "])"
   ]
  },
  {
   "cell_type": "code",
   "execution_count": 35,
   "metadata": {
    "collapsed": true
   },
   "outputs": [],
   "source": [
    "clf.compile(optimizer='rmsprop',\n",
    "          loss='categorical_crossentropy',\n",
    "          metrics=['accuracy'])"
   ]
  },
  {
   "cell_type": "code",
   "execution_count": null,
   "metadata": {},
   "outputs": [],
   "source": []
  },
  {
   "cell_type": "code",
   "execution_count": 39,
   "metadata": {},
   "outputs": [
    {
     "data": {
      "text/plain": [
       "0"
      ]
     },
     "execution_count": 39,
     "metadata": {},
     "output_type": "execute_result"
    }
   ],
   "source": [
    "np.isinf(xtr).sum().sum()"
   ]
  },
  {
   "cell_type": "code",
   "execution_count": 40,
   "metadata": {},
   "outputs": [
    {
     "name": "stdout",
     "output_type": "stream",
     "text": [
      "Epoch 1/1000\n",
      "41578/41578 [==============================] - 13s - loss: nan - acc: 0.5428    \n",
      "Epoch 2/1000\n",
      "41578/41578 [==============================] - 14s - loss: nan - acc: 0.5431    \n",
      "Epoch 3/1000\n",
      "41578/41578 [==============================] - 14s - loss: nan - acc: 0.5431    \n",
      "Epoch 4/1000\n",
      "41578/41578 [==============================] - 14s - loss: nan - acc: 0.5431    \n",
      "Epoch 5/1000\n",
      "41578/41578 [==============================] - 12s - loss: nan - acc: 0.5431    \n",
      "Epoch 6/1000\n",
      "41578/41578 [==============================] - 11s - loss: nan - acc: 0.5431    \n",
      "Epoch 7/1000\n",
      "41578/41578 [==============================] - 12s - loss: nan - acc: 0.5431    \n",
      "Epoch 8/1000\n",
      "41578/41578 [==============================] - 12s - loss: nan - acc: 0.5431    \n",
      "Epoch 9/1000\n",
      "41578/41578 [==============================] - 13s - loss: nan - acc: 0.5431    \n",
      "Epoch 10/1000\n",
      "41578/41578 [==============================] - 12s - loss: nan - acc: 0.5431    \n",
      "Epoch 11/1000\n",
      "41578/41578 [==============================] - 12s - loss: nan - acc: 0.5431    \n",
      "Epoch 12/1000\n",
      "41578/41578 [==============================] - 12s - loss: nan - acc: 0.5431    \n",
      "Epoch 13/1000\n",
      "41578/41578 [==============================] - 13s - loss: nan - acc: 0.5431    \n",
      "Epoch 14/1000\n",
      "41578/41578 [==============================] - 12s - loss: nan - acc: 0.5431    \n",
      "Epoch 15/1000\n",
      "41578/41578 [==============================] - 14s - loss: nan - acc: 0.5431    \n",
      "Epoch 16/1000\n",
      " 1408/41578 [>.............................] - ETA: 14s - loss: nan - acc: 0.5433"
     ]
    },
    {
     "ename": "KeyboardInterrupt",
     "evalue": "",
     "output_type": "error",
     "traceback": [
      "\u001b[0;31m---------------------------------------------------------------------------\u001b[0m",
      "\u001b[0;31mKeyboardInterrupt\u001b[0m                         Traceback (most recent call last)",
      "\u001b[0;32m<ipython-input-40-e9a1d9f66b59>\u001b[0m in \u001b[0;36m<module>\u001b[0;34m()\u001b[0m\n\u001b[1;32m      1\u001b[0m clf.fit(xtr.values, ytr,\n\u001b[1;32m      2\u001b[0m       \u001b[0mbatch_size\u001b[0m\u001b[0;34m=\u001b[0m\u001b[0;36m32\u001b[0m\u001b[0;34m,\u001b[0m\u001b[0;34m\u001b[0m\u001b[0m\n\u001b[0;32m----> 3\u001b[0;31m       epochs=1000)\n\u001b[0m",
      "\u001b[0;32m~/py/lib/python3.6/site-packages/keras/models.py\u001b[0m in \u001b[0;36mfit\u001b[0;34m(self, x, y, batch_size, epochs, verbose, callbacks, validation_split, validation_data, shuffle, class_weight, sample_weight, initial_epoch, **kwargs)\u001b[0m\n\u001b[1;32m    861\u001b[0m                               \u001b[0mclass_weight\u001b[0m\u001b[0;34m=\u001b[0m\u001b[0mclass_weight\u001b[0m\u001b[0;34m,\u001b[0m\u001b[0;34m\u001b[0m\u001b[0m\n\u001b[1;32m    862\u001b[0m                               \u001b[0msample_weight\u001b[0m\u001b[0;34m=\u001b[0m\u001b[0msample_weight\u001b[0m\u001b[0;34m,\u001b[0m\u001b[0;34m\u001b[0m\u001b[0m\n\u001b[0;32m--> 863\u001b[0;31m                               initial_epoch=initial_epoch)\n\u001b[0m\u001b[1;32m    864\u001b[0m \u001b[0;34m\u001b[0m\u001b[0m\n\u001b[1;32m    865\u001b[0m     def evaluate(self, x, y, batch_size=32, verbose=1,\n",
      "\u001b[0;32m~/py/lib/python3.6/site-packages/keras/engine/training.py\u001b[0m in \u001b[0;36mfit\u001b[0;34m(self, x, y, batch_size, epochs, verbose, callbacks, validation_split, validation_data, shuffle, class_weight, sample_weight, initial_epoch, **kwargs)\u001b[0m\n\u001b[1;32m   1428\u001b[0m                               \u001b[0mval_f\u001b[0m\u001b[0;34m=\u001b[0m\u001b[0mval_f\u001b[0m\u001b[0;34m,\u001b[0m \u001b[0mval_ins\u001b[0m\u001b[0;34m=\u001b[0m\u001b[0mval_ins\u001b[0m\u001b[0;34m,\u001b[0m \u001b[0mshuffle\u001b[0m\u001b[0;34m=\u001b[0m\u001b[0mshuffle\u001b[0m\u001b[0;34m,\u001b[0m\u001b[0;34m\u001b[0m\u001b[0m\n\u001b[1;32m   1429\u001b[0m                               \u001b[0mcallback_metrics\u001b[0m\u001b[0;34m=\u001b[0m\u001b[0mcallback_metrics\u001b[0m\u001b[0;34m,\u001b[0m\u001b[0;34m\u001b[0m\u001b[0m\n\u001b[0;32m-> 1430\u001b[0;31m                               initial_epoch=initial_epoch)\n\u001b[0m\u001b[1;32m   1431\u001b[0m \u001b[0;34m\u001b[0m\u001b[0m\n\u001b[1;32m   1432\u001b[0m     \u001b[0;32mdef\u001b[0m \u001b[0mevaluate\u001b[0m\u001b[0;34m(\u001b[0m\u001b[0mself\u001b[0m\u001b[0;34m,\u001b[0m \u001b[0mx\u001b[0m\u001b[0;34m,\u001b[0m \u001b[0my\u001b[0m\u001b[0;34m,\u001b[0m \u001b[0mbatch_size\u001b[0m\u001b[0;34m=\u001b[0m\u001b[0;36m32\u001b[0m\u001b[0;34m,\u001b[0m \u001b[0mverbose\u001b[0m\u001b[0;34m=\u001b[0m\u001b[0;36m1\u001b[0m\u001b[0;34m,\u001b[0m \u001b[0msample_weight\u001b[0m\u001b[0;34m=\u001b[0m\u001b[0;32mNone\u001b[0m\u001b[0;34m)\u001b[0m\u001b[0;34m:\u001b[0m\u001b[0;34m\u001b[0m\u001b[0m\n",
      "\u001b[0;32m~/py/lib/python3.6/site-packages/keras/engine/training.py\u001b[0m in \u001b[0;36m_fit_loop\u001b[0;34m(self, f, ins, out_labels, batch_size, epochs, verbose, callbacks, val_f, val_ins, shuffle, callback_metrics, initial_epoch)\u001b[0m\n\u001b[1;32m   1077\u001b[0m                 \u001b[0mbatch_logs\u001b[0m\u001b[0;34m[\u001b[0m\u001b[0;34m'size'\u001b[0m\u001b[0;34m]\u001b[0m \u001b[0;34m=\u001b[0m \u001b[0mlen\u001b[0m\u001b[0;34m(\u001b[0m\u001b[0mbatch_ids\u001b[0m\u001b[0;34m)\u001b[0m\u001b[0;34m\u001b[0m\u001b[0m\n\u001b[1;32m   1078\u001b[0m                 \u001b[0mcallbacks\u001b[0m\u001b[0;34m.\u001b[0m\u001b[0mon_batch_begin\u001b[0m\u001b[0;34m(\u001b[0m\u001b[0mbatch_index\u001b[0m\u001b[0;34m,\u001b[0m \u001b[0mbatch_logs\u001b[0m\u001b[0;34m)\u001b[0m\u001b[0;34m\u001b[0m\u001b[0m\n\u001b[0;32m-> 1079\u001b[0;31m                 \u001b[0mouts\u001b[0m \u001b[0;34m=\u001b[0m \u001b[0mf\u001b[0m\u001b[0;34m(\u001b[0m\u001b[0mins_batch\u001b[0m\u001b[0;34m)\u001b[0m\u001b[0;34m\u001b[0m\u001b[0m\n\u001b[0m\u001b[1;32m   1080\u001b[0m                 \u001b[0;32mif\u001b[0m \u001b[0;32mnot\u001b[0m \u001b[0misinstance\u001b[0m\u001b[0;34m(\u001b[0m\u001b[0mouts\u001b[0m\u001b[0;34m,\u001b[0m \u001b[0mlist\u001b[0m\u001b[0;34m)\u001b[0m\u001b[0;34m:\u001b[0m\u001b[0;34m\u001b[0m\u001b[0m\n\u001b[1;32m   1081\u001b[0m                     \u001b[0mouts\u001b[0m \u001b[0;34m=\u001b[0m \u001b[0;34m[\u001b[0m\u001b[0mouts\u001b[0m\u001b[0;34m]\u001b[0m\u001b[0;34m\u001b[0m\u001b[0m\n",
      "\u001b[0;32m~/py/lib/python3.6/site-packages/keras/backend/tensorflow_backend.py\u001b[0m in \u001b[0;36m__call__\u001b[0;34m(self, inputs)\u001b[0m\n\u001b[1;32m   2266\u001b[0m         updated = session.run(self.outputs + [self.updates_op],\n\u001b[1;32m   2267\u001b[0m                               \u001b[0mfeed_dict\u001b[0m\u001b[0;34m=\u001b[0m\u001b[0mfeed_dict\u001b[0m\u001b[0;34m,\u001b[0m\u001b[0;34m\u001b[0m\u001b[0m\n\u001b[0;32m-> 2268\u001b[0;31m                               **self.session_kwargs)\n\u001b[0m\u001b[1;32m   2269\u001b[0m         \u001b[0;32mreturn\u001b[0m \u001b[0mupdated\u001b[0m\u001b[0;34m[\u001b[0m\u001b[0;34m:\u001b[0m\u001b[0mlen\u001b[0m\u001b[0;34m(\u001b[0m\u001b[0mself\u001b[0m\u001b[0;34m.\u001b[0m\u001b[0moutputs\u001b[0m\u001b[0;34m)\u001b[0m\u001b[0;34m]\u001b[0m\u001b[0;34m\u001b[0m\u001b[0m\n\u001b[1;32m   2270\u001b[0m \u001b[0;34m\u001b[0m\u001b[0m\n",
      "\u001b[0;32m~/py/lib/python3.6/site-packages/tensorflow/python/client/session.py\u001b[0m in \u001b[0;36mrun\u001b[0;34m(self, fetches, feed_dict, options, run_metadata)\u001b[0m\n\u001b[1;32m    787\u001b[0m     \u001b[0;32mtry\u001b[0m\u001b[0;34m:\u001b[0m\u001b[0;34m\u001b[0m\u001b[0m\n\u001b[1;32m    788\u001b[0m       result = self._run(None, fetches, feed_dict, options_ptr,\n\u001b[0;32m--> 789\u001b[0;31m                          run_metadata_ptr)\n\u001b[0m\u001b[1;32m    790\u001b[0m       \u001b[0;32mif\u001b[0m \u001b[0mrun_metadata\u001b[0m\u001b[0;34m:\u001b[0m\u001b[0;34m\u001b[0m\u001b[0m\n\u001b[1;32m    791\u001b[0m         \u001b[0mproto_data\u001b[0m \u001b[0;34m=\u001b[0m \u001b[0mtf_session\u001b[0m\u001b[0;34m.\u001b[0m\u001b[0mTF_GetBuffer\u001b[0m\u001b[0;34m(\u001b[0m\u001b[0mrun_metadata_ptr\u001b[0m\u001b[0;34m)\u001b[0m\u001b[0;34m\u001b[0m\u001b[0m\n",
      "\u001b[0;32m~/py/lib/python3.6/site-packages/tensorflow/python/client/session.py\u001b[0m in \u001b[0;36m_run\u001b[0;34m(self, handle, fetches, feed_dict, options, run_metadata)\u001b[0m\n\u001b[1;32m    995\u001b[0m     \u001b[0;32mif\u001b[0m \u001b[0mfinal_fetches\u001b[0m \u001b[0;32mor\u001b[0m \u001b[0mfinal_targets\u001b[0m\u001b[0;34m:\u001b[0m\u001b[0;34m\u001b[0m\u001b[0m\n\u001b[1;32m    996\u001b[0m       results = self._do_run(handle, final_targets, final_fetches,\n\u001b[0;32m--> 997\u001b[0;31m                              feed_dict_string, options, run_metadata)\n\u001b[0m\u001b[1;32m    998\u001b[0m     \u001b[0;32melse\u001b[0m\u001b[0;34m:\u001b[0m\u001b[0;34m\u001b[0m\u001b[0m\n\u001b[1;32m    999\u001b[0m       \u001b[0mresults\u001b[0m \u001b[0;34m=\u001b[0m \u001b[0;34m[\u001b[0m\u001b[0;34m]\u001b[0m\u001b[0;34m\u001b[0m\u001b[0m\n",
      "\u001b[0;32m~/py/lib/python3.6/site-packages/tensorflow/python/client/session.py\u001b[0m in \u001b[0;36m_do_run\u001b[0;34m(self, handle, target_list, fetch_list, feed_dict, options, run_metadata)\u001b[0m\n\u001b[1;32m   1130\u001b[0m     \u001b[0;32mif\u001b[0m \u001b[0mhandle\u001b[0m \u001b[0;32mis\u001b[0m \u001b[0;32mNone\u001b[0m\u001b[0;34m:\u001b[0m\u001b[0;34m\u001b[0m\u001b[0m\n\u001b[1;32m   1131\u001b[0m       return self._do_call(_run_fn, self._session, feed_dict, fetch_list,\n\u001b[0;32m-> 1132\u001b[0;31m                            target_list, options, run_metadata)\n\u001b[0m\u001b[1;32m   1133\u001b[0m     \u001b[0;32melse\u001b[0m\u001b[0;34m:\u001b[0m\u001b[0;34m\u001b[0m\u001b[0m\n\u001b[1;32m   1134\u001b[0m       return self._do_call(_prun_fn, self._session, handle, feed_dict,\n",
      "\u001b[0;32m~/py/lib/python3.6/site-packages/tensorflow/python/client/session.py\u001b[0m in \u001b[0;36m_do_call\u001b[0;34m(self, fn, *args)\u001b[0m\n\u001b[1;32m   1137\u001b[0m   \u001b[0;32mdef\u001b[0m \u001b[0m_do_call\u001b[0m\u001b[0;34m(\u001b[0m\u001b[0mself\u001b[0m\u001b[0;34m,\u001b[0m \u001b[0mfn\u001b[0m\u001b[0;34m,\u001b[0m \u001b[0;34m*\u001b[0m\u001b[0margs\u001b[0m\u001b[0;34m)\u001b[0m\u001b[0;34m:\u001b[0m\u001b[0;34m\u001b[0m\u001b[0m\n\u001b[1;32m   1138\u001b[0m     \u001b[0;32mtry\u001b[0m\u001b[0;34m:\u001b[0m\u001b[0;34m\u001b[0m\u001b[0m\n\u001b[0;32m-> 1139\u001b[0;31m       \u001b[0;32mreturn\u001b[0m \u001b[0mfn\u001b[0m\u001b[0;34m(\u001b[0m\u001b[0;34m*\u001b[0m\u001b[0margs\u001b[0m\u001b[0;34m)\u001b[0m\u001b[0;34m\u001b[0m\u001b[0m\n\u001b[0m\u001b[1;32m   1140\u001b[0m     \u001b[0;32mexcept\u001b[0m \u001b[0merrors\u001b[0m\u001b[0;34m.\u001b[0m\u001b[0mOpError\u001b[0m \u001b[0;32mas\u001b[0m \u001b[0me\u001b[0m\u001b[0;34m:\u001b[0m\u001b[0;34m\u001b[0m\u001b[0m\n\u001b[1;32m   1141\u001b[0m       \u001b[0mmessage\u001b[0m \u001b[0;34m=\u001b[0m \u001b[0mcompat\u001b[0m\u001b[0;34m.\u001b[0m\u001b[0mas_text\u001b[0m\u001b[0;34m(\u001b[0m\u001b[0me\u001b[0m\u001b[0;34m.\u001b[0m\u001b[0mmessage\u001b[0m\u001b[0;34m)\u001b[0m\u001b[0;34m\u001b[0m\u001b[0m\n",
      "\u001b[0;32m~/py/lib/python3.6/site-packages/tensorflow/python/client/session.py\u001b[0m in \u001b[0;36m_run_fn\u001b[0;34m(session, feed_dict, fetch_list, target_list, options, run_metadata)\u001b[0m\n\u001b[1;32m   1119\u001b[0m         return tf_session.TF_Run(session, options,\n\u001b[1;32m   1120\u001b[0m                                  \u001b[0mfeed_dict\u001b[0m\u001b[0;34m,\u001b[0m \u001b[0mfetch_list\u001b[0m\u001b[0;34m,\u001b[0m \u001b[0mtarget_list\u001b[0m\u001b[0;34m,\u001b[0m\u001b[0;34m\u001b[0m\u001b[0m\n\u001b[0;32m-> 1121\u001b[0;31m                                  status, run_metadata)\n\u001b[0m\u001b[1;32m   1122\u001b[0m \u001b[0;34m\u001b[0m\u001b[0m\n\u001b[1;32m   1123\u001b[0m     \u001b[0;32mdef\u001b[0m \u001b[0m_prun_fn\u001b[0m\u001b[0;34m(\u001b[0m\u001b[0msession\u001b[0m\u001b[0;34m,\u001b[0m \u001b[0mhandle\u001b[0m\u001b[0;34m,\u001b[0m \u001b[0mfeed_dict\u001b[0m\u001b[0;34m,\u001b[0m \u001b[0mfetch_list\u001b[0m\u001b[0;34m)\u001b[0m\u001b[0;34m:\u001b[0m\u001b[0;34m\u001b[0m\u001b[0m\n",
      "\u001b[0;31mKeyboardInterrupt\u001b[0m: "
     ]
    }
   ],
   "source": [
    "clf.fit(xtr.values, ytr,\n",
    "      batch_size=32,\n",
    "      epochs=1000)"
   ]
  },
  {
   "cell_type": "code",
   "execution_count": null,
   "metadata": {
    "collapsed": true
   },
   "outputs": [],
   "source": [
    "clf.score(xcv, ycv)"
   ]
  },
  {
   "cell_type": "code",
   "execution_count": null,
   "metadata": {
    "collapsed": true
   },
   "outputs": [],
   "source": [
    "clf.score(xva, yva)"
   ]
  },
  {
   "cell_type": "code",
   "execution_count": null,
   "metadata": {
    "collapsed": true
   },
   "outputs": [],
   "source": []
  }
 ],
 "metadata": {
  "kernelspec": {
   "display_name": "Python 3",
   "language": "python",
   "name": "python3"
  },
  "language_info": {
   "codemirror_mode": {
    "name": "ipython",
    "version": 3
   },
   "file_extension": ".py",
   "mimetype": "text/x-python",
   "name": "python",
   "nbconvert_exporter": "python",
   "pygments_lexer": "ipython3",
   "version": "3.6.1"
  }
 },
 "nbformat": 4,
 "nbformat_minor": 2
}
