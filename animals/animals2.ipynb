{
 "cells": [
  {
   "cell_type": "markdown",
   "metadata": {},
   "source": [
    "# Shelter Animal Outcomes\n",
    "\n",
    "In this notebook we will try to predict the future of the animals that get into shelters."
   ]
  },
  {
   "cell_type": "code",
   "execution_count": 1,
   "metadata": {
    "collapsed": true
   },
   "outputs": [],
   "source": [
    "import pandas as pd, numpy as np\n",
    "import seaborn as sns\n",
    "import matplotlib.pyplot as plt\n",
    "import re\n",
    "from collections import defaultdict\n",
    "import collections\n",
    "import sklearn.base\n",
    "from sklearn.base import BaseEstimator, TransformerMixin\n",
    "from sklearn.preprocessing import StandardScaler, LabelEncoder\n",
    "\n",
    "\n",
    "%matplotlib inline"
   ]
  },
  {
   "cell_type": "code",
   "execution_count": 2,
   "metadata": {
    "collapsed": true
   },
   "outputs": [],
   "source": [
    "train = pd.read_csv('train.csv')\n",
    "test = pd.read_csv('test.csv')"
   ]
  },
  {
   "cell_type": "code",
   "execution_count": 3,
   "metadata": {},
   "outputs": [
    {
     "data": {
      "text/html": [
       "<div>\n",
       "<style>\n",
       "    .dataframe thead tr:only-child th {\n",
       "        text-align: right;\n",
       "    }\n",
       "\n",
       "    .dataframe thead th {\n",
       "        text-align: left;\n",
       "    }\n",
       "\n",
       "    .dataframe tbody tr th {\n",
       "        vertical-align: top;\n",
       "    }\n",
       "</style>\n",
       "<table border=\"1\" class=\"dataframe\">\n",
       "  <thead>\n",
       "    <tr style=\"text-align: right;\">\n",
       "      <th></th>\n",
       "      <th>AnimalID</th>\n",
       "      <th>Name</th>\n",
       "      <th>DateTime</th>\n",
       "      <th>OutcomeType</th>\n",
       "      <th>OutcomeSubtype</th>\n",
       "      <th>AnimalType</th>\n",
       "      <th>SexuponOutcome</th>\n",
       "      <th>AgeuponOutcome</th>\n",
       "      <th>Breed</th>\n",
       "      <th>Color</th>\n",
       "    </tr>\n",
       "  </thead>\n",
       "  <tbody>\n",
       "    <tr>\n",
       "      <th>0</th>\n",
       "      <td>A671945</td>\n",
       "      <td>Hambone</td>\n",
       "      <td>2014-02-12 18:22:00</td>\n",
       "      <td>Return_to_owner</td>\n",
       "      <td>NaN</td>\n",
       "      <td>Dog</td>\n",
       "      <td>Neutered Male</td>\n",
       "      <td>1 year</td>\n",
       "      <td>Shetland Sheepdog Mix</td>\n",
       "      <td>Brown/White</td>\n",
       "    </tr>\n",
       "    <tr>\n",
       "      <th>1</th>\n",
       "      <td>A656520</td>\n",
       "      <td>Emily</td>\n",
       "      <td>2013-10-13 12:44:00</td>\n",
       "      <td>Euthanasia</td>\n",
       "      <td>Suffering</td>\n",
       "      <td>Cat</td>\n",
       "      <td>Spayed Female</td>\n",
       "      <td>1 year</td>\n",
       "      <td>Domestic Shorthair Mix</td>\n",
       "      <td>Cream Tabby</td>\n",
       "    </tr>\n",
       "    <tr>\n",
       "      <th>2</th>\n",
       "      <td>A686464</td>\n",
       "      <td>Pearce</td>\n",
       "      <td>2015-01-31 12:28:00</td>\n",
       "      <td>Adoption</td>\n",
       "      <td>Foster</td>\n",
       "      <td>Dog</td>\n",
       "      <td>Neutered Male</td>\n",
       "      <td>2 years</td>\n",
       "      <td>Pit Bull Mix</td>\n",
       "      <td>Blue/White</td>\n",
       "    </tr>\n",
       "    <tr>\n",
       "      <th>3</th>\n",
       "      <td>A683430</td>\n",
       "      <td>NaN</td>\n",
       "      <td>2014-07-11 19:09:00</td>\n",
       "      <td>Transfer</td>\n",
       "      <td>Partner</td>\n",
       "      <td>Cat</td>\n",
       "      <td>Intact Male</td>\n",
       "      <td>3 weeks</td>\n",
       "      <td>Domestic Shorthair Mix</td>\n",
       "      <td>Blue Cream</td>\n",
       "    </tr>\n",
       "    <tr>\n",
       "      <th>4</th>\n",
       "      <td>A667013</td>\n",
       "      <td>NaN</td>\n",
       "      <td>2013-11-15 12:52:00</td>\n",
       "      <td>Transfer</td>\n",
       "      <td>Partner</td>\n",
       "      <td>Dog</td>\n",
       "      <td>Neutered Male</td>\n",
       "      <td>2 years</td>\n",
       "      <td>Lhasa Apso/Miniature Poodle</td>\n",
       "      <td>Tan</td>\n",
       "    </tr>\n",
       "  </tbody>\n",
       "</table>\n",
       "</div>"
      ],
      "text/plain": [
       "  AnimalID     Name             DateTime      OutcomeType OutcomeSubtype  \\\n",
       "0  A671945  Hambone  2014-02-12 18:22:00  Return_to_owner            NaN   \n",
       "1  A656520    Emily  2013-10-13 12:44:00       Euthanasia      Suffering   \n",
       "2  A686464   Pearce  2015-01-31 12:28:00         Adoption         Foster   \n",
       "3  A683430      NaN  2014-07-11 19:09:00         Transfer        Partner   \n",
       "4  A667013      NaN  2013-11-15 12:52:00         Transfer        Partner   \n",
       "\n",
       "  AnimalType SexuponOutcome AgeuponOutcome                        Breed  \\\n",
       "0        Dog  Neutered Male         1 year        Shetland Sheepdog Mix   \n",
       "1        Cat  Spayed Female         1 year       Domestic Shorthair Mix   \n",
       "2        Dog  Neutered Male        2 years                 Pit Bull Mix   \n",
       "3        Cat    Intact Male        3 weeks       Domestic Shorthair Mix   \n",
       "4        Dog  Neutered Male        2 years  Lhasa Apso/Miniature Poodle   \n",
       "\n",
       "         Color  \n",
       "0  Brown/White  \n",
       "1  Cream Tabby  \n",
       "2   Blue/White  \n",
       "3   Blue Cream  \n",
       "4          Tan  "
      ]
     },
     "metadata": {},
     "output_type": "display_data"
    },
    {
     "data": {
      "text/plain": [
       "AnimalID              0\n",
       "Name               7691\n",
       "DateTime              0\n",
       "OutcomeType           0\n",
       "OutcomeSubtype    13612\n",
       "AnimalType            0\n",
       "SexuponOutcome        1\n",
       "AgeuponOutcome       18\n",
       "Breed                 0\n",
       "Color                 0\n",
       "dtype: int64"
      ]
     },
     "metadata": {},
     "output_type": "display_data"
    },
    {
     "data": {
      "text/plain": [
       "ID                   0\n",
       "Name              3225\n",
       "DateTime             0\n",
       "AnimalType           0\n",
       "SexuponOutcome       0\n",
       "AgeuponOutcome       6\n",
       "Breed                0\n",
       "Color                0\n",
       "dtype: int64"
      ]
     },
     "metadata": {},
     "output_type": "display_data"
    }
   ],
   "source": [
    "display(train.head(),\n",
    "        train.isnull().sum(),\n",
    "        test.isnull().sum())"
   ]
  },
  {
   "cell_type": "code",
   "execution_count": null,
   "metadata": {
    "collapsed": true
   },
   "outputs": [],
   "source": []
  },
  {
   "cell_type": "code",
   "execution_count": null,
   "metadata": {},
   "outputs": [],
   "source": []
  },
  {
   "cell_type": "code",
   "execution_count": null,
   "metadata": {},
   "outputs": [],
   "source": []
  },
  {
   "cell_type": "code",
   "execution_count": 4,
   "metadata": {
    "collapsed": true
   },
   "outputs": [],
   "source": [
    "train.loc[train['SexuponOutcome'].isnull(), 'SexuponOutcome'] = 'Unknown'"
   ]
  },
  {
   "cell_type": "code",
   "execution_count": null,
   "metadata": {
    "collapsed": true
   },
   "outputs": [],
   "source": []
  },
  {
   "cell_type": "code",
   "execution_count": 5,
   "metadata": {},
   "outputs": [
    {
     "data": {
      "image/png": "[encoded data removed]",
      "text/plain": [
       "<matplotlib.figure.Figure at 0x7f2f9a4f8c50>"
      ]
     },
     "metadata": {},
     "output_type": "display_data"
    }
   ],
   "source": [
    "animal_sex_outcomes = train.groupby(['AnimalType', 'SexuponOutcome']).OutcomeType.value_counts()\n",
    "animal_sex_outcomes.name = 'Count'\n",
    "animal_sex_outcomes = animal_sex_outcomes.reset_index()\n",
    "a_s_o_fp = sns.factorplot(x='AnimalType',\n",
    "                          y='Count',\n",
    "                          hue='SexuponOutcome',\n",
    "                          data=animal_sex_outcomes,\n",
    "                          kind='bar',)"
   ]
  },
  {
   "cell_type": "code",
   "execution_count": 6,
   "metadata": {
    "collapsed": true
   },
   "outputs": [],
   "source": [
    "train_id, test_id = train['AnimalID'], test['ID']\n",
    "# train.drop('AnimalID', axis=1, inplace=True)\n",
    "# test.drop('ID', axis=1, inplace=True)"
   ]
  },
  {
   "cell_type": "code",
   "execution_count": null,
   "metadata": {},
   "outputs": [],
   "source": []
  },
  {
   "cell_type": "code",
   "execution_count": 42,
   "metadata": {},
   "outputs": [
    {
     "name": "stdout",
     "output_type": "stream",
     "text": [
      "[I] Fitting breeds\n"
     ]
    },
    {
     "data": {
      "text/plain": [
       "{'Chihuahua', 'Domestic', 'LabradorRetriever', 'PitBull', 'Shepherd'}"
      ]
     },
     "execution_count": 42,
     "metadata": {},
     "output_type": "execute_result"
    }
   ],
   "source": [
    "breedcnt = dict()\n",
    "\n",
    "breed_noise_pat = re.compile('\\\\s*\\\\b(mix|shorthair|australian|swiss|mexican|' +\n",
    "                             'spanish|american|british|english|belgian|jack|russel|l|old|' +\n",
    "                             'west|german|rat|great|shorthair|longhair|mediumhair|eng|toy|' +\n",
    "                             'medium|hair|russel|yorkshire|miniature|pale|gray|red|' +\n",
    "                             'orange|tiger|smoke|blue|yellow|tabby|calico|point|tick|brindle|' +\n",
    "                             'tan|black|)\\\\b\\\\s*', re.IGNORECASE)\n",
    "\n",
    "def simplify_breed(breed):\n",
    "    return breed_noise_pat.sub('', breed)\n",
    "\n",
    "def breed_is_(breed, pat):\n",
    "    def clf(x):\n",
    "        return 1 * x['Breed'].str.match(pat)\n",
    "    return clf\n",
    "\n",
    "breed_props = [('Domestic', re.compile('.*domestic.*', re.IGNORECASE),),\n",
    "               ('Longhair', re.compile('.*long\\\\s*hair.*', re.IGNORECASE),),\n",
    "               ('Mix', re.compile('.*(mix|/).*', re.IGNORECASE))]\n",
    "\n",
    "class BreedPreprocessor(BaseEstimator):\n",
    "    def __init__(self, max_breeds=6, col='Breed', rare_name='Rare'):\n",
    "        self.max_breeds = max_breeds\n",
    "        self.col = col\n",
    "        self.rare = rare_name\n",
    "        self.breed_cnt_ = None\n",
    "        \n",
    "    def fit(self, X, y=None):\n",
    "        print('[I] Fitting breeds')\n",
    "        breedcnt = defaultdict(lambda: 0)\n",
    "        for breeds in X[self.col]:\n",
    "            for breed in breeds.split('/'):\n",
    "                breed = simplify_breed(breed)\n",
    "                breedcnt[breed] += 1\n",
    "        self.breed_cnt_ = pd.Series(breedcnt).sort_values(ascending=False)\n",
    "        self.top_ = set(self.breed_cnt_.index[:self.max_breeds - 1])\n",
    "        return self\n",
    "    \n",
    "    def _extract_breed(self, breeds):\n",
    "        for breed in breeds.split('/'):\n",
    "            breed = simplify_breed(breed)\n",
    "            if breed in self.top_:\n",
    "                return breed\n",
    "        return self.rare\n",
    "    \n",
    "    def transform(self, X):\n",
    "        print('[I] Transforming breeds')\n",
    "        X = X.copy()\n",
    "        X[self.col] = X[self.col].apply(lambda x: self._extract_breed(x))\n",
    "        X = X.assign(**{\n",
    "            breed_prop: breed_is_(breed_prop, pat)\n",
    "            for breed_prop, pat in breed_props\n",
    "        })\n",
    "        return X\n",
    "        \n",
    "breeds = BreedPreprocessor()\n",
    "breeds.fit(pd.concat((train, test)))\n",
    "breeds.top_"
   ]
  },
  {
   "cell_type": "code",
   "execution_count": 43,
   "metadata": {},
   "outputs": [
    {
     "name": "stdout",
     "output_type": "stream",
     "text": [
      "[I] Fitting colors\n"
     ]
    },
    {
     "data": {
      "text/plain": [
       "{'Black', 'Brown', 'Tan', 'White'}"
      ]
     },
     "execution_count": 43,
     "metadata": {},
     "output_type": "execute_result"
    }
   ],
   "source": [
    "\n",
    "\n",
    "# TODO:\n",
    "# 1.  extract \"basic\" colors\n",
    "# 2.  treat space-separated basic colors as polycolored patterns\n",
    "def is_monocolor(x):\n",
    "    return x['Color'].str.contains('/')\n",
    "\n",
    "class ColorPreprocessor(BaseEstimator):\n",
    "    def __init__(self, max_colors=5, col='Color'):\n",
    "        self.max_colors = max_colors\n",
    "        self.col = col\n",
    "        self.color_cnt_ = None\n",
    "        self.top_ = None\n",
    "    def fit(self, X, y=None):\n",
    "        print('[I] Fitting colors')\n",
    "        clrcnt = defaultdict(lambda: 0)\n",
    "        for clrs in X[self.col]:\n",
    "            for clr in clrs.split('/'):\n",
    "                clrcnt[clr] += 1\n",
    "        self.color_cnt_ = pd.Series(clrcnt).sort_values(ascending=False)\n",
    "        self.top_ = set(self.color_cnt_.index[:self.max_colors-1])\n",
    "        return self\n",
    "        \n",
    "    def _extract_color(self, colors):\n",
    "        for color in colors.split('/'):\n",
    "            color = simplify_breed(color)\n",
    "            if color in self.top_: return color\n",
    "        return 'Rare'\n",
    "    \n",
    "    def transform(self, X):\n",
    "        print('[I] Transforming colors')\n",
    "        X = X.copy()\n",
    "        X = X.assign(Monocolor = is_monocolor)\n",
    "        X[self.col] = X[self.col].apply(self._extract_color)\n",
    "        return X\n",
    "        \n",
    "colors = ColorPreprocessor()\n",
    "colors.fit(pd.concat((train, test)))\n",
    "colors.top_"
   ]
  },
  {
   "cell_type": "code",
   "execution_count": null,
   "metadata": {},
   "outputs": [],
   "source": []
  },
  {
   "cell_type": "code",
   "execution_count": null,
   "metadata": {
    "collapsed": true
   },
   "outputs": [],
   "source": []
  },
  {
   "cell_type": "code",
   "execution_count": 44,
   "metadata": {},
   "outputs": [
    {
     "name": "stdout",
     "output_type": "stream",
     "text": [
      "[I] Transforming breeds\n",
      "[I] Transforming breeds\n"
     ]
    },
    {
     "data": {
      "text/html": [
       "<div>\n",
       "<style>\n",
       "    .dataframe thead tr:only-child th {\n",
       "        text-align: right;\n",
       "    }\n",
       "\n",
       "    .dataframe thead th {\n",
       "        text-align: left;\n",
       "    }\n",
       "\n",
       "    .dataframe tbody tr th {\n",
       "        vertical-align: top;\n",
       "    }\n",
       "</style>\n",
       "<table border=\"1\" class=\"dataframe\">\n",
       "  <thead>\n",
       "    <tr style=\"text-align: right;\">\n",
       "      <th></th>\n",
       "      <th></th>\n",
       "      <th>count</th>\n",
       "      <th>unique</th>\n",
       "      <th>top</th>\n",
       "      <th>freq</th>\n",
       "    </tr>\n",
       "    <tr>\n",
       "      <th>AnimalType</th>\n",
       "      <th>Breed</th>\n",
       "      <th></th>\n",
       "      <th></th>\n",
       "      <th></th>\n",
       "      <th></th>\n",
       "    </tr>\n",
       "  </thead>\n",
       "  <tbody>\n",
       "    <tr>\n",
       "      <th rowspan=\"2\" valign=\"top\">Cat</th>\n",
       "      <th>Domestic</th>\n",
       "      <td>3927</td>\n",
       "      <td>28</td>\n",
       "      <td>2 months</td>\n",
       "      <td>1691</td>\n",
       "    </tr>\n",
       "    <tr>\n",
       "      <th>Rare</th>\n",
       "      <td>345</td>\n",
       "      <td>27</td>\n",
       "      <td>2 months</td>\n",
       "      <td>108</td>\n",
       "    </tr>\n",
       "    <tr>\n",
       "      <th rowspan=\"5\" valign=\"top\">Dog</th>\n",
       "      <th>Chihuahua</th>\n",
       "      <td>1192</td>\n",
       "      <td>26</td>\n",
       "      <td>1 year</td>\n",
       "      <td>273</td>\n",
       "    </tr>\n",
       "    <tr>\n",
       "      <th>LabradorRetriever</th>\n",
       "      <td>980</td>\n",
       "      <td>24</td>\n",
       "      <td>2 months</td>\n",
       "      <td>203</td>\n",
       "    </tr>\n",
       "    <tr>\n",
       "      <th>PitBull</th>\n",
       "      <td>669</td>\n",
       "      <td>22</td>\n",
       "      <td>1 year</td>\n",
       "      <td>173</td>\n",
       "    </tr>\n",
       "    <tr>\n",
       "      <th>Rare</th>\n",
       "      <td>3136</td>\n",
       "      <td>27</td>\n",
       "      <td>1 year</td>\n",
       "      <td>630</td>\n",
       "    </tr>\n",
       "    <tr>\n",
       "      <th>Shepherd</th>\n",
       "      <td>520</td>\n",
       "      <td>24</td>\n",
       "      <td>2 months</td>\n",
       "      <td>95</td>\n",
       "    </tr>\n",
       "  </tbody>\n",
       "</table>\n",
       "</div>"
      ],
      "text/plain": [
       "                             count unique       top  freq\n",
       "AnimalType Breed                                         \n",
       "Cat        Domestic           3927     28  2 months  1691\n",
       "           Rare                345     27  2 months   108\n",
       "Dog        Chihuahua          1192     26    1 year   273\n",
       "           LabradorRetriever   980     24  2 months   203\n",
       "           PitBull             669     22    1 year   173\n",
       "           Rare               3136     27    1 year   630\n",
       "           Shepherd            520     24  2 months    95"
      ]
     },
     "execution_count": 44,
     "metadata": {},
     "output_type": "execute_result"
    }
   ],
   "source": [
    "adopted = breeds.transform(train).loc[breeds.transform(train)['OutcomeType'] == 'Adoption']\n",
    "adopted.groupby(['AnimalType', 'Breed'])['AgeuponOutcome'].describe()"
   ]
  },
  {
   "cell_type": "code",
   "execution_count": 45,
   "metadata": {},
   "outputs": [
    {
     "name": "stdout",
     "output_type": "stream",
     "text": [
      "[I] Transforming breeds\n",
      "[I] Transforming breeds\n"
     ]
    },
    {
     "data": {
      "text/html": [
       "<div>\n",
       "<style>\n",
       "    .dataframe thead tr:only-child th {\n",
       "        text-align: right;\n",
       "    }\n",
       "\n",
       "    .dataframe thead th {\n",
       "        text-align: left;\n",
       "    }\n",
       "\n",
       "    .dataframe tbody tr th {\n",
       "        vertical-align: top;\n",
       "    }\n",
       "</style>\n",
       "<table border=\"1\" class=\"dataframe\">\n",
       "  <thead>\n",
       "    <tr style=\"text-align: right;\">\n",
       "      <th></th>\n",
       "      <th></th>\n",
       "      <th>count</th>\n",
       "      <th>unique</th>\n",
       "      <th>top</th>\n",
       "      <th>freq</th>\n",
       "    </tr>\n",
       "    <tr>\n",
       "      <th>AnimalType</th>\n",
       "      <th>Breed</th>\n",
       "      <th></th>\n",
       "      <th></th>\n",
       "      <th></th>\n",
       "      <th></th>\n",
       "    </tr>\n",
       "  </thead>\n",
       "  <tbody>\n",
       "    <tr>\n",
       "      <th rowspan=\"2\" valign=\"top\">Cat</th>\n",
       "      <th>Domestic</th>\n",
       "      <td>139</td>\n",
       "      <td>26</td>\n",
       "      <td>1 month</td>\n",
       "      <td>42</td>\n",
       "    </tr>\n",
       "    <tr>\n",
       "      <th>Rare</th>\n",
       "      <td>8</td>\n",
       "      <td>6</td>\n",
       "      <td>1 month</td>\n",
       "      <td>3</td>\n",
       "    </tr>\n",
       "    <tr>\n",
       "      <th rowspan=\"5\" valign=\"top\">Dog</th>\n",
       "      <th>Chihuahua</th>\n",
       "      <td>16</td>\n",
       "      <td>11</td>\n",
       "      <td>2 years</td>\n",
       "      <td>3</td>\n",
       "    </tr>\n",
       "    <tr>\n",
       "      <th>LabradorRetriever</th>\n",
       "      <td>4</td>\n",
       "      <td>3</td>\n",
       "      <td>10 years</td>\n",
       "      <td>2</td>\n",
       "    </tr>\n",
       "    <tr>\n",
       "      <th>PitBull</th>\n",
       "      <td>8</td>\n",
       "      <td>7</td>\n",
       "      <td>3 months</td>\n",
       "      <td>2</td>\n",
       "    </tr>\n",
       "    <tr>\n",
       "      <th>Rare</th>\n",
       "      <td>19</td>\n",
       "      <td>13</td>\n",
       "      <td>2 years</td>\n",
       "      <td>4</td>\n",
       "    </tr>\n",
       "    <tr>\n",
       "      <th>Shepherd</th>\n",
       "      <td>3</td>\n",
       "      <td>3</td>\n",
       "      <td>5 years</td>\n",
       "      <td>1</td>\n",
       "    </tr>\n",
       "  </tbody>\n",
       "</table>\n",
       "</div>"
      ],
      "text/plain": [
       "                             count unique       top freq\n",
       "AnimalType Breed                                        \n",
       "Cat        Domestic            139     26   1 month   42\n",
       "           Rare                  8      6   1 month    3\n",
       "Dog        Chihuahua            16     11   2 years    3\n",
       "           LabradorRetriever     4      3  10 years    2\n",
       "           PitBull               8      7  3 months    2\n",
       "           Rare                 19     13   2 years    4\n",
       "           Shepherd              3      3   5 years    1"
      ]
     },
     "execution_count": 45,
     "metadata": {},
     "output_type": "execute_result"
    }
   ],
   "source": [
    "died = breeds.transform(train).loc[breeds.transform(train)['OutcomeType'] == 'Died']\n",
    "died.groupby(['AnimalType', 'Breed'])['AgeuponOutcome'].describe()"
   ]
  },
  {
   "cell_type": "code",
   "execution_count": null,
   "metadata": {},
   "outputs": [],
   "source": []
  },
  {
   "cell_type": "code",
   "execution_count": null,
   "metadata": {},
   "outputs": [],
   "source": []
  },
  {
   "cell_type": "code",
   "execution_count": 46,
   "metadata": {},
   "outputs": [
    {
     "name": "stderr",
     "output_type": "stream",
     "text": [
      "/home/god/.venv/lib/python3.6/site-packages/ipykernel_launcher.py:40: FutureWarning: using a dict on a Series for aggregation\n",
      "is deprecated and will be removed in a future version\n"
     ]
    },
    {
     "name": "stdout",
     "output_type": "stream",
     "text": [
      "[I] Transforming ages\n"
     ]
    },
    {
     "name": "stderr",
     "output_type": "stream",
     "text": [
      "/home/god/.venv/lib/python3.6/site-packages/ipykernel_launcher.py:53: SettingWithCopyWarning: \n",
      "A value is trying to be set on a copy of a slice from a DataFrame.\n",
      "Try using .loc[row_indexer,col_indexer] = value instead\n",
      "\n",
      "See the caveats in the documentation: http://pandas.pydata.org/pandas-docs/stable/indexing.html#indexing-view-versus-copy\n"
     ]
    },
    {
     "data": {
      "text/plain": [
       "0"
      ]
     },
     "execution_count": 46,
     "metadata": {},
     "output_type": "execute_result"
    }
   ],
   "source": [
    "def age_to_ymd(x):\n",
    "    if x <= 30:\n",
    "        return (0, 0, x)\n",
    "    elif x < 365:\n",
    "        return (0, x//30, 0)\n",
    "    else:\n",
    "        return (int(x/365.25), 0, 0)\n",
    "\n",
    "def purify_ages(ages):\n",
    "    days_in_unit = {\n",
    "    'day': 1,\n",
    "    'days': 1,\n",
    "    'week': 7,\n",
    "    'weeks': 7,\n",
    "    'month': 30,\n",
    "    'months': 30,\n",
    "    'years': 365.25,\n",
    "    'year': 365.25\n",
    "    }\n",
    "    def strage_to_days(age):\n",
    "        if not isinstance(age, str): return float('nan')\n",
    "        age = age.split(' ')\n",
    "        return int(age[0]) * days_in_unit[age[1]]\n",
    "    ages = ages.map(strage_to_days)\n",
    "    return ages\n",
    "\n",
    "class AgePreprocessor(BaseEstimator):\n",
    "    def __init__(self, col='AgeuponOutcome', groupby=['Breed', 'SexuponOutcome',], estimator=np.median):\n",
    "        self.ages_ = None\n",
    "        self.groupby = groupby\n",
    "        self.estimator = np.median\n",
    "        self.col = col\n",
    "        \n",
    "    def fit(self, X, y=None):\n",
    "        X = X.copy()\n",
    "        X[self.col] = purify_ages(X[self.col])\n",
    "        groups = X.groupby(self.groupby)\n",
    "        self.ages_ = groups[self.col].agg(collections.OrderedDict([\n",
    "            ('size', np.size,),\n",
    "            ('estimate', self.estimator,),\n",
    "        ]))\n",
    "        return self\n",
    "    \n",
    "    def transform(self, X):\n",
    "        print('[I] Transforming ages')\n",
    "        X = X.copy()\n",
    "        specific_age_pat = re.compile('.*(week|day).*', re.IGNORECASE)\n",
    "        X['SpecificAge'] = X[self.col].str.match(specific_age_pat)\n",
    "        X[self.col] = purify_ages(X[self.col])\n",
    "        missing = X.loc[X[self.col].isnull()]\n",
    "        groups = missing.groupby(self.groupby)\n",
    "        for i, g in groups:\n",
    "            missing[self.col] = missing[self.col].fillna(self.ages_.loc[i, 'estimate'])\n",
    "        X.loc[X[self.col].isnull(), self.col] = missing[self.col]\n",
    "        \n",
    "        X['AgeYears'], X['AgeMonths'], X['AgeDays'] = zip(\n",
    "            *X[self.col].apply(age_to_ymd)\n",
    "        )\n",
    "        return X\n",
    "        \n",
    "full = pd.concat((train, test,), keys=[1, 2])\n",
    "ages = AgePreprocessor()\n",
    "ages.fit(full)\n",
    "ages.transform(train)['AgeuponOutcome'].isnull().sum()"
   ]
  },
  {
   "cell_type": "code",
   "execution_count": null,
   "metadata": {
    "collapsed": true
   },
   "outputs": [],
   "source": []
  },
  {
   "cell_type": "code",
   "execution_count": 47,
   "metadata": {
    "collapsed": true
   },
   "outputs": [],
   "source": [
    "import dateutil"
   ]
  },
  {
   "cell_type": "code",
   "execution_count": 48,
   "metadata": {},
   "outputs": [
    {
     "data": {
      "text/plain": [
       "ArrivalDatePreprocessor(col='DateTime')"
      ]
     },
     "execution_count": 48,
     "metadata": {},
     "output_type": "execute_result"
    }
   ],
   "source": [
    "def extract_mon_wd_h(x):\n",
    "    x = dateutil.parser.parse(x)\n",
    "    return (x.month, x.day, x.weekday(), x.hour)\n",
    "\n",
    "\n",
    "class ArrivalDatePreprocessor(BaseEstimator):\n",
    "    def __init__(self, col='DateTime'):\n",
    "        self.col = col\n",
    "        \n",
    "    def fit(self, X, y=None):\n",
    "        return self\n",
    "        \n",
    "    def transform(self, X):\n",
    "        print('[I] Transforming arrival dates')\n",
    "        X = X.copy()\n",
    "        X['ArrMonth'], X['ArrMonthday'], X['ArrWeekday'], X['ArrHour'] = (\n",
    "            zip(*X[self.col].apply(extract_mon_wd_h))\n",
    "        )\n",
    "        return X\n",
    "arrivals = ArrivalDatePreprocessor()\n",
    "arrivals.fit(train)"
   ]
  },
  {
   "cell_type": "code",
   "execution_count": 49,
   "metadata": {
    "collapsed": true
   },
   "outputs": [],
   "source": [
    "class SimpleAnimalFeatures(BaseEstimator):\n",
    "    def __init__(self):\n",
    "        pass\n",
    "    \n",
    "    def fit(self, X, y=None):\n",
    "        return self\n",
    "    \n",
    "    def transform(self, X):\n",
    "        print('[I] Engineering simple features')\n",
    "        sterilized_pat = re.compile('.*(neutered|spayed).*', re.IGNORECASE)\n",
    "        female_pat = re.compile('.*\\\\b(female)\\\\b.*', re.IGNORECASE)  \n",
    "        male_pat = re.compile('.*\\\\b(male)\\\\b.*', re.IGNORECASE)\n",
    "        \n",
    "        X = X.copy()\n",
    "        X['Sterilized'] = 1 * X['SexuponOutcome'].str.match(sterilized_pat)\n",
    "        X['Male'] = 1 * X['SexuponOutcome'].str.match(male_pat)\n",
    "        X['Female'] = 1 * X['SexuponOutcome'].str.match(female_pat)\n",
    "        X['Name'] = 1 * X['Name'].notnull()\n",
    "        return X.drop('SexuponOutcome', axis=1)"
   ]
  },
  {
   "cell_type": "code",
   "execution_count": 50,
   "metadata": {},
   "outputs": [],
   "source": [
    "class DropGarbage(sklearn.base.BaseEstimator):\n",
    "    def fit(self, X, y=None):\n",
    "        return self\n",
    "    \n",
    "    def transform(self, X):\n",
    "        print('[I] Droping crap')\n",
    "        return X.drop([\n",
    "            'ID', 'AnimalID',\n",
    "            'DateTime',\n",
    "            'OutcomeType',\n",
    "            'OutcomeSubtype'],\n",
    "            axis=1,\n",
    "            errors='ignore')"
   ]
  },
  {
   "cell_type": "code",
   "execution_count": 51,
   "metadata": {
    "collapsed": true
   },
   "outputs": [],
   "source": [
    "class TextvarsSeqEncoder(BaseEstimator):\n",
    "    def __init__(self, textvars=['AnimalType', 'Breed', 'Color']):\n",
    "        self.textvars = textvars\n",
    "        self.enc_ = defaultdict(sklearn.preprocessing.LabelEncoder)\n",
    "\n",
    "    def fit(self, X, y=None):\n",
    "        print('[I] Fitting text var encoders')\n",
    "        for v in self.textvars:\n",
    "            self.enc_[v].fit(X[v])\n",
    "        return self\n",
    "    \n",
    "    def transform(self, X):\n",
    "        print('[I] Encoding text vars')\n",
    "        X = X.copy()\n",
    "        for v in self.textvars:\n",
    "            X[v] = self.enc_[v].transform(X[v])\n",
    "        return X"
   ]
  },
  {
   "cell_type": "code",
   "execution_count": 52,
   "metadata": {
    "collapsed": true
   },
   "outputs": [],
   "source": [
    "from sklearn.pipeline import Pipeline, FeatureUnion"
   ]
  },
  {
   "cell_type": "code",
   "execution_count": 53,
   "metadata": {},
   "outputs": [],
   "source": [
    "prepr_pipe = Pipeline([\n",
    "    ('breed', breeds),\n",
    "    ('color', colors),\n",
    "    ('age', ages),\n",
    "    ('arrivals', arrivals),\n",
    "    ('simplefeats', SimpleAnimalFeatures()),\n",
    "    ('drop', DropGarbage()),\n",
    "    ('textenc', TextvarsSeqEncoder())\n",
    "])"
   ]
  },
  {
   "cell_type": "code",
   "execution_count": 54,
   "metadata": {},
   "outputs": [
    {
     "name": "stdout",
     "output_type": "stream",
     "text": [
      "[I] Fitting breeds\n",
      "[I] Transforming breeds\n",
      "[I] Fitting colors\n",
      "[I] Transforming colors\n"
     ]
    },
    {
     "name": "stderr",
     "output_type": "stream",
     "text": [
      "/home/god/.venv/lib/python3.6/site-packages/ipykernel_launcher.py:40: FutureWarning: using a dict on a Series for aggregation\n",
      "is deprecated and will be removed in a future version\n",
      "/home/god/.venv/lib/python3.6/site-packages/ipykernel_launcher.py:53: SettingWithCopyWarning: \n",
      "A value is trying to be set on a copy of a slice from a DataFrame.\n",
      "Try using .loc[row_indexer,col_indexer] = value instead\n",
      "\n",
      "See the caveats in the documentation: http://pandas.pydata.org/pandas-docs/stable/indexing.html#indexing-view-versus-copy\n"
     ]
    },
    {
     "name": "stdout",
     "output_type": "stream",
     "text": [
      "[I] Transforming ages\n",
      "[I] Transforming arrival dates\n",
      "[I] Engineering simple features\n",
      "[I] Droping crap\n",
      "[I] Fitting text var encoders\n"
     ]
    },
    {
     "data": {
      "text/plain": [
       "Pipeline(steps=[('breed', BreedPreprocessor(col='Breed', max_breeds=6, rare_name=None)), ('color', ColorPreprocessor(col='Color', max_colors=5)), ('age', AgePreprocessor(col='AgeuponOutcome',\n",
       "        estimator=<function median at 0x7f2fd007b400>,\n",
       "        groupby=['Breed', 'SexuponOutcome'])), ('arrivals', ArrivalDatePreprocessor(col='DateTime')), ('simplefeats', SimpleAnimalFeatures()), ('drop', DropGarbage()), ('textenc', TextvarsSeqEncoder(textvars=['AnimalType', 'Breed', 'Color']))])"
      ]
     },
     "execution_count": 54,
     "metadata": {},
     "output_type": "execute_result"
    }
   ],
   "source": [
    "prepr_pipe.fit(pd.concat((train, test,), keys=(1,2)))"
   ]
  },
  {
   "cell_type": "code",
   "execution_count": 55,
   "metadata": {},
   "outputs": [
    {
     "name": "stdout",
     "output_type": "stream",
     "text": [
      "[I] Transforming breeds\n",
      "[I] Transforming colors\n",
      "[I] Transforming ages\n"
     ]
    },
    {
     "name": "stderr",
     "output_type": "stream",
     "text": [
      "/home/god/.venv/lib/python3.6/site-packages/ipykernel_launcher.py:53: SettingWithCopyWarning: \n",
      "A value is trying to be set on a copy of a slice from a DataFrame.\n",
      "Try using .loc[row_indexer,col_indexer] = value instead\n",
      "\n",
      "See the caveats in the documentation: http://pandas.pydata.org/pandas-docs/stable/indexing.html#indexing-view-versus-copy\n"
     ]
    },
    {
     "name": "stdout",
     "output_type": "stream",
     "text": [
      "[I] Transforming arrival dates\n",
      "[I] Engineering simple features\n",
      "[I] Droping crap\n",
      "[I] Encoding text vars\n"
     ]
    },
    {
     "data": {
      "text/html": [
       "<div>\n",
       "<style>\n",
       "    .dataframe thead tr:only-child th {\n",
       "        text-align: right;\n",
       "    }\n",
       "\n",
       "    .dataframe thead th {\n",
       "        text-align: left;\n",
       "    }\n",
       "\n",
       "    .dataframe tbody tr th {\n",
       "        vertical-align: top;\n",
       "    }\n",
       "</style>\n",
       "<table border=\"1\" class=\"dataframe\">\n",
       "  <thead>\n",
       "    <tr style=\"text-align: right;\">\n",
       "      <th></th>\n",
       "      <th>Name</th>\n",
       "      <th>AnimalType</th>\n",
       "      <th>AgeuponOutcome</th>\n",
       "      <th>Breed</th>\n",
       "      <th>Color</th>\n",
       "      <th>Domestic</th>\n",
       "      <th>Longhair</th>\n",
       "      <th>Mix</th>\n",
       "      <th>Monocolor</th>\n",
       "      <th>SpecificAge</th>\n",
       "      <th>AgeYears</th>\n",
       "      <th>AgeMonths</th>\n",
       "      <th>AgeDays</th>\n",
       "      <th>ArrMonth</th>\n",
       "      <th>ArrMonthday</th>\n",
       "      <th>ArrWeekday</th>\n",
       "      <th>ArrHour</th>\n",
       "      <th>Sterilized</th>\n",
       "      <th>Male</th>\n",
       "      <th>Female</th>\n",
       "    </tr>\n",
       "  </thead>\n",
       "  <tbody>\n",
       "    <tr>\n",
       "      <th>0</th>\n",
       "      <td>1</td>\n",
       "      <td>1</td>\n",
       "      <td>365.25</td>\n",
       "      <td>4</td>\n",
       "      <td>0</td>\n",
       "      <td>0</td>\n",
       "      <td>0</td>\n",
       "      <td>0</td>\n",
       "      <td>True</td>\n",
       "      <td>False</td>\n",
       "      <td>1</td>\n",
       "      <td>0.0</td>\n",
       "      <td>0.0</td>\n",
       "      <td>2</td>\n",
       "      <td>12</td>\n",
       "      <td>2</td>\n",
       "      <td>18</td>\n",
       "      <td>1</td>\n",
       "      <td>1</td>\n",
       "      <td>0</td>\n",
       "    </tr>\n",
       "    <tr>\n",
       "      <th>1</th>\n",
       "      <td>1</td>\n",
       "      <td>0</td>\n",
       "      <td>365.25</td>\n",
       "      <td>1</td>\n",
       "      <td>1</td>\n",
       "      <td>1</td>\n",
       "      <td>0</td>\n",
       "      <td>0</td>\n",
       "      <td>False</td>\n",
       "      <td>False</td>\n",
       "      <td>1</td>\n",
       "      <td>0.0</td>\n",
       "      <td>0.0</td>\n",
       "      <td>10</td>\n",
       "      <td>13</td>\n",
       "      <td>6</td>\n",
       "      <td>12</td>\n",
       "      <td>1</td>\n",
       "      <td>0</td>\n",
       "      <td>1</td>\n",
       "    </tr>\n",
       "    <tr>\n",
       "      <th>2</th>\n",
       "      <td>1</td>\n",
       "      <td>1</td>\n",
       "      <td>730.50</td>\n",
       "      <td>3</td>\n",
       "      <td>2</td>\n",
       "      <td>0</td>\n",
       "      <td>0</td>\n",
       "      <td>0</td>\n",
       "      <td>True</td>\n",
       "      <td>False</td>\n",
       "      <td>2</td>\n",
       "      <td>0.0</td>\n",
       "      <td>0.0</td>\n",
       "      <td>1</td>\n",
       "      <td>31</td>\n",
       "      <td>5</td>\n",
       "      <td>12</td>\n",
       "      <td>1</td>\n",
       "      <td>1</td>\n",
       "      <td>0</td>\n",
       "    </tr>\n",
       "    <tr>\n",
       "      <th>3</th>\n",
       "      <td>0</td>\n",
       "      <td>0</td>\n",
       "      <td>21.00</td>\n",
       "      <td>1</td>\n",
       "      <td>1</td>\n",
       "      <td>1</td>\n",
       "      <td>0</td>\n",
       "      <td>0</td>\n",
       "      <td>False</td>\n",
       "      <td>True</td>\n",
       "      <td>0</td>\n",
       "      <td>0.0</td>\n",
       "      <td>21.0</td>\n",
       "      <td>7</td>\n",
       "      <td>11</td>\n",
       "      <td>4</td>\n",
       "      <td>19</td>\n",
       "      <td>0</td>\n",
       "      <td>1</td>\n",
       "      <td>0</td>\n",
       "    </tr>\n",
       "    <tr>\n",
       "      <th>4</th>\n",
       "      <td>0</td>\n",
       "      <td>1</td>\n",
       "      <td>730.50</td>\n",
       "      <td>4</td>\n",
       "      <td>1</td>\n",
       "      <td>0</td>\n",
       "      <td>0</td>\n",
       "      <td>0</td>\n",
       "      <td>False</td>\n",
       "      <td>False</td>\n",
       "      <td>2</td>\n",
       "      <td>0.0</td>\n",
       "      <td>0.0</td>\n",
       "      <td>11</td>\n",
       "      <td>15</td>\n",
       "      <td>4</td>\n",
       "      <td>12</td>\n",
       "      <td>1</td>\n",
       "      <td>1</td>\n",
       "      <td>0</td>\n",
       "    </tr>\n",
       "  </tbody>\n",
       "</table>\n",
       "</div>"
      ],
      "text/plain": [
       "   Name  AnimalType  AgeuponOutcome  Breed  Color  Domestic  Longhair  Mix  \\\n",
       "0     1           1          365.25      4      0         0         0    0   \n",
       "1     1           0          365.25      1      1         1         0    0   \n",
       "2     1           1          730.50      3      2         0         0    0   \n",
       "3     0           0           21.00      1      1         1         0    0   \n",
       "4     0           1          730.50      4      1         0         0    0   \n",
       "\n",
       "   Monocolor SpecificAge  AgeYears  AgeMonths  AgeDays  ArrMonth  ArrMonthday  \\\n",
       "0       True       False         1        0.0      0.0         2           12   \n",
       "1      False       False         1        0.0      0.0        10           13   \n",
       "2       True       False         2        0.0      0.0         1           31   \n",
       "3      False        True         0        0.0     21.0         7           11   \n",
       "4      False       False         2        0.0      0.0        11           15   \n",
       "\n",
       "   ArrWeekday  ArrHour  Sterilized  Male  Female  \n",
       "0           2       18           1     1       0  \n",
       "1           6       12           1     0       1  \n",
       "2           5       12           1     1       0  \n",
       "3           4       19           0     1       0  \n",
       "4           4       12           1     1       0  "
      ]
     },
     "metadata": {},
     "output_type": "display_data"
    },
    {
     "data": {
      "text/plain": [
       "0    Return_to_owner\n",
       "1         Euthanasia\n",
       "2           Adoption\n",
       "3           Transfer\n",
       "4           Transfer\n",
       "Name: OutcomeType, dtype: object"
      ]
     },
     "metadata": {},
     "output_type": "display_data"
    }
   ],
   "source": [
    "X, y = prepr_pipe.transform(train), train['OutcomeType']\n",
    "display(X.head(), y.head())"
   ]
  },
  {
   "cell_type": "code",
   "execution_count": null,
   "metadata": {},
   "outputs": [],
   "source": []
  },
  {
   "cell_type": "code",
   "execution_count": 57,
   "metadata": {
    "collapsed": true
   },
   "outputs": [],
   "source": [
    "from sklearn.model_selection import GridSearchCV\n",
    "from sklearn.ensemble import RandomForestClassifier, AdaBoostClassifier\n",
    "\n",
    "rfc = RandomForestClassifier()"
   ]
  },
  {
   "cell_type": "code",
   "execution_count": null,
   "metadata": {},
   "outputs": [],
   "source": []
  },
  {
   "cell_type": "code",
   "execution_count": null,
   "metadata": {
    "collapsed": true
   },
   "outputs": [],
   "source": []
  },
  {
   "cell_type": "code",
   "execution_count": null,
   "metadata": {},
   "outputs": [],
   "source": []
  },
  {
   "cell_type": "code",
   "execution_count": null,
   "metadata": {
    "collapsed": true
   },
   "outputs": [],
   "source": []
  },
  {
   "cell_type": "code",
   "execution_count": null,
   "metadata": {},
   "outputs": [],
   "source": []
  },
  {
   "cell_type": "code",
   "execution_count": null,
   "metadata": {
    "collapsed": true
   },
   "outputs": [],
   "source": []
  },
  {
   "cell_type": "code",
   "execution_count": null,
   "metadata": {
    "collapsed": true
   },
   "outputs": [],
   "source": []
  },
  {
   "cell_type": "code",
   "execution_count": null,
   "metadata": {
    "collapsed": true
   },
   "outputs": [],
   "source": []
  },
  {
   "cell_type": "code",
   "execution_count": null,
   "metadata": {
    "collapsed": true
   },
   "outputs": [],
   "source": []
  },
  {
   "cell_type": "code",
   "execution_count": null,
   "metadata": {},
   "outputs": [],
   "source": []
  },
  {
   "cell_type": "code",
   "execution_count": null,
   "metadata": {
    "collapsed": true
   },
   "outputs": [],
   "source": [
    "from sklearn.model_selection import cross_val_score, StratifiedKFold\n",
    "from sklearn.feature_selection import RFECV"
   ]
  },
  {
   "cell_type": "code",
   "execution_count": null,
   "metadata": {
    "collapsed": true
   },
   "outputs": [],
   "source": [
    "rfecv = RFECV(rfc,\n",
    "              cv=StratifiedKFold(3),\n",
    "              scoring='neg_log_loss',\n",
    "              verbose=2)"
   ]
  },
  {
   "cell_type": "code",
   "execution_count": null,
   "metadata": {},
   "outputs": [],
   "source": [
    "rfecv.fit(X, y)"
   ]
  },
  {
   "cell_type": "code",
   "execution_count": null,
   "metadata": {},
   "outputs": [],
   "source": [
    "plt.plot(pd.DataFrame(rfecv.grid_scores_))"
   ]
  },
  {
   "cell_type": "code",
   "execution_count": null,
   "metadata": {},
   "outputs": [],
   "source": [
    "rfc = rfecv.estimator_\n",
    "pd.DataFrame(index=X.columns[rfecv.support_], data={'importance': rfc.feature_importances_}).sort_values('importance', ascending=False)"
   ]
  },
  {
   "cell_type": "code",
   "execution_count": null,
   "metadata": {
    "collapsed": true
   },
   "outputs": [],
   "source": [
    "score = cross_val_score(rfc, X, y, scoring='neg_log_loss', cv=StratifiedKFold(3))"
   ]
  },
  {
   "cell_type": "code",
   "execution_count": null,
   "metadata": {},
   "outputs": [],
   "source": [
    "score"
   ]
  },
  {
   "cell_type": "code",
   "execution_count": null,
   "metadata": {},
   "outputs": [],
   "source": [
    "importances = pd.DataFrame({'var': X.columns, 'var_importance': rfc.feature_importances_})\n",
    "importances.sort_values('var_importance', ascending=False)"
   ]
  },
  {
   "cell_type": "code",
   "execution_count": null,
   "metadata": {},
   "outputs": [],
   "source": []
  },
  {
   "cell_type": "code",
   "execution_count": null,
   "metadata": {
    "collapsed": true
   },
   "outputs": [],
   "source": []
  }
 ],
 "metadata": {
  "kernelspec": {
   "display_name": "Python 3",
   "language": "python",
   "name": "python3"
  },
  "language_info": {
   "codemirror_mode": {
    "name": "ipython",
    "version": 3
   },
   "file_extension": ".py",
   "mimetype": "text/x-python",
   "name": "python",
   "nbconvert_exporter": "python",
   "pygments_lexer": "ipython3",
   "version": "3.6.1"
  }
 },
 "nbformat": 4,
 "nbformat_minor": 2
}
