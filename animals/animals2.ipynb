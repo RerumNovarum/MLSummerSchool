{
 "cells": [
  {
   "cell_type": "markdown",
   "metadata": {},
   "source": [
    "# Shelter Animal Outcomes\n",
    "\n",
    "In this notebook we will try to predict the future of the animals that get into shelters."
   ]
  },
  {
   "cell_type": "code",
   "execution_count": 1,
   "metadata": {
    "collapsed": true
   },
   "outputs": [],
   "source": [
    "import pandas as pd, numpy as np\n",
    "import seaborn as sns\n",
    "import matplotlib.pyplot as plt\n",
    "import re\n",
    "from collections import defaultdict\n",
    "import collections\n",
    "import sklearn.base\n",
    "from sklearn.base import BaseEstimator, TransformerMixin\n",
    "from sklearn.preprocessing import StandardScaler, LabelEncoder\n",
    "\n",
    "\n",
    "%matplotlib inline"
   ]
  },
  {
   "cell_type": "code",
   "execution_count": 2,
   "metadata": {
    "collapsed": true
   },
   "outputs": [],
   "source": [
    "train = pd.read_csv('train.csv')\n",
    "test = pd.read_csv('test.csv')"
   ]
  },
  {
   "cell_type": "code",
   "execution_count": 3,
   "metadata": {},
   "outputs": [
    {
     "data": {
      "text/html": [
       "<div>\n",
       "<style>\n",
       "    .dataframe thead tr:only-child th {\n",
       "        text-align: right;\n",
       "    }\n",
       "\n",
       "    .dataframe thead th {\n",
       "        text-align: left;\n",
       "    }\n",
       "\n",
       "    .dataframe tbody tr th {\n",
       "        vertical-align: top;\n",
       "    }\n",
       "</style>\n",
       "<table border=\"1\" class=\"dataframe\">\n",
       "  <thead>\n",
       "    <tr style=\"text-align: right;\">\n",
       "      <th></th>\n",
       "      <th>AnimalID</th>\n",
       "      <th>Name</th>\n",
       "      <th>DateTime</th>\n",
       "      <th>OutcomeType</th>\n",
       "      <th>OutcomeSubtype</th>\n",
       "      <th>AnimalType</th>\n",
       "      <th>SexuponOutcome</th>\n",
       "      <th>AgeuponOutcome</th>\n",
       "      <th>Breed</th>\n",
       "      <th>Color</th>\n",
       "    </tr>\n",
       "  </thead>\n",
       "  <tbody>\n",
       "    <tr>\n",
       "      <th>0</th>\n",
       "      <td>A671945</td>\n",
       "      <td>Hambone</td>\n",
       "      <td>2014-02-12 18:22:00</td>\n",
       "      <td>Return_to_owner</td>\n",
       "      <td>NaN</td>\n",
       "      <td>Dog</td>\n",
       "      <td>Neutered Male</td>\n",
       "      <td>1 year</td>\n",
       "      <td>Shetland Sheepdog Mix</td>\n",
       "      <td>Brown/White</td>\n",
       "    </tr>\n",
       "    <tr>\n",
       "      <th>1</th>\n",
       "      <td>A656520</td>\n",
       "      <td>Emily</td>\n",
       "      <td>2013-10-13 12:44:00</td>\n",
       "      <td>Euthanasia</td>\n",
       "      <td>Suffering</td>\n",
       "      <td>Cat</td>\n",
       "      <td>Spayed Female</td>\n",
       "      <td>1 year</td>\n",
       "      <td>Domestic Shorthair Mix</td>\n",
       "      <td>Cream Tabby</td>\n",
       "    </tr>\n",
       "    <tr>\n",
       "      <th>2</th>\n",
       "      <td>A686464</td>\n",
       "      <td>Pearce</td>\n",
       "      <td>2015-01-31 12:28:00</td>\n",
       "      <td>Adoption</td>\n",
       "      <td>Foster</td>\n",
       "      <td>Dog</td>\n",
       "      <td>Neutered Male</td>\n",
       "      <td>2 years</td>\n",
       "      <td>Pit Bull Mix</td>\n",
       "      <td>Blue/White</td>\n",
       "    </tr>\n",
       "    <tr>\n",
       "      <th>3</th>\n",
       "      <td>A683430</td>\n",
       "      <td>NaN</td>\n",
       "      <td>2014-07-11 19:09:00</td>\n",
       "      <td>Transfer</td>\n",
       "      <td>Partner</td>\n",
       "      <td>Cat</td>\n",
       "      <td>Intact Male</td>\n",
       "      <td>3 weeks</td>\n",
       "      <td>Domestic Shorthair Mix</td>\n",
       "      <td>Blue Cream</td>\n",
       "    </tr>\n",
       "    <tr>\n",
       "      <th>4</th>\n",
       "      <td>A667013</td>\n",
       "      <td>NaN</td>\n",
       "      <td>2013-11-15 12:52:00</td>\n",
       "      <td>Transfer</td>\n",
       "      <td>Partner</td>\n",
       "      <td>Dog</td>\n",
       "      <td>Neutered Male</td>\n",
       "      <td>2 years</td>\n",
       "      <td>Lhasa Apso/Miniature Poodle</td>\n",
       "      <td>Tan</td>\n",
       "    </tr>\n",
       "  </tbody>\n",
       "</table>\n",
       "</div>"
      ],
      "text/plain": [
       "  AnimalID     Name             DateTime      OutcomeType OutcomeSubtype  \\\n",
       "0  A671945  Hambone  2014-02-12 18:22:00  Return_to_owner            NaN   \n",
       "1  A656520    Emily  2013-10-13 12:44:00       Euthanasia      Suffering   \n",
       "2  A686464   Pearce  2015-01-31 12:28:00         Adoption         Foster   \n",
       "3  A683430      NaN  2014-07-11 19:09:00         Transfer        Partner   \n",
       "4  A667013      NaN  2013-11-15 12:52:00         Transfer        Partner   \n",
       "\n",
       "  AnimalType SexuponOutcome AgeuponOutcome                        Breed  \\\n",
       "0        Dog  Neutered Male         1 year        Shetland Sheepdog Mix   \n",
       "1        Cat  Spayed Female         1 year       Domestic Shorthair Mix   \n",
       "2        Dog  Neutered Male        2 years                 Pit Bull Mix   \n",
       "3        Cat    Intact Male        3 weeks       Domestic Shorthair Mix   \n",
       "4        Dog  Neutered Male        2 years  Lhasa Apso/Miniature Poodle   \n",
       "\n",
       "         Color  \n",
       "0  Brown/White  \n",
       "1  Cream Tabby  \n",
       "2   Blue/White  \n",
       "3   Blue Cream  \n",
       "4          Tan  "
      ]
     },
     "metadata": {},
     "output_type": "display_data"
    },
    {
     "data": {
      "text/plain": [
       "AnimalID              0\n",
       "Name               7691\n",
       "DateTime              0\n",
       "OutcomeType           0\n",
       "OutcomeSubtype    13612\n",
       "AnimalType            0\n",
       "SexuponOutcome        1\n",
       "AgeuponOutcome       18\n",
       "Breed                 0\n",
       "Color                 0\n",
       "dtype: int64"
      ]
     },
     "metadata": {},
     "output_type": "display_data"
    },
    {
     "data": {
      "text/plain": [
       "ID                   0\n",
       "Name              3225\n",
       "DateTime             0\n",
       "AnimalType           0\n",
       "SexuponOutcome       0\n",
       "AgeuponOutcome       6\n",
       "Breed                0\n",
       "Color                0\n",
       "dtype: int64"
      ]
     },
     "metadata": {},
     "output_type": "display_data"
    }
   ],
   "source": [
    "display(train.head(),\n",
    "        train.isnull().sum(),\n",
    "        test.isnull().sum())"
   ]
  },
  {
   "cell_type": "code",
   "execution_count": null,
   "metadata": {
    "collapsed": true
   },
   "outputs": [],
   "source": []
  },
  {
   "cell_type": "code",
   "execution_count": null,
   "metadata": {
    "collapsed": true
   },
   "outputs": [],
   "source": []
  },
  {
   "cell_type": "code",
   "execution_count": null,
   "metadata": {
    "collapsed": true
   },
   "outputs": [],
   "source": []
  },
  {
   "cell_type": "code",
   "execution_count": null,
   "metadata": {
    "collapsed": true
   },
   "outputs": [],
   "source": [
    "train.loc[train['SexuponOutcome'].isnull(), 'SexuponOutcome'] = 'Unknown'"
   ]
  },
  {
   "cell_type": "code",
   "execution_count": null,
   "metadata": {
    "collapsed": true
   },
   "outputs": [],
   "source": []
  },
  {
   "cell_type": "code",
   "execution_count": null,
   "metadata": {},
   "outputs": [
    {
     "name": "stderr",
     "output_type": "stream",
     "text": [
      "/home/god/py/lib/python3.6/site-packages/matplotlib/font_manager.py:1297: UserWarning: findfont: Font family ['sans-serif'] not found. Falling back to DejaVu Sans\n",
      "  (prop.get_family(), self.defaultFamily[fontext]))\n"
     ]
    }
   ],
   "source": [
    "animal_sex_outcomes = train.groupby(['AnimalType', 'SexuponOutcome']).OutcomeType.value_counts()\n",
    "animal_sex_outcomes.name = 'Count'\n",
    "animal_sex_outcomes = animal_sex_outcomes.reset_index()\n",
    "a_s_o_fp = sns.factorplot(x='AnimalType',\n",
    "                          y='Count',\n",
    "                          hue='SexuponOutcome',\n",
    "                          data=animal_sex_outcomes,\n",
    "                          kind='bar',)"
   ]
  },
  {
   "cell_type": "code",
   "execution_count": null,
   "metadata": {
    "collapsed": true
   },
   "outputs": [],
   "source": [
    "train_id, test_id = train['AnimalID'], test['ID']\n",
    "# train.drop('AnimalID', axis=1, inplace=True)\n",
    "# test.drop('ID', axis=1, inplace=True)"
   ]
  },
  {
   "cell_type": "code",
   "execution_count": null,
   "metadata": {
    "collapsed": true
   },
   "outputs": [],
   "source": []
  },
  {
   "cell_type": "code",
   "execution_count": null,
   "metadata": {},
   "outputs": [],
   "source": [
    "breedcnt = dict()\n",
    "\n",
    "breed_noise_pat = re.compile('\\\\s*\\\\b(mix|shorthair|australian|swiss|mexican|' +\n",
    "                             'spanish|american|british|english|belgian|jack|russel|l|old|' +\n",
    "                             'west|german|rat|great|shorthair|longhair|mediumhair|eng|toy|' +\n",
    "                             'medium|hair|russel|yorkshire|miniature|pale|gray|red|' +\n",
    "                             'orange|tiger|smoke|blue|yellow|tabby|calico|point|tick|brindle|' +\n",
    "                             'tan|black|)\\\\b\\\\s*', re.IGNORECASE)\n",
    "\n",
    "def simplify_breed(breed):\n",
    "    return breed_noise_pat.sub('', breed)\n",
    "\n",
    "def breed_is_(breed, pat):\n",
    "    def clf(x):\n",
    "        return 1 * x['Breed'].str.match(pat)\n",
    "    return clf\n",
    "\n",
    "breed_props = [('Domestic', re.compile('.*domestic.*', re.IGNORECASE),),\n",
    "               ('Longhair', re.compile('.*long\\\\s*hair.*', re.IGNORECASE),),\n",
    "               ('Mix', re.compile('.*(mix|/).*', re.IGNORECASE))]\n",
    "\n",
    "class BreedPreprocessor(BaseEstimator):\n",
    "    def __init__(self, max_breeds=6, col='Breed', rare='Rare'):\n",
    "        self.max_breeds = max_breeds\n",
    "        self.col = col\n",
    "        self.rare = rare\n",
    "        self.breed_cnt_ = None\n",
    "        \n",
    "    def fit(self, X, y=None):\n",
    "        # print('[I] Fitting breeds')\n",
    "        breedcnt = defaultdict(lambda: 0)\n",
    "        for breeds in X[self.col]:\n",
    "            for breed in breeds.split('/'):\n",
    "                breed = simplify_breed(breed)\n",
    "                breedcnt[breed] += 1\n",
    "        self.breed_cnt_ = pd.Series(breedcnt).sort_values(ascending=False)\n",
    "        self.top_ = set(self.breed_cnt_.index[:self.max_breeds - 1])\n",
    "        return self\n",
    "    \n",
    "    def _extract_breed(self, breeds):\n",
    "        for breed in breeds.split('/'):\n",
    "            breed = simplify_breed(breed)\n",
    "            if breed in self.top_:\n",
    "                return breed\n",
    "        return self.rare\n",
    "    \n",
    "    def transform(self, X):\n",
    "        # print('[I] Transforming breeds')\n",
    "        X = X.copy()\n",
    "        X[self.col] = X[self.col].apply(lambda x: self._extract_breed(x))\n",
    "        X = X.assign(**{\n",
    "            breed_prop: breed_is_(breed_prop, pat)\n",
    "            for breed_prop, pat in breed_props\n",
    "        })\n",
    "        return X\n",
    "        \n",
    "breeds = BreedPreprocessor()\n",
    "breeds.fit(pd.concat((train, test)))\n",
    "breeds.top_"
   ]
  },
  {
   "cell_type": "code",
   "execution_count": null,
   "metadata": {},
   "outputs": [],
   "source": [
    "breeds"
   ]
  },
  {
   "cell_type": "code",
   "execution_count": null,
   "metadata": {},
   "outputs": [],
   "source": [
    "\n",
    "\n",
    "# TODO:\n",
    "# 1.  extract \"basic\" colors\n",
    "# 2.  treat space-separated basic colors as polycolored patterns\n",
    "def is_monocolor(x):\n",
    "    return x['Color'].str.contains('/')\n",
    "\n",
    "class ColorPreprocessor(BaseEstimator):\n",
    "    def __init__(self, max_colors=5, col='Color'):\n",
    "        self.max_colors = max_colors\n",
    "        self.col = col\n",
    "        self.color_cnt_ = None\n",
    "        self.top_ = None\n",
    "    def fit(self, X, y=None):\n",
    "        # print('[I] Fitting colors')\n",
    "        clrcnt = defaultdict(lambda: 0)\n",
    "        for clrs in X[self.col]:\n",
    "            for clr in clrs.split('/'):\n",
    "                clrcnt[clr] += 1\n",
    "        self.color_cnt_ = pd.Series(clrcnt).sort_values(ascending=False)\n",
    "        self.top_ = set(self.color_cnt_.index[:self.max_colors-1])\n",
    "        return self\n",
    "        \n",
    "    def _extract_color(self, colors):\n",
    "        for color in colors.split('/'):\n",
    "            color = simplify_breed(color)\n",
    "            if color in self.top_: return color\n",
    "        return 'Rare'\n",
    "    \n",
    "    def transform(self, X):\n",
    "        # print('[I] Transforming colors')\n",
    "        X = X.copy()\n",
    "        X = X.assign(Monocolor = is_monocolor)\n",
    "        X[self.col] = X[self.col].apply(self._extract_color)\n",
    "        return X\n",
    "        \n",
    "colors = ColorPreprocessor()\n",
    "colors.fit(pd.concat((train, test)))\n",
    "colors.top_"
   ]
  },
  {
   "cell_type": "code",
   "execution_count": null,
   "metadata": {
    "collapsed": true
   },
   "outputs": [],
   "source": []
  },
  {
   "cell_type": "code",
   "execution_count": null,
   "metadata": {
    "collapsed": true
   },
   "outputs": [],
   "source": []
  },
  {
   "cell_type": "code",
   "execution_count": null,
   "metadata": {},
   "outputs": [],
   "source": [
    "adopted = breeds.transform(train).loc[breeds.transform(train)['OutcomeType'] == 'Adoption']\n",
    "adopted.groupby(['AnimalType', 'Breed'])['AgeuponOutcome'].describe()"
   ]
  },
  {
   "cell_type": "code",
   "execution_count": null,
   "metadata": {},
   "outputs": [],
   "source": [
    "died = breeds.transform(train).loc[breeds.transform(train)['OutcomeType'] == 'Died']\n",
    "died.groupby(['AnimalType', 'Breed'])['AgeuponOutcome'].describe()"
   ]
  },
  {
   "cell_type": "code",
   "execution_count": null,
   "metadata": {
    "collapsed": true
   },
   "outputs": [],
   "source": []
  },
  {
   "cell_type": "code",
   "execution_count": null,
   "metadata": {
    "collapsed": true
   },
   "outputs": [],
   "source": []
  },
  {
   "cell_type": "code",
   "execution_count": null,
   "metadata": {},
   "outputs": [],
   "source": [
    "def age_to_ymd(x):\n",
    "    if x <= 30:\n",
    "        return (0, 0, x)\n",
    "    elif x < 365:\n",
    "        return (0, x//30, 0)\n",
    "    else:\n",
    "        return (int(x/365.25), 0, 0)\n",
    "\n",
    "def purify_ages(ages):\n",
    "    days_in_unit = {\n",
    "    'day': 1,\n",
    "    'days': 1,\n",
    "    'week': 7,\n",
    "    'weeks': 7,\n",
    "    'month': 30,\n",
    "    'months': 30,\n",
    "    'years': 365.25,\n",
    "    'year': 365.25\n",
    "    }\n",
    "    def strage_to_days(age):\n",
    "        if not isinstance(age, str):\n",
    "            return float('nan')\n",
    "        age = age.split(' ')\n",
    "        return int(age[0]) * days_in_unit[age[1]]\n",
    "    ages = ages.map(strage_to_days)\n",
    "    return ages\n",
    "\n",
    "class AgePreprocessor(BaseEstimator):\n",
    "    def __init__(self, col='AgeuponOutcome', groupby=['Breed', 'SexuponOutcome',], estimator=np.median):\n",
    "        self.ages_ = None\n",
    "        self.groupby = groupby\n",
    "        self.estimator = np.median\n",
    "        self.col = col\n",
    "        \n",
    "    def fit(self, X, y=None):\n",
    "        X = X.copy()\n",
    "        X[self.col] = purify_ages(X[self.col])\n",
    "        groups = X.groupby(self.groupby)\n",
    "        self.ages_ = groups[self.col].agg(collections.OrderedDict([\n",
    "            ('size', np.size,),\n",
    "            ('estimate', self.estimator,),\n",
    "        ]))\n",
    "        return self\n",
    "    \n",
    "    def transform(self, X):\n",
    "        # print('[I] Transforming ages')\n",
    "        X = X.copy()\n",
    "        specific_age_pat = re.compile('.*(week|day).*', re.IGNORECASE)\n",
    "        X['SpecificAge'] = X[self.col].str.match(specific_age_pat)\n",
    "        X['SpecificAge'] = X['SpecificAge'].fillna(0)\n",
    "        X[self.col] = purify_ages(X[self.col])\n",
    "        missing = X.loc[X[self.col].isnull()]\n",
    "        groups = missing.groupby(self.groupby)\n",
    "        for i, g in groups:\n",
    "            missing[self.col] = missing[self.col].fillna(self.ages_.loc[i, 'estimate'])\n",
    "        X.loc[X[self.col].isnull(), self.col] = missing[self.col]\n",
    "        by = self.groupby\n",
    "        #while X[self.col].isnull().any() and len(by) > 0:\n",
    "        #    by = by[:-1]\n",
    "        #    gg = X.groupby(by)\n",
    "        #    if not (gg.size() > 1).all():\n",
    "        #        continue\n",
    "        #    X[self.col] = gg[self.col].transform(lambda x: x.fillna(self.estimator(x)))\n",
    "        if X[self.col].isnull().any():\n",
    "            X[self.col] = X[self.col].fillna(X[self.col].median())\n",
    "        X['AgeYears'], X['AgeMonths'], X['AgeDays'] = zip(\n",
    "            *X[self.col].apply(age_to_ymd)\n",
    "        )\n",
    "        return X\n",
    "\n",
    "full = pd.concat((train, test,), keys=[1, 2])\n",
    "ages = AgePreprocessor()\n",
    "ages.fit(full)\n",
    "ages.transform(train)['AgeuponOutcome'].isnull().sum()"
   ]
  },
  {
   "cell_type": "code",
   "execution_count": null,
   "metadata": {
    "collapsed": true
   },
   "outputs": [],
   "source": []
  },
  {
   "cell_type": "code",
   "execution_count": null,
   "metadata": {
    "collapsed": true
   },
   "outputs": [],
   "source": [
    "import dateutil"
   ]
  },
  {
   "cell_type": "code",
   "execution_count": null,
   "metadata": {},
   "outputs": [],
   "source": [
    "def extract_mon_wd_h(x):\n",
    "    x = dateutil.parser.parse(x)\n",
    "    return (x.month, x.day, x.weekday(), x.hour)\n",
    "\n",
    "\n",
    "class ArrivalDatePreprocessor(BaseEstimator):\n",
    "    def __init__(self, col='DateTime'):\n",
    "        self.col = col\n",
    "        \n",
    "    def fit(self, X, y=None):\n",
    "        return self\n",
    "        \n",
    "    def transform(self, X):\n",
    "        # print('[I] Transforming arrival dates')\n",
    "        X = X.copy()\n",
    "        X['ArrMonth'], X['ArrMonthday'], X['ArrWeekday'], X['ArrHour'] = (\n",
    "            zip(*X[self.col].apply(extract_mon_wd_h))\n",
    "        )\n",
    "        return X\n",
    "arrivals = ArrivalDatePreprocessor()\n",
    "arrivals.fit(train)"
   ]
  },
  {
   "cell_type": "code",
   "execution_count": null,
   "metadata": {
    "collapsed": true
   },
   "outputs": [],
   "source": [
    "class SimpleAnimalFeatures(BaseEstimator):\n",
    "    def __init__(self):\n",
    "        pass\n",
    "    \n",
    "    def fit(self, X, y=None):\n",
    "        return self\n",
    "    \n",
    "    def transform(self, X):\n",
    "        # print('[I] Engineering simple features')\n",
    "        sterilized_pat = re.compile('.*(neutered|spayed).*', re.IGNORECASE)\n",
    "        female_pat = re.compile('.*\\\\b(female)\\\\b.*', re.IGNORECASE)  \n",
    "        male_pat = re.compile('.*\\\\b(male)\\\\b.*', re.IGNORECASE)\n",
    "        \n",
    "        X = X.copy()\n",
    "        X['Sterilized'] = 1 * X['SexuponOutcome'].str.match(sterilized_pat)\n",
    "        X['Male'] = 1 * X['SexuponOutcome'].str.match(male_pat)\n",
    "        X['Female'] = 1 * X['SexuponOutcome'].str.match(female_pat)\n",
    "        X['Name'] = 1 * X['Name'].notnull()\n",
    "        return X.drop('SexuponOutcome', axis=1)"
   ]
  },
  {
   "cell_type": "code",
   "execution_count": null,
   "metadata": {
    "collapsed": true
   },
   "outputs": [],
   "source": [
    "class DropGarbage(sklearn.base.BaseEstimator):\n",
    "    def fit(self, X, y=None):\n",
    "        return self\n",
    "    \n",
    "    def transform(self, X):\n",
    "        # print('[I] Droping crap')\n",
    "        return X.drop([\n",
    "            'ID', 'AnimalID',\n",
    "            'DateTime',\n",
    "            'OutcomeType',\n",
    "            'OutcomeSubtype'],\n",
    "            axis=1,\n",
    "            errors='ignore')"
   ]
  },
  {
   "cell_type": "code",
   "execution_count": null,
   "metadata": {
    "collapsed": true
   },
   "outputs": [],
   "source": [
    "class TextvarsSeqEncoder(BaseEstimator):\n",
    "    def __init__(self, textvars=['AnimalType', 'Breed', 'Color']):\n",
    "        self.textvars = textvars\n",
    "        self.enc_ = defaultdict(sklearn.preprocessing.LabelEncoder)\n",
    "\n",
    "    def fit(self, X, y=None):\n",
    "        # print('[I] Fitting text var encoders')\n",
    "        for v in self.textvars:\n",
    "            self.enc_[v].fit(X[v])\n",
    "        return self\n",
    "    \n",
    "    def transform(self, X):\n",
    "        # print('[I] Encoding text vars')\n",
    "        X = X.copy()\n",
    "        for v in self.textvars:\n",
    "            X[v] = self.enc_[v].transform(X[v])\n",
    "        return X"
   ]
  },
  {
   "cell_type": "code",
   "execution_count": null,
   "metadata": {
    "collapsed": true
   },
   "outputs": [],
   "source": [
    "from sklearn.pipeline import Pipeline, FeatureUnion"
   ]
  },
  {
   "cell_type": "code",
   "execution_count": null,
   "metadata": {
    "collapsed": true
   },
   "outputs": [],
   "source": [
    "prepr_pipe = Pipeline([\n",
    "    ('breed', breeds),\n",
    "    ('color', colors),\n",
    "    ('age', ages),\n",
    "    ('arrivals', arrivals),\n",
    "    ('simplefeats', SimpleAnimalFeatures()),\n",
    "    ('drop', DropGarbage()),\n",
    "    ('textenc', TextvarsSeqEncoder()),\n",
    "    ('scale', StandardScaler()),\n",
    "])"
   ]
  },
  {
   "cell_type": "code",
   "execution_count": null,
   "metadata": {},
   "outputs": [],
   "source": [
    "prepr_pipe.fit(train)"
   ]
  },
  {
   "cell_type": "code",
   "execution_count": null,
   "metadata": {},
   "outputs": [],
   "source": [
    "X, y = prepr_pipe.transform(train), train['OutcomeType']\n",
    "# display(X.head(), y.head())"
   ]
  },
  {
   "cell_type": "code",
   "execution_count": null,
   "metadata": {},
   "outputs": [],
   "source": [
    "prepr_pipe.steps[0][1].get_params()"
   ]
  },
  {
   "cell_type": "code",
   "execution_count": null,
   "metadata": {},
   "outputs": [],
   "source": [
    "from sklearn.model_selection import GridSearchCV, StratifiedKFold\n",
    "from sklearn.ensemble import RandomForestClassifier, AdaBoostClassifier\n",
    "from sklearn.model_selection import cross_val_score\n",
    "from sklearn.feature_selection import RFECV"
   ]
  },
  {
   "cell_type": "code",
   "execution_count": null,
   "metadata": {
    "collapsed": true
   },
   "outputs": [],
   "source": [
    "pipe = Pipeline([\n",
    "    ('prepr', prepr_pipe),\n",
    "    ('rfecv', RFECV(RandomForestClassifier(),\n",
    "                    scoring='neg_log_loss',\n",
    "                    cv=StratifiedKFold(3)))\n",
    "])"
   ]
  },
  {
   "cell_type": "code",
   "execution_count": null,
   "metadata": {},
   "outputs": [],
   "source": [
    "gs = GridSearchCV(pipe,\n",
    "                  param_grid = {  \n",
    "                      'prepr__breed__max_breeds': [3, 6],\n",
    "                      'prepr__color__max_colors': [3, 6],\n",
    "                      'prepr__scale__with_mean': [True, False],\n",
    "                      'prepr__scale__with_std': [True, False],\n",
    "                      'rfecv__estimator__n_estimators': [100, 400],\n",
    "                  },\n",
    "                  scoring='neg_log_loss',\n",
    "                  n_jobs=4,\n",
    "                  verbose=1,\n",
    "                  cv=StratifiedKFold(3))"
   ]
  },
  {
   "cell_type": "code",
   "execution_count": null,
   "metadata": {
    "scrolled": true
   },
   "outputs": [],
   "source": [
    "gs.fit(train, y)"
   ]
  },
  {
   "cell_type": "code",
   "execution_count": null,
   "metadata": {},
   "outputs": [],
   "source": [
    "gs"
   ]
  },
  {
   "cell_type": "code",
   "execution_count": null,
   "metadata": {},
   "outputs": [],
   "source": [
    "gs.best_score_"
   ]
  },
  {
   "cell_type": "code",
   "execution_count": null,
   "metadata": {
    "collapsed": true
   },
   "outputs": [],
   "source": []
  },
  {
   "cell_type": "code",
   "execution_count": null,
   "metadata": {
    "collapsed": true
   },
   "outputs": [],
   "source": []
  },
  {
   "cell_type": "code",
   "execution_count": null,
   "metadata": {
    "collapsed": true
   },
   "outputs": [],
   "source": []
  },
  {
   "cell_type": "code",
   "execution_count": null,
   "metadata": {
    "collapsed": true
   },
   "outputs": [],
   "source": []
  },
  {
   "cell_type": "code",
   "execution_count": null,
   "metadata": {},
   "outputs": [],
   "source": []
  },
  {
   "cell_type": "code",
   "execution_count": null,
   "metadata": {
    "collapsed": true
   },
   "outputs": [],
   "source": []
  },
  {
   "cell_type": "code",
   "execution_count": null,
   "metadata": {},
   "outputs": [],
   "source": [
    "rfc = RandomForestClassifier(200)\n",
    "rfecv = RFECV(rfc,\n",
    "              cv=StratifiedKFold(3),\n",
    "              scoring='neg_log_loss',\n",
    "              verbose=2)\n"
   ]
  },
  {
   "cell_type": "code",
   "execution_count": null,
   "metadata": {},
   "outputs": [],
   "source": [
    "rfecv.fit(X, y)"
   ]
  },
  {
   "cell_type": "code",
   "execution_count": null,
   "metadata": {},
   "outputs": [],
   "source": [
    "plt.plot(pd.DataFrame(rfecv.grid_scores_))"
   ]
  },
  {
   "cell_type": "code",
   "execution_count": null,
   "metadata": {
    "collapsed": true
   },
   "outputs": [],
   "source": [
    "rfc = rfecv.estimator_\n",
    "pd.DataFrame(index=X.columns[rfecv.support_], data={'importance': rfc.feature_importances_}).sort_values('importance', ascending=False)"
   ]
  },
  {
   "cell_type": "code",
   "execution_count": null,
   "metadata": {
    "collapsed": true
   },
   "outputs": [],
   "source": [
    "score = cross_val_score(rfc, X, y, scoring='neg_log_loss', cv=StratifiedKFold(3))"
   ]
  },
  {
   "cell_type": "code",
   "execution_count": null,
   "metadata": {
    "collapsed": true
   },
   "outputs": [],
   "source": [
    "score"
   ]
  },
  {
   "cell_type": "code",
   "execution_count": null,
   "metadata": {
    "collapsed": true
   },
   "outputs": [],
   "source": [
    "importances = pd.DataFrame({'var': X.columns, 'var_importance': rfc.feature_importances_})\n",
    "importances.sort_values('var_importance', ascending=False)"
   ]
  },
  {
   "cell_type": "code",
   "execution_count": null,
   "metadata": {
    "collapsed": true
   },
   "outputs": [],
   "source": []
  },
  {
   "cell_type": "code",
   "execution_count": null,
   "metadata": {
    "collapsed": true
   },
   "outputs": [],
   "source": []
  }
 ],
 "metadata": {
  "kernelspec": {
   "display_name": "Python 3",
   "language": "python",
   "name": "python3"
  },
  "language_info": {
   "codemirror_mode": {
    "name": "ipython",
    "version": 3
   },
   "file_extension": ".py",
   "mimetype": "text/x-python",
   "name": "python",
   "nbconvert_exporter": "python",
   "pygments_lexer": "ipython3",
   "version": "3.6.1"
  }
 },
 "nbformat": 4,
 "nbformat_minor": 2
}
