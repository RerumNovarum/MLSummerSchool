{
 "cells": [
  {
   "cell_type": "markdown",
   "metadata": {},
   "source": [
    "# Shelter Animal Outcomes\n",
    "\n",
    "In this notebook we will try to predict the future of the animals that get into shelters."
   ]
  },
  {
   "cell_type": "code",
   "execution_count": 1,
   "metadata": {
    "collapsed": true
   },
   "outputs": [],
   "source": [
    "import pandas as pd, numpy as np\n",
    "import seaborn as sns\n",
    "import matplotlib.pyplot as plt\n",
    "import re\n",
    "from collections import defaultdict\n",
    "import collections\n",
    "import sklearn.base\n",
    "from sklearn.base import BaseEstimator, TransformerMixin\n",
    "from sklearn.preprocessing import StandardScaler, LabelEncoder\n",
    "from sklearn.pipeline import Pipeline, FeatureUnion, make_pipeline\n",
    "\n",
    "\n",
    "%matplotlib inline"
   ]
  },
  {
   "cell_type": "code",
   "execution_count": 2,
   "metadata": {
    "collapsed": true
   },
   "outputs": [],
   "source": [
    "train = pd.read_csv('train.csv')\n",
    "test = pd.read_csv('test.csv')"
   ]
  },
  {
   "cell_type": "code",
   "execution_count": 3,
   "metadata": {},
   "outputs": [
    {
     "data": {
      "text/html": [
       "<div>\n",
       "<style>\n",
       "    .dataframe thead tr:only-child th {\n",
       "        text-align: right;\n",
       "    }\n",
       "\n",
       "    .dataframe thead th {\n",
       "        text-align: left;\n",
       "    }\n",
       "\n",
       "    .dataframe tbody tr th {\n",
       "        vertical-align: top;\n",
       "    }\n",
       "</style>\n",
       "<table border=\"1\" class=\"dataframe\">\n",
       "  <thead>\n",
       "    <tr style=\"text-align: right;\">\n",
       "      <th></th>\n",
       "      <th>AnimalID</th>\n",
       "      <th>Name</th>\n",
       "      <th>DateTime</th>\n",
       "      <th>OutcomeType</th>\n",
       "      <th>OutcomeSubtype</th>\n",
       "      <th>AnimalType</th>\n",
       "      <th>SexuponOutcome</th>\n",
       "      <th>AgeuponOutcome</th>\n",
       "      <th>Breed</th>\n",
       "      <th>Color</th>\n",
       "    </tr>\n",
       "  </thead>\n",
       "  <tbody>\n",
       "    <tr>\n",
       "      <th>0</th>\n",
       "      <td>A671945</td>\n",
       "      <td>Hambone</td>\n",
       "      <td>2014-02-12 18:22:00</td>\n",
       "      <td>Return_to_owner</td>\n",
       "      <td>NaN</td>\n",
       "      <td>Dog</td>\n",
       "      <td>Neutered Male</td>\n",
       "      <td>1 year</td>\n",
       "      <td>Shetland Sheepdog Mix</td>\n",
       "      <td>Brown/White</td>\n",
       "    </tr>\n",
       "    <tr>\n",
       "      <th>1</th>\n",
       "      <td>A656520</td>\n",
       "      <td>Emily</td>\n",
       "      <td>2013-10-13 12:44:00</td>\n",
       "      <td>Euthanasia</td>\n",
       "      <td>Suffering</td>\n",
       "      <td>Cat</td>\n",
       "      <td>Spayed Female</td>\n",
       "      <td>1 year</td>\n",
       "      <td>Domestic Shorthair Mix</td>\n",
       "      <td>Cream Tabby</td>\n",
       "    </tr>\n",
       "    <tr>\n",
       "      <th>2</th>\n",
       "      <td>A686464</td>\n",
       "      <td>Pearce</td>\n",
       "      <td>2015-01-31 12:28:00</td>\n",
       "      <td>Adoption</td>\n",
       "      <td>Foster</td>\n",
       "      <td>Dog</td>\n",
       "      <td>Neutered Male</td>\n",
       "      <td>2 years</td>\n",
       "      <td>Pit Bull Mix</td>\n",
       "      <td>Blue/White</td>\n",
       "    </tr>\n",
       "    <tr>\n",
       "      <th>3</th>\n",
       "      <td>A683430</td>\n",
       "      <td>NaN</td>\n",
       "      <td>2014-07-11 19:09:00</td>\n",
       "      <td>Transfer</td>\n",
       "      <td>Partner</td>\n",
       "      <td>Cat</td>\n",
       "      <td>Intact Male</td>\n",
       "      <td>3 weeks</td>\n",
       "      <td>Domestic Shorthair Mix</td>\n",
       "      <td>Blue Cream</td>\n",
       "    </tr>\n",
       "    <tr>\n",
       "      <th>4</th>\n",
       "      <td>A667013</td>\n",
       "      <td>NaN</td>\n",
       "      <td>2013-11-15 12:52:00</td>\n",
       "      <td>Transfer</td>\n",
       "      <td>Partner</td>\n",
       "      <td>Dog</td>\n",
       "      <td>Neutered Male</td>\n",
       "      <td>2 years</td>\n",
       "      <td>Lhasa Apso/Miniature Poodle</td>\n",
       "      <td>Tan</td>\n",
       "    </tr>\n",
       "  </tbody>\n",
       "</table>\n",
       "</div>"
      ],
      "text/plain": [
       "  AnimalID     Name             DateTime      OutcomeType OutcomeSubtype  \\\n",
       "0  A671945  Hambone  2014-02-12 18:22:00  Return_to_owner            NaN   \n",
       "1  A656520    Emily  2013-10-13 12:44:00       Euthanasia      Suffering   \n",
       "2  A686464   Pearce  2015-01-31 12:28:00         Adoption         Foster   \n",
       "3  A683430      NaN  2014-07-11 19:09:00         Transfer        Partner   \n",
       "4  A667013      NaN  2013-11-15 12:52:00         Transfer        Partner   \n",
       "\n",
       "  AnimalType SexuponOutcome AgeuponOutcome                        Breed  \\\n",
       "0        Dog  Neutered Male         1 year        Shetland Sheepdog Mix   \n",
       "1        Cat  Spayed Female         1 year       Domestic Shorthair Mix   \n",
       "2        Dog  Neutered Male        2 years                 Pit Bull Mix   \n",
       "3        Cat    Intact Male        3 weeks       Domestic Shorthair Mix   \n",
       "4        Dog  Neutered Male        2 years  Lhasa Apso/Miniature Poodle   \n",
       "\n",
       "         Color  \n",
       "0  Brown/White  \n",
       "1  Cream Tabby  \n",
       "2   Blue/White  \n",
       "3   Blue Cream  \n",
       "4          Tan  "
      ]
     },
     "metadata": {},
     "output_type": "display_data"
    },
    {
     "data": {
      "text/plain": [
       "AnimalID              0\n",
       "Name               7691\n",
       "DateTime              0\n",
       "OutcomeType           0\n",
       "OutcomeSubtype    13612\n",
       "AnimalType            0\n",
       "SexuponOutcome        1\n",
       "AgeuponOutcome       18\n",
       "Breed                 0\n",
       "Color                 0\n",
       "dtype: int64"
      ]
     },
     "metadata": {},
     "output_type": "display_data"
    },
    {
     "data": {
      "text/plain": [
       "ID                   0\n",
       "Name              3225\n",
       "DateTime             0\n",
       "AnimalType           0\n",
       "SexuponOutcome       0\n",
       "AgeuponOutcome       6\n",
       "Breed                0\n",
       "Color                0\n",
       "dtype: int64"
      ]
     },
     "metadata": {},
     "output_type": "display_data"
    }
   ],
   "source": [
    "display(train.head(),\n",
    "        train.isnull().sum(),\n",
    "        test.isnull().sum())"
   ]
  },
  {
   "cell_type": "code",
   "execution_count": null,
   "metadata": {
    "collapsed": true
   },
   "outputs": [],
   "source": []
  },
  {
   "cell_type": "code",
   "execution_count": null,
   "metadata": {
    "collapsed": true
   },
   "outputs": [],
   "source": []
  },
  {
   "cell_type": "code",
   "execution_count": null,
   "metadata": {
    "collapsed": true
   },
   "outputs": [],
   "source": []
  },
  {
   "cell_type": "code",
   "execution_count": 4,
   "metadata": {
    "collapsed": true
   },
   "outputs": [],
   "source": [
    "train.loc[train['SexuponOutcome'].isnull(), 'SexuponOutcome'] = 'Unknown'"
   ]
  },
  {
   "cell_type": "code",
   "execution_count": null,
   "metadata": {
    "collapsed": true
   },
   "outputs": [],
   "source": []
  },
  {
   "cell_type": "code",
   "execution_count": 5,
   "metadata": {},
   "outputs": [
    {
     "name": "stderr",
     "output_type": "stream",
     "text": [
      "/home/god/py/lib/python3.6/site-packages/matplotlib/font_manager.py:1297: UserWarning: findfont: Font family ['sans-serif'] not found. Falling back to DejaVu Sans\n",
      "  (prop.get_family(), self.defaultFamily[fontext]))\n"
     ]
    },
    {
     "data": {
<<<<<<< HEAD
      "image/png": "iVBORw0KGgoAAAANSUhEUgAAAXkAAAEYCAYAAAC5q4bCAAAABHNCSVQICAgIfAhkiAAAAAlwSFlz\nAAALEgAACxIB0t1+/AAAIABJREFUeJzt3XtcVHX+P/DXmxkREERJFAQRE5CrN0g3L1mWW+5DTVdN\nXQu31rxs6m5aaG3p5rZ2ce23a22bZZaW5dc1Ky+Veb+uFuYFEFC8C4xX5CIXGebz+2PO0EjcVIaB\n4+v5eMxjZj7nc+a8hXrPh8/5nPcRpRSIiEifXJwdABEROQ6TPBGRjjHJExHpGJM8EZGOMckTEekY\nkzwRkY45LMmLSDsR2SoiR0QkRUT+pLX/VUQyReSg9viN3T4viEiGiKSLyMN27Y9obRkiMstRMRMR\n6Y04ap28iPgD8FdK/SQiXgD2AxgK4DEABUqpf1ToHwngcwA9ALQFsAlAmLb5KIABAM4B+BHAGKXU\nEYcETkSkI0ZHfbBSKhtAtvY6X0RSAQRUs8ujAFYopUoAnBSRDFgTPgBkKKVOAICIrND6MskTEdWg\nXubkRSQYQDcA+7SmKSJyWESWiEhLrS0AwFm73c5pbVW1VzzGBBFJ1B4T6vifQETUKDk8yYuIJ4Av\nAPxZKZUH4D8AOgLoCutIf0FdHEcp9b5SKk4pFffwww8vAqD44IOPWj9Ipxw2XQMAItIE1gS/XCm1\nGgCUUufttn8AYJ32NhNAO7vdA7U2VNNeqUuXLt1e4EREOuHI1TUC4EMAqUqpt+za/e26DQOQrL1e\nA2C0iDQVkQ4AQgH8AOuJ1lAR6SAirgBGa32JiKgGjhzJ9wbwBIAkETmotb0IYIyIdIX1T8RTACYC\ngFIqRURWwnpC1QzgGaVUGQCIyBQAGwAYACxRSqU4MG4iIt1w2BJKZ4qLi1OJiYnODoOoMRFnB0CO\nwSteiYh0jEmeiEjHmOSJiHSMSZ6ISMeY5ImIdMyhF0MR6VVCQgJMJhP8/Pzw5ptvOjscoioxyRPd\nApPJhMzMai+8JmoQOF1DRKRjTPJERDrGJE9EpGNM8kREOsYkT0SkY0zyREQ6xiRPRKRjTPJERDrG\nJE9EpGNM8kREOsYkT0SkY0zyREQ6xiRPRKRjTPJERDrGUsNETsB69FRfmOSJnID16Km+cLqGiEjH\nmOSJiHSMSZ6ISMeY5ImIdIxJnohIx5jkiYh0jEmeiEjHmOSJiHSMSZ6ISMeY5ImIdIxJnohIx5jk\niYh0jEmeiEjHmOSJiHTMYUleRNqJyFYROSIiKSLyJ63dR0Q2isgx7bml1i4islBEMkTksIh0t/us\ncVr/YyIyzlExExHpjSNH8mYAM5RSkQB+BeAZEYkEMAvAZqVUKIDN2nsAGAggVHtMAPAfwPqlAGAO\ngJ4AegCYY/tiICKi6jksySulspVSP2mv8wGkAggA8CiApVq3pQCGaq8fBbBMWe0F0EJE/AE8DGCj\nUuqKUioHwEYAjzgqbiIiPamXOXkRCQbQDcA+AG2UUtnaJhOANtrrAABn7XY7p7VV1U5ERDVweJIX\nEU8AXwD4s1Iqz36bUkoBUHV0nAkikigiiRcvXqyLjyQiavQcmuRFpAmsCX65Umq11nxem4aB9nxB\na88E0M5u90Ctrar2Gyil3ldKxSml4nx9fev2H0JE1Eg5cnWNAPgQQKpS6i27TWsA2FbIjAPwtV17\nvLbK5lcAcrVpnQ0Afi0iLbUTrr/W2oiIqAZGB352bwBPAEgSkYNa24sAXgewUkT+AOA0gMe0bd8A\n+A2ADACFAJ4EAKXUFRH5G4AftX5zlVJXHBg3EZFuOCzJK6V2AZAqNj9YSX8F4JkqPmsJgCV1Fx0R\n0Z2BV7wSEekYkzwRkY4xyRMR6RiTPBGRjjHJExHpGJM8EZGOMckTEekYkzwRkY4xyRMR6RiTPBGR\njjHJExHpGJM8EZGOMckTEekYkzwRkY4xyRMR6RiTPBGRjjHJExHpGJM8EZGOMckTEekYkzwRkY4x\nyRMR6RiTPBGRjjHJExHpGJM8EZGOMckTEekYkzwRkY4xyRMR6RiTPBGRjjHJExHpGJM8EZGOMckT\nEemY0dkBEFHDsH///tZGo3ExgGhwANjYWAAkm83m8bGxsRfsNzDJExEAwGg0Lvbz84vw9fXNcXFx\nUc6Oh2rPYrHIxYsXI00m02IAQ+y38duaiGyifX1985jgGx8XFxfl6+ubC+tfYTduc0I8RNQwuTDB\nN17a7+4XOZ1JnohIx5jkiei2zJw50y8kJCQqLCwsMjw8PHLLli3NnB1TZYqLi+Wpp55qFxQUFN2+\nffvoBx98sOPx48eb1LTfwoUL7zp16lSN/Roqnnglolu2adOmZhs2bGiRlJR0xN3dXWVnZxtLSkrE\n2XFVZtq0aQEFBQUuJ06cSDYajfjXv/5119ChQ0MOHTqU6uJS9Xj3008/bdW1a9ei4ODg0noMt844\nbCQvIktE5IKIJNu1/VVEMkXkoPb4jd22F0QkQ0TSReRhu/ZHtLYMEZnlqHiJ6OZlZmY28fHxMbu7\nuysA8Pf3NwcHB5fu3LnT45577ukUFRUV0adPn9DTp083KS0tRXR0dMS6deu8AOCZZ54JmDp1agAA\nBAQExGRnZxsBYMeOHR49evToBADTp09vO3To0A5du3YNb9++ffSCBQtaAYDFYsHEiRMDQ0NDo8LC\nwiI/+OCDlgCwbt06rx49enR65JFH7u7QoUPUkCFDOlgsFuTn57usXLmy1XvvvXfWaLSObf/0pz9d\ndnV1taxdu9YrPT3dNTQ0NMr275o9e3ab6dOnt/3oo49aJicne8THx98dHh4eWVBQINu3b/fo1q1b\neKdOnSJjYmIicnJyXAoLC2XEiBHBYWFhkREREZFr1671Aqx/BTz00EMde/XqFRoQEBAzb94837/+\n9a9tIiIiIrt06RJ+/vx5AwCkpKQ07du3b2hUVFREbGxspwMHDrjV1e/IkdM1HwN4pJL2/6eU6qo9\nvgEAEYkEMBpAlLbPuyJiEBEDgH8DGAggEsAYrS8RNQBDhw7Ny8rKcg0ODo5+/PHHg9avX+9ZUlIi\n06ZNC/r666+Pp6SkpI4bN+7Sc889F9CkSRN8/PHHJ6dNmxb01VdfeW3ZssV7/vz5WTUdIzU11X3X\nrl3pe/fuTZs/f37bU6dONVm2bFmLpKQk99TU1JTNmzcfnT17duDp06eb2Pr/+9//PpuRkZFy5syZ\nphs3bvQ8cuRIU39//+s+Pj4W+8/u2rVrYVJSkntVx37yySdzoqOjC5ctW3YiLS3tiNFoxNixYzv+\n85//PJOenn5k+/bt6Z6enpY33nijtYjg6NGjRz777LMTEyZMCC4sLBQAOHr0qPv69euP//jjj6mv\nvfZagIeHhyU1NfVIXFzctUWLFt0FAOPHj2//7rvvnklJSUmdP3/+ucmTJwfd3m/mZw6brlFK7RCR\n4Fp2fxTACqVUCYCTIpIBoIe2LUMpdQIARGSF1vdIHYdLRLfA29vbkpycfOS7777z2rx5s9e4ceM6\nTp8+PevYsWPu/fv3DwOso25fX99SAIiLiyt+7LHHLo8aNSp0y5YtqW5ubjWu5hk4cOBVT09P5enp\nab733nvzdu7c2Wznzp1ejz322BWj0Yh27dqZe/bsWbBr1y4Pb29vS0xMzLWOHTuWAkBUVFTh8ePH\nXWNjY4vq4t97+PBht9atW5f269evEABsXxp79uzxnDp16gUA6NatW3Hbtm2vJyUluQFAr1698lu2\nbGlp2bKlxdPTs2zkyJFXASAmJqbw8OHDHrm5uS4HDhzwHDlyZEfbca5fv15nU17OmJOfIiLxABIB\nzFBK5QAIALDXrs85rQ0AzlZo71nZh4rIBAATACAoqM6+BImoBkajEYMGDcofNGhQfufOnYvee+89\n35CQkKKDBw+mVdY/JSXF3cvLq8xkMjUBUAQABoNBWSzWQXZRUdENMwwiN+a7iu8ratq0afkXh8Fg\ngNlsloiIiJLs7GzXnJwcl5YtW5aP5g8dOuQxZMiQq0ajsfz4AFBcXFxnsxyurq7l8bi4uMD2xebi\n4gKz2SxlZWXw8vIyp6WlOWTwWt+ra/4DoCOArgCyASyoqw9WSr2vlIpTSsX5+vrW1ccSUTUOHTrU\nNCkpqant/YEDB9xDQ0OLr1y5Yty0aVMzACgpKZHExEQ3AFi6dGmLnJwc45YtW9JmzJgRdOnSJQMA\nBAYGXt+9e7cHAKxcubKl/TG+/fbbFoWFhWIymQx79+716tOnz7X77rsvf9WqVT5msxlZWVnGH374\nwbNv377XqoqzefPmlhEjRlyaPHlyO7PZDAB455137iouLnYZPHhwfmBgoPnKlStGk8lkKCoqkg0b\nNnjb9vX09CzLzc01AEDnzp2LL1y40GT79u0eAJCTk+NSWlqK3r17F3z66ac+AHD48OGm2dnZrp07\ndy6uzc/Qx8fHEhgYeH3JkiUtAetfPv/73/+qnEK6WfU6kldKnbe9FpEPAKzT3mYCaGfXNVBrQzXt\nRORkeXl5hmnTpgXl5eUZDAaDCg4OLlm6dOnpkydPXpw2bVpQfn6+oaysTCZPnnw+ICDAPGfOnMBN\nmzalh4SElI4fP/7ChAkT2q1evfrU7NmzsyZNmhQ8d+7csl69euXbHyMiIqKwV69enXJycozPPfdc\ndnBwcGlQUNDVPXv2eEZERESJiHrllVfOBQUFmQ8fPlxlrG+//XbmpEmTAjt06BDt4uKCjh07Fn/1\n1VcZLi4uaNq0qZoxY0b2PffcE9GmTZvSkJCQ8gQdHx9/aerUqe2ff/55S2JiYury5cuPT5s2Lai4\nuNjFzc3NsmPHjqMJCQkX4uPj24eFhUUaDAYsWrTolO1kdG18/vnnJ55++un2b7zxhr/ZbJZhw4Zd\nuffee+tkikmUctwFbtqc/DqlVLT23l8pla29fhZAT6XUaBGJAvAZrPPwbQFsBhAKQAAcBfAgrMn9\nRwC/U0qlVHfcuLg4lZiY6JB/ExEAxMfHIzMzEwEBAVi2bFm97+8AcujQoVNdunS55OxA7E2fPr2t\np6dn2dy5c8/X3JsOHTrUqkuXLsH2bQ4byYvI5wDuB9BKRM4BmAPgfhHpCkABOAVgIgAopVJEZCWs\nJ1TNAJ5RSpVpnzMFwAYABgBLakrwRET0M0eurhlTSfOH1fT/O4C/V9L+DYBv6jA0Imok3nrrrRqX\nWFL1WNaAiEjHmOSJiHSMSZ6ISMeY5ImIdIxVKImoUrHPL4uty8/bPz9+f019PDw8uhUWFh6ors/c\nuXNbP/vss5e8vLws1fWrzJ49e9zPnj3rOmrUqNyK29atW+c1ZsyYjgEBAdcBwMfHx7xnz56jN3uM\n2ho+fHjwoEGDcp988skcRx0DqOVIXkR616aNGp6EhATEx8cjISHB2aEQ1YlFixa1KSgouKVZiMTE\nRI/169d7V7U9Li6uIC0t7UhaWtoRRyb4+lTbH9TbtWyjBsZkMiEzMxMmk8nZoRDVWlUlg1999dXW\nFy5caNKvX7+wnj17hgHA2LFjg6KjoyNCQkKinn322ba2z6hYEvjy5cuG1157re3atWtbhoeHl5cn\nrklWVpbx4Ycf7hgdHR0RHR0d8f333zcDrBdq/fa3vw2OjY3t1LZt25ilS5e2mDRpUmBYWFhk3759\nQ2119Z977jn/6OjoiNDQ0KgxY8a0t6+RY1NZaeY6+UGihiQvIveKyAwAviIy3e7xV1gvTiIicojK\nSga/9NJLF1q3bl26ffv2o/v27TsKAG+99VZmcnJyalpaWsru3bu99u3b515cXCwVSwI3b9687IUX\nXsgaPHhwTlpa2pGnn376F9MkiYmJnuHh4ZHh4eGRM2fO9AOAiRMntps+ffr55OTk1C+//PL4pEmT\ngm39T58+3XTPnj1Hv/jii4xJkyZ16N+/f97Ro0ePuLm5WVauXOkNAM8///yF5OTk1GPHjqUUFRW5\nrFix4oa/JKoqzVxXP8ea5uRdAXhq/bzs2vMAjKirIKhqCQkJMJlM8PPzw5tvvunscIjqTWUlgyvr\nt3TpUp+PP/64ldlslosXLzY5dOiQm4igspLANYmLiyvYunVrhn3b7t27mx87dqy8YFhBQYEhNzfX\nBQAeeuih3KZNm6oePXoUlZWVyYgRI/K0eItOnjzpCgDffvut11tvveVXXFzscvXqVWNkZGQRgPJz\nAocPH25aVWnmulBtkldKbQewXUQ+VkqdrquDUu3Zpluo/vV+u+rTTq5XXeECF5y9erbKfrun7nZU\naHeEykoGV+yTlpbm+s4777TZv39/qq+vb9nw4cOD67JMMAAopfDTTz+lenh4/KLQly1Gg8EAo9Go\nbLcRtJURLiwslBkzZrTft2/fkZCQkNLp06e3rRifUkqqK818u2r7w2gqIu+LyPcissX2cERARETV\nadasWZltJJ2Tk2Nwd3e3+Pj4lJ09e9a4bds2b6DqksDNmzcvu9mTtn369Ml77bXXWtve79mzp9Zl\ngAsLC10AwM/Pz5ybm+uydu3aX5wH6Ny5c5WlmetCbZdQ/hfAewAWAyirq4MTUcNVmyWPzjBu3LhL\njzzySFibNm2u79u372h0dHRhx44do/39/a/HxsYWAICbm5uqrCTwwIED8//xj3/4h4eHR86YMSO7\nsnn5it5///2z48ePDwoLC4ssKyuTnj175vfq1etMbWJt1apV2dixYy9GRERE+fr6mrt06fKLmvdu\nbm5qxYoVxyuWZo6Li6tVPfqa1KrUsIjsV0rV6ZpZR9JTqWEdlrRtNKqdrtnoCpdrLrA0s+D6gOuV\n9qluuqYB/l4aZKlhujmVlRqu7Z8ta0XkjyLiLyI+tkfdh0hERHWpttM147Tn5+3aFIC76zYcIiKq\nS7VK8kqpDo4OhIiI6l6tkryIxFfWrpRqEJOJRERUudpO19xj99oN1nuu/gSASZ6IqAGr7XTNVPv3\nItICwAqHRERERHXmVksNXwPAeXoiHTszN6ZOl00HzU5q8KWGBw8eHLZgwYLT06dPv2Tr37t378iX\nX3753Ny5c89X9bnTp09v6+npWVZdH2epbanhtSKyRnusB5AO4EvHhkZE9EuOLDUcGhpa9MUXX5Rf\nlfrJJ5/4dOrUqehWjtVQ1PYH9Q8AC7THPAD3KaVmOSwqIrqjOavUcEBAwPWSkhKXs2fPGi0WC7Zs\n2eL94IMPlo/6FyxY0Co6OjqiU6dOkQ8//HDH/Pz8X+TQlJSUpn379g2NioqKiI2N7XTgwIE6K1Fw\nK2qV5LVCZWmwVqJsCaDyS/yIiOqIM0oNA8DQoUNzPvnkk5abNm1qFhMTU2hfKG3s2LE5ycnJqenp\n6Uc6depUtHDhwlYV9x8/fnz7d99990xKSkrq/Pnzz02ePDnIcT+lmtV2CeVjAOYD2AZAALwtIs8r\npVY5MDYiuoM5o9QwAMTHx18ZPnx4x7S0NPff/e53V3bt2uVp27Z//3732bNnB+Tn5xuuXbtm6Nev\n3w1z+7m5uS4HDhzwHDlyZEdb2/Xr139RPbM+1fbE618A3KOUugAAIuILYBMAJnkicghnlRoOCgoy\nN2nSRO3YsaP5kiVLztgn+QkTJnRYtWpVxr333lu0cOHCu7Zv325/nw2UlZXBy8vLnJaWduR2YqhL\ntU3yLrYEr7mM2s/nE92Rtt/Xr8ptRUYDIIKic+eq7Ndvx3ZHhdao2UoN+/v7V1pquF+/fvn2pYb7\n9etXmJOT4+Lp6WmpbanhV155JdNkMjUxGm9MkYWFhS5BQUGlJSUlsmLFCh9/f/8bbu7h4+NjCQwM\nvL5kyZKWTz31VI7FYsG+ffvc7733XqedvK1tkv9ORDYA+Fx7PwrAN44JiYgagtoseXSG+ig1PGDA\ngF+UBAaAWbNmZfXo0SPCx8fH3L1794KCgoJf3Ab1888/P/H000+3f+ONN/zNZrMMGzbsijOTfLWl\nhkUkBEAbpdRuEfktgD7apqsAliuljtdDjDeNpYbrbv872e2WGp7336rHUO8YDbgiAh+lMMVc+S0a\n6nkkz1LDOlBZqeGaRvL/BPACACilVgNYDQAiEqNtG1z3YRIRUV2paW6qjVIqqWKj1hbskIiIiKjO\n1JTkW1Szrdb3OSQiIueoKcknisjTFRtFZDyABnlShoiIflbTnPyfAXwpImPxc1KPA+AKYJgjA2sI\nEhISYDKZ4OfnhzfffNPZ4RAR3bRqk7xS6jyAXiLyAIBorXm9UmqLwyNrAEwmEzIzM50dBhHRLatt\nPfmtALY6OBYiakB6v927TksN7566u8YpXhGJHT9+/PkPPvjgHADMnj27TUFBgeGtt97KutnjXbp0\nybB48WKfWbNmXbyVeGuybt06rwULFrTZunVrRsX2hlSymFetElGD4erqqr755puW2dnZt3qvi3KX\nL182fPjhh61vZh+LxYKyssqvW7gZDalkMZM8ETUYBoNBxcfHX5w3b16bituysrKMDz/8cMfo6OiI\n6OjoiO+//74ZYB39zp49u7x/aGhoVHp6uuuMGTMCz5492zQ8PDxy4sSJgQDw8ssvt4mOjo4ICwuL\ntJUlTk9Pdw0ODo4eNmxYcFhYWNTx48ddV69e3bxr167hkZGREQMHDrw7NzfXBQBWrVrVvEOHDlGR\nkZERq1atqnL1YUMqWeywJC8iS0Tkgogk27X5iMhGETmmPbfU2kVEFopIhogcFpHudvuM0/ofE5Fx\njoqXiBqG559//sLq1at9Ll++fEPJgIkTJ7abPn36+eTk5NQvv/zy+KRJk4Kr+5wFCxaca9euXUla\nWtqRRYsWnVu9enXzjIwMt8OHD6empqYeOXjwoMe3337rCQBnzpxpOmXKlIsZGRkpXl5elnnz5vnv\n2LHj6JEjR1K7d+9e+Le//a1NYWGhTJkyJXjNmjUZycnJqRcuXGhS3fEbSsni2/6TqBofA3gHN97s\nexaAzUqp10VklvZ+JoCBAEK1R08A/wHQU0R8AMyBdUWPArBfRNYopSqtN0FEjZ+Pj49l5MiRl19/\n/fXW7u7u5SWCd+/e3fzYsWPl1+cUFBQYbCPs2vjuu++a79ixo3lkZGQkYC02lpaW5nb33Xdf9/f3\nv/7ggw9eA4Bt27Y1O378uFuPHj3CAaC0tFRiY2MLDh486BYYGFgSExNTAgBjx469vHjxYt+qjtdQ\nShY7LMkrpXaISHCF5kcB3K+9XgprffqZWvsyZS2ks1dEWoiIv9Z3o1LqCgCIyEYAj+DnQmlEpEMv\nvPDC+e7du0eOHj26vJaOUgo//fRTqoeHxw0Ft4xGo7JYfi4XX1JSUmkyVErhz3/+c/bzzz9/Q32e\n9PR0Vw8PD4t9vz59+uStXbv2pH2/PXv23NQFoA2lZHF9z8m3UUpla69NAGzzaAEAztr1O6e1VdX+\nCyIyQUQSRSTx4kWHnEwnonrSpk2bssGDB+d89tln5dMYffr0yXvttdfKT6Takm5wcHDJwYMHmwHA\nrl27PDIzM5sCgLe3d9m1a9fKc9zAgQPzPvnkk1a20f/JkyebZGZm/mKge//9919LTEz0TE5ObgoA\neXl5LocPH27atWvX4szMTNeUlJSmALBixQqfmv4dr7zySubf/va3czWVLK64n33JYsB6Qvh///vf\nLVUZcOR0TbWUUkpEqi6BefOf9z6A9wFrFcq6+lyiO1Vtljw60l/+8hfT0qVLy6dD3n///bPjx48P\nCgsLiywrK5OePXvm9+rV60x8fHzO8uXL7woJCYnq1q3btfbt2xcDgJ+fX1lsbGxBaGhoVP/+/XMX\nLVp0LiUlxe2ee+4JBwAPDw/L8uXLTxqNxhvyRdu2bc2LFi06NXr06LttUyRz5szJ7Ny5c8nbb799\netCgQSHu7u6Wnj17Vlpq2F5DKFlcbanh26VN16xTSkVr79MB3K+UytamY7YppTqJyCLt9ef2/WwP\npdRErf2GflWpq1LDt1umty6umGWpYedhqWFqbCorNVzf0zVrANhWyIwD8LVde7y2yuZXAHK1aZ0N\nAH4tIi21lTi/1toaBdsVsyaTydmhENEdymHTNSLyOawj8VYicg7WVTKvA1gpIn8AcBrAY1r3bwD8\nBkAGgEIATwKAUuqKiPwNwI9av7m2k7BERFQzR66uGVPFpgcr6asAPFPF5ywBsKQOQyMiumPwilci\nIh1jkici0jEmeSIiHXPaOnkiati239evTksN99uxvcZ19zNnzvT74osv7nJxcVEuLi549913T/fv\n37/SteaOFBAQEJOYmJjq7+9vrtjerFmzMhcX6/j47bffPl3VWvjbVVUp45vFJE9EDcKmTZuabdiw\noUVSUtIRd3d3lZ2dbayqRIEzbd++/WjF5N+QcbqGiBqEzMzMJj4+PmZ3d3cFAP7+/ubg4OBSwDqC\nnjRpUmBYWFhkTExMhK3kwGeffebduXPn8IiIiMhevXqFnT171lhWVob27dtHZ2VlGQFrHZigoKDo\nrKwsY1Xlik0mk6F3796hISEhUaNGjWp/sxeJVlXCuEOHDlHDhw8PDg4Ojh4yZEiHr776yqt79+7h\n7du3j966dasHAGzdutWja9eu4REREZHdunULP3ToUNOKn5+Xl+cycuTI4JiYmIiIiIjITz/9tMoy\nxxUxyRNRgzB06NC8rKws1+Dg4OjHH388aP369Z722729vc1Hjx49MnHixAtTp05tBwADBgwoOHjw\nYFpqauqRESNGXJk7d66fwWDAiBEjLi9evNgHAL7++uvmERERRW3btjVXVa541qxZbe+9996CjIyM\nlGHDhl3Nzs52rSrOfv36hYWHh0d27tw5HACqK2F89uxZt5kzZ54/fvx48vHjx92WL19+V2JiYtrf\n//73c3//+9/9AaBLly7FP/74Y1pqauqROXPmZCYkJARWPOaLL77o/8ADD+QlJSWl7ty5M/2ll14K\nzMvLq1X+5nQNETUI3t7eluTk5CPfffed1+bNm73GjRvXcfbs2eemTZt2GQDGjRt3BQCefvrpKy+9\n9FI7ADh58qTr0KFDAy9evNjk+vXrLu3atSsBgMmTJ18aMmRIyOzZsy8sWbKk1e9///tLQNXlivfu\n3eu1evU3At4WAAAQqUlEQVTqDAAYPXp07sSJE6u8PVTF6ZrqShgHBASU9OjRowgAwsLCivr375/n\n4uKC7t27F7766qttAeDKlSuGUaNGdTh16pSbiKjS0tJfTFFt27at+YYNG1osXLjQD7BW2szIyHDt\n3r17cU0/VyZ5ImowjEYjBg0alD9o0KD8zp07F33yySd32ZK87WQnANiKG06ZMiXoT3/6k2ns2LG5\n69at85o7d25bAAgJCSlt1aqVec2aNV4HDx5s9tVXX50Aqi5XfDuqK2Hs6upafhwXFxe4ubkpADAY\nDCgrKxMAmDlzZkC/fv3yN27ceDw9Pd21f//+nSo7xqpVqzK6dOlScrPxcbqGiBqEQ4cONU1KSiqf\njz5w4IB7YGBgefW3ZcuW+QDAhx9+2LJbt27XACA/P98QFBRUCgAff/zxXfaf99RTT10cP358h8GD\nB1+xlfqtqlzxr371q3zb/itXrmyel5dXbXVJe7UtYVyVvLw8g+3fuWjRol/cIQoAHnjggbwFCxa0\nsdXN3717d63LDnMkT0SVqs2Sx7qUl5dnmDZtWlBeXp7BYDCo4ODgkqVLl562bc/JyTGEhYVFurq6\nqhUrVpwAgL/85S9ZY8aM6ejt7W3u06dP/pkzZ8q/JMaMGZM7ZcoUw4QJEy7b2qoqV/z6669nDR8+\n/O6QkJCouLi4An9//8pLi1bit7/9bV5tShhXZebMmabx48d3eOONN9oOGDDgamV9Xn/99awJEyYE\nhYeHR1osFmnXrl1JbZdWMskTUYPQt2/fwgMHDqRVtX327Nnn//Of/2Tatz3++ONXH3/88UoT4759\n+9w7depU2K1bt/J5a39/f/P69etPVOzr5+dXtnv37mM1xZiZmZlUWfvLL7984eWXX75Qsf3YsWMp\nttdffPHFKdvrTp06Xbdte+ihh66dOnWq/F7YCxcuzAJQPm0FAJ6enuqzzz4r/8K7GUzyRKQ7L774\not/HH3/s+9FHH52sube+MckTUYNX1Qi6KvPmzTPNmzePN3IAT7wSEekakzwRkY4xyRMR6RiTPBGR\njvHEKxFV6p0Za+u01PCUBYNrXHefnp7uOmjQoFD7pYfTp09v6+npWTZ37tzzle2zcOHCuxITE5st\nW7bsTF3GqxccyRMR6RiTPBE1Cj169Og0efLkgJiYmIjg4ODo7777zrNinxUrVnh37do1PDs72zh8\n+PDg3//+9+26desWHhgYGPPRRx+1BACLxYKJEycGhoaGRoWFhUV+8MEHLQHgiSeeCFq+fLk3AAwY\nMKDjyJEjgwHgn//8511Tp04NSE9Pd7377rujRo8e3T4kJCSqd+/eoQUFBQ2u3n1FTPJE1GiYzWZJ\nSkpKfeONN87aipHZLFu2rMX8+fP9Nm7ceMxWJfL8+fNNEhMT077++utjc+bMCbD1S0pKck9NTU3Z\nvHnz0dmzZweePn26Sd++ffN37NjhBQAmk8n16NGjbgCwa9cur/vvvz8fAM6cOeM2bdq0CxkZGSne\n3t5ly5Yta1m/P4GbxyRPRA2GSOUDY1v7yJEjcwCgV69e186dO1de83337t1eCxYs8Nu4ceMxX1/f\n8jLBQ4YMuWowGBAbG1t8+fLlJgCwc+dOr8cee+yK0WhEu3btzD179izYtWuXx4ABAwr27t3ruX//\nfrewsLCiVq1alZ4+fbrJ/v37m/Xv378AAAICAkp69epVBADdunUrPHXq1C9u8NHQMMlTtRISEhAf\nH4+EhARnh0J3gDZt2phzc3NvqAB55coVQ6tWrcwAykv1Go3G8lK9ANC+ffuSa9euGZKTk93s97X1\nB6zleqvToUOH0ry8PMPatWu9+/btm9+7d++CZcuWtWzWrJmlZcuWFgCwLx1sMBiU2WzmdA01biaT\nCZmZmTCZeIU4OZ63t7eldevWpWvWrPECgPPnzxu2bdvmbRtJVyUwMPD6f//73+NPPvlkh8TERLfq\n+t533335q1at8jGbzcjKyjL+8MMPnn379r0GAN27d7+2aNGi1g899FDB/fffX/Dvf//br2fPntUe\nu6HjEkoiqlRtljw6wtKlS0/+8Y9/DEpISGgHADNnzsyKioqq8WYZ3bp1K162bNmJUaNGdVyzZk2V\nZXifeOKJq3v27PGMiIiIEhH1yiuvnAsKCjIDQJ8+fQp27tzZPDo6uqSkpOR6bm6u4b777suvu39d\n/WOSJ6IGJTY2tnjfvn1HK7b/8MMP6bbX/v7+ZlvRMu3OUZcBoHfv3kXHjx9PAW4s7QsAhYWFBwDr\nHZoWLVp0DsC5isd49tlnLz377LOXAKBp06aqqKjogG2bfXlgAKhq3X5Dw+kaIiIdY5InItIxJnki\nsrFYLJYGv1qEKqf97iwV2zkn72S93+5d7XbXq65wgQvOXj1bZd/dU3c7IjS68yRfvHgx0tfXN9fF\nxaVW9yelhsFiscjFixe9ASRX3MYkrwPb7+tX5bYiowEQQdG5c1X267dju6NCo0bEbDaPN5lMi00m\nUzT4V35jYwGQbDabx1fcwCRPjU5CQgJMJhP8/Pzw5ptvOu0z9CY2NvYCgCHOjoPqFpM8NTq2C7Sc\n/RlEjQH/JCMi0jEmeSIiHWOSJyLSMackeRE5JSJJInJQRBK1Nh8R2Sgix7Tnllq7iMhCEckQkcMi\n0t0ZMRMRNUbOHMk/oJTqqpSK097PArBZKRUKYLP2HgAGAgjVHhMA/KfeIyUiaqQa0nTNowCWaq+X\nAhhq175MWe0F0EJE/J0RIBFRY+OsJK8AfC8i+0VkgtbWRimVrb02AWijvQ4AcNZu33NaGxER1cBZ\n6+T7KKUyRaQ1gI0ikma/USmlROSmLqvWviwmAEBQUFDdRUpE1Ig5ZSSvlMrUni8A+BJADwDnbdMw\n2vMFrXsmgHZ2uwdqbRU/832lVJxSKs7X19eR4RMRNRr1nuRFpJmIeNleA/g1rEV11gAYp3UbB+Br\n7fUaAPHaKptfAci1m9YhIqJqOGO6pg2AL7W7rxsBfKaU+k5EfgSwUkT+AOA0gMe0/t8A+A2ADACF\nAJ6s/5CJiBqnek/ySqkTALpU0n4ZwIOVtCsAz9RDaEREutOQllASEVEdY5InItKxO77UcOzzy6rc\n5nUpHwYAZy7lV9lv//x4B0VGRHT7OJInItIxJnkiIh2746drbteZuTFVbjNf8QFghPnK6ar7tWzu\nmMCIiMCRPBGRrjHJExHpGJM8EZGOMckTEekYT7wS3QLloWCBBcrjpipiE9U7JnnSpepWPQG3v/Kp\ntHfpbURHVH84XUNEpGNM8kREOsYkT0SkY5yTpwbpdgvHfenloMCIGhmO5ImIdIwjecI7M9ZWue3q\npWvlz9X1m7JgcJ3HRUS3j0meyAlaKHXDM5GjMMkTOcHjZRZnh0B3CM7JExHpGJM8EZGOMckTEekY\nkzwRkY4xyRMR6RiTPBGRjjHJExHpGJM8EZGOMckTEekYkzwRkY4xyRMR6RiTPBGRjjHJExHpGKtQ\nNnDKQ8ECC5THrZWkZUlbojsbk3wDV9q79Lb2Z0nbyrVyswAwa89E+sUkT42OxbXZDc+34rnOV+sq\nHKIGjUmeGp1rob92dggNQkJCAkwmE/z8/PDmm286OxxqoJjkq3G7I0ZOCZAjmUwmZGZmOjsMauAa\nTZIXkUcA/AuAAcBipdTrjj7m7Y4YOSVARM7WKJK8iBgA/BvAAADnAPwoImuUUkecGxmR47wzY221\n269eulb+XFXfKQsG13lc1Lg0lnXyPQBkKKVOKKWuA1gB4FEnx3RHaObaHM2atkAz1+bODoWIboGo\nRrB+WkRGAHhEKTVee/8EgJ5KqSl2fSYAmKC97QQgvd4DdZxWAC45Owj6BT39Xi4ppR5xdhBU9xrF\ndE1tKKXeB/C+s+NwBBFJVErFOTsOuhF/L9QYNJbpmkwA7ezeB2ptRERUjcaS5H8EECoiHUTEFcBo\nAGucHBMRUYPXKKZrlFJmEZkCYAOsSyiXKKVSnBxWfdLlNJQO8PdCDV6jOPFKRES3prFM1xAR0S1g\nkici0jEm+QZCRPxEZIWIHBeR/SLyjYiEVdG3hYj8sb5jvJOISJmIHBSRFBE5JCIzRIT/v1Cjw/9o\nGwAREQBfAtimlOqolIoF8AKANlXs0gIAk7xjFSmluiqlomAtpzEQwBwnx0R005jkG4YHAJQqpd6z\nNSilDgE4ICKbReQnEUkSEVsph9cBdNRGmvOdEfCdRCl1AdarqaeIlZuIfKT9Tg6IyAMAICIeIrJS\nRI6IyJcisk9EeLEUOVWjWEJ5B4gGsL+S9mIAw5RSeSLSCsBeEVkDYBaAaKVU1/oM8k6mlDqhFcpr\nDeBxa5OKEZFwAN9rU2t/BJCjlIoUkWgAB50YMhEAJvmGTgDME5H7AFgABKDqKRyqP30AvA0ASqk0\nETkNIExr/5fWniwih50XIpEVp2sahhQAsZW0jwXgCyBWG7WfB+BWn4GRlYjcDaAMwAVnx0J0M5jk\nG4YtAJpqlTQBACLSGUB7ABeUUqXavG97bXM+AK/6D/POJCK+AN4D8I6yXj24E9YvYGjTNEGwVj3d\nDeAxrT0SQIxTAiaywyTfAGiJYxiAh7QllCkAXgPwDYA4EUkCEA8gTet/GcBuEUnmiVeHcbctoQSw\nCcD3AF7Rtr0LwEX7vfwfgN8rpUq0dl8ROQLgVVj/Qsut/9CJfsayBkR1RDsx20QpVSwiHWH9cuik\n3eiGyCl44pWo7ngA2CoiTWA9af5HJnhyNo7kiYh0jHPyREQ6xiRPRKRjTPJERDrGJH+HE5GhIqK0\ny/Nr6rtYW/99u8cM1pZ/PqwtUzwoIgUikq69Xna7xyAiK554vcOJyP8BaAtgi1KqXqosikgwgHVK\nqWi7tm0AnlNKJdZHDER3Co7k72Ai4glrvZU/wHpzdIjI/SKyTURWiUiaiCzXSiFDa4/TXheIyHyt\n3vomEemhbT8hIkO0PsEislOrovmTiPS6idj2aEW+bO/3ikiUiLwqIku198dE5Cm7PrNE5AcROSwi\ns+vkh0TUyDHJ39keBfCdUuoogMsiYquf0w3AnwFEArgbQO9K9m0G6+g/CtYyC6/CWnd9GIC5Wp8L\nAAYopboDGAVg4U3E9iGA3wPlJQLE7ubtMQDu1+KaKyJtROQ3sJYX6AmgK4BeN/OlQqRXTPJ3tjEA\nVmivV2jvAeAHpdQ5pZQF1nK5wZXsex3Ad9rrJADblVKl2mtb/yYAPtAu//8vrF8atfV/AB4VESOA\npwB8ZLftK6VUsVbnfQeAewD8GtYbexwA8BOAEFgrQxLd0XjF6x1KRHwA9AcQIyIKgAGAArAeQIld\n1zJU/t9Jqfr5hI7Fto9SyqIlZgB4FtbKmV1gHVAU1zY+pVSBNk8/BMBwWEfn5Zsrdof1CtNXlVIf\n1vYYRHcCjuTvXCMAfKKUaq+UClZKtQNwEkDfOjyGN4Bs7S+CJ2D9IrkZiwG8A2CPUsq+0NdQEWmq\nVYfsCyARwAYAfxCRZgAgIoHajVaI7mhM8neuMbDeV9beF/h5yqYuvAtgnIgcAhAO4NrN7KyU2geg\nEDdO1QBAMoDtAPYAmKOUOq+U+gbAKljvnpUEYCUAz9uMn6jR4xJKarBEpB2AjQAibFNDIvIqgEtK\nqX86NTiiRoIjeWqQRORJWEfqLyqORIhuGUfyREQ6xpE8EZGOMckTEekYkzwRkY4xyRMR6RiTPBGR\njv1/GR4waa5Frv8AAAAASUVORK5CYII=\n",
      "text/plain": [
       "<matplotlib.figure.Figure at 0x7f113e081518>"
=======
      "image/png": "iVBORw0KGgoAAAANSUhEUgAAAXkAAAEYCAYAAAC5q4bCAAAABHNCSVQICAgIfAhkiAAAAAlwSFlz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\n/wfZm9jfmTHgvgAAAABJRU5ErkJggg==\n",
      "text/plain": [
       "<matplotlib.figure.Figure at 0x7f8704adcba8>"
>>>>>>> afd52697643ac5acfa2270161f66f3211faa46bb
      ]
     },
     "metadata": {},
     "output_type": "display_data"
    }
   ],
   "source": [
    "animal_sex_outcomes = train.groupby(['AnimalType', 'SexuponOutcome']).OutcomeType.value_counts()\n",
    "animal_sex_outcomes.name = 'Count'\n",
    "animal_sex_outcomes = animal_sex_outcomes.reset_index()\n",
    "a_s_o_fp = sns.factorplot(x='AnimalType',\n",
    "                          y='Count',\n",
    "                          hue='SexuponOutcome',\n",
    "                          data=animal_sex_outcomes,\n",
    "                          kind='bar',)"
   ]
  },
  {
   "cell_type": "code",
   "execution_count": 6,
   "metadata": {
    "collapsed": true
   },
   "outputs": [],
   "source": [
    "train_id, test_id = train['AnimalID'], test['ID']\n",
    "# train.drop('AnimalID', axis=1, inplace=True)\n",
    "# test.drop('ID', axis=1, inplace=True)"
   ]
  },
  {
   "cell_type": "code",
   "execution_count": 7,
   "metadata": {
    "collapsed": true
   },
   "outputs": [],
   "source": [
    "class SimpleAnimalFeatures(BaseEstimator, TransformerMixin):\n",
    "    def __init__(self):\n",
    "        pass\n",
    "    \n",
    "    def fit(self, X, y=None):\n",
    "        return self\n",
    "    \n",
    "    def transform(self, X):\n",
    "        # print('[I] Engineering simple features')\n",
    "        sterilized_pat = re.compile('.*(neutered|spayed).*', re.IGNORECASE)\n",
    "        female_pat = re.compile('.*\\\\b(female)\\\\b.*', re.IGNORECASE)  \n",
    "        male_pat = re.compile('.*\\\\b(male)\\\\b.*', re.IGNORECASE)\n",
    "        \n",
    "        X = X.copy()\n",
    "        X.loc[:,'Sterilized'] = 1 * X['SexuponOutcome'].str.match(sterilized_pat).fillna(0)   \n",
    "        def transform_sex(sex):\n",
    "            if isinstance(sex, str):\n",
    "                if male_pat.match(sex):\n",
    "                    return 1\n",
    "                elif female_pat.match(sex):\n",
    "                    return 2\n",
    "            return 0\n",
    "        X.loc[:, 'SexuponOutcome'] = X['SexuponOutcome'].transform(transform_sex)\n",
    "        X.loc[:, 'Name'] = 1 * X['Name'].notnull()\n",
    "        return X"
   ]
  },
  {
   "cell_type": "code",
   "execution_count": 8,
   "metadata": {},
   "outputs": [
    {
     "data": {
      "text/plain": [
       "{'Chihuahua', 'Domestic', 'LabradorRetriever', 'PitBull', 'Shepherd'}"
      ]
     },
     "execution_count": 8,
     "metadata": {},
     "output_type": "execute_result"
    }
   ],
   "source": [
    "breedcnt = dict()\n",
    "\n",
    "breed_noise_pat = re.compile('\\\\s*\\\\b(mix|shorthair|australian|swiss|mexican|' +\n",
    "                             'spanish|american|british|english|belgian|jack|russel|l|old|' +\n",
    "                             'west|german|rat|great|shorthair|longhair|mediumhair|eng|toy|' +\n",
    "                             'medium|hair|russel|yorkshire|miniature|pale|gray|red|' +\n",
    "                             'orange|tiger|smoke|blue|yellow|tabby|calico|point|tick|brindle|' +\n",
    "                             'tan|black|)\\\\b\\\\s*', re.IGNORECASE)\n",
    "\n",
    "def simplify_breed(breed):\n",
    "    return breed_noise_pat.sub('', breed)\n",
    "\n",
    "def breed_is_(breed, pat):\n",
    "    def clf(x):\n",
    "        return 1 * x['Breed'].str.match(pat)\n",
    "    return clf\n",
    "\n",
    "breed_props = [('Domestic', re.compile('.*domestic.*', re.IGNORECASE),),\n",
    "               ('Longhair', re.compile('.*long\\\\s*hair.*', re.IGNORECASE),),\n",
    "               ('Mix', re.compile('.*(mix|/).*', re.IGNORECASE))]\n",
    "\n",
    "class BreedPreprocessor(BaseEstimator, TransformerMixin):\n",
    "    def __init__(self, max_breeds=6, col='Breed', rare='Rare'):\n",
    "        self.max_breeds = max_breeds\n",
    "        self.col = col\n",
    "        self.rare = rare\n",
    "        self.breed_cnt_ = None\n",
    "        \n",
    "    def fit(self, X, y=None):\n",
    "        # print('[I] Fitting breeds')\n",
    "        breedcnt = defaultdict(lambda: 0)\n",
    "        for breeds in X[self.col]:\n",
    "            for breed in breeds.split('/'):\n",
    "                breed = simplify_breed(breed)\n",
    "                breedcnt[breed] += 1\n",
    "        self.breed_cnt_ = pd.Series(breedcnt).sort_values(ascending=False)\n",
    "        self.top_ = set(self.breed_cnt_.index[:self.max_breeds - 1])\n",
    "        return self\n",
    "    \n",
    "    def _extract_breed(self, breeds):\n",
    "        for breed in breeds.split('/'):\n",
    "            breed = simplify_breed(breed)\n",
    "            if breed in self.top_:\n",
    "                return breed\n",
    "        return self.rare\n",
    "    \n",
    "    def transform(self, X):\n",
    "        # print('[I] Transforming breeds')\n",
    "        X = X.copy()\n",
    "        X[self.col] = X[self.col].apply(lambda x: self._extract_breed(x))\n",
    "        X = X.assign(**{\n",
    "            breed_prop: breed_is_(breed_prop, pat)\n",
    "            for breed_prop, pat in breed_props\n",
    "        })\n",
    "        return X\n",
    "        \n",
    "breeds = BreedPreprocessor()\n",
    "breeds.fit(pd.concat((train, test)))\n",
    "breeds.top_"
   ]
  },
  {
   "cell_type": "code",
   "execution_count": 9,
   "metadata": {},
   "outputs": [
    {
     "data": {
      "text/plain": [
       "BreedPreprocessor(col='Breed', max_breeds=6, rare='Rare')"
      ]
     },
     "execution_count": 9,
     "metadata": {},
     "output_type": "execute_result"
    }
   ],
   "source": [
    "breeds"
   ]
  },
  {
   "cell_type": "code",
   "execution_count": 10,
   "metadata": {},
   "outputs": [
    {
     "data": {
      "text/plain": [
       "{'Black', 'Brown', 'Tan', 'White'}"
      ]
     },
     "execution_count": 10,
     "metadata": {},
     "output_type": "execute_result"
    }
   ],
   "source": [
    "\n",
    "\n",
    "# TODO:\n",
    "# 1.  extract \"basic\" colors\n",
    "# 2.  treat space-separated basic colors as polycolored patterns\n",
    "def is_monocolor(x):\n",
    "    return x['Color'].str.contains('/')\n",
    "\n",
    "class ColorPreprocessor(BaseEstimator):\n",
    "    def __init__(self, max_colors=5, col='Color'):\n",
    "        self.max_colors = max_colors\n",
    "        self.col = col\n",
    "        self.color_cnt_ = None\n",
    "        self.top_ = None\n",
    "    def fit(self, X, y=None):\n",
    "        # print('[I] Fitting colors')\n",
    "        clrcnt = defaultdict(lambda: 0)\n",
    "        for clrs in X[self.col]:\n",
    "            for clr in clrs.split('/'):\n",
    "                clrcnt[clr] += 1\n",
    "        self.color_cnt_ = pd.Series(clrcnt).sort_values(ascending=False)\n",
    "        self.top_ = set(self.color_cnt_.index[:self.max_colors-1])\n",
    "        return self\n",
    "        \n",
    "    def _extract_color(self, colors):\n",
    "        for color in colors.split('/'):\n",
    "            color = simplify_breed(color)\n",
    "            if color in self.top_: return color\n",
    "        return 'Rare'\n",
    "    \n",
    "    def transform(self, X):\n",
    "        # print('[I] Transforming colors')\n",
    "        X = X.copy()\n",
    "        X = X.assign(Monocolor = is_monocolor)\n",
    "        X[self.col] = X[self.col].apply(self._extract_color)\n",
    "        return X\n",
    "        \n",
    "colors = ColorPreprocessor()\n",
    "colors.fit(pd.concat((train, test)))\n",
    "colors.top_"
   ]
  },
  {
   "cell_type": "code",
   "execution_count": null,
   "metadata": {
    "collapsed": true
   },
   "outputs": [],
   "source": []
  },
  {
   "cell_type": "code",
   "execution_count": null,
   "metadata": {
    "collapsed": true
   },
   "outputs": [],
   "source": []
  },
  {
   "cell_type": "code",
   "execution_count": 11,
   "metadata": {},
   "outputs": [
    {
     "data": {
      "text/html": [
       "<div>\n",
       "<style>\n",
       "    .dataframe thead tr:only-child th {\n",
       "        text-align: right;\n",
       "    }\n",
       "\n",
       "    .dataframe thead th {\n",
       "        text-align: left;\n",
       "    }\n",
       "\n",
       "    .dataframe tbody tr th {\n",
       "        vertical-align: top;\n",
       "    }\n",
       "</style>\n",
       "<table border=\"1\" class=\"dataframe\">\n",
       "  <thead>\n",
       "    <tr style=\"text-align: right;\">\n",
       "      <th></th>\n",
       "      <th></th>\n",
       "      <th>count</th>\n",
       "      <th>unique</th>\n",
       "      <th>top</th>\n",
       "      <th>freq</th>\n",
       "    </tr>\n",
       "    <tr>\n",
       "      <th>AnimalType</th>\n",
       "      <th>Breed</th>\n",
       "      <th></th>\n",
       "      <th></th>\n",
       "      <th></th>\n",
       "      <th></th>\n",
       "    </tr>\n",
       "  </thead>\n",
       "  <tbody>\n",
       "    <tr>\n",
       "      <th rowspan=\"2\" valign=\"top\">Cat</th>\n",
       "      <th>Domestic</th>\n",
       "      <td>3927</td>\n",
       "      <td>28</td>\n",
       "      <td>2 months</td>\n",
       "      <td>1691</td>\n",
       "    </tr>\n",
       "    <tr>\n",
       "      <th>Rare</th>\n",
       "      <td>345</td>\n",
       "      <td>27</td>\n",
       "      <td>2 months</td>\n",
       "      <td>108</td>\n",
       "    </tr>\n",
       "    <tr>\n",
       "      <th rowspan=\"5\" valign=\"top\">Dog</th>\n",
       "      <th>Chihuahua</th>\n",
       "      <td>1192</td>\n",
       "      <td>26</td>\n",
       "      <td>1 year</td>\n",
       "      <td>273</td>\n",
       "    </tr>\n",
       "    <tr>\n",
       "      <th>LabradorRetriever</th>\n",
       "      <td>980</td>\n",
       "      <td>24</td>\n",
       "      <td>2 months</td>\n",
       "      <td>203</td>\n",
       "    </tr>\n",
       "    <tr>\n",
       "      <th>PitBull</th>\n",
       "      <td>669</td>\n",
       "      <td>22</td>\n",
       "      <td>1 year</td>\n",
       "      <td>173</td>\n",
       "    </tr>\n",
       "    <tr>\n",
       "      <th>Rare</th>\n",
       "      <td>3136</td>\n",
       "      <td>27</td>\n",
       "      <td>1 year</td>\n",
       "      <td>630</td>\n",
       "    </tr>\n",
       "    <tr>\n",
       "      <th>Shepherd</th>\n",
       "      <td>520</td>\n",
       "      <td>24</td>\n",
       "      <td>2 months</td>\n",
       "      <td>95</td>\n",
       "    </tr>\n",
       "  </tbody>\n",
       "</table>\n",
       "</div>"
      ],
      "text/plain": [
       "                             count unique       top  freq\n",
       "AnimalType Breed                                         \n",
       "Cat        Domestic           3927     28  2 months  1691\n",
       "           Rare                345     27  2 months   108\n",
       "Dog        Chihuahua          1192     26    1 year   273\n",
       "           LabradorRetriever   980     24  2 months   203\n",
       "           PitBull             669     22    1 year   173\n",
       "           Rare               3136     27    1 year   630\n",
       "           Shepherd            520     24  2 months    95"
      ]
     },
     "execution_count": 11,
     "metadata": {},
     "output_type": "execute_result"
    }
   ],
   "source": [
    "adopted = breeds.transform(train).loc[breeds.transform(train)['OutcomeType'] == 'Adoption']\n",
    "adopted.groupby(['AnimalType', 'Breed'])['AgeuponOutcome'].describe()"
   ]
  },
  {
   "cell_type": "code",
   "execution_count": 12,
   "metadata": {},
   "outputs": [
    {
     "data": {
      "text/html": [
       "<div>\n",
       "<style>\n",
       "    .dataframe thead tr:only-child th {\n",
       "        text-align: right;\n",
       "    }\n",
       "\n",
       "    .dataframe thead th {\n",
       "        text-align: left;\n",
       "    }\n",
       "\n",
       "    .dataframe tbody tr th {\n",
       "        vertical-align: top;\n",
       "    }\n",
       "</style>\n",
       "<table border=\"1\" class=\"dataframe\">\n",
       "  <thead>\n",
       "    <tr style=\"text-align: right;\">\n",
       "      <th></th>\n",
       "      <th></th>\n",
       "      <th>count</th>\n",
       "      <th>unique</th>\n",
       "      <th>top</th>\n",
       "      <th>freq</th>\n",
       "    </tr>\n",
       "    <tr>\n",
       "      <th>AnimalType</th>\n",
       "      <th>Breed</th>\n",
       "      <th></th>\n",
       "      <th></th>\n",
       "      <th></th>\n",
       "      <th></th>\n",
       "    </tr>\n",
       "  </thead>\n",
       "  <tbody>\n",
       "    <tr>\n",
       "      <th rowspan=\"2\" valign=\"top\">Cat</th>\n",
       "      <th>Domestic</th>\n",
       "      <td>139</td>\n",
       "      <td>26</td>\n",
       "      <td>1 month</td>\n",
       "      <td>42</td>\n",
       "    </tr>\n",
       "    <tr>\n",
       "      <th>Rare</th>\n",
       "      <td>8</td>\n",
       "      <td>6</td>\n",
       "      <td>1 month</td>\n",
       "      <td>3</td>\n",
       "    </tr>\n",
       "    <tr>\n",
       "      <th rowspan=\"5\" valign=\"top\">Dog</th>\n",
       "      <th>Chihuahua</th>\n",
       "      <td>16</td>\n",
       "      <td>11</td>\n",
       "      <td>2 years</td>\n",
       "      <td>3</td>\n",
       "    </tr>\n",
       "    <tr>\n",
       "      <th>LabradorRetriever</th>\n",
       "      <td>4</td>\n",
       "      <td>3</td>\n",
       "      <td>10 years</td>\n",
       "      <td>2</td>\n",
       "    </tr>\n",
       "    <tr>\n",
       "      <th>PitBull</th>\n",
       "      <td>8</td>\n",
       "      <td>7</td>\n",
       "      <td>3 months</td>\n",
       "      <td>2</td>\n",
       "    </tr>\n",
       "    <tr>\n",
       "      <th>Rare</th>\n",
       "      <td>19</td>\n",
       "      <td>13</td>\n",
       "      <td>2 years</td>\n",
       "      <td>4</td>\n",
       "    </tr>\n",
       "    <tr>\n",
       "      <th>Shepherd</th>\n",
       "      <td>3</td>\n",
       "      <td>3</td>\n",
<<<<<<< HEAD
       "      <td>4 weeks</td>\n",
=======
       "      <td>2 years</td>\n",
>>>>>>> afd52697643ac5acfa2270161f66f3211faa46bb
       "      <td>1</td>\n",
       "    </tr>\n",
       "  </tbody>\n",
       "</table>\n",
       "</div>"
      ],
      "text/plain": [
       "                             count unique       top freq\n",
       "AnimalType Breed                                        \n",
       "Cat        Domestic            139     26   1 month   42\n",
       "           Rare                  8      6   1 month    3\n",
       "Dog        Chihuahua            16     11   2 years    3\n",
       "           LabradorRetriever     4      3  10 years    2\n",
       "           PitBull               8      7  3 months    2\n",
       "           Rare                 19     13   2 years    4\n",
<<<<<<< HEAD
       "           Shepherd              3      3   4 weeks    1"
=======
       "           Shepherd              3      3   2 years    1"
>>>>>>> afd52697643ac5acfa2270161f66f3211faa46bb
      ]
     },
     "execution_count": 12,
     "metadata": {},
     "output_type": "execute_result"
    }
   ],
   "source": [
    "died = breeds.transform(train).loc[breeds.transform(train)['OutcomeType'] == 'Died']\n",
    "died.groupby(['AnimalType', 'Breed'])['AgeuponOutcome'].describe()"
   ]
  },
  {
   "cell_type": "code",
   "execution_count": null,
   "metadata": {
    "collapsed": true
   },
   "outputs": [],
   "source": []
  },
  {
   "cell_type": "code",
   "execution_count": null,
   "metadata": {
    "collapsed": true
   },
   "outputs": [],
   "source": []
  },
  {
   "cell_type": "code",
   "execution_count": 13,
   "metadata": {},
   "outputs": [
    {
     "data": {
      "text/plain": [
       "AgePreprocessor(col='AgeuponOutcome',\n",
<<<<<<< HEAD
       "        estimator=<function median at 0x7f11640e5400>,\n",
       "        groupby=['Breed', 'SexuponOutcome'], max_breeds=None)"
=======
       "        estimator=<function mean at 0x7f87341381e0>,\n",
       "        groupby=['Breed', 'SexuponOutcome'], max_breeds=20,\n",
       "        split_to_ymd=False)"
>>>>>>> afd52697643ac5acfa2270161f66f3211faa46bb
      ]
     },
     "execution_count": 13,
     "metadata": {},
     "output_type": "execute_result"
    }
   ],
   "source": [
    "def age_to_ymd(x):\n",
    "    if x <= 30:\n",
    "        return (0, 0, x)\n",
    "    elif x < 365:\n",
    "        return (0, x//30, 0)\n",
    "    else:\n",
    "        return (int(x/365.25), 0, 0)\n",
    "\n",
    "def purify_ages(ages):\n",
    "    days_in_unit = {\n",
    "    'day': 1,\n",
    "    'days': 1,\n",
    "    'week': 7,\n",
    "    'weeks': 7,\n",
    "    'month': 30,\n",
    "    'months': 30,\n",
    "    'years': 365.25,\n",
    "    'year': 365.25\n",
    "    }\n",
    "    def strage_to_days(age):\n",
    "        if not isinstance(age, str):\n",
    "            return float('nan')\n",
    "        age = age.split(' ')\n",
    "        return int(age[0]) * days_in_unit[age[1]]\n",
    "    ages = ages.map(strage_to_days)\n",
    "    return ages\n",
    "\n",
    "\n",
    "class AgePreprocessor(BaseEstimator):\n",
    "    def __init__(self,\n",
    "                 col='AgeuponOutcome',\n",
    "                 groupby=['Breed', 'SexuponOutcome',],\n",
    "                 max_breeds=20,\n",
    "                 estimator=np.mean,\n",
    "                 split_to_ymd=False):\n",
    "        self.col = col\n",
    "        self.groupby = groupby\n",
    "        self.estimator = estimator\n",
    "        self.max_breeds = max_breeds\n",
    "        self.split_to_ymd = split_to_ymd\n",
    "        \n",
    "    def fit(self, X, y=None):\n",
    "        bp_ = BreedPreprocessor(self.max_breeds)\n",
    "        bp_.fit(X)\n",
    "        self.prep_ = make_pipeline(bp_, SimpleAnimalFeatures())\n",
    "        return self\n",
    "    \n",
    "    def transform(self, X):\n",
    "        # First we remember how precise the date was specified\n",
    "        specific_age_pat = re.compile('.*(week|day).*', re.IGNORECASE)\n",
    "        X = X.copy()\n",
    "        X.loc[:,'SpecificAge'] = X.loc[:,self.col].str.match(specific_age_pat).fillna(0)\n",
    "        # X.loc[:,'SpecificAge'] = X[:,'SpecificAge'].fillna(0)\n",
    "        # Then we convert them to days\n",
    "        X.loc[:,self.col] = purify_ages(X[self.col])\n",
    "        # And finally we impute NA's:\n",
    "        X2 = self.prep_.transform(X)\n",
    "        # Screw pandas! There's no natural syntax to transform\n",
    "        # this thing groupwise using averages computed on the `full` dataset.\n",
    "        # So let's take an easy way:\n",
    "        X.loc[:,self.col] = X.loc[:,self.col].fillna(\n",
    "            X2.groupby(self.groupby)[self.col]\n",
    "            .transform(lambda x: x.fillna(self.estimator(x)))\n",
    "        )\n",
    "        X.loc[:,self.col] = X.loc[:,self.col].fillna(X2.loc[:,self.col].median())\n",
    "        if self.split_to_ymd:\n",
    "            X['AgeYears'], X['AgeMonths'], X['AgeDays'] = zip(\n",
    "                *X.loc[:,self.col].apply(age_to_ymd)\n",
    "            )\n",
    "            X = X.drop('AgeuponOutcome', axis=1)\n",
    "        return X\n",
    "                      \n",
    "\n",
    "ages = AgePreprocessor()\n",
    "full = pd.concat((train, test), keys=(1,2))\n",
    "ages.fit(full)\n"
   ]
  },
  {
   "cell_type": "code",
   "execution_count": null,
   "metadata": {},
   "outputs": [],
   "source": []
  },
  {
   "cell_type": "code",
   "execution_count": null,
   "metadata": {},
   "outputs": [],
   "source": []
  },
  {
   "cell_type": "code",
   "execution_count": 14,
   "metadata": {},
   "outputs": [
    {
     "data": {
      "text/plain": [
       "0"
      ]
     },
     "execution_count": 14,
     "metadata": {},
     "output_type": "execute_result"
    }
   ],
   "source": [
    "# train = ages.transform(train)\n",
    "# test = ages.transform(test)\n",
    "ages.transform(pd.concat((train, test)))['AgeuponOutcome'].isnull().sum()"
   ]
  },
  {
   "cell_type": "code",
   "execution_count": 15,
   "metadata": {
    "collapsed": true
   },
   "outputs": [],
   "source": [
    "import dateutil"
   ]
  },
  {
   "cell_type": "code",
   "execution_count": 16,
   "metadata": {},
   "outputs": [
    {
     "data": {
      "text/plain": [
       "ArrivalDatePreprocessor(col='DateTime')"
      ]
     },
     "execution_count": 16,
     "metadata": {},
     "output_type": "execute_result"
    }
   ],
   "source": [
    "def extract_mon_wd_h(x):\n",
    "    x = dateutil.parser.parse(x)\n",
    "    return (x.month, x.day, x.weekday(), x.hour)\n",
    "\n",
    "\n",
    "class ArrivalDatePreprocessor(BaseEstimator):\n",
    "    def __init__(self, col='DateTime'):\n",
    "        self.col = col\n",
    "        \n",
    "    def fit(self, X, y=None):\n",
    "        return self\n",
    "        \n",
    "    def transform(self, X):\n",
    "        # print('[I] Transforming arrival dates')\n",
    "        X = X.copy()\n",
    "        X['ArrMonth'], X['ArrMonthday'], X['ArrWeekday'], X['ArrHour'] = (\n",
    "            zip(*X[self.col].apply(extract_mon_wd_h))\n",
    "        )\n",
    "        return X\n",
    "arrivals = ArrivalDatePreprocessor()\n",
    "arrivals.fit(train)"
   ]
  },
  {
   "cell_type": "code",
   "execution_count": null,
   "metadata": {
    "collapsed": true
   },
   "outputs": [],
   "source": []
  },
  {
   "cell_type": "code",
   "execution_count": 17,
   "metadata": {
    "collapsed": true
   },
   "outputs": [],
   "source": [
    "class DropGarbage(sklearn.base.BaseEstimator):\n",
    "    def fit(self, X, y=None):\n",
    "        return self\n",
    "    \n",
    "    def transform(self, X):\n",
    "        # print('[I] Droping crap')\n",
    "        return X.drop([\n",
    "            'ID', 'AnimalID',\n",
    "            'DateTime',\n",
    "            'OutcomeType',\n",
    "            'OutcomeSubtype'],\n",
    "            axis=1,\n",
    "            errors='ignore')"
   ]
  },
  {
   "cell_type": "code",
   "execution_count": 18,
   "metadata": {
    "collapsed": true
   },
   "outputs": [],
   "source": [
    "class TextvarsSeqEncoder(BaseEstimator):\n",
    "    def __init__(self, textvars=['AnimalType', 'Breed', 'Color']):\n",
    "        self.textvars = textvars\n",
    "        self.enc_ = defaultdict(sklearn.preprocessing.LabelEncoder)\n",
    "\n",
    "    def fit(self, X, y=None):\n",
    "        # print('[I] Fitting text var encoders')\n",
    "        for v in self.textvars:\n",
    "            self.enc_[v].fit(X[v])\n",
    "        return self\n",
    "    \n",
    "    def transform(self, X):\n",
    "        # print('[I] Encoding text vars')\n",
    "        X = X.copy()\n",
    "        for v in self.textvars:\n",
    "            X[v] = self.enc_[v].transform(X[v])\n",
    "        return X"
   ]
  },
  {
   "cell_type": "code",
   "execution_count": 19,
   "metadata": {
    "collapsed": true
   },
   "outputs": [],
   "source": [
    "class AnimalScaler(BaseEstimator):\n",
    "    def __init__(self, groupby=['Breed']):\n",
    "        self.groupby = groupby\n",
    "        \n",
    "    def fit(self, X, y=None):\n",
    "        return self\n",
    "    \n",
    "    def transform(self, X):\n",
    "        X = X.copy()\n",
    "        if 'AgeDays' in X.columns:\n",
    "            X.loc[X['AgeDays'] != 0, 'AgeDays'] = (\n",
    "                X.loc[X['AgeDays'] != 0]\n",
    "                .groupby(self.groupby)['AgeDays']\n",
    "                .transform(lambda x: x/x.median())\n",
    "            )\n",
    "            X.loc[X['AgeMonths'] != 0, 'AgeMonths'] = (\n",
    "                X.loc[X['AgeMonths'] != 0]\n",
    "                .groupby(self.groupby)['AgeMonths']\n",
    "                .transform(lambda x: x/x.median())\n",
    "            )\n",
    "            X.loc[X['AgeYears'] != 0, 'AgeYears'] = (\n",
    "                X.loc[X['AgeYears'] != 0]\n",
    "                .groupby(self.groupby)['AgeYears']\n",
    "                .transform(lambda x: x/x.median())\n",
    "            )\n",
    "        X.loc[:,'ArrMonth'] /= 12\n",
    "        X.loc[:,'ArrMonthday'] /= 30\n",
    "        X.loc[:,'ArrWeekday'] /= 7\n",
    "        X.loc[:,'ArrHour'] /= 24\n",
    "        return X\n",
    "        "
   ]
  },
  {
   "cell_type": "code",
   "execution_count": null,
   "metadata": {
    "collapsed": true
   },
   "outputs": [],
   "source": []
  },
  {
   "cell_type": "code",
   "execution_count": null,
   "metadata": {
    "collapsed": true
   },
   "outputs": [],
   "source": []
  },
  {
   "cell_type": "markdown",
   "metadata": {
    "collapsed": true
   },
   "source": [
    "Now let's prefill missing ages and start building a predictive model"
   ]
  },
  {
   "cell_type": "code",
   "execution_count": 20,
   "metadata": {},
   "outputs": [],
   "source": [
    "train, test = pd.read_csv('train.csv'), pd.read_csv('test.csv')\n",
    "ages.fit(full)\n",
    "train, test = ages.transform(train), ages.transform(test)"
   ]
  },
  {
   "cell_type": "code",
<<<<<<< HEAD
   "execution_count": null,
   "metadata": {
    "collapsed": true
   },
   "outputs": [],
   "source": []
  },
  {
   "cell_type": "code",
=======
>>>>>>> afd52697643ac5acfa2270161f66f3211faa46bb
   "execution_count": 21,
   "metadata": {
    "collapsed": true
   },
   "outputs": [],
   "source": [
    "from sklearn.pipeline import Pipeline, FeatureUnion\n",
    "from sklearn.model_selection import GridSearchCV, ParameterGrid, StratifiedKFold\n",
    "from sklearn.ensemble import RandomForestClassifier, AdaBoostClassifier\n",
    "from sklearn.model_selection import cross_val_score\n",
    "from sklearn.feature_selection import RFECV, SelectFromModel, SelectKBest, chi2\n",
    "from sklearn.decomposition import PCA\n",
    "from sklearn.decomposition import KernelPCA"
   ]
  },
  {
   "cell_type": "code",
   "execution_count": null,
   "metadata": {},
   "outputs": [],
   "source": []
  },
  {
   "cell_type": "code",
   "execution_count": null,
   "metadata": {},
   "outputs": [],
   "source": []
  },
  {
   "cell_type": "code",
   "execution_count": 22,
   "metadata": {
    "collapsed": true
   },
   "outputs": [],
   "source": [
    "prepr_pipe = Pipeline([\n",
    "    ('breed', breeds),\n",
    "    ('color', colors),\n",
    "    ('arrivals', arrivals),\n",
    "    ('simplefeats', SimpleAnimalFeatures()),\n",
    "    ('drop', DropGarbage()),\n",
    "    ('textenc', TextvarsSeqEncoder()),\n",
    "    ('scale', AnimalScaler())\n",
    "])"
   ]
  },
  {
   "cell_type": "code",
   "execution_count": 23,
   "metadata": {},
   "outputs": [],
   "source": [
    "prepr_pipe.fit(pd.concat((train, test), keys=(1,2)))\n",
    "X = prepr_pipe.transform(train)"
   ]
  },
  {
   "cell_type": "code",
   "execution_count": 24,
   "metadata": {},
   "outputs": [
    {
     "data": {
      "text/html": [
       "<div>\n",
       "<style>\n",
       "    .dataframe thead tr:only-child th {\n",
       "        text-align: right;\n",
       "    }\n",
       "\n",
       "    .dataframe thead th {\n",
       "        text-align: left;\n",
       "    }\n",
       "\n",
       "    .dataframe tbody tr th {\n",
       "        vertical-align: top;\n",
       "    }\n",
       "</style>\n",
       "<table border=\"1\" class=\"dataframe\">\n",
       "  <thead>\n",
       "    <tr style=\"text-align: right;\">\n",
       "      <th></th>\n",
       "      <th>Name</th>\n",
       "      <th>AnimalType</th>\n",
       "      <th>SexuponOutcome</th>\n",
       "      <th>AgeuponOutcome</th>\n",
       "      <th>Breed</th>\n",
       "      <th>Color</th>\n",
       "      <th>SpecificAge</th>\n",
       "      <th>Domestic</th>\n",
       "      <th>Longhair</th>\n",
       "      <th>Mix</th>\n",
       "      <th>Monocolor</th>\n",
       "      <th>ArrMonth</th>\n",
       "      <th>ArrMonthday</th>\n",
       "      <th>ArrWeekday</th>\n",
       "      <th>ArrHour</th>\n",
       "      <th>Sterilized</th>\n",
       "    </tr>\n",
       "  </thead>\n",
       "  <tbody>\n",
       "    <tr>\n",
       "      <th>0</th>\n",
       "      <td>1</td>\n",
       "      <td>1</td>\n",
       "      <td>1</td>\n",
       "      <td>365.25</td>\n",
       "      <td>4</td>\n",
       "      <td>0</td>\n",
       "      <td>False</td>\n",
       "      <td>0</td>\n",
       "      <td>0</td>\n",
       "      <td>0</td>\n",
       "      <td>True</td>\n",
       "      <td>0.166667</td>\n",
       "      <td>0.400000</td>\n",
       "      <td>0.285714</td>\n",
       "      <td>0.750000</td>\n",
       "      <td>1</td>\n",
       "    </tr>\n",
       "    <tr>\n",
       "      <th>1</th>\n",
       "      <td>1</td>\n",
       "      <td>0</td>\n",
       "      <td>2</td>\n",
       "      <td>365.25</td>\n",
       "      <td>1</td>\n",
       "      <td>1</td>\n",
       "      <td>False</td>\n",
       "      <td>1</td>\n",
       "      <td>0</td>\n",
       "      <td>0</td>\n",
       "      <td>False</td>\n",
       "      <td>0.833333</td>\n",
       "      <td>0.433333</td>\n",
       "      <td>0.857143</td>\n",
       "      <td>0.500000</td>\n",
       "      <td>1</td>\n",
       "    </tr>\n",
       "    <tr>\n",
       "      <th>2</th>\n",
       "      <td>1</td>\n",
       "      <td>1</td>\n",
       "      <td>1</td>\n",
       "      <td>730.50</td>\n",
       "      <td>3</td>\n",
       "      <td>2</td>\n",
       "      <td>False</td>\n",
       "      <td>0</td>\n",
       "      <td>0</td>\n",
       "      <td>0</td>\n",
       "      <td>True</td>\n",
       "      <td>0.083333</td>\n",
       "      <td>1.033333</td>\n",
       "      <td>0.714286</td>\n",
       "      <td>0.500000</td>\n",
       "      <td>1</td>\n",
       "    </tr>\n",
       "    <tr>\n",
       "      <th>3</th>\n",
       "      <td>0</td>\n",
       "      <td>0</td>\n",
       "      <td>1</td>\n",
       "      <td>21.00</td>\n",
       "      <td>1</td>\n",
       "      <td>1</td>\n",
       "      <td>True</td>\n",
       "      <td>1</td>\n",
       "      <td>0</td>\n",
       "      <td>0</td>\n",
       "      <td>False</td>\n",
       "      <td>0.583333</td>\n",
       "      <td>0.366667</td>\n",
       "      <td>0.571429</td>\n",
       "      <td>0.791667</td>\n",
       "      <td>0</td>\n",
       "    </tr>\n",
       "    <tr>\n",
       "      <th>4</th>\n",
       "      <td>0</td>\n",
       "      <td>1</td>\n",
       "      <td>1</td>\n",
       "      <td>730.50</td>\n",
       "      <td>4</td>\n",
       "      <td>1</td>\n",
       "      <td>False</td>\n",
       "      <td>0</td>\n",
       "      <td>0</td>\n",
       "      <td>0</td>\n",
       "      <td>False</td>\n",
       "      <td>0.916667</td>\n",
       "      <td>0.500000</td>\n",
       "      <td>0.571429</td>\n",
       "      <td>0.500000</td>\n",
       "      <td>1</td>\n",
       "    </tr>\n",
       "  </tbody>\n",
       "</table>\n",
       "</div>"
      ],
      "text/plain": [
       "   Name  AnimalType  SexuponOutcome  AgeuponOutcome  Breed  Color SpecificAge  \\\n",
       "0     1           1               1          365.25      4      0       False   \n",
       "1     1           0               2          365.25      1      1       False   \n",
       "2     1           1               1          730.50      3      2       False   \n",
       "3     0           0               1           21.00      1      1        True   \n",
       "4     0           1               1          730.50      4      1       False   \n",
       "\n",
       "   Domestic  Longhair  Mix  Monocolor  ArrMonth  ArrMonthday  ArrWeekday  \\\n",
       "0         0         0    0       True  0.166667     0.400000    0.285714   \n",
       "1         1         0    0      False  0.833333     0.433333    0.857143   \n",
       "2         0         0    0       True  0.083333     1.033333    0.714286   \n",
       "3         1         0    0      False  0.583333     0.366667    0.571429   \n",
       "4         0         0    0      False  0.916667     0.500000    0.571429   \n",
       "\n",
       "    ArrHour Sterilized  \n",
       "0  0.750000          1  \n",
       "1  0.500000          1  \n",
       "2  0.500000          1  \n",
       "3  0.791667          0  \n",
       "4  0.500000          1  "
      ]
     },
     "execution_count": 24,
     "metadata": {},
     "output_type": "execute_result"
    }
   ],
   "source": [
    "X.head()"
   ]
  },
  {
   "cell_type": "code",
   "execution_count": 25,
   "metadata": {},
   "outputs": [
    {
     "data": {
      "text/plain": [
       "Name              0\n",
       "AnimalType        0\n",
       "SexuponOutcome    0\n",
       "AgeuponOutcome    0\n",
       "Breed             0\n",
       "Color             0\n",
       "SpecificAge       0\n",
       "Domestic          0\n",
       "Longhair          0\n",
       "Mix               0\n",
       "Monocolor         0\n",
       "ArrMonth          0\n",
       "ArrMonthday       0\n",
       "ArrWeekday        0\n",
       "ArrHour           0\n",
       "Sterilized        0\n",
       "dtype: int64"
      ]
     },
     "execution_count": 25,
     "metadata": {},
     "output_type": "execute_result"
    }
   ],
   "source": [
    "X.isnull().sum()"
   ]
  },
  {
   "cell_type": "code",
   "execution_count": 26,
   "metadata": {},
   "outputs": [
    {
     "data": {
      "text/plain": [
       "12"
      ]
     },
     "metadata": {},
     "output_type": "display_data"
    },
    {
     "data": {
      "text/plain": [
       "7"
      ]
     },
     "metadata": {},
     "output_type": "display_data"
    },
    {
     "data": {
      "text/plain": [
       "AgeuponOutcome     0.000000e+00\n",
       "Breed              0.000000e+00\n",
       "Domestic           0.000000e+00\n",
       "Name               0.000000e+00\n",
       "SpecificAge        0.000000e+00\n",
       "Sterilized         0.000000e+00\n",
       "AnimalType        1.636853e-280\n",
       "Monocolor          3.347020e-31\n",
       "SexuponOutcome     1.424885e-20\n",
       "ArrWeekday         3.366517e-18\n",
       "ArrHour            3.223293e-15\n",
       "Color              1.455877e-06\n",
       "ArrMonth           2.967382e-01\n",
       "ArrMonthday        8.829056e-01\n",
       "Longhair                    NaN\n",
       "Mix                         NaN\n",
       "dtype: float64"
      ]
     },
     "metadata": {},
     "output_type": "display_data"
    }
   ],
   "source": [
    "y = train['OutcomeType']\n",
    "X_chisq_pv = pd.Series(dict(zip(X.columns, chi2(X, y)[1]))).sort_values()\n",
    "display((X_chisq_pv < 5e-2).sum(),\n",
    "        (X_chisq_pv < 1e-32).sum(),\n",
    "        X_chisq_pv)"
   ]
  },
  {
   "cell_type": "code",
   "execution_count": null,
   "metadata": {},
   "outputs": [],
   "source": []
  },
  {
   "cell_type": "code",
   "execution_count": 27,
   "metadata": {
    "scrolled": true
   },
   "outputs": [
    {
     "name": "stdout",
     "output_type": "stream",
     "text": [
      "Fitting 3 folds for each of 1 candidates, totalling 3 fits\n",
      "[CV] chi2__k=all, prepr__breed__max_breeds=5, prepr__color__max_colors=20, rfc__n_estimators=800 \n",
      "[CV] chi2__k=all, prepr__breed__max_breeds=5, prepr__color__max_colors=20, rfc__n_estimators=800 \n",
      "[CV]  chi2__k=all, prepr__breed__max_breeds=5, prepr__color__max_colors=20, rfc__n_estimators=800, score=-0.802221, total=  12.8s\n",
      "[CV] chi2__k=all, prepr__breed__max_breeds=5, prepr__color__max_colors=20, rfc__n_estimators=800 \n",
      "[CV]  chi2__k=all, prepr__breed__max_breeds=5, prepr__color__max_colors=20, rfc__n_estimators=800, score=-0.813757, total=  12.8s\n",
      "[CV]  chi2__k=all, prepr__breed__max_breeds=5, prepr__color__max_colors=20, rfc__n_estimators=800, score=-0.791546, total=  12.2s\n"
     ]
    },
    {
     "name": "stderr",
     "output_type": "stream",
     "text": [
      "[Parallel(n_jobs=2)]: Done   3 out of   3 | elapsed:   32.7s remaining:    0.0s\n",
      "[Parallel(n_jobs=2)]: Done   3 out of   3 | elapsed:   32.7s finished\n"
     ]
    },
    {
     "data": {
      "text/plain": [
       "GridSearchCV(cv=StratifiedKFold(n_splits=3, random_state=None, shuffle=False),\n",
       "       error_score='raise',\n",
       "       estimator=Pipeline(steps=[('prepr', Pipeline(steps=[('breed', BreedPreprocessor(col='Breed', max_breeds=6, rare='Rare')), ('color', ColorPreprocessor(col='Color', max_colors=5)), ('arrivals', ArrivalDatePreprocessor(col='DateTime')), ('simplefeats', SimpleAnimalFeatures()), ('drop', DropGarbage()), ('textenc', Textvar...mators=350, n_jobs=1, oob_score=False, random_state=None,\n",
       "            verbose=0, warm_start=False))]),\n",
       "       fit_params={}, iid=True, n_jobs=2,\n",
       "       param_grid={'chi2__k': ['all'], 'prepr__breed__max_breeds': [5], 'prepr__color__max_colors': [20], 'rfc__n_estimators': [800]},\n",
       "       pre_dispatch='2*n_jobs', refit=True, return_train_score=True,\n",
       "       scoring='neg_log_loss', verbose=10)"
      ]
     },
     "metadata": {},
     "output_type": "display_data"
    },
    {
     "data": {
      "text/plain": [
       "{'chi2__k': 'all',\n",
       " 'prepr__breed__max_breeds': 5,\n",
       " 'prepr__color__max_colors': 20,\n",
       " 'rfc__n_estimators': 800}"
      ]
     },
     "metadata": {},
     "output_type": "display_data"
    },
    {
     "data": {
      "text/plain": [
       "-0.80250896712029685"
      ]
     },
     "metadata": {},
     "output_type": "display_data"
    },
    {
     "data": {
      "text/plain": [
       "array([ 0.0456568 ,  0.01536564,  0.02629229,  0.17855036,  0.03652331,\n",
       "        0.05558804,  0.01523383,  0.01045537,  0.        ,  0.        ,\n",
       "        0.02090256,  0.10815194,  0.14509903,  0.08375413,  0.13861014,\n",
       "        0.11981657])"
      ]
     },
     "metadata": {},
     "output_type": "display_data"
    }
   ],
   "source": [
    "pipe1 = Pipeline([\n",
    "    ('prepr', prepr_pipe),\n",
    "    ('chi2', SelectKBest(chi2, 7)),\n",
    "    # ('threshold', SelectFromModel(RandomForestClassifier(350), 2e-2)),\n",
    "    ('rfc', RandomForestClassifier(350))\n",
    "])\n",
    "gs1 = GridSearchCV(pipe1,\n",
    "                  param_grid = {\n",
    "                      'chi2__k': ['all'], #[7, 12, 'all'],\n",
    "                      'prepr__breed__max_breeds': [5],\n",
    "                      'prepr__color__max_colors': [20],\n",
    "                      'rfc__n_estimators': [800],\n",
    "                  },\n",
    "                  scoring='neg_log_loss',\n",
    "                  n_jobs=2,\n",
    "                  verbose=10,\n",
    "                  cv=StratifiedKFold(3))\n",
    "gs1.fit(train, train['OutcomeType'])\n",
    "display(gs1,\n",
    "        gs1.best_params_,\n",
    "        gs1.best_score_,\n",
    "        gs1.best_estimator_.steps[-1][1].feature_importances_)"
   ]
  },
  {
   "cell_type": "code",
   "execution_count": 28,
   "metadata": {},
   "outputs": [
    {
     "data": {
      "text/plain": [
       "Longhair          0.000000\n",
       "Mix               0.000000\n",
       "Domestic          0.010455\n",
       "SpecificAge       0.015234\n",
       "AnimalType        0.015366\n",
       "Monocolor         0.020903\n",
       "SexuponOutcome    0.026292\n",
       "Breed             0.036523\n",
       "Name              0.045657\n",
       "Color             0.055588\n",
       "ArrWeekday        0.083754\n",
       "ArrMonth          0.108152\n",
       "Sterilized        0.119817\n",
       "ArrHour           0.138610\n",
       "ArrMonthday       0.145099\n",
       "AgeuponOutcome    0.178550\n",
       "dtype: float64"
      ]
     },
     "metadata": {},
     "output_type": "display_data"
    }
   ],
   "source": [
    "display(pd.Series(dict(zip(X.columns, gs1.best_estimator_.steps[-1][1].feature_importances_))).sort_values())"
   ]
  },
  {
   "cell_type": "code",
   "execution_count": 31,
   "metadata": {
    "scrolled": true
   },
   "outputs": [
    {
     "name": "stdout",
     "output_type": "stream",
     "text": [
      "Fitting 3 folds for each of 2 candidates, totalling 6 fits\n",
      "[CV] prepr__breed__max_breeds=5, prepr__color__max_colors=20, rfc__n_estimators=800, threshold__threshold=0.01 \n",
      "[CV] prepr__breed__max_breeds=5, prepr__color__max_colors=20, rfc__n_estimators=800, threshold__threshold=0.01 \n",
      "[CV]  prepr__breed__max_breeds=5, prepr__color__max_colors=20, rfc__n_estimators=800, threshold__threshold=0.01, score=-0.814628, total=  16.3s\n",
      "[CV]  prepr__breed__max_breeds=5, prepr__color__max_colors=20, rfc__n_estimators=800, threshold__threshold=0.01, score=-0.807580, total=  16.3s\n",
      "[CV] prepr__breed__max_breeds=5, prepr__color__max_colors=20, rfc__n_estimators=800, threshold__threshold=0.01 \n",
      "[CV] prepr__breed__max_breeds=5, prepr__color__max_colors=20, rfc__n_estimators=800, threshold__threshold=0.02 \n"
     ]
    },
    {
     "name": "stderr",
     "output_type": "stream",
     "text": [
      "[Parallel(n_jobs=2)]: Done   1 tasks      | elapsed:   20.5s\n"
     ]
    },
    {
     "name": "stdout",
     "output_type": "stream",
     "text": [
      "[CV]  prepr__breed__max_breeds=5, prepr__color__max_colors=20, rfc__n_estimators=800, threshold__threshold=0.01, score=-0.792334, total=  17.1s\n",
      "[CV] prepr__breed__max_breeds=5, prepr__color__max_colors=20, rfc__n_estimators=800, threshold__threshold=0.02 \n",
      "[CV]  prepr__breed__max_breeds=5, prepr__color__max_colors=20, rfc__n_estimators=800, threshold__threshold=0.02, score=-0.806795, total=  17.4s\n",
      "[CV] prepr__breed__max_breeds=5, prepr__color__max_colors=20, rfc__n_estimators=800, threshold__threshold=0.02 \n"
     ]
    },
    {
     "name": "stderr",
     "output_type": "stream",
     "text": [
      "[Parallel(n_jobs=2)]: Done   4 out of   6 | elapsed:   42.0s remaining:   21.0s\n"
     ]
    },
    {
     "name": "stdout",
     "output_type": "stream",
     "text": [
      "[CV]  prepr__breed__max_breeds=5, prepr__color__max_colors=20, rfc__n_estimators=800, threshold__threshold=0.02, score=-0.813050, total=  16.8s\n",
      "[CV]  prepr__breed__max_breeds=5, prepr__color__max_colors=20, rfc__n_estimators=800, threshold__threshold=0.02, score=-0.795859, total=  16.7s\n"
     ]
    },
    {
     "name": "stderr",
     "output_type": "stream",
     "text": [
      "[Parallel(n_jobs=2)]: Done   6 out of   6 | elapsed:  1.0min remaining:    0.0s\n",
      "[Parallel(n_jobs=2)]: Done   6 out of   6 | elapsed:  1.0min finished\n"
     ]
    },
    {
     "data": {
      "text/plain": [
       "GridSearchCV(cv=StratifiedKFold(n_splits=3, random_state=None, shuffle=False),\n",
       "       error_score='raise',\n",
       "       estimator=Pipeline(steps=[('prepr', Pipeline(steps=[('breed', BreedPreprocessor(col='Breed', max_breeds=6, rare='Rare')), ('color', ColorPreprocessor(col='Color', max_colors=5)), ('arrivals', ArrivalDatePreprocessor(col='DateTime')), ('simplefeats', SimpleAnimalFeatures()), ('drop', DropGarbage()), ('textenc', Textvar...mators=350, n_jobs=1, oob_score=False, random_state=None,\n",
       "            verbose=0, warm_start=False))]),\n",
       "       fit_params={}, iid=True, n_jobs=2,\n",
       "       param_grid={'prepr__breed__max_breeds': [5], 'prepr__color__max_colors': [20], 'threshold__threshold': [0.01, 0.02], 'rfc__n_estimators': [800]},\n",
       "       pre_dispatch='2*n_jobs', refit=True, return_train_score=True,\n",
       "       scoring='neg_log_loss', verbose=10)"
      ]
     },
     "metadata": {},
     "output_type": "display_data"
    },
    {
     "data": {
      "text/plain": [
       "{'prepr__breed__max_breeds': 5,\n",
       " 'prepr__color__max_colors': 20,\n",
       " 'rfc__n_estimators': 800,\n",
       " 'threshold__threshold': 0.01}"
      ]
     },
     "metadata": {},
     "output_type": "display_data"
    },
    {
     "data": {
      "text/plain": [
       "-0.80484916650821314"
      ]
     },
     "metadata": {},
     "output_type": "display_data"
    },
    {
     "data": {
      "text/plain": [
       "array([ 0.04568892,  0.02005989,  0.02650018,  0.17957385,  0.0419387 ,\n",
       "        0.05515605,  0.01713964,  0.02037361,  0.10749524,  0.14504998,\n",
       "        0.08410725,  0.13919397,  0.11772273])"
      ]
     },
     "metadata": {},
     "output_type": "display_data"
    }
   ],
   "source": [
    "pipe2 = Pipeline([\n",
    "    ('prepr', prepr_pipe),\n",
    "    ('threshold', SelectFromModel(RandomForestClassifier(350), .05)),\n",
    "    ('rfc', RandomForestClassifier(350))\n",
    "])\n",
    "gs2 = GridSearchCV(pipe2,\n",
    "                  param_grid = {\n",
    "                      'prepr__breed__max_breeds': [5],\n",
    "                      'prepr__color__max_colors': [20],\n",
    "                      'threshold__threshold': [0.01, 0.02], # [.02, .05, .08, .1],\n",
    "                      'rfc__n_estimators': [800],\n",
    "                  },\n",
    "                  scoring='neg_log_loss',\n",
    "                  n_jobs=2,\n",
    "                  verbose=10,\n",
    "                  cv=StratifiedKFold(3))\n",
    "gs2.fit(train, train['OutcomeType'])\n",
    "display(gs2,\n",
    "        gs2.best_params_,\n",
    "        gs2.best_score_,\n",
    "        gs2.best_estimator_.steps[-1][1].feature_importances_)"
   ]
  },
  {
   "cell_type": "code",
   "execution_count": 32,
   "metadata": {},
   "outputs": [],
   "source": [
    "classes = gs2.best_estimator_.named_steps['rfc'].classes_\n",
    "y_te = gs2.predict_proba(test)\n",
    "ans = pd.DataFrame(y_te, columns=classes, index=test['ID'])\n",
    "ans.to_csv('ans_treshold_0.02.csv')"
   ]
  },
  {
   "cell_type": "markdown",
   "metadata": {},
   "source": [
    "This results in $0.77899$ on kaggle."
   ]
  },
  {
   "cell_type": "markdown",
   "metadata": {},
   "source": [
    "Well, let's try PCA:"
   ]
  },
  {
   "cell_type": "code",
   "execution_count": 33,
   "metadata": {},
   "outputs": [
    {
     "name": "stdout",
     "output_type": "stream",
     "text": [
      "Wed, 26 Jul 2017 10:39:45 +0300\r\n"
     ]
    }
   ],
   "source": [
    "!date -R"
   ]
  },
  {
   "cell_type": "code",
   "execution_count": 34,
   "metadata": {
    "scrolled": true
   },
   "outputs": [
    {
     "name": "stdout",
     "output_type": "stream",
     "text": [
      "Fitting 3 folds for each of 1 candidates, totalling 3 fits\n",
      "[CV] pca__n_components=None, prepr__breed__max_breeds=4, prepr__color__max_colors=20, rfc__n_estimators=800 \n",
      "[CV] pca__n_components=None, prepr__breed__max_breeds=4, prepr__color__max_colors=20, rfc__n_estimators=800 \n",
      "[CV]  pca__n_components=None, prepr__breed__max_breeds=4, prepr__color__max_colors=20, rfc__n_estimators=800, score=-0.841700, total=  41.9s\n",
      "[CV] pca__n_components=None, prepr__breed__max_breeds=4, prepr__color__max_colors=20, rfc__n_estimators=800 \n",
      "[CV]  pca__n_components=None, prepr__breed__max_breeds=4, prepr__color__max_colors=20, rfc__n_estimators=800, score=-0.858430, total=  42.3s\n",
      "[CV]  pca__n_components=None, prepr__breed__max_breeds=4, prepr__color__max_colors=20, rfc__n_estimators=800, score=-0.832422, total=  41.6s\n"
     ]
    },
    {
     "name": "stderr",
     "output_type": "stream",
     "text": [
      "[Parallel(n_jobs=2)]: Done   3 out of   3 | elapsed:  1.5min remaining:    0.0s\n",
      "[Parallel(n_jobs=2)]: Done   3 out of   3 | elapsed:  1.5min finished\n"
     ]
    },
    {
     "data": {
      "text/plain": [
       "GridSearchCV(cv=StratifiedKFold(n_splits=3, random_state=None, shuffle=False),\n",
       "       error_score='raise',\n",
       "       estimator=Pipeline(steps=[('prepr', Pipeline(steps=[('breed', BreedPreprocessor(col='Breed', max_breeds=6, rare='Rare')), ('color', ColorPreprocessor(col='Color', max_colors=5)), ('arrivals', ArrivalDatePreprocessor(col='DateTime')), ('simplefeats', SimpleAnimalFeatures()), ('drop', DropGarbage()), ('textenc', Textvar...imators=10, n_jobs=1, oob_score=False, random_state=None,\n",
       "            verbose=0, warm_start=False))]),\n",
       "       fit_params={}, iid=True, n_jobs=2,\n",
       "       param_grid={'prepr__breed__max_breeds': [4], 'prepr__color__max_colors': [20], 'pca__n_components': [None], 'rfc__n_estimators': [800]},\n",
       "       pre_dispatch='2*n_jobs', refit=True, return_train_score=True,\n",
       "       scoring='neg_log_loss', verbose=10)"
      ]
     },
     "metadata": {},
     "output_type": "display_data"
    },
    {
     "data": {
      "text/plain": [
       "{'pca__n_components': None,\n",
       " 'prepr__breed__max_breeds': 4,\n",
       " 'prepr__color__max_colors': 20,\n",
       " 'rfc__n_estimators': 800}"
      ]
     },
     "metadata": {},
     "output_type": "display_data"
    },
    {
     "data": {
      "text/plain": [
       "-0.84418520167555922"
      ]
     },
     "metadata": {},
     "output_type": "display_data"
    },
    {
     "data": {
      "text/plain": [
       "array([ 0.11358134,  0.05134576,  0.07012841,  0.09308045,  0.05458484,\n",
       "        0.06940045,  0.0523953 ,  0.07908791,  0.04832499,  0.05869523,\n",
       "        0.05079604,  0.11943783,  0.08408689,  0.05505456])"
      ]
     },
     "metadata": {},
     "output_type": "display_data"
    }
   ],
   "source": [
    "pipepca = Pipeline([\n",
    "    ('prepr', prepr_pipe),\n",
    "    ('pca', PCA()),\n",
    "    ('treshold', SelectFromModel(RandomForestClassifier(100), 2e-2)),\n",
    "    ('rfc', RandomForestClassifier())\n",
    "])\n",
    "gspca = GridSearchCV(pipepca,\n",
    "                  param_grid = {\n",
    "                      'prepr__breed__max_breeds': [4],\n",
    "                      'prepr__color__max_colors': [20],\n",
    "                      'pca__n_components': [None],\n",
    "                      'rfc__n_estimators': [800],\n",
    "                  },\n",
    "                  scoring='neg_log_loss',\n",
    "                  n_jobs=2,\n",
    "                  verbose=10,\n",
    "                  cv=StratifiedKFold(3))\n",
    "gspca.fit(train, train['OutcomeType'])\n",
    "display(gspca,\n",
    "        gspca.best_params_,\n",
    "        gspca.best_score_,\n",
    "        gspca.best_estimator_.steps[-1][1].feature_importances_)"
   ]
  },
  {
   "cell_type": "code",
   "execution_count": 35,
   "metadata": {},
   "outputs": [
    {
     "name": "stdout",
     "output_type": "stream",
     "text": [
      "Wed, 26 Jul 2017 10:42:20 +0300\r\n"
     ]
    }
   ],
   "source": [
    "!date -R"
   ]
  },
  {
   "cell_type": "code",
   "execution_count": 36,
   "metadata": {
    "collapsed": true
   },
   "outputs": [],
<<<<<<< HEAD
   "source": []
  },
  {
   "cell_type": "code",
   "execution_count": null,
   "metadata": {
    "collapsed": true
   },
   "outputs": [],
   "source": []
=======
   "source": [
    "# pd.Series(dict(zip(X.columns, rfc.feature_importances_))).sort_values(ascending=False).plot.bar()"
   ]
>>>>>>> afd52697643ac5acfa2270161f66f3211faa46bb
  },
  {
   "cell_type": "code",
   "execution_count": 37,
   "metadata": {
    "collapsed": true
   },
   "outputs": [],
   "source": [
    "# cross_val_score(rfc, X, y, scoring='neg_log_loss')"
   ]
  },
  {
   "cell_type": "code",
   "execution_count": 38,
   "metadata": {},
   "outputs": [],
   "source": [
    "y_te = gspca.predict_proba(test)"
   ]
  },
  {
   "cell_type": "code",
   "execution_count": 39,
   "metadata": {},
   "outputs": [],
   "source": [
    "anspca = pd.DataFrame(y_te, columns=gspca.best_estimator_.steps[-1][1].classes_, index=test['ID'])\n",
    "anspca.to_csv('anspca.csv')"
   ]
  },
  {
   "cell_type": "code",
   "execution_count": null,
   "metadata": {
    "collapsed": true
   },
   "outputs": [],
   "source": []
  },
  {
   "cell_type": "code",
   "execution_count": 41,
   "metadata": {},
   "outputs": [
    {
     "name": "stdout",
     "output_type": "stream",
     "text": [
      "Fitting 3 folds for each of 1 candidates, totalling 3 fits\n",
      "[CV] prepr__breed__max_breeds=5, prepr__color__max_colors=20, separation__groupby=['AnimalType'] \n",
      "[CV] prepr__breed__max_breeds=5, prepr__color__max_colors=20, separation__groupby=['AnimalType'] \n",
      "[CV]  prepr__breed__max_breeds=5, prepr__color__max_colors=20, separation__groupby=['AnimalType'], score=-0.806559, total=  21.4s\n",
      "[CV] prepr__breed__max_breeds=5, prepr__color__max_colors=20, separation__groupby=['AnimalType'] \n",
      "[CV]  prepr__breed__max_breeds=5, prepr__color__max_colors=20, separation__groupby=['AnimalType'], score=-0.815320, total=  21.5s\n",
      "[CV]  prepr__breed__max_breeds=5, prepr__color__max_colors=20, separation__groupby=['AnimalType'], score=-0.797244, total=  20.7s\n"
     ]
    },
    {
     "name": "stderr",
     "output_type": "stream",
     "text": [
      "[Parallel(n_jobs=2)]: Done   3 out of   3 | elapsed:   49.1s remaining:    0.0s\n",
      "[Parallel(n_jobs=2)]: Done   3 out of   3 | elapsed:   49.1s finished\n"
     ]
    },
    {
     "data": {
      "text/plain": [
       "-0.80637524854751763"
      ]
     },
     "execution_count": 41,
     "metadata": {},
     "output_type": "execute_result"
    }
   ],
   "source": [
    "class IndependentExecution(BaseEstimator, TransformerMixin):\n",
    "    def __init__(self, model, groupby=['AnimalType']):\n",
    "        self.model = model\n",
    "        self.groupby = groupby\n",
    "        self.models_ = dict()\n",
    "        self.feature_importances_ = None\n",
    "    \n",
    "    def fit(self, X, y=None):\n",
    "        groups = X.groupby(self.groupby)\n",
    "        for i, g in groups:\n",
    "            self.models_[i] = sklearn.base.clone(self.model)\n",
    "            self.models_[i].fit(g, y[g.index])\n",
    "        self.feature_importances_ = (\n",
    "            np.sum(m.feature_importances_ for i, m in self.models_.items())/len(self.models_)\n",
    "        )\n",
    "        return self\n",
    "    \n",
    "    def transform(self, X):\n",
    "        groups = X.groupby(self.groupby)\n",
    "        new_X = pd.DataFrame()\n",
    "        for i, g in groups:\n",
    "            ind = g.index\n",
    "            g = self.models_[i].transform(g)\n",
    "            new_X = pd.concat((new_X, g))\n",
    "        new_X.sort_index(inplace=True)\n",
    "        return new_X\n",
    "        \n",
    "        return new_X\n",
    "    \n",
    "    def predict_proba(self, X):\n",
    "        groups = X.groupby(self.groupby)\n",
    "        new_X = pd.DataFrame()\n",
    "        for i, g in groups:\n",
    "            ind = g.index\n",
    "            g = self.models_[i].predict_proba(g)\n",
    "            g = pd.DataFrame(g, columns=self.models_[i].classes_, index=ind)\n",
    "            new_X = pd.concat((new_X, g))\n",
    "        new_X.sort_index(inplace=True)\n",
    "        return new_X\n",
    "\n",
    "    \n",
    "class CustomSelectFromModel(BaseEstimator, TransformerMixin):\n",
    "    def __init__(self, model, threshold, preserve = ['AnimalType']):\n",
    "        self.model = model\n",
    "        self.threshold = threshold\n",
    "        self.preserve = preserve\n",
    "        \n",
    "    def fit(self, X, y=None):\n",
    "        self.model.fit(X, y)\n",
    "        return self\n",
    "    \n",
    "    def transform(self, X):\n",
    "        scores = None\n",
    "        if hasattr(self.model, 'coefs_'):\n",
    "            scores = self.model.coefs_\n",
    "        else:\n",
    "            scores = self.model.feature_importances_\n",
    "        X = X.loc[:, self.preserve + list(X.columns[scores > self.threshold])].copy()\n",
    "        return X\n",
    "        \n",
    "    \n",
    "pipe3 = Pipeline([\n",
    "    ('prepr', prepr_pipe),\n",
    "    ('threshold', CustomSelectFromModel(IndependentExecution(RandomForestClassifier(800)), .02)),\n",
    "    ('separation', IndependentExecution(RandomForestClassifier(800))),\n",
    "])\n",
    "\n",
    "gs3 = GridSearchCV(pipe3,\n",
    "                  param_grid = {\n",
    "                      'separation__groupby': [['AnimalType']], # [['AnimalType'], ['AnimalType', 'SexuponOutcome']],\n",
    "                      'prepr__breed__max_breeds': [5],\n",
    "                      'prepr__color__max_colors': [20],\n",
    "                  },\n",
    "                  scoring='neg_log_loss',\n",
    "                  n_jobs=2,\n",
    "                  verbose=10,\n",
    "                  cv=StratifiedKFold(3))\n",
    "#y_enc = Pipeline([('labelenc', sklearn.preprocessing.LabelEncoder()),\n",
    "#                  ('ohe', sklearn.preprocessing.LabelBinarizer())])\n",
    "#y_enc = sklearn.preprocessing.LabelBinarizer()\n",
    "#y_enc.fit(train['OutcomeType'])\n",
    "#y = y_enc.transform(train['OutcomeType'])\n",
    "gs3.fit(train, train['OutcomeType'])\n",
    "gs3.best_score_"
   ]
  },
  {
   "cell_type": "code",
   "execution_count": null,
   "metadata": {},
   "outputs": [],
   "source": []
  },
  {
   "cell_type": "code",
   "execution_count": 42,
   "metadata": {},
   "outputs": [
    {
     "data": {
      "text/plain": [
       "GridSearchCV(cv=StratifiedKFold(n_splits=3, random_state=None, shuffle=False),\n",
       "       error_score='raise',\n",
       "       estimator=Pipeline(steps=[('prepr', Pipeline(steps=[('breed', BreedPreprocessor(col='Breed', max_breeds=6, rare='Rare')), ('color', ColorPreprocessor(col='Color', max_colors=5)), ('arrivals', ArrivalDatePreprocessor(col='DateTime')), ('simplefeats', SimpleAnimalFeatures()), ('drop', DropGarbage()), ('textenc', Textvar...ators=800, n_jobs=1, oob_score=False, random_state=None,\n",
       "            verbose=0, warm_start=False)))]),\n",
       "       fit_params={}, iid=True, n_jobs=2,\n",
       "       param_grid={'separation__groupby': [['AnimalType']], 'prepr__breed__max_breeds': [5], 'prepr__color__max_colors': [20]},\n",
       "       pre_dispatch='2*n_jobs', refit=True, return_train_score=True,\n",
       "       scoring='neg_log_loss', verbose=10)"
      ]
     },
     "metadata": {},
     "output_type": "display_data"
    },
    {
     "data": {
      "text/plain": [
       "{'prepr__breed__max_breeds': 5,\n",
       " 'prepr__color__max_colors': 20,\n",
       " 'separation__groupby': ['AnimalType']}"
      ]
     },
     "metadata": {},
     "output_type": "display_data"
    },
    {
     "data": {
      "text/plain": [
       "-0.80637524854751763"
      ]
     },
     "metadata": {},
     "output_type": "display_data"
    },
    {
     "data": {
      "text/html": [
       "<div>\n",
       "<style>\n",
       "    .dataframe thead tr:only-child th {\n",
       "        text-align: right;\n",
       "    }\n",
       "\n",
       "    .dataframe thead th {\n",
       "        text-align: left;\n",
       "    }\n",
       "\n",
       "    .dataframe tbody tr th {\n",
       "        vertical-align: top;\n",
       "    }\n",
       "</style>\n",
       "<table border=\"1\" class=\"dataframe\">\n",
       "  <thead>\n",
       "    <tr style=\"text-align: right;\">\n",
       "      <th></th>\n",
       "      <th>0</th>\n",
       "      <th>1</th>\n",
       "    </tr>\n",
       "  </thead>\n",
       "  <tbody>\n",
       "    <tr>\n",
       "      <th>0</th>\n",
       "      <td>0.000000</td>\n",
       "      <td>0.000000</td>\n",
       "    </tr>\n",
       "    <tr>\n",
       "      <th>1</th>\n",
       "      <td>0.077841</td>\n",
       "      <td>0.029794</td>\n",
       "    </tr>\n",
       "    <tr>\n",
       "      <th>2</th>\n",
       "      <td>0.032631</td>\n",
       "      <td>0.027506</td>\n",
       "    </tr>\n",
       "    <tr>\n",
       "      <th>3</th>\n",
       "      <td>0.209873</td>\n",
       "      <td>0.172061</td>\n",
       "    </tr>\n",
       "    <tr>\n",
       "      <th>4</th>\n",
       "      <td>0.009588</td>\n",
       "      <td>0.051491</td>\n",
       "    </tr>\n",
       "    <tr>\n",
       "      <th>5</th>\n",
       "      <td>0.039940</td>\n",
       "      <td>0.069164</td>\n",
       "    </tr>\n",
       "    <tr>\n",
       "      <th>6</th>\n",
       "      <td>0.015411</td>\n",
       "      <td>0.026364</td>\n",
       "    </tr>\n",
       "    <tr>\n",
       "      <th>7</th>\n",
       "      <td>0.085046</td>\n",
       "      <td>0.128678</td>\n",
       "    </tr>\n",
       "    <tr>\n",
       "      <th>8</th>\n",
       "      <td>0.116913</td>\n",
       "      <td>0.173398</td>\n",
       "    </tr>\n",
       "    <tr>\n",
       "      <th>9</th>\n",
       "      <td>0.076026</td>\n",
       "      <td>0.094289</td>\n",
       "    </tr>\n",
       "    <tr>\n",
       "      <th>10</th>\n",
       "      <td>0.148865</td>\n",
       "      <td>0.144565</td>\n",
       "    </tr>\n",
       "    <tr>\n",
       "      <th>11</th>\n",
       "      <td>0.187867</td>\n",
       "      <td>0.082690</td>\n",
       "    </tr>\n",
       "  </tbody>\n",
       "</table>\n",
       "</div>"
      ],
      "text/plain": [
       "           0         1\n",
       "0   0.000000  0.000000\n",
       "1   0.077841  0.029794\n",
       "2   0.032631  0.027506\n",
       "3   0.209873  0.172061\n",
       "4   0.009588  0.051491\n",
       "5   0.039940  0.069164\n",
       "6   0.015411  0.026364\n",
       "7   0.085046  0.128678\n",
       "8   0.116913  0.173398\n",
       "9   0.076026  0.094289\n",
       "10  0.148865  0.144565\n",
       "11  0.187867  0.082690"
      ]
     },
     "metadata": {},
     "output_type": "display_data"
    },
    {
     "data": {
      "text/plain": [
       "{0: RandomForestClassifier(bootstrap=True, class_weight=None, criterion='gini',\n",
       "             max_depth=None, max_features='auto', max_leaf_nodes=None,\n",
       "             min_impurity_split=1e-07, min_samples_leaf=1,\n",
       "             min_samples_split=2, min_weight_fraction_leaf=0.0,\n",
       "             n_estimators=800, n_jobs=1, oob_score=False, random_state=None,\n",
       "             verbose=0, warm_start=False),\n",
       " 1: RandomForestClassifier(bootstrap=True, class_weight=None, criterion='gini',\n",
       "             max_depth=None, max_features='auto', max_leaf_nodes=None,\n",
       "             min_impurity_split=1e-07, min_samples_leaf=1,\n",
       "             min_samples_split=2, min_weight_fraction_leaf=0.0,\n",
       "             n_estimators=800, n_jobs=1, oob_score=False, random_state=None,\n",
       "             verbose=0, warm_start=False)}"
      ]
     },
     "execution_count": 42,
     "metadata": {},
     "output_type": "execute_result"
    }
   ],
   "source": [
    "display(gs3,\n",
    "        gs3.best_params_,\n",
    "        gs3.best_score_,\n",
    "        pd.DataFrame({k: m.feature_importances_ for k,m in gs3.best_estimator_.steps[-1][1].models_.items()}))\n",
    "gs3.best_estimator_.steps[-1][1].models_"
   ]
  },
  {
   "cell_type": "code",
   "execution_count": 43,
   "metadata": {
    "collapsed": true
   },
   "outputs": [],
   "source": [
    "y_te = gs3.predict_proba(test)\n",
    "anssplt = pd.DataFrame(y_te, columns=gspca.best_estimator_.steps[-1][1].classes_, index=test['ID'])\n",
    "anssplt.to_csv('anssplt.csv')"
   ]
  },
  {
   "cell_type": "markdown",
   "metadata": {
    "collapsed": true
   },
   "source": [
    "Now, let's get real with breeds and colors.\n",
    "What we basically need to do is to tokenize them,\n",
    "compute frequences and then cluster records based on frequence of each term.\n",
    "And under otherwise equal conditions we'd prefer to minimize outcome variance within each cluster."
   ]
  },
  {
   "cell_type": "code",
   "execution_count": null,
   "metadata": {
    "collapsed": true
   },
   "outputs": [],
   "source": []
  },
  {
   "cell_type": "code",
   "execution_count": null,
   "metadata": {
    "collapsed": true
   },
   "outputs": [],
   "source": [
    "# !systemctl suspend"
   ]
  },
  {
   "cell_type": "code",
   "execution_count": null,
   "metadata": {
    "collapsed": true
   },
   "outputs": [],
   "source": []
  },
  {
   "cell_type": "code",
   "execution_count": null,
   "metadata": {
    "collapsed": true
   },
   "outputs": [],
   "source": []
  }
 ],
 "metadata": {
  "kernelspec": {
   "display_name": "Python 3",
   "language": "python",
   "name": "python3"
  },
  "language_info": {
   "codemirror_mode": {
    "name": "ipython",
    "version": 3
   },
   "file_extension": ".py",
   "mimetype": "text/x-python",
   "name": "python",
   "nbconvert_exporter": "python",
   "pygments_lexer": "ipython3",
   "version": "3.6.1"
  }
 },
 "nbformat": 4,
 "nbformat_minor": 2
}
