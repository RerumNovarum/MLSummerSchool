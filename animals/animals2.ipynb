{
 "cells": [
  {
   "cell_type": "markdown",
   "metadata": {},
   "source": [
    "# Shelter Animal Outcomes\n",
    "\n",
    "In this notebook we will try to predict the future of the animals that get into shelters."
   ]
  },
  {
   "cell_type": "code",
   "execution_count": 1,
   "metadata": {
    "collapsed": true
   },
   "outputs": [],
   "source": [
    "import pandas as pd, numpy as np\n",
    "import seaborn as sns\n",
    "import matplotlib.pyplot as plt\n",
    "import re\n",
    "from collections import defaultdict\n",
    "import collections\n",
    "import sklearn.base\n",
    "from sklearn.base import BaseEstimator, TransformerMixin\n",
    "from sklearn.preprocessing import StandardScaler, LabelEncoder\n",
    "from sklearn.pipeline import Pipeline, FeatureUnion, make_pipeline\n",
    "\n",
    "\n",
    "%matplotlib inline"
   ]
  },
  {
   "cell_type": "code",
   "execution_count": 2,
   "metadata": {
    "collapsed": true
   },
   "outputs": [],
   "source": [
    "train = pd.read_csv('train.csv')\n",
    "test = pd.read_csv('test.csv')"
   ]
  },
  {
   "cell_type": "code",
   "execution_count": 3,
   "metadata": {},
   "outputs": [
    {
     "data": {
      "text/html": [
       "<div>\n",
       "<style>\n",
       "    .dataframe thead tr:only-child th {\n",
       "        text-align: right;\n",
       "    }\n",
       "\n",
       "    .dataframe thead th {\n",
       "        text-align: left;\n",
       "    }\n",
       "\n",
       "    .dataframe tbody tr th {\n",
       "        vertical-align: top;\n",
       "    }\n",
       "</style>\n",
       "<table border=\"1\" class=\"dataframe\">\n",
       "  <thead>\n",
       "    <tr style=\"text-align: right;\">\n",
       "      <th></th>\n",
       "      <th>AnimalID</th>\n",
       "      <th>Name</th>\n",
       "      <th>DateTime</th>\n",
       "      <th>OutcomeType</th>\n",
       "      <th>OutcomeSubtype</th>\n",
       "      <th>AnimalType</th>\n",
       "      <th>SexuponOutcome</th>\n",
       "      <th>AgeuponOutcome</th>\n",
       "      <th>Breed</th>\n",
       "      <th>Color</th>\n",
       "    </tr>\n",
       "  </thead>\n",
       "  <tbody>\n",
       "    <tr>\n",
       "      <th>0</th>\n",
       "      <td>A671945</td>\n",
       "      <td>Hambone</td>\n",
       "      <td>2014-02-12 18:22:00</td>\n",
       "      <td>Return_to_owner</td>\n",
       "      <td>NaN</td>\n",
       "      <td>Dog</td>\n",
       "      <td>Neutered Male</td>\n",
       "      <td>1 year</td>\n",
       "      <td>Shetland Sheepdog Mix</td>\n",
       "      <td>Brown/White</td>\n",
       "    </tr>\n",
       "    <tr>\n",
       "      <th>1</th>\n",
       "      <td>A656520</td>\n",
       "      <td>Emily</td>\n",
       "      <td>2013-10-13 12:44:00</td>\n",
       "      <td>Euthanasia</td>\n",
       "      <td>Suffering</td>\n",
       "      <td>Cat</td>\n",
       "      <td>Spayed Female</td>\n",
       "      <td>1 year</td>\n",
       "      <td>Domestic Shorthair Mix</td>\n",
       "      <td>Cream Tabby</td>\n",
       "    </tr>\n",
       "    <tr>\n",
       "      <th>2</th>\n",
       "      <td>A686464</td>\n",
       "      <td>Pearce</td>\n",
       "      <td>2015-01-31 12:28:00</td>\n",
       "      <td>Adoption</td>\n",
       "      <td>Foster</td>\n",
       "      <td>Dog</td>\n",
       "      <td>Neutered Male</td>\n",
       "      <td>2 years</td>\n",
       "      <td>Pit Bull Mix</td>\n",
       "      <td>Blue/White</td>\n",
       "    </tr>\n",
       "    <tr>\n",
       "      <th>3</th>\n",
       "      <td>A683430</td>\n",
       "      <td>NaN</td>\n",
       "      <td>2014-07-11 19:09:00</td>\n",
       "      <td>Transfer</td>\n",
       "      <td>Partner</td>\n",
       "      <td>Cat</td>\n",
       "      <td>Intact Male</td>\n",
       "      <td>3 weeks</td>\n",
       "      <td>Domestic Shorthair Mix</td>\n",
       "      <td>Blue Cream</td>\n",
       "    </tr>\n",
       "    <tr>\n",
       "      <th>4</th>\n",
       "      <td>A667013</td>\n",
       "      <td>NaN</td>\n",
       "      <td>2013-11-15 12:52:00</td>\n",
       "      <td>Transfer</td>\n",
       "      <td>Partner</td>\n",
       "      <td>Dog</td>\n",
       "      <td>Neutered Male</td>\n",
       "      <td>2 years</td>\n",
       "      <td>Lhasa Apso/Miniature Poodle</td>\n",
       "      <td>Tan</td>\n",
       "    </tr>\n",
       "  </tbody>\n",
       "</table>\n",
       "</div>"
      ],
      "text/plain": [
       "  AnimalID     Name             DateTime      OutcomeType OutcomeSubtype  \\\n",
       "0  A671945  Hambone  2014-02-12 18:22:00  Return_to_owner            NaN   \n",
       "1  A656520    Emily  2013-10-13 12:44:00       Euthanasia      Suffering   \n",
       "2  A686464   Pearce  2015-01-31 12:28:00         Adoption         Foster   \n",
       "3  A683430      NaN  2014-07-11 19:09:00         Transfer        Partner   \n",
       "4  A667013      NaN  2013-11-15 12:52:00         Transfer        Partner   \n",
       "\n",
       "  AnimalType SexuponOutcome AgeuponOutcome                        Breed  \\\n",
       "0        Dog  Neutered Male         1 year        Shetland Sheepdog Mix   \n",
       "1        Cat  Spayed Female         1 year       Domestic Shorthair Mix   \n",
       "2        Dog  Neutered Male        2 years                 Pit Bull Mix   \n",
       "3        Cat    Intact Male        3 weeks       Domestic Shorthair Mix   \n",
       "4        Dog  Neutered Male        2 years  Lhasa Apso/Miniature Poodle   \n",
       "\n",
       "         Color  \n",
       "0  Brown/White  \n",
       "1  Cream Tabby  \n",
       "2   Blue/White  \n",
       "3   Blue Cream  \n",
       "4          Tan  "
      ]
     },
     "metadata": {},
     "output_type": "display_data"
    },
    {
     "data": {
      "text/plain": [
       "AnimalID              0\n",
       "Name               7691\n",
       "DateTime              0\n",
       "OutcomeType           0\n",
       "OutcomeSubtype    13612\n",
       "AnimalType            0\n",
       "SexuponOutcome        1\n",
       "AgeuponOutcome       18\n",
       "Breed                 0\n",
       "Color                 0\n",
       "dtype: int64"
      ]
     },
     "metadata": {},
     "output_type": "display_data"
    },
    {
     "data": {
      "text/plain": [
       "ID                   0\n",
       "Name              3225\n",
       "DateTime             0\n",
       "AnimalType           0\n",
       "SexuponOutcome       0\n",
       "AgeuponOutcome       6\n",
       "Breed                0\n",
       "Color                0\n",
       "dtype: int64"
      ]
     },
     "metadata": {},
     "output_type": "display_data"
    }
   ],
   "source": [
    "display(train.head(),\n",
    "        train.isnull().sum(),\n",
    "        test.isnull().sum())"
   ]
  },
  {
   "cell_type": "code",
   "execution_count": null,
   "metadata": {
    "collapsed": true
   },
   "outputs": [],
   "source": []
  },
  {
   "cell_type": "code",
   "execution_count": null,
   "metadata": {
    "collapsed": true
   },
   "outputs": [],
   "source": []
  },
  {
   "cell_type": "code",
   "execution_count": null,
   "metadata": {
    "collapsed": true
   },
   "outputs": [],
   "source": []
  },
  {
   "cell_type": "code",
   "execution_count": 4,
   "metadata": {
    "collapsed": true
   },
   "outputs": [],
   "source": [
    "train.loc[train['SexuponOutcome'].isnull(), 'SexuponOutcome'] = 'Unknown'"
   ]
  },
  {
   "cell_type": "code",
   "execution_count": null,
   "metadata": {
    "collapsed": true
   },
   "outputs": [],
   "source": []
  },
  {
   "cell_type": "code",
   "execution_count": 5,
   "metadata": {},
   "outputs": [
    {
     "name": "stderr",
     "output_type": "stream",
     "text": [
      "/home/god/py/lib/python3.6/site-packages/matplotlib/font_manager.py:1297: UserWarning: findfont: Font family ['sans-serif'] not found. Falling back to DejaVu Sans\n",
      "  (prop.get_family(), self.defaultFamily[fontext]))\n"
     ]
    },
    {
     "data": {
      "image/png": "[encoded data removed]",
      "text/plain": [
       "<matplotlib.figure.Figure at 0x7f8704adcba8>"
      ]
     },
     "metadata": {},
     "output_type": "display_data"
    }
   ],
   "source": [
    "animal_sex_outcomes = train.groupby(['AnimalType', 'SexuponOutcome']).OutcomeType.value_counts()\n",
    "animal_sex_outcomes.name = 'Count'\n",
    "animal_sex_outcomes = animal_sex_outcomes.reset_index()\n",
    "a_s_o_fp = sns.factorplot(x='AnimalType',\n",
    "                          y='Count',\n",
    "                          hue='SexuponOutcome',\n",
    "                          data=animal_sex_outcomes,\n",
    "                          kind='bar',)"
   ]
  },
  {
   "cell_type": "code",
   "execution_count": 6,
   "metadata": {
    "collapsed": true
   },
   "outputs": [],
   "source": [
    "train_id, test_id = train['AnimalID'], test['ID']\n",
    "# train.drop('AnimalID', axis=1, inplace=True)\n",
    "# test.drop('ID', axis=1, inplace=True)"
   ]
  },
  {
   "cell_type": "code",
   "execution_count": 7,
   "metadata": {
    "collapsed": true
   },
   "outputs": [],
   "source": [
    "class SimpleAnimalFeatures(BaseEstimator, TransformerMixin):\n",
    "    def __init__(self):\n",
    "        pass\n",
    "    \n",
    "    def fit(self, X, y=None):\n",
    "        return self\n",
    "    \n",
    "    def transform(self, X):\n",
    "        # print('[I] Engineering simple features')\n",
    "        sterilized_pat = re.compile('.*(neutered|spayed).*', re.IGNORECASE)\n",
    "        female_pat = re.compile('.*\\\\b(female)\\\\b.*', re.IGNORECASE)  \n",
    "        male_pat = re.compile('.*\\\\b(male)\\\\b.*', re.IGNORECASE)\n",
    "        \n",
    "        X = X.copy()\n",
    "        X.loc[:,'Sterilized'] = 1 * X['SexuponOutcome'].str.match(sterilized_pat).fillna(0)   \n",
    "        def transform_sex(sex):\n",
    "            if isinstance(sex, str):\n",
    "                if male_pat.match(sex):\n",
    "                    return 1\n",
    "                elif female_pat.match(sex):\n",
    "                    return 2\n",
    "            return 0\n",
    "        X.loc[:, 'SexuponOutcome'] = X['SexuponOutcome'].transform(transform_sex)\n",
    "        X.loc[:, 'Name'] = 1 * X['Name'].notnull()\n",
    "        return X"
   ]
  },
  {
   "cell_type": "code",
   "execution_count": 8,
   "metadata": {},
   "outputs": [
    {
     "data": {
      "text/plain": [
       "{'Chihuahua', 'Domestic', 'LabradorRetriever', 'PitBull', 'Shepherd'}"
      ]
     },
     "execution_count": 8,
     "metadata": {},
     "output_type": "execute_result"
    }
   ],
   "source": [
    "breedcnt = dict()\n",
    "\n",
    "breed_noise_pat = re.compile('\\\\s*\\\\b(mix|shorthair|australian|swiss|mexican|' +\n",
    "                             'spanish|american|british|english|belgian|jack|russel|l|old|' +\n",
    "                             'west|german|rat|great|shorthair|longhair|mediumhair|eng|toy|' +\n",
    "                             'medium|hair|russel|yorkshire|miniature|pale|gray|red|' +\n",
    "                             'orange|tiger|smoke|blue|yellow|tabby|calico|point|tick|brindle|' +\n",
    "                             'tan|black|)\\\\b\\\\s*', re.IGNORECASE)\n",
    "\n",
    "def simplify_breed(breed):\n",
    "    return breed_noise_pat.sub('', breed)\n",
    "\n",
    "def breed_is_(breed, pat):\n",
    "    def clf(x):\n",
    "        return 1 * x['Breed'].str.match(pat)\n",
    "    return clf\n",
    "\n",
    "breed_props = [('Domestic', re.compile('.*domestic.*', re.IGNORECASE),),\n",
    "               ('Longhair', re.compile('.*long\\\\s*hair.*', re.IGNORECASE),),\n",
    "               ('Mix', re.compile('.*(mix|/).*', re.IGNORECASE))]\n",
    "\n",
    "class BreedPreprocessor(BaseEstimator, TransformerMixin):\n",
    "    def __init__(self, max_breeds=6, col='Breed', rare='Rare'):\n",
    "        self.max_breeds = max_breeds\n",
    "        self.col = col\n",
    "        self.rare = rare\n",
    "        self.breed_cnt_ = None\n",
    "        \n",
    "    def fit(self, X, y=None):\n",
    "        # print('[I] Fitting breeds')\n",
    "        breedcnt = defaultdict(lambda: 0)\n",
    "        for breeds in X[self.col]:\n",
    "            for breed in breeds.split('/'):\n",
    "                breed = simplify_breed(breed)\n",
    "                breedcnt[breed] += 1\n",
    "        self.breed_cnt_ = pd.Series(breedcnt).sort_values(ascending=False)\n",
    "        self.top_ = set(self.breed_cnt_.index[:self.max_breeds - 1])\n",
    "        return self\n",
    "    \n",
    "    def _extract_breed(self, breeds):\n",
    "        for breed in breeds.split('/'):\n",
    "            breed = simplify_breed(breed)\n",
    "            if breed in self.top_:\n",
    "                return breed\n",
    "        return self.rare\n",
    "    \n",
    "    def transform(self, X):\n",
    "        # print('[I] Transforming breeds')\n",
    "        X = X.copy()\n",
    "        X[self.col] = X[self.col].apply(lambda x: self._extract_breed(x))\n",
    "        X = X.assign(**{\n",
    "            breed_prop: breed_is_(breed_prop, pat)\n",
    "            for breed_prop, pat in breed_props\n",
    "        })\n",
    "        return X\n",
    "        \n",
    "breeds = BreedPreprocessor()\n",
    "breeds.fit(pd.concat((train, test)))\n",
    "breeds.top_"
   ]
  },
  {
   "cell_type": "code",
   "execution_count": 9,
   "metadata": {},
   "outputs": [
    {
     "data": {
      "text/plain": [
       "BreedPreprocessor(col='Breed', max_breeds=6, rare='Rare')"
      ]
     },
     "execution_count": 9,
     "metadata": {},
     "output_type": "execute_result"
    }
   ],
   "source": [
    "breeds"
   ]
  },
  {
   "cell_type": "code",
   "execution_count": 10,
   "metadata": {},
   "outputs": [
    {
     "data": {
      "text/plain": [
       "{'Black', 'Brown', 'Tan', 'White'}"
      ]
     },
     "execution_count": 10,
     "metadata": {},
     "output_type": "execute_result"
    }
   ],
   "source": [
    "\n",
    "\n",
    "# TODO:\n",
    "# 1.  extract \"basic\" colors\n",
    "# 2.  treat space-separated basic colors as polycolored patterns\n",
    "def is_monocolor(x):\n",
    "    return x['Color'].str.contains('/')\n",
    "\n",
    "class ColorPreprocessor(BaseEstimator):\n",
    "    def __init__(self, max_colors=5, col='Color'):\n",
    "        self.max_colors = max_colors\n",
    "        self.col = col\n",
    "        self.color_cnt_ = None\n",
    "        self.top_ = None\n",
    "    def fit(self, X, y=None):\n",
    "        # print('[I] Fitting colors')\n",
    "        clrcnt = defaultdict(lambda: 0)\n",
    "        for clrs in X[self.col]:\n",
    "            for clr in clrs.split('/'):\n",
    "                clrcnt[clr] += 1\n",
    "        self.color_cnt_ = pd.Series(clrcnt).sort_values(ascending=False)\n",
    "        self.top_ = set(self.color_cnt_.index[:self.max_colors-1])\n",
    "        return self\n",
    "        \n",
    "    def _extract_color(self, colors):\n",
    "        for color in colors.split('/'):\n",
    "            color = simplify_breed(color)\n",
    "            if color in self.top_: return color\n",
    "        return 'Rare'\n",
    "    \n",
    "    def transform(self, X):\n",
    "        # print('[I] Transforming colors')\n",
    "        X = X.copy()\n",
    "        X = X.assign(Monocolor = is_monocolor)\n",
    "        X[self.col] = X[self.col].apply(self._extract_color)\n",
    "        return X\n",
    "        \n",
    "colors = ColorPreprocessor()\n",
    "colors.fit(pd.concat((train, test)))\n",
    "colors.top_"
   ]
  },
  {
   "cell_type": "code",
   "execution_count": null,
   "metadata": {
    "collapsed": true
   },
   "outputs": [],
   "source": []
  },
  {
   "cell_type": "code",
   "execution_count": null,
   "metadata": {
    "collapsed": true
   },
   "outputs": [],
   "source": []
  },
  {
   "cell_type": "code",
   "execution_count": 11,
   "metadata": {},
   "outputs": [
    {
     "data": {
      "text/html": [
       "<div>\n",
       "<style>\n",
       "    .dataframe thead tr:only-child th {\n",
       "        text-align: right;\n",
       "    }\n",
       "\n",
       "    .dataframe thead th {\n",
       "        text-align: left;\n",
       "    }\n",
       "\n",
       "    .dataframe tbody tr th {\n",
       "        vertical-align: top;\n",
       "    }\n",
       "</style>\n",
       "<table border=\"1\" class=\"dataframe\">\n",
       "  <thead>\n",
       "    <tr style=\"text-align: right;\">\n",
       "      <th></th>\n",
       "      <th></th>\n",
       "      <th>count</th>\n",
       "      <th>unique</th>\n",
       "      <th>top</th>\n",
       "      <th>freq</th>\n",
       "    </tr>\n",
       "    <tr>\n",
       "      <th>AnimalType</th>\n",
       "      <th>Breed</th>\n",
       "      <th></th>\n",
       "      <th></th>\n",
       "      <th></th>\n",
       "      <th></th>\n",
       "    </tr>\n",
       "  </thead>\n",
       "  <tbody>\n",
       "    <tr>\n",
       "      <th rowspan=\"2\" valign=\"top\">Cat</th>\n",
       "      <th>Domestic</th>\n",
       "      <td>3927</td>\n",
       "      <td>28</td>\n",
       "      <td>2 months</td>\n",
       "      <td>1691</td>\n",
       "    </tr>\n",
       "    <tr>\n",
       "      <th>Rare</th>\n",
       "      <td>345</td>\n",
       "      <td>27</td>\n",
       "      <td>2 months</td>\n",
       "      <td>108</td>\n",
       "    </tr>\n",
       "    <tr>\n",
       "      <th rowspan=\"5\" valign=\"top\">Dog</th>\n",
       "      <th>Chihuahua</th>\n",
       "      <td>1192</td>\n",
       "      <td>26</td>\n",
       "      <td>1 year</td>\n",
       "      <td>273</td>\n",
       "    </tr>\n",
       "    <tr>\n",
       "      <th>LabradorRetriever</th>\n",
       "      <td>980</td>\n",
       "      <td>24</td>\n",
       "      <td>2 months</td>\n",
       "      <td>203</td>\n",
       "    </tr>\n",
       "    <tr>\n",
       "      <th>PitBull</th>\n",
       "      <td>669</td>\n",
       "      <td>22</td>\n",
       "      <td>1 year</td>\n",
       "      <td>173</td>\n",
       "    </tr>\n",
       "    <tr>\n",
       "      <th>Rare</th>\n",
       "      <td>3136</td>\n",
       "      <td>27</td>\n",
       "      <td>1 year</td>\n",
       "      <td>630</td>\n",
       "    </tr>\n",
       "    <tr>\n",
       "      <th>Shepherd</th>\n",
       "      <td>520</td>\n",
       "      <td>24</td>\n",
       "      <td>2 months</td>\n",
       "      <td>95</td>\n",
       "    </tr>\n",
       "  </tbody>\n",
       "</table>\n",
       "</div>"
      ],
      "text/plain": [
       "                             count unique       top  freq\n",
       "AnimalType Breed                                         \n",
       "Cat        Domestic           3927     28  2 months  1691\n",
       "           Rare                345     27  2 months   108\n",
       "Dog        Chihuahua          1192     26    1 year   273\n",
       "           LabradorRetriever   980     24  2 months   203\n",
       "           PitBull             669     22    1 year   173\n",
       "           Rare               3136     27    1 year   630\n",
       "           Shepherd            520     24  2 months    95"
      ]
     },
     "execution_count": 11,
     "metadata": {},
     "output_type": "execute_result"
    }
   ],
   "source": [
    "adopted = breeds.transform(train).loc[breeds.transform(train)['OutcomeType'] == 'Adoption']\n",
    "adopted.groupby(['AnimalType', 'Breed'])['AgeuponOutcome'].describe()"
   ]
  },
  {
   "cell_type": "code",
   "execution_count": 12,
   "metadata": {},
   "outputs": [
    {
     "data": {
      "text/html": [
       "<div>\n",
       "<style>\n",
       "    .dataframe thead tr:only-child th {\n",
       "        text-align: right;\n",
       "    }\n",
       "\n",
       "    .dataframe thead th {\n",
       "        text-align: left;\n",
       "    }\n",
       "\n",
       "    .dataframe tbody tr th {\n",
       "        vertical-align: top;\n",
       "    }\n",
       "</style>\n",
       "<table border=\"1\" class=\"dataframe\">\n",
       "  <thead>\n",
       "    <tr style=\"text-align: right;\">\n",
       "      <th></th>\n",
       "      <th></th>\n",
       "      <th>count</th>\n",
       "      <th>unique</th>\n",
       "      <th>top</th>\n",
       "      <th>freq</th>\n",
       "    </tr>\n",
       "    <tr>\n",
       "      <th>AnimalType</th>\n",
       "      <th>Breed</th>\n",
       "      <th></th>\n",
       "      <th></th>\n",
       "      <th></th>\n",
       "      <th></th>\n",
       "    </tr>\n",
       "  </thead>\n",
       "  <tbody>\n",
       "    <tr>\n",
       "      <th rowspan=\"2\" valign=\"top\">Cat</th>\n",
       "      <th>Domestic</th>\n",
       "      <td>139</td>\n",
       "      <td>26</td>\n",
       "      <td>1 month</td>\n",
       "      <td>42</td>\n",
       "    </tr>\n",
       "    <tr>\n",
       "      <th>Rare</th>\n",
       "      <td>8</td>\n",
       "      <td>6</td>\n",
       "      <td>1 month</td>\n",
       "      <td>3</td>\n",
       "    </tr>\n",
       "    <tr>\n",
       "      <th rowspan=\"5\" valign=\"top\">Dog</th>\n",
       "      <th>Chihuahua</th>\n",
       "      <td>16</td>\n",
       "      <td>11</td>\n",
       "      <td>2 years</td>\n",
       "      <td>3</td>\n",
       "    </tr>\n",
       "    <tr>\n",
       "      <th>LabradorRetriever</th>\n",
       "      <td>4</td>\n",
       "      <td>3</td>\n",
       "      <td>10 years</td>\n",
       "      <td>2</td>\n",
       "    </tr>\n",
       "    <tr>\n",
       "      <th>PitBull</th>\n",
       "      <td>8</td>\n",
       "      <td>7</td>\n",
       "      <td>3 months</td>\n",
       "      <td>2</td>\n",
       "    </tr>\n",
       "    <tr>\n",
       "      <th>Rare</th>\n",
       "      <td>19</td>\n",
       "      <td>13</td>\n",
       "      <td>2 years</td>\n",
       "      <td>4</td>\n",
       "    </tr>\n",
       "    <tr>\n",
       "      <th>Shepherd</th>\n",
       "      <td>3</td>\n",
       "      <td>3</td>\n",
       "      <td>2 years</td>\n",
       "      <td>1</td>\n",
       "    </tr>\n",
       "  </tbody>\n",
       "</table>\n",
       "</div>"
      ],
      "text/plain": [
       "                             count unique       top freq\n",
       "AnimalType Breed                                        \n",
       "Cat        Domestic            139     26   1 month   42\n",
       "           Rare                  8      6   1 month    3\n",
       "Dog        Chihuahua            16     11   2 years    3\n",
       "           LabradorRetriever     4      3  10 years    2\n",
       "           PitBull               8      7  3 months    2\n",
       "           Rare                 19     13   2 years    4\n",
       "           Shepherd              3      3   2 years    1"
      ]
     },
     "execution_count": 12,
     "metadata": {},
     "output_type": "execute_result"
    }
   ],
   "source": [
    "died = breeds.transform(train).loc[breeds.transform(train)['OutcomeType'] == 'Died']\n",
    "died.groupby(['AnimalType', 'Breed'])['AgeuponOutcome'].describe()"
   ]
  },
  {
   "cell_type": "code",
   "execution_count": null,
   "metadata": {
    "collapsed": true
   },
   "outputs": [],
   "source": []
  },
  {
   "cell_type": "code",
   "execution_count": null,
   "metadata": {
    "collapsed": true
   },
   "outputs": [],
   "source": []
  },
  {
   "cell_type": "code",
   "execution_count": 13,
   "metadata": {},
   "outputs": [
    {
     "data": {
      "text/plain": [
       "AgePreprocessor(col='AgeuponOutcome',\n",
       "        estimator=<function mean at 0x7f87341381e0>,\n",
       "        groupby=['Breed', 'SexuponOutcome'], max_breeds=20,\n",
       "        split_to_ymd=False)"
      ]
     },
     "execution_count": 13,
     "metadata": {},
     "output_type": "execute_result"
    }
   ],
   "source": [
    "def age_to_ymd(x):\n",
    "    if x <= 30:\n",
    "        return (0, 0, x)\n",
    "    elif x < 365:\n",
    "        return (0, x//30, 0)\n",
    "    else:\n",
    "        return (int(x/365.25), 0, 0)\n",
    "\n",
    "def purify_ages(ages):\n",
    "    days_in_unit = {\n",
    "    'day': 1,\n",
    "    'days': 1,\n",
    "    'week': 7,\n",
    "    'weeks': 7,\n",
    "    'month': 30,\n",
    "    'months': 30,\n",
    "    'years': 365.25,\n",
    "    'year': 365.25\n",
    "    }\n",
    "    def strage_to_days(age):\n",
    "        if not isinstance(age, str):\n",
    "            return float('nan')\n",
    "        age = age.split(' ')\n",
    "        return int(age[0]) * days_in_unit[age[1]]\n",
    "    ages = ages.map(strage_to_days)\n",
    "    return ages\n",
    "\n",
    "\n",
    "class AgePreprocessor(BaseEstimator):\n",
    "    def __init__(self,\n",
    "                 col='AgeuponOutcome',\n",
    "                 groupby=['Breed', 'SexuponOutcome',],\n",
    "                 max_breeds=20,\n",
    "                 estimator=np.mean,\n",
    "                 split_to_ymd=False):\n",
    "        self.col = col\n",
    "        self.groupby = groupby\n",
    "        self.estimator = estimator\n",
    "        self.max_breeds = max_breeds\n",
    "        self.split_to_ymd = split_to_ymd\n",
    "        \n",
    "    def fit(self, X, y=None):\n",
    "        bp_ = BreedPreprocessor(self.max_breeds)\n",
    "        bp_.fit(X)\n",
    "        self.prep_ = make_pipeline(bp_, SimpleAnimalFeatures())\n",
    "        return self\n",
    "    \n",
    "    def transform(self, X):\n",
    "        # First we remember how precise the date was specified\n",
    "        specific_age_pat = re.compile('.*(week|day).*', re.IGNORECASE)\n",
    "        X = X.copy()\n",
    "        X.loc[:,'SpecificAge'] = X.loc[:,self.col].str.match(specific_age_pat).fillna(0)\n",
    "        # X.loc[:,'SpecificAge'] = X[:,'SpecificAge'].fillna(0)\n",
    "        # Then we convert them to days\n",
    "        X.loc[:,self.col] = purify_ages(X[self.col])\n",
    "        # And finally we impute NA's:\n",
    "        X2 = self.prep_.transform(X)\n",
    "        # Screw pandas! There's no natural syntax to transform\n",
    "        # this thing groupwise using averages computed on the `full` dataset.\n",
    "        # So let's take an easy way:\n",
    "        X.loc[:,self.col] = X.loc[:,self.col].fillna(\n",
    "            X2.groupby(self.groupby)[self.col]\n",
    "            .transform(lambda x: x.fillna(self.estimator(x)))\n",
    "        )\n",
    "        X.loc[:,self.col] = X.loc[:,self.col].fillna(X2.loc[:,self.col].median())\n",
    "        if self.split_to_ymd:\n",
    "            X['AgeYears'], X['AgeMonths'], X['AgeDays'] = zip(\n",
    "                *X.loc[:,self.col].apply(age_to_ymd)\n",
    "            )\n",
    "            X = X.drop('AgeuponOutcome', axis=1)\n",
    "        return X\n",
    "                      \n",
    "\n",
    "ages = AgePreprocessor()\n",
    "full = pd.concat((train, test), keys=(1,2))\n",
    "ages.fit(full)\n"
   ]
  },
  {
   "cell_type": "code",
   "execution_count": null,
   "metadata": {},
   "outputs": [],
   "source": []
  },
  {
   "cell_type": "code",
   "execution_count": null,
   "metadata": {},
   "outputs": [],
   "source": []
  },
  {
   "cell_type": "code",
   "execution_count": 14,
   "metadata": {},
   "outputs": [
    {
     "data": {
      "text/plain": [
       "0"
      ]
     },
     "execution_count": 14,
     "metadata": {},
     "output_type": "execute_result"
    }
   ],
   "source": [
    "# train = ages.transform(train)\n",
    "# test = ages.transform(test)\n",
    "ages.transform(pd.concat((train, test)))['AgeuponOutcome'].isnull().sum()"
   ]
  },
  {
   "cell_type": "code",
   "execution_count": 15,
   "metadata": {
    "collapsed": true
   },
   "outputs": [],
   "source": [
    "import dateutil"
   ]
  },
  {
   "cell_type": "code",
   "execution_count": 16,
   "metadata": {},
   "outputs": [
    {
     "data": {
      "text/plain": [
       "ArrivalDatePreprocessor(col='DateTime')"
      ]
     },
     "execution_count": 16,
     "metadata": {},
     "output_type": "execute_result"
    }
   ],
   "source": [
    "def extract_mon_wd_h(x):\n",
    "    x = dateutil.parser.parse(x)\n",
    "    return (x.month, x.day, x.weekday(), x.hour)\n",
    "\n",
    "\n",
    "class ArrivalDatePreprocessor(BaseEstimator):\n",
    "    def __init__(self, col='DateTime'):\n",
    "        self.col = col\n",
    "        \n",
    "    def fit(self, X, y=None):\n",
    "        return self\n",
    "        \n",
    "    def transform(self, X):\n",
    "        # print('[I] Transforming arrival dates')\n",
    "        X = X.copy()\n",
    "        X['ArrMonth'], X['ArrMonthday'], X['ArrWeekday'], X['ArrHour'] = (\n",
    "            zip(*X[self.col].apply(extract_mon_wd_h))\n",
    "        )\n",
    "        return X\n",
    "arrivals = ArrivalDatePreprocessor()\n",
    "arrivals.fit(train)"
   ]
  },
  {
   "cell_type": "code",
   "execution_count": null,
   "metadata": {
    "collapsed": true
   },
   "outputs": [],
   "source": []
  },
  {
   "cell_type": "code",
   "execution_count": 17,
   "metadata": {
    "collapsed": true
   },
   "outputs": [],
   "source": [
    "class DropGarbage(sklearn.base.BaseEstimator):\n",
    "    def fit(self, X, y=None):\n",
    "        return self\n",
    "    \n",
    "    def transform(self, X):\n",
    "        # print('[I] Droping crap')\n",
    "        return X.drop([\n",
    "            'ID', 'AnimalID',\n",
    "            'DateTime',\n",
    "            'OutcomeType',\n",
    "            'OutcomeSubtype'],\n",
    "            axis=1,\n",
    "            errors='ignore')"
   ]
  },
  {
   "cell_type": "code",
   "execution_count": 18,
   "metadata": {
    "collapsed": true
   },
   "outputs": [],
   "source": [
    "class TextvarsSeqEncoder(BaseEstimator):\n",
    "    def __init__(self, textvars=['AnimalType', 'Breed', 'Color']):\n",
    "        self.textvars = textvars\n",
    "        self.enc_ = defaultdict(sklearn.preprocessing.LabelEncoder)\n",
    "\n",
    "    def fit(self, X, y=None):\n",
    "        # print('[I] Fitting text var encoders')\n",
    "        for v in self.textvars:\n",
    "            self.enc_[v].fit(X[v])\n",
    "        return self\n",
    "    \n",
    "    def transform(self, X):\n",
    "        # print('[I] Encoding text vars')\n",
    "        X = X.copy()\n",
    "        for v in self.textvars:\n",
    "            X[v] = self.enc_[v].transform(X[v])\n",
    "        return X"
   ]
  },
  {
   "cell_type": "code",
   "execution_count": 19,
   "metadata": {
    "collapsed": true
   },
   "outputs": [],
   "source": [
    "class AnimalScaler(BaseEstimator):\n",
    "    def __init__(self, groupby=['Breed']):\n",
    "        self.groupby = groupby\n",
    "        \n",
    "    def fit(self, X, y=None):\n",
    "        return self\n",
    "    \n",
    "    def transform(self, X):\n",
    "        X = X.copy()\n",
    "        if 'AgeDays' in X.columns:\n",
    "            X.loc[X['AgeDays'] != 0, 'AgeDays'] = (\n",
    "                X.loc[X['AgeDays'] != 0]\n",
    "                .groupby(self.groupby)['AgeDays']\n",
    "                .transform(lambda x: x/x.median())\n",
    "            )\n",
    "            X.loc[X['AgeMonths'] != 0, 'AgeMonths'] = (\n",
    "                X.loc[X['AgeMonths'] != 0]\n",
    "                .groupby(self.groupby)['AgeMonths']\n",
    "                .transform(lambda x: x/x.median())\n",
    "            )\n",
    "            X.loc[X['AgeYears'] != 0, 'AgeYears'] = (\n",
    "                X.loc[X['AgeYears'] != 0]\n",
    "                .groupby(self.groupby)['AgeYears']\n",
    "                .transform(lambda x: x/x.median())\n",
    "            )\n",
    "        X.loc[:,'ArrMonth'] /= 12\n",
    "        X.loc[:,'ArrMonthday'] /= 30\n",
    "        X.loc[:,'ArrWeekday'] /= 7\n",
    "        X.loc[:,'ArrHour'] /= 24\n",
    "        return X\n",
    "        "
   ]
  },
  {
   "cell_type": "code",
   "execution_count": null,
   "metadata": {
    "collapsed": true
   },
   "outputs": [],
   "source": []
  },
  {
   "cell_type": "code",
   "execution_count": null,
   "metadata": {
    "collapsed": true
   },
   "outputs": [],
   "source": []
  },
  {
   "cell_type": "markdown",
   "metadata": {
    "collapsed": true
   },
   "source": [
    "Now let's prefill missing ages and start building a predictive model"
   ]
  },
  {
   "cell_type": "code",
   "execution_count": 20,
   "metadata": {},
   "outputs": [],
   "source": [
    "train, test = pd.read_csv('train.csv'), pd.read_csv('test.csv')\n",
    "ages.fit(full)\n",
    "train, test = ages.transform(train), ages.transform(test)"
   ]
  },
  {
   "cell_type": "code",
   "execution_count": 21,
   "metadata": {
    "collapsed": true
   },
   "outputs": [],
   "source": [
    "from sklearn.pipeline import Pipeline, FeatureUnion\n",
    "from sklearn.model_selection import GridSearchCV, ParameterGrid, StratifiedKFold\n",
    "from sklearn.ensemble import RandomForestClassifier, AdaBoostClassifier\n",
    "from sklearn.model_selection import cross_val_score\n",
    "from sklearn.feature_selection import RFECV, SelectFromModel, SelectKBest, chi2\n",
    "from sklearn.decomposition import PCA\n",
    "from sklearn.decomposition import KernelPCA"
   ]
  },
  {
   "cell_type": "code",
   "execution_count": null,
   "metadata": {},
   "outputs": [],
   "source": []
  },
  {
   "cell_type": "code",
   "execution_count": null,
   "metadata": {},
   "outputs": [],
   "source": []
  },
  {
   "cell_type": "code",
   "execution_count": 22,
   "metadata": {
    "collapsed": true
   },
   "outputs": [],
   "source": [
    "prepr_pipe = Pipeline([\n",
    "    ('breed', breeds),\n",
    "    ('color', colors),\n",
    "    ('arrivals', arrivals),\n",
    "    ('simplefeats', SimpleAnimalFeatures()),\n",
    "    ('drop', DropGarbage()),\n",
    "    ('textenc', TextvarsSeqEncoder()),\n",
    "    ('scale', AnimalScaler())\n",
    "])"
   ]
  },
  {
   "cell_type": "code",
   "execution_count": 23,
   "metadata": {},
   "outputs": [],
   "source": [
    "prepr_pipe.fit(pd.concat((train, test), keys=(1,2)))\n",
    "X = prepr_pipe.transform(train)"
   ]
  },
  {
   "cell_type": "code",
   "execution_count": 24,
   "metadata": {},
   "outputs": [
    {
     "data": {
      "text/html": [
       "<div>\n",
       "<style>\n",
       "    .dataframe thead tr:only-child th {\n",
       "        text-align: right;\n",
       "    }\n",
       "\n",
       "    .dataframe thead th {\n",
       "        text-align: left;\n",
       "    }\n",
       "\n",
       "    .dataframe tbody tr th {\n",
       "        vertical-align: top;\n",
       "    }\n",
       "</style>\n",
       "<table border=\"1\" class=\"dataframe\">\n",
       "  <thead>\n",
       "    <tr style=\"text-align: right;\">\n",
       "      <th></th>\n",
       "      <th>Name</th>\n",
       "      <th>AnimalType</th>\n",
       "      <th>SexuponOutcome</th>\n",
       "      <th>AgeuponOutcome</th>\n",
       "      <th>Breed</th>\n",
       "      <th>Color</th>\n",
       "      <th>SpecificAge</th>\n",
       "      <th>Domestic</th>\n",
       "      <th>Longhair</th>\n",
       "      <th>Mix</th>\n",
       "      <th>Monocolor</th>\n",
       "      <th>ArrMonth</th>\n",
       "      <th>ArrMonthday</th>\n",
       "      <th>ArrWeekday</th>\n",
       "      <th>ArrHour</th>\n",
       "      <th>Sterilized</th>\n",
       "    </tr>\n",
       "  </thead>\n",
       "  <tbody>\n",
       "    <tr>\n",
       "      <th>0</th>\n",
       "      <td>1</td>\n",
       "      <td>1</td>\n",
       "      <td>1</td>\n",
       "      <td>365.25</td>\n",
       "      <td>4</td>\n",
       "      <td>0</td>\n",
       "      <td>False</td>\n",
       "      <td>0</td>\n",
       "      <td>0</td>\n",
       "      <td>0</td>\n",
       "      <td>True</td>\n",
       "      <td>0.166667</td>\n",
       "      <td>0.400000</td>\n",
       "      <td>0.285714</td>\n",
       "      <td>0.750000</td>\n",
       "      <td>1</td>\n",
       "    </tr>\n",
       "    <tr>\n",
       "      <th>1</th>\n",
       "      <td>1</td>\n",
       "      <td>0</td>\n",
       "      <td>2</td>\n",
       "      <td>365.25</td>\n",
       "      <td>1</td>\n",
       "      <td>1</td>\n",
       "      <td>False</td>\n",
       "      <td>1</td>\n",
       "      <td>0</td>\n",
       "      <td>0</td>\n",
       "      <td>False</td>\n",
       "      <td>0.833333</td>\n",
       "      <td>0.433333</td>\n",
       "      <td>0.857143</td>\n",
       "      <td>0.500000</td>\n",
       "      <td>1</td>\n",
       "    </tr>\n",
       "    <tr>\n",
       "      <th>2</th>\n",
       "      <td>1</td>\n",
       "      <td>1</td>\n",
       "      <td>1</td>\n",
       "      <td>730.50</td>\n",
       "      <td>3</td>\n",
       "      <td>2</td>\n",
       "      <td>False</td>\n",
       "      <td>0</td>\n",
       "      <td>0</td>\n",
       "      <td>0</td>\n",
       "      <td>True</td>\n",
       "      <td>0.083333</td>\n",
       "      <td>1.033333</td>\n",
       "      <td>0.714286</td>\n",
       "      <td>0.500000</td>\n",
       "      <td>1</td>\n",
       "    </tr>\n",
       "    <tr>\n",
       "      <th>3</th>\n",
       "      <td>0</td>\n",
       "      <td>0</td>\n",
       "      <td>1</td>\n",
       "      <td>21.00</td>\n",
       "      <td>1</td>\n",
       "      <td>1</td>\n",
       "      <td>True</td>\n",
       "      <td>1</td>\n",
       "      <td>0</td>\n",
       "      <td>0</td>\n",
       "      <td>False</td>\n",
       "      <td>0.583333</td>\n",
       "      <td>0.366667</td>\n",
       "      <td>0.571429</td>\n",
       "      <td>0.791667</td>\n",
       "      <td>0</td>\n",
       "    </tr>\n",
       "    <tr>\n",
       "      <th>4</th>\n",
       "      <td>0</td>\n",
       "      <td>1</td>\n",
       "      <td>1</td>\n",
       "      <td>730.50</td>\n",
       "      <td>4</td>\n",
       "      <td>1</td>\n",
       "      <td>False</td>\n",
       "      <td>0</td>\n",
       "      <td>0</td>\n",
       "      <td>0</td>\n",
       "      <td>False</td>\n",
       "      <td>0.916667</td>\n",
       "      <td>0.500000</td>\n",
       "      <td>0.571429</td>\n",
       "      <td>0.500000</td>\n",
       "      <td>1</td>\n",
       "    </tr>\n",
       "  </tbody>\n",
       "</table>\n",
       "</div>"
      ],
      "text/plain": [
       "   Name  AnimalType  SexuponOutcome  AgeuponOutcome  Breed  Color SpecificAge  \\\n",
       "0     1           1               1          365.25      4      0       False   \n",
       "1     1           0               2          365.25      1      1       False   \n",
       "2     1           1               1          730.50      3      2       False   \n",
       "3     0           0               1           21.00      1      1        True   \n",
       "4     0           1               1          730.50      4      1       False   \n",
       "\n",
       "   Domestic  Longhair  Mix  Monocolor  ArrMonth  ArrMonthday  ArrWeekday  \\\n",
       "0         0         0    0       True  0.166667     0.400000    0.285714   \n",
       "1         1         0    0      False  0.833333     0.433333    0.857143   \n",
       "2         0         0    0       True  0.083333     1.033333    0.714286   \n",
       "3         1         0    0      False  0.583333     0.366667    0.571429   \n",
       "4         0         0    0      False  0.916667     0.500000    0.571429   \n",
       "\n",
       "    ArrHour Sterilized  \n",
       "0  0.750000          1  \n",
       "1  0.500000          1  \n",
       "2  0.500000          1  \n",
       "3  0.791667          0  \n",
       "4  0.500000          1  "
      ]
     },
     "execution_count": 24,
     "metadata": {},
     "output_type": "execute_result"
    }
   ],
   "source": [
    "X.head()"
   ]
  },
  {
   "cell_type": "code",
   "execution_count": 25,
   "metadata": {},
   "outputs": [
    {
     "data": {
      "text/plain": [
       "Name              0\n",
       "AnimalType        0\n",
       "SexuponOutcome    0\n",
       "AgeuponOutcome    0\n",
       "Breed             0\n",
       "Color             0\n",
       "SpecificAge       0\n",
       "Domestic          0\n",
       "Longhair          0\n",
       "Mix               0\n",
       "Monocolor         0\n",
       "ArrMonth          0\n",
       "ArrMonthday       0\n",
       "ArrWeekday        0\n",
       "ArrHour           0\n",
       "Sterilized        0\n",
       "dtype: int64"
      ]
     },
     "execution_count": 25,
     "metadata": {},
     "output_type": "execute_result"
    }
   ],
   "source": [
    "X.isnull().sum()"
   ]
  },
  {
   "cell_type": "code",
   "execution_count": 26,
   "metadata": {},
   "outputs": [
    {
     "data": {
      "text/plain": [
       "12"
      ]
     },
     "metadata": {},
     "output_type": "display_data"
    },
    {
     "data": {
      "text/plain": [
       "7"
      ]
     },
     "metadata": {},
     "output_type": "display_data"
    },
    {
     "data": {
      "text/plain": [
       "AgeuponOutcome     0.000000e+00\n",
       "Breed              0.000000e+00\n",
       "Domestic           0.000000e+00\n",
       "Name               0.000000e+00\n",
       "SpecificAge        0.000000e+00\n",
       "Sterilized         0.000000e+00\n",
       "AnimalType        1.636853e-280\n",
       "Monocolor          3.347020e-31\n",
       "SexuponOutcome     1.424885e-20\n",
       "ArrWeekday         3.366517e-18\n",
       "ArrHour            3.223293e-15\n",
       "Color              1.455877e-06\n",
       "ArrMonth           2.967382e-01\n",
       "ArrMonthday        8.829056e-01\n",
       "Longhair                    NaN\n",
       "Mix                         NaN\n",
       "dtype: float64"
      ]
     },
     "metadata": {},
     "output_type": "display_data"
    }
   ],
   "source": [
    "y = train['OutcomeType']\n",
    "X_chisq_pv = pd.Series(dict(zip(X.columns, chi2(X, y)[1]))).sort_values()\n",
    "display((X_chisq_pv < 5e-2).sum(),\n",
    "        (X_chisq_pv < 1e-32).sum(),\n",
    "        X_chisq_pv)"
   ]
  },
  {
   "cell_type": "code",
   "execution_count": null,
   "metadata": {},
   "outputs": [],
   "source": []
  },
  {
   "cell_type": "code",
   "execution_count": 27,
   "metadata": {
    "scrolled": true
   },
   "outputs": [
    {
     "name": "stdout",
     "output_type": "stream",
     "text": [
      "Fitting 3 folds for each of 1 candidates, totalling 3 fits\n",
      "[CV] chi2__k=all, prepr__breed__max_breeds=5, prepr__color__max_colors=20, rfc__n_estimators=800 \n",
      "[CV] chi2__k=all, prepr__breed__max_breeds=5, prepr__color__max_colors=20, rfc__n_estimators=800 \n",
      "[CV]  chi2__k=all, prepr__breed__max_breeds=5, prepr__color__max_colors=20, rfc__n_estimators=800, score=-0.802221, total=  12.8s\n",
      "[CV] chi2__k=all, prepr__breed__max_breeds=5, prepr__color__max_colors=20, rfc__n_estimators=800 \n",
      "[CV]  chi2__k=all, prepr__breed__max_breeds=5, prepr__color__max_colors=20, rfc__n_estimators=800, score=-0.813757, total=  12.8s\n",
      "[CV]  chi2__k=all, prepr__breed__max_breeds=5, prepr__color__max_colors=20, rfc__n_estimators=800, score=-0.791546, total=  12.2s\n"
     ]
    },
    {
     "name": "stderr",
     "output_type": "stream",
     "text": [
      "[Parallel(n_jobs=2)]: Done   3 out of   3 | elapsed:   32.7s remaining:    0.0s\n",
      "[Parallel(n_jobs=2)]: Done   3 out of   3 | elapsed:   32.7s finished\n"
     ]
    },
    {
     "data": {
      "text/plain": [
       "GridSearchCV(cv=StratifiedKFold(n_splits=3, random_state=None, shuffle=False),\n",
       "       error_score='raise',\n",
       "       estimator=Pipeline(steps=[('prepr', Pipeline(steps=[('breed', BreedPreprocessor(col='Breed', max_breeds=6, rare='Rare')), ('color', ColorPreprocessor(col='Color', max_colors=5)), ('arrivals', ArrivalDatePreprocessor(col='DateTime')), ('simplefeats', SimpleAnimalFeatures()), ('drop', DropGarbage()), ('textenc', Textvar...mators=350, n_jobs=1, oob_score=False, random_state=None,\n",
       "            verbose=0, warm_start=False))]),\n",
       "       fit_params={}, iid=True, n_jobs=2,\n",
       "       param_grid={'chi2__k': ['all'], 'prepr__breed__max_breeds': [5], 'prepr__color__max_colors': [20], 'rfc__n_estimators': [800]},\n",
       "       pre_dispatch='2*n_jobs', refit=True, return_train_score=True,\n",
       "       scoring='neg_log_loss', verbose=10)"
      ]
     },
     "metadata": {},
     "output_type": "display_data"
    },
    {
     "data": {
      "text/plain": [
       "{'chi2__k': 'all',\n",
       " 'prepr__breed__max_breeds': 5,\n",
       " 'prepr__color__max_colors': 20,\n",
       " 'rfc__n_estimators': 800}"
      ]
     },
     "metadata": {},
     "output_type": "display_data"
    },
    {
     "data": {
      "text/plain": [
       "-0.80250896712029685"
      ]
     },
     "metadata": {},
     "output_type": "display_data"
    },
    {
     "data": {
      "text/plain": [
       "array([ 0.0456568 ,  0.01536564,  0.02629229,  0.17855036,  0.03652331,\n",
       "        0.05558804,  0.01523383,  0.01045537,  0.        ,  0.        ,\n",
       "        0.02090256,  0.10815194,  0.14509903,  0.08375413,  0.13861014,\n",
       "        0.11981657])"
      ]
     },
     "metadata": {},
     "output_type": "display_data"
    }
   ],
   "source": [
    "pipe1 = Pipeline([\n",
    "    ('prepr', prepr_pipe),\n",
    "    ('chi2', SelectKBest(chi2, 7)),\n",
    "    # ('threshold', SelectFromModel(RandomForestClassifier(350), 2e-2)),\n",
    "    ('rfc', RandomForestClassifier(350))\n",
    "])\n",
    "gs1 = GridSearchCV(pipe1,\n",
    "                  param_grid = {\n",
    "                      'chi2__k': ['all'], #[7, 12, 'all'],\n",
    "                      'prepr__breed__max_breeds': [5],\n",
    "                      'prepr__color__max_colors': [20],\n",
    "                      'rfc__n_estimators': [800],\n",
    "                  },\n",
    "                  scoring='neg_log_loss',\n",
    "                  n_jobs=2,\n",
    "                  verbose=10,\n",
    "                  cv=StratifiedKFold(3))\n",
    "gs1.fit(train, train['OutcomeType'])\n",
    "display(gs1,\n",
    "        gs1.best_params_,\n",
    "        gs1.best_score_,\n",
    "        gs1.best_estimator_.steps[-1][1].feature_importances_)"
   ]
  },
  {
   "cell_type": "code",
   "execution_count": 28,
   "metadata": {},
   "outputs": [
    {
     "data": {
      "text/plain": [
       "Longhair          0.000000\n",
       "Mix               0.000000\n",
       "Domestic          0.010455\n",
       "SpecificAge       0.015234\n",
       "AnimalType        0.015366\n",
       "Monocolor         0.020903\n",
       "SexuponOutcome    0.026292\n",
       "Breed             0.036523\n",
       "Name              0.045657\n",
       "Color             0.055588\n",
       "ArrWeekday        0.083754\n",
       "ArrMonth          0.108152\n",
       "Sterilized        0.119817\n",
       "ArrHour           0.138610\n",
       "ArrMonthday       0.145099\n",
       "AgeuponOutcome    0.178550\n",
       "dtype: float64"
      ]
     },
     "metadata": {},
     "output_type": "display_data"
    }
   ],
   "source": [
    "display(pd.Series(dict(zip(X.columns, gs1.best_estimator_.steps[-1][1].feature_importances_))).sort_values())"
   ]
  },
  {
   "cell_type": "code",
   "execution_count": 31,
   "metadata": {
    "scrolled": true
   },
   "outputs": [
    {
     "name": "stdout",
     "output_type": "stream",
     "text": [
      "Fitting 3 folds for each of 2 candidates, totalling 6 fits\n",
      "[CV] prepr__breed__max_breeds=5, prepr__color__max_colors=20, rfc__n_estimators=800, threshold__threshold=0.01 \n",
      "[CV] prepr__breed__max_breeds=5, prepr__color__max_colors=20, rfc__n_estimators=800, threshold__threshold=0.01 \n",
      "[CV]  prepr__breed__max_breeds=5, prepr__color__max_colors=20, rfc__n_estimators=800, threshold__threshold=0.01, score=-0.814628, total=  16.3s\n",
      "[CV]  prepr__breed__max_breeds=5, prepr__color__max_colors=20, rfc__n_estimators=800, threshold__threshold=0.01, score=-0.807580, total=  16.3s\n",
      "[CV] prepr__breed__max_breeds=5, prepr__color__max_colors=20, rfc__n_estimators=800, threshold__threshold=0.01 \n",
      "[CV] prepr__breed__max_breeds=5, prepr__color__max_colors=20, rfc__n_estimators=800, threshold__threshold=0.02 \n"
     ]
    },
    {
     "name": "stderr",
     "output_type": "stream",
     "text": [
      "[Parallel(n_jobs=2)]: Done   1 tasks      | elapsed:   20.5s\n"
     ]
    },
    {
     "name": "stdout",
     "output_type": "stream",
     "text": [
      "[CV]  prepr__breed__max_breeds=5, prepr__color__max_colors=20, rfc__n_estimators=800, threshold__threshold=0.01, score=-0.792334, total=  17.1s\n",
      "[CV] prepr__breed__max_breeds=5, prepr__color__max_colors=20, rfc__n_estimators=800, threshold__threshold=0.02 \n",
      "[CV]  prepr__breed__max_breeds=5, prepr__color__max_colors=20, rfc__n_estimators=800, threshold__threshold=0.02, score=-0.806795, total=  17.4s\n",
      "[CV] prepr__breed__max_breeds=5, prepr__color__max_colors=20, rfc__n_estimators=800, threshold__threshold=0.02 \n"
     ]
    },
    {
     "name": "stderr",
     "output_type": "stream",
     "text": [
      "[Parallel(n_jobs=2)]: Done   4 out of   6 | elapsed:   42.0s remaining:   21.0s\n"
     ]
    },
    {
     "name": "stdout",
     "output_type": "stream",
     "text": [
      "[CV]  prepr__breed__max_breeds=5, prepr__color__max_colors=20, rfc__n_estimators=800, threshold__threshold=0.02, score=-0.813050, total=  16.8s\n",
      "[CV]  prepr__breed__max_breeds=5, prepr__color__max_colors=20, rfc__n_estimators=800, threshold__threshold=0.02, score=-0.795859, total=  16.7s\n"
     ]
    },
    {
     "name": "stderr",
     "output_type": "stream",
     "text": [
      "[Parallel(n_jobs=2)]: Done   6 out of   6 | elapsed:  1.0min remaining:    0.0s\n",
      "[Parallel(n_jobs=2)]: Done   6 out of   6 | elapsed:  1.0min finished\n"
     ]
    },
    {
     "data": {
      "text/plain": [
       "GridSearchCV(cv=StratifiedKFold(n_splits=3, random_state=None, shuffle=False),\n",
       "       error_score='raise',\n",
       "       estimator=Pipeline(steps=[('prepr', Pipeline(steps=[('breed', BreedPreprocessor(col='Breed', max_breeds=6, rare='Rare')), ('color', ColorPreprocessor(col='Color', max_colors=5)), ('arrivals', ArrivalDatePreprocessor(col='DateTime')), ('simplefeats', SimpleAnimalFeatures()), ('drop', DropGarbage()), ('textenc', Textvar...mators=350, n_jobs=1, oob_score=False, random_state=None,\n",
       "            verbose=0, warm_start=False))]),\n",
       "       fit_params={}, iid=True, n_jobs=2,\n",
       "       param_grid={'prepr__breed__max_breeds': [5], 'prepr__color__max_colors': [20], 'threshold__threshold': [0.01, 0.02], 'rfc__n_estimators': [800]},\n",
       "       pre_dispatch='2*n_jobs', refit=True, return_train_score=True,\n",
       "       scoring='neg_log_loss', verbose=10)"
      ]
     },
     "metadata": {},
     "output_type": "display_data"
    },
    {
     "data": {
      "text/plain": [
       "{'prepr__breed__max_breeds': 5,\n",
       " 'prepr__color__max_colors': 20,\n",
       " 'rfc__n_estimators': 800,\n",
       " 'threshold__threshold': 0.01}"
      ]
     },
     "metadata": {},
     "output_type": "display_data"
    },
    {
     "data": {
      "text/plain": [
       "-0.80484916650821314"
      ]
     },
     "metadata": {},
     "output_type": "display_data"
    },
    {
     "data": {
      "text/plain": [
       "array([ 0.04568892,  0.02005989,  0.02650018,  0.17957385,  0.0419387 ,\n",
       "        0.05515605,  0.01713964,  0.02037361,  0.10749524,  0.14504998,\n",
       "        0.08410725,  0.13919397,  0.11772273])"
      ]
     },
     "metadata": {},
     "output_type": "display_data"
    }
   ],
   "source": [
    "pipe2 = Pipeline([\n",
    "    ('prepr', prepr_pipe),\n",
    "    ('threshold', SelectFromModel(RandomForestClassifier(350), .05)),\n",
    "    ('rfc', RandomForestClassifier(350))\n",
    "])\n",
    "gs2 = GridSearchCV(pipe2,\n",
    "                  param_grid = {\n",
    "                      'prepr__breed__max_breeds': [5],\n",
    "                      'prepr__color__max_colors': [20],\n",
    "                      'threshold__threshold': [0.01, 0.02], # [.02, .05, .08, .1],\n",
    "                      'rfc__n_estimators': [800],\n",
    "                  },\n",
    "                  scoring='neg_log_loss',\n",
    "                  n_jobs=2,\n",
    "                  verbose=10,\n",
    "                  cv=StratifiedKFold(3))\n",
    "gs2.fit(train, train['OutcomeType'])\n",
    "display(gs2,\n",
    "        gs2.best_params_,\n",
    "        gs2.best_score_,\n",
    "        gs2.best_estimator_.steps[-1][1].feature_importances_)"
   ]
  },
  {
   "cell_type": "code",
   "execution_count": 32,
   "metadata": {},
   "outputs": [],
   "source": [
    "classes = gs2.best_estimator_.named_steps['rfc'].classes_\n",
    "y_te = gs2.predict_proba(test)\n",
    "ans = pd.DataFrame(y_te, columns=classes, index=test['ID'])\n",
    "ans.to_csv('ans_treshold_0.02.csv')"
   ]
  },
  {
   "cell_type": "markdown",
   "metadata": {},
   "source": [
    "This results in $0.77899$ on kaggle."
   ]
  },
  {
   "cell_type": "markdown",
   "metadata": {},
   "source": [
    "Well, let's try PCA:"
   ]
  },
  {
   "cell_type": "code",
   "execution_count": 33,
   "metadata": {},
   "outputs": [
    {
     "name": "stdout",
     "output_type": "stream",
     "text": [
      "Wed, 26 Jul 2017 10:39:45 +0300\r\n"
     ]
    }
   ],
   "source": [
    "!date -R"
   ]
  },
  {
   "cell_type": "code",
   "execution_count": 34,
   "metadata": {
    "scrolled": true
   },
   "outputs": [
    {
     "name": "stdout",
     "output_type": "stream",
     "text": [
      "Fitting 3 folds for each of 1 candidates, totalling 3 fits\n",
      "[CV] pca__n_components=None, prepr__breed__max_breeds=4, prepr__color__max_colors=20, rfc__n_estimators=800 \n",
      "[CV] pca__n_components=None, prepr__breed__max_breeds=4, prepr__color__max_colors=20, rfc__n_estimators=800 \n",
      "[CV]  pca__n_components=None, prepr__breed__max_breeds=4, prepr__color__max_colors=20, rfc__n_estimators=800, score=-0.841700, total=  41.9s\n",
      "[CV] pca__n_components=None, prepr__breed__max_breeds=4, prepr__color__max_colors=20, rfc__n_estimators=800 \n",
      "[CV]  pca__n_components=None, prepr__breed__max_breeds=4, prepr__color__max_colors=20, rfc__n_estimators=800, score=-0.858430, total=  42.3s\n",
      "[CV]  pca__n_components=None, prepr__breed__max_breeds=4, prepr__color__max_colors=20, rfc__n_estimators=800, score=-0.832422, total=  41.6s\n"
     ]
    },
    {
     "name": "stderr",
     "output_type": "stream",
     "text": [
      "[Parallel(n_jobs=2)]: Done   3 out of   3 | elapsed:  1.5min remaining:    0.0s\n",
      "[Parallel(n_jobs=2)]: Done   3 out of   3 | elapsed:  1.5min finished\n"
     ]
    },
    {
     "data": {
      "text/plain": [
       "GridSearchCV(cv=StratifiedKFold(n_splits=3, random_state=None, shuffle=False),\n",
       "       error_score='raise',\n",
       "       estimator=Pipeline(steps=[('prepr', Pipeline(steps=[('breed', BreedPreprocessor(col='Breed', max_breeds=6, rare='Rare')), ('color', ColorPreprocessor(col='Color', max_colors=5)), ('arrivals', ArrivalDatePreprocessor(col='DateTime')), ('simplefeats', SimpleAnimalFeatures()), ('drop', DropGarbage()), ('textenc', Textvar...imators=10, n_jobs=1, oob_score=False, random_state=None,\n",
       "            verbose=0, warm_start=False))]),\n",
       "       fit_params={}, iid=True, n_jobs=2,\n",
       "       param_grid={'prepr__breed__max_breeds': [4], 'prepr__color__max_colors': [20], 'pca__n_components': [None], 'rfc__n_estimators': [800]},\n",
       "       pre_dispatch='2*n_jobs', refit=True, return_train_score=True,\n",
       "       scoring='neg_log_loss', verbose=10)"
      ]
     },
     "metadata": {},
     "output_type": "display_data"
    },
    {
     "data": {
      "text/plain": [
       "{'pca__n_components': None,\n",
       " 'prepr__breed__max_breeds': 4,\n",
       " 'prepr__color__max_colors': 20,\n",
       " 'rfc__n_estimators': 800}"
      ]
     },
     "metadata": {},
     "output_type": "display_data"
    },
    {
     "data": {
      "text/plain": [
       "-0.84418520167555922"
      ]
     },
     "metadata": {},
     "output_type": "display_data"
    },
    {
     "data": {
      "text/plain": [
       "array([ 0.11358134,  0.05134576,  0.07012841,  0.09308045,  0.05458484,\n",
       "        0.06940045,  0.0523953 ,  0.07908791,  0.04832499,  0.05869523,\n",
       "        0.05079604,  0.11943783,  0.08408689,  0.05505456])"
      ]
     },
     "metadata": {},
     "output_type": "display_data"
    }
   ],
   "source": [
    "pipepca = Pipeline([\n",
    "    ('prepr', prepr_pipe),\n",
    "    ('pca', PCA()),\n",
    "    ('treshold', SelectFromModel(RandomForestClassifier(100), 2e-2)),\n",
    "    ('rfc', RandomForestClassifier())\n",
    "])\n",
    "gspca = GridSearchCV(pipepca,\n",
    "                  param_grid = {\n",
    "                      'prepr__breed__max_breeds': [4],\n",
    "                      'prepr__color__max_colors': [20],\n",
    "                      'pca__n_components': [None],\n",
    "                      'rfc__n_estimators': [800],\n",
    "                  },\n",
    "                  scoring='neg_log_loss',\n",
    "                  n_jobs=2,\n",
    "                  verbose=10,\n",
    "                  cv=StratifiedKFold(3))\n",
    "gspca.fit(train, train['OutcomeType'])\n",
    "display(gspca,\n",
    "        gspca.best_params_,\n",
    "        gspca.best_score_,\n",
    "        gspca.best_estimator_.steps[-1][1].feature_importances_)"
   ]
  },
  {
   "cell_type": "code",
   "execution_count": 35,
   "metadata": {},
   "outputs": [
    {
     "name": "stdout",
     "output_type": "stream",
     "text": [
      "Wed, 26 Jul 2017 10:42:20 +0300\r\n"
     ]
    }
   ],
   "source": [
    "!date -R"
   ]
  },
  {
   "cell_type": "code",
   "execution_count": 36,
   "metadata": {
    "collapsed": true
   },
   "outputs": [],
   "source": [
    "# pd.Series(dict(zip(X.columns, rfc.feature_importances_))).sort_values(ascending=False).plot.bar()"
   ]
  },
  {
   "cell_type": "code",
   "execution_count": 37,
   "metadata": {
    "collapsed": true
   },
   "outputs": [],
   "source": [
    "# cross_val_score(rfc, X, y, scoring='neg_log_loss')"
   ]
  },
  {
   "cell_type": "code",
   "execution_count": 38,
   "metadata": {},
   "outputs": [],
   "source": [
    "y_te = gspca.predict_proba(test)"
   ]
  },
  {
   "cell_type": "code",
   "execution_count": 39,
   "metadata": {},
   "outputs": [],
   "source": [
    "anspca = pd.DataFrame(y_te, columns=gspca.best_estimator_.steps[-1][1].classes_, index=test['ID'])\n",
    "anspca.to_csv('anspca.csv')"
   ]
  },
  {
   "cell_type": "code",
   "execution_count": null,
   "metadata": {
    "collapsed": true
   },
   "outputs": [],
   "source": []
  },
  {
   "cell_type": "code",
   "execution_count": 41,
   "metadata": {},
   "outputs": [
    {
     "name": "stdout",
     "output_type": "stream",
     "text": [
      "Fitting 3 folds for each of 1 candidates, totalling 3 fits\n",
      "[CV] prepr__breed__max_breeds=5, prepr__color__max_colors=20, separation__groupby=['AnimalType'] \n",
      "[CV] prepr__breed__max_breeds=5, prepr__color__max_colors=20, separation__groupby=['AnimalType'] \n",
      "[CV]  prepr__breed__max_breeds=5, prepr__color__max_colors=20, separation__groupby=['AnimalType'], score=-0.806559, total=  21.4s\n",
      "[CV] prepr__breed__max_breeds=5, prepr__color__max_colors=20, separation__groupby=['AnimalType'] \n",
      "[CV]  prepr__breed__max_breeds=5, prepr__color__max_colors=20, separation__groupby=['AnimalType'], score=-0.815320, total=  21.5s\n",
      "[CV]  prepr__breed__max_breeds=5, prepr__color__max_colors=20, separation__groupby=['AnimalType'], score=-0.797244, total=  20.7s\n"
     ]
    },
    {
     "name": "stderr",
     "output_type": "stream",
     "text": [
      "[Parallel(n_jobs=2)]: Done   3 out of   3 | elapsed:   49.1s remaining:    0.0s\n",
      "[Parallel(n_jobs=2)]: Done   3 out of   3 | elapsed:   49.1s finished\n"
     ]
    },
    {
     "data": {
      "text/plain": [
       "-0.80637524854751763"
      ]
     },
     "execution_count": 41,
     "metadata": {},
     "output_type": "execute_result"
    }
   ],
   "source": [
    "class IndependentExecution(BaseEstimator, TransformerMixin):\n",
    "    def __init__(self, model, groupby=['AnimalType']):\n",
    "        self.model = model\n",
    "        self.groupby = groupby\n",
    "        self.models_ = dict()\n",
    "        self.feature_importances_ = None\n",
    "    \n",
    "    def fit(self, X, y=None):\n",
    "        groups = X.groupby(self.groupby)\n",
    "        for i, g in groups:\n",
    "            self.models_[i] = sklearn.base.clone(self.model)\n",
    "            self.models_[i].fit(g, y[g.index])\n",
    "        self.feature_importances_ = (\n",
    "            np.sum(m.feature_importances_ for i, m in self.models_.items())/len(self.models_)\n",
    "        )\n",
    "        return self\n",
    "    \n",
    "    def transform(self, X):\n",
    "        groups = X.groupby(self.groupby)\n",
    "        new_X = pd.DataFrame()\n",
    "        for i, g in groups:\n",
    "            ind = g.index\n",
    "            g = self.models_[i].transform(g)\n",
    "            new_X = pd.concat((new_X, g))\n",
    "        new_X.sort_index(inplace=True)\n",
    "        return new_X\n",
    "        \n",
    "        return new_X\n",
    "    \n",
    "    def predict_proba(self, X):\n",
    "        groups = X.groupby(self.groupby)\n",
    "        new_X = pd.DataFrame()\n",
    "        for i, g in groups:\n",
    "            ind = g.index\n",
    "            g = self.models_[i].predict_proba(g)\n",
    "            g = pd.DataFrame(g, columns=self.models_[i].classes_, index=ind)\n",
    "            new_X = pd.concat((new_X, g))\n",
    "        new_X.sort_index(inplace=True)\n",
    "        return new_X\n",
    "\n",
    "    \n",
    "class CustomSelectFromModel(BaseEstimator, TransformerMixin):\n",
    "    def __init__(self, model, threshold, preserve = ['AnimalType']):\n",
    "        self.model = model\n",
    "        self.threshold = threshold\n",
    "        self.preserve = preserve\n",
    "        \n",
    "    def fit(self, X, y=None):\n",
    "        self.model.fit(X, y)\n",
    "        return self\n",
    "    \n",
    "    def transform(self, X):\n",
    "        scores = None\n",
    "        if hasattr(self.model, 'coefs_'):\n",
    "            scores = self.model.coefs_\n",
    "        else:\n",
    "            scores = self.model.feature_importances_\n",
    "        X = X.loc[:, self.preserve + list(X.columns[scores > self.threshold])].copy()\n",
    "        return X\n",
    "        \n",
    "    \n",
    "pipe3 = Pipeline([\n",
    "    ('prepr', prepr_pipe),\n",
    "    ('threshold', CustomSelectFromModel(IndependentExecution(RandomForestClassifier(800)), .02)),\n",
    "    ('separation', IndependentExecution(RandomForestClassifier(800))),\n",
    "])\n",
    "\n",
    "gs3 = GridSearchCV(pipe3,\n",
    "                  param_grid = {\n",
    "                      'separation__groupby': [['AnimalType']], # [['AnimalType'], ['AnimalType', 'SexuponOutcome']],\n",
    "                      'prepr__breed__max_breeds': [5],\n",
    "                      'prepr__color__max_colors': [20],\n",
    "                  },\n",
    "                  scoring='neg_log_loss',\n",
    "                  n_jobs=2,\n",
    "                  verbose=10,\n",
    "                  cv=StratifiedKFold(3))\n",
    "#y_enc = Pipeline([('labelenc', sklearn.preprocessing.LabelEncoder()),\n",
    "#                  ('ohe', sklearn.preprocessing.LabelBinarizer())])\n",
    "#y_enc = sklearn.preprocessing.LabelBinarizer()\n",
    "#y_enc.fit(train['OutcomeType'])\n",
    "#y = y_enc.transform(train['OutcomeType'])\n",
    "gs3.fit(train, train['OutcomeType'])\n",
    "gs3.best_score_"
   ]
  },
  {
   "cell_type": "code",
   "execution_count": null,
   "metadata": {},
   "outputs": [],
   "source": []
  },
  {
   "cell_type": "code",
   "execution_count": 42,
   "metadata": {},
   "outputs": [
    {
     "data": {
      "text/plain": [
       "GridSearchCV(cv=StratifiedKFold(n_splits=3, random_state=None, shuffle=False),\n",
       "       error_score='raise',\n",
       "       estimator=Pipeline(steps=[('prepr', Pipeline(steps=[('breed', BreedPreprocessor(col='Breed', max_breeds=6, rare='Rare')), ('color', ColorPreprocessor(col='Color', max_colors=5)), ('arrivals', ArrivalDatePreprocessor(col='DateTime')), ('simplefeats', SimpleAnimalFeatures()), ('drop', DropGarbage()), ('textenc', Textvar...ators=800, n_jobs=1, oob_score=False, random_state=None,\n",
       "            verbose=0, warm_start=False)))]),\n",
       "       fit_params={}, iid=True, n_jobs=2,\n",
       "       param_grid={'separation__groupby': [['AnimalType']], 'prepr__breed__max_breeds': [5], 'prepr__color__max_colors': [20]},\n",
       "       pre_dispatch='2*n_jobs', refit=True, return_train_score=True,\n",
       "       scoring='neg_log_loss', verbose=10)"
      ]
     },
     "metadata": {},
     "output_type": "display_data"
    },
    {
     "data": {
      "text/plain": [
       "{'prepr__breed__max_breeds': 5,\n",
       " 'prepr__color__max_colors': 20,\n",
       " 'separation__groupby': ['AnimalType']}"
      ]
     },
     "metadata": {},
     "output_type": "display_data"
    },
    {
     "data": {
      "text/plain": [
       "-0.80637524854751763"
      ]
     },
     "metadata": {},
     "output_type": "display_data"
    },
    {
     "data": {
      "text/html": [
       "<div>\n",
       "<style>\n",
       "    .dataframe thead tr:only-child th {\n",
       "        text-align: right;\n",
       "    }\n",
       "\n",
       "    .dataframe thead th {\n",
       "        text-align: left;\n",
       "    }\n",
       "\n",
       "    .dataframe tbody tr th {\n",
       "        vertical-align: top;\n",
       "    }\n",
       "</style>\n",
       "<table border=\"1\" class=\"dataframe\">\n",
       "  <thead>\n",
       "    <tr style=\"text-align: right;\">\n",
       "      <th></th>\n",
       "      <th>0</th>\n",
       "      <th>1</th>\n",
       "    </tr>\n",
       "  </thead>\n",
       "  <tbody>\n",
       "    <tr>\n",
       "      <th>0</th>\n",
       "      <td>0.000000</td>\n",
       "      <td>0.000000</td>\n",
       "    </tr>\n",
       "    <tr>\n",
       "      <th>1</th>\n",
       "      <td>0.077841</td>\n",
       "      <td>0.029794</td>\n",
       "    </tr>\n",
       "    <tr>\n",
       "      <th>2</th>\n",
       "      <td>0.032631</td>\n",
       "      <td>0.027506</td>\n",
       "    </tr>\n",
       "    <tr>\n",
       "      <th>3</th>\n",
       "      <td>0.209873</td>\n",
       "      <td>0.172061</td>\n",
       "    </tr>\n",
       "    <tr>\n",
       "      <th>4</th>\n",
       "      <td>0.009588</td>\n",
       "      <td>0.051491</td>\n",
       "    </tr>\n",
       "    <tr>\n",
       "      <th>5</th>\n",
       "      <td>0.039940</td>\n",
       "      <td>0.069164</td>\n",
       "    </tr>\n",
       "    <tr>\n",
       "      <th>6</th>\n",
       "      <td>0.015411</td>\n",
       "      <td>0.026364</td>\n",
       "    </tr>\n",
       "    <tr>\n",
       "      <th>7</th>\n",
       "      <td>0.085046</td>\n",
       "      <td>0.128678</td>\n",
       "    </tr>\n",
       "    <tr>\n",
       "      <th>8</th>\n",
       "      <td>0.116913</td>\n",
       "      <td>0.173398</td>\n",
       "    </tr>\n",
       "    <tr>\n",
       "      <th>9</th>\n",
       "      <td>0.076026</td>\n",
       "      <td>0.094289</td>\n",
       "    </tr>\n",
       "    <tr>\n",
       "      <th>10</th>\n",
       "      <td>0.148865</td>\n",
       "      <td>0.144565</td>\n",
       "    </tr>\n",
       "    <tr>\n",
       "      <th>11</th>\n",
       "      <td>0.187867</td>\n",
       "      <td>0.082690</td>\n",
       "    </tr>\n",
       "  </tbody>\n",
       "</table>\n",
       "</div>"
      ],
      "text/plain": [
       "           0         1\n",
       "0   0.000000  0.000000\n",
       "1   0.077841  0.029794\n",
       "2   0.032631  0.027506\n",
       "3   0.209873  0.172061\n",
       "4   0.009588  0.051491\n",
       "5   0.039940  0.069164\n",
       "6   0.015411  0.026364\n",
       "7   0.085046  0.128678\n",
       "8   0.116913  0.173398\n",
       "9   0.076026  0.094289\n",
       "10  0.148865  0.144565\n",
       "11  0.187867  0.082690"
      ]
     },
     "metadata": {},
     "output_type": "display_data"
    },
    {
     "data": {
      "text/plain": [
       "{0: RandomForestClassifier(bootstrap=True, class_weight=None, criterion='gini',\n",
       "             max_depth=None, max_features='auto', max_leaf_nodes=None,\n",
       "             min_impurity_split=1e-07, min_samples_leaf=1,\n",
       "             min_samples_split=2, min_weight_fraction_leaf=0.0,\n",
       "             n_estimators=800, n_jobs=1, oob_score=False, random_state=None,\n",
       "             verbose=0, warm_start=False),\n",
       " 1: RandomForestClassifier(bootstrap=True, class_weight=None, criterion='gini',\n",
       "             max_depth=None, max_features='auto', max_leaf_nodes=None,\n",
       "             min_impurity_split=1e-07, min_samples_leaf=1,\n",
       "             min_samples_split=2, min_weight_fraction_leaf=0.0,\n",
       "             n_estimators=800, n_jobs=1, oob_score=False, random_state=None,\n",
       "             verbose=0, warm_start=False)}"
      ]
     },
     "execution_count": 42,
     "metadata": {},
     "output_type": "execute_result"
    }
   ],
   "source": [
    "display(gs3,\n",
    "        gs3.best_params_,\n",
    "        gs3.best_score_,\n",
    "        pd.DataFrame({k: m.feature_importances_ for k,m in gs3.best_estimator_.steps[-1][1].models_.items()}))\n",
    "gs3.best_estimator_.steps[-1][1].models_"
   ]
  },
  {
   "cell_type": "code",
   "execution_count": 43,
   "metadata": {
    "collapsed": true
   },
   "outputs": [],
   "source": [
    "y_te = gs3.predict_proba(test)\n",
    "anssplt = pd.DataFrame(y_te, columns=gspca.best_estimator_.steps[-1][1].classes_, index=test['ID'])\n",
    "anssplt.to_csv('anssplt.csv')"
   ]
  },
  {
   "cell_type": "markdown",
   "metadata": {
    "collapsed": true
   },
   "source": [
    "Now, let's get real with breeds and colors.\n",
    "What we basically need to do is to tokenize them,\n",
    "compute frequences and then cluster records based on frequence of each term.\n",
    "And under otherwise equal conditions we'd prefer to minimize outcome variance within each cluster."
   ]
  },
  {
   "cell_type": "code",
   "execution_count": null,
   "metadata": {
    "collapsed": true
   },
   "outputs": [],
   "source": []
  },
  {
   "cell_type": "code",
   "execution_count": null,
   "metadata": {
    "collapsed": true
   },
   "outputs": [],
   "source": [
    "# !systemctl suspend"
   ]
  },
  {
   "cell_type": "code",
   "execution_count": null,
   "metadata": {
    "collapsed": true
   },
   "outputs": [],
   "source": []
  },
  {
   "cell_type": "code",
   "execution_count": null,
   "metadata": {
    "collapsed": true
   },
   "outputs": [],
   "source": []
  }
 ],
 "metadata": {
  "kernelspec": {
   "display_name": "Python 3",
   "language": "python",
   "name": "python3"
  },
  "language_info": {
   "codemirror_mode": {
    "name": "ipython",
    "version": 3
   },
   "file_extension": ".py",
   "mimetype": "text/x-python",
   "name": "python",
   "nbconvert_exporter": "python",
   "pygments_lexer": "ipython3",
   "version": "3.6.1"
  }
 },
 "nbformat": 4,
 "nbformat_minor": 2
}
