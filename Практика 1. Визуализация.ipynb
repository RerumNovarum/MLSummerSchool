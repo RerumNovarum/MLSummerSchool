{
 "cells": [
  {
   "cell_type": "code",
   "execution_count": 1,
   "metadata": {
    "ExecuteTime": {
     "end_time": "2017-07-18T14:27:47.297282",
     "start_time": "2017-07-18T14:27:47.292294"
    }
   },
   "outputs": [
    {
     "name": "stderr",
     "output_type": "stream",
     "text": [
      "/home/god/.venv/lib/python3.6/site-packages/ggplot/utils.py:81: FutureWarning: pandas.tslib is deprecated and will be removed in a future version.\n",
      "You can access Timestamp as pandas.Timestamp\n",
      "  pd.tslib.Timestamp,\n",
      "/home/god/.venv/lib/python3.6/site-packages/ggplot/stats/smoothers.py:4: FutureWarning: The pandas.lib module is deprecated and will be removed in a future version. These are private functions and can be accessed from pandas._libs.lib instead\n",
      "  from pandas.lib import Timestamp\n",
      "/home/god/.venv/lib/python3.6/site-packages/statsmodels/compat/pandas.py:56: FutureWarning: The pandas.core.datetools module is deprecated and will be removed in a future version. Please use the pandas.tseries module instead.\n",
      "  from pandas.core import datetools\n"
     ]
    }
   ],
   "source": [
    "import numpy as np, pandas as pd,\\\n",
    "       matplotlib.pyplot as plt, seaborn as sns\n",
    "import sympy as sp\n",
    "import ggplot as gg\n",
    "import plotly.plotly as py, plotly.graph_objs as go\n",
    "pd.options.display.max_columns = 200\n",
    "sns.set()\n",
    "\n",
    "sp.init_printing()\n",
    "%matplotlib inline"
   ]
  },
  {
   "cell_type": "code",
   "execution_count": 2,
   "metadata": {
    "ExecuteTime": {
     "end_time": "2017-07-18T14:31:28.139430",
     "start_time": "2017-07-18T14:31:28.132491"
    },
    "collapsed": true
   },
   "outputs": [],
   "source": [
    "df = pd.read_csv('data/GoT/battles.csv')"
   ]
  },
  {
   "cell_type": "code",
   "execution_count": 3,
   "metadata": {},
   "outputs": [
    {
     "name": "stdout",
     "output_type": "stream",
     "text": [
      "Index(['name', 'year', 'battle_number', 'attacker_king', 'defender_king',\n",
      "       'attacker_1', 'attacker_2', 'attacker_3', 'attacker_4', 'defender_1',\n",
      "       'defender_2', 'defender_3', 'defender_4', 'attacker_outcome',\n",
      "       'battle_type', 'major_death', 'major_capture', 'attacker_size',\n",
      "       'defender_size', 'attacker_commander', 'defender_commander', 'summer',\n",
      "       'location', 'region', 'note'],\n",
      "      dtype='object')\n",
      "                            name  year  battle_number  \\\n",
      "0     Battle of the Golden Tooth   298              1   \n",
      "1    Battle at the Mummer's Ford   298              2   \n",
      "2             Battle of Riverrun   298              3   \n",
      "3       Battle of the Green Fork   298              4   \n",
      "4  Battle of the Whispering Wood   298              5   \n",
      "\n",
      "              attacker_king             defender_king attacker_1 attacker_2  \\\n",
      "0  Joffrey/Tommen Baratheon                Robb Stark  Lannister        NaN   \n",
      "1  Joffrey/Tommen Baratheon                Robb Stark  Lannister        NaN   \n",
      "2  Joffrey/Tommen Baratheon                Robb Stark  Lannister        NaN   \n",
      "3                Robb Stark  Joffrey/Tommen Baratheon      Stark        NaN   \n",
      "4                Robb Stark  Joffrey/Tommen Baratheon      Stark      Tully   \n",
      "\n",
      "  attacker_3 attacker_4 defender_1 defender_2  defender_3  defender_4  \\\n",
      "0        NaN        NaN      Tully        NaN         NaN         NaN   \n",
      "1        NaN        NaN  Baratheon        NaN         NaN         NaN   \n",
      "2        NaN        NaN      Tully        NaN         NaN         NaN   \n",
      "3        NaN        NaN  Lannister        NaN         NaN         NaN   \n",
      "4        NaN        NaN  Lannister        NaN         NaN         NaN   \n",
      "\n",
      "  attacker_outcome     battle_type  major_death  major_capture  attacker_size  \\\n",
      "0              win  pitched battle          1.0            0.0        15000.0   \n",
      "1              win          ambush          1.0            0.0            NaN   \n",
      "2              win  pitched battle          0.0            1.0        15000.0   \n",
      "3             loss  pitched battle          1.0            1.0        18000.0   \n",
      "4              win          ambush          1.0            1.0         1875.0   \n",
      "\n",
      "   defender_size                                 attacker_commander  \\\n",
      "0         4000.0                                    Jaime Lannister   \n",
      "1          120.0                                     Gregor Clegane   \n",
      "2        10000.0                       Jaime Lannister, Andros Brax   \n",
      "3        20000.0  Roose Bolton, Wylis Manderly, Medger Cerwyn, H...   \n",
      "4         6000.0                          Robb Stark, Brynden Tully   \n",
      "\n",
      "                                  defender_commander  summer         location  \\\n",
      "0                               Clement Piper, Vance     1.0     Golden Tooth   \n",
      "1                                   Beric Dondarrion     1.0    Mummer's Ford   \n",
      "2                      Edmure Tully, Tytos Blackwood     1.0         Riverrun   \n",
      "3  Tywin Lannister, Gregor Clegane, Kevan Lannist...     1.0       Green Fork   \n",
      "4                                    Jaime Lannister     1.0  Whispering Wood   \n",
      "\n",
      "            region note  \n",
      "0  The Westerlands  NaN  \n",
      "1   The Riverlands  NaN  \n",
      "2   The Riverlands  NaN  \n",
      "3   The Riverlands  NaN  \n",
      "4   The Riverlands  NaN  \n"
     ]
    }
   ],
   "source": [
    "print(df.columns)\n",
    "print(df.head())"
   ]
  },
  {
   "cell_type": "markdown",
   "metadata": {},
   "source": [
    "<div class=\"panel panel-info\" style=\"margin: 50px 0 0 0\">\n",
    "    <div class=\"panel-heading\">\n",
    "        <h3 class=\"panel-title\">Задание 1: Самые агрессивные и самые забитые</h3> \n",
    "    </div>\n",
    "</div>\n",
    "\n",
    "Постройте <b>bar chart</b>, отражающий количества битв каждой из семей, сначала нарисуйте всех аттакующих, а на другой график поместите защищающихся. Столбцы должны быть отсортированы.\n",
    "<br><br>\n",
    "Выясните, кто нападал чаще всех и кому приходилось отбиваться чаще всех."
   ]
  },
  {
   "cell_type": "code",
   "execution_count": 4,
   "metadata": {
    "ExecuteTime": {
     "end_time": "2017-07-18T14:27:48.235694",
     "start_time": "2017-07-18T14:27:48.232792"
    }
   },
   "outputs": [
    {
     "data": {
      "image/png": "[encoded data removed]",
      "text/plain": [
       "<matplotlib.figure.Figure at 0x7f069baedd68>"
      ]
     },
     "metadata": {},
     "output_type": "display_data"
    },
    {
     "data": {
      "text/plain": [
       "<matplotlib.text.Text at 0x7f069b9187f0>"
      ]
     },
     "execution_count": 4,
     "metadata": {},
     "output_type": "execute_result"
    },
    {
     "data": {
      "image/png": "[encoded data removed]",
      "text/plain": [
       "<matplotlib.figure.Figure at 0x7f069b9f04a8>"
      ]
     },
     "metadata": {},
     "output_type": "display_data"
    }
   ],
   "source": [
    "attackers = pd.Series(dtype=int)\n",
    "defenders = pd.Series(dtype=int)\n",
    "for i in (1,2,3,4):\n",
    "    attackers = attackers.add(df['attacker_%s' % i].value_counts(), fill_value=0)\n",
    "    defenders = defenders.add(df['defender_%s' % i].value_counts(), fill_value=0)\n",
    "attackers.sort_values(ascending=False, inplace=True)\n",
    "defenders.sort_values(ascending=False, inplace=True)\n",
    "\n",
    "plt.title('The most aggressive houses')\n",
    "attackers.plot.bar()\n",
    "plt.show()\n",
    "\n",
    "defenders.plot.bar()\n",
    "plt.title('The most intimidated')"
   ]
  },
  {
   "cell_type": "code",
   "execution_count": null,
   "metadata": {
    "collapsed": true
   },
   "outputs": [],
   "source": []
  },
  {
   "cell_type": "code",
   "execution_count": null,
   "metadata": {
    "collapsed": true
   },
   "outputs": [],
   "source": []
  },
  {
   "cell_type": "markdown",
   "metadata": {},
   "source": [
    "<div class=\"panel panel-info\" style=\"margin: 50px 0 0 0\">\n",
    "    <div class=\"panel-heading\">\n",
    "        <h3 class=\"panel-title\">Задание 2: Кто дерется лучше всех?</h3> \n",
    "    </div>\n",
    "</div>\n",
    "\n",
    "Правильно сосчитайте количество побед и поражений у каждого из королей (__attacker_king__, __defender_king__).\n",
    "\n",
    "Покажите их статистику как stacked bar plot, отсортировав столбцы по общему количество сражений."
   ]
  },
  {
   "cell_type": "code",
   "execution_count": 5,
   "metadata": {
    "ExecuteTime": {
     "end_time": "2017-07-18T14:27:49.027986",
     "start_time": "2017-07-18T14:27:49.024983"
    }
   },
   "outputs": [
    {
     "data": {
      "text/html": [
       "<div>\n",
       "<style>\n",
       "    .dataframe thead tr:only-child th {\n",
       "        text-align: right;\n",
       "    }\n",
       "\n",
       "    .dataframe thead th {\n",
       "        text-align: left;\n",
       "    }\n",
       "\n",
       "    .dataframe tbody tr th {\n",
       "        vertical-align: top;\n",
       "    }\n",
       "</style>\n",
       "<table border=\"1\" class=\"dataframe\">\n",
       "  <thead>\n",
       "    <tr style=\"text-align: right;\">\n",
       "      <th>win</th>\n",
       "      <th>False</th>\n",
       "      <th>True</th>\n",
       "    </tr>\n",
       "    <tr>\n",
       "      <th>king</th>\n",
       "      <th></th>\n",
       "      <th></th>\n",
       "    </tr>\n",
       "  </thead>\n",
       "  <tbody>\n",
       "    <tr>\n",
       "      <th>Joffrey/Tommen Baratheon</th>\n",
       "      <td>10</td>\n",
       "      <td>17</td>\n",
       "    </tr>\n",
       "    <tr>\n",
       "      <th>Robb Stark</th>\n",
       "      <td>15</td>\n",
       "      <td>9</td>\n",
       "    </tr>\n",
       "    <tr>\n",
       "      <th>Balon/Euron Greyjoy</th>\n",
       "      <td>4</td>\n",
       "      <td>7</td>\n",
       "    </tr>\n",
       "    <tr>\n",
       "      <th>Stannis Baratheon</th>\n",
       "      <td>5</td>\n",
       "      <td>2</td>\n",
       "    </tr>\n",
       "    <tr>\n",
       "      <th>Mance Rayder</th>\n",
       "      <td>0</td>\n",
       "      <td>1</td>\n",
       "    </tr>\n",
       "    <tr>\n",
       "      <th>Renly Baratheon</th>\n",
       "      <td>1</td>\n",
       "      <td>0</td>\n",
       "    </tr>\n",
       "  </tbody>\n",
       "</table>\n",
       "</div>"
      ],
      "text/plain": [
       "win                       False  True \n",
       "king                                  \n",
       "Joffrey/Tommen Baratheon     10     17\n",
       "Robb Stark                   15      9\n",
       "Balon/Euron Greyjoy           4      7\n",
       "Stannis Baratheon             5      2\n",
       "Mance Rayder                  0      1\n",
       "Renly Baratheon               1      0"
      ]
     },
     "execution_count": 5,
     "metadata": {},
     "output_type": "execute_result"
    }
   ],
   "source": [
    "kings = df.melt(id_vars=['attacker_outcome'],\n",
    "                value_vars=['attacker_king', 'defender_king'],\n",
    "                var_name='attacker',\n",
    "                value_name='king')\n",
    "kings['win'] = kings.attacker_outcome.eq('win') == kings.attacker.eq('attacker_king')\n",
    "kings.drop(['attacker', 'attacker_outcome'], axis=1, inplace=True)\n",
    "kings = kings.dropna().groupby('king')['win'].value_counts().unstack(fill_value=0)\n",
    "kings['tot'] = kings[False] + kings[True]\n",
    "kings.sort_values(by='tot',\n",
    "                  ascending=False,\n",
    "                  inplace=True)\n",
    "kings.drop('tot', axis=1, inplace=True)\n",
    "kings"
   ]
  },
  {
   "cell_type": "code",
   "execution_count": 6,
   "metadata": {},
   "outputs": [
    {
     "data": {
      "text/plain": [
       "<matplotlib.axes._subplots.AxesSubplot at 0x7f069b900fd0>"
      ]
     },
     "execution_count": 6,
     "metadata": {},
     "output_type": "execute_result"
    },
    {
     "data": {
      "image/png": "[encoded data removed]",
      "text/plain": [
       "<matplotlib.figure.Figure at 0x7f069b9779b0>"
      ]
     },
     "metadata": {},
     "output_type": "display_data"
    }
   ],
   "source": [
    "kings.plot.bar(stacked=True)"
   ]
  },
  {
   "cell_type": "markdown",
   "metadata": {},
   "source": [
    "<div class=\"panel panel-info\" style=\"margin: 50px 0 0 0\">\n",
    "    <div class=\"panel-heading\">\n",
    "        <h3 class=\"panel-title\">Задание 3: Земля, залитая кровью</h3> \n",
    "    </div>\n",
    "</div>\n",
    "\n",
    "Представим, что в битве столкнулись отряды в 5000 и 15000 человек. Будем считать потери равными <i>2*min(5000, 15000) = 10000</i>. То есть, грубо говоря, всегда побеждает большинство, но из меньшей армии солдат с собой унесет еще хотя бы одного.\n",
    "\n",
    "Теперь, зная, как высчитывать потери после боя, выясните, в каком конкретно регионе (__region__) и на какой местности (__location__) полегло больше людишек. Два графика: один - по регионам, второй - по месностям.\n",
    "\n",
    "Проиллюстрируйте результаты с помощью __pie chart__."
   ]
  },
  {
   "cell_type": "code",
   "execution_count": 7,
   "metadata": {
    "ExecuteTime": {
     "end_time": "2017-07-18T14:27:50.179756",
     "start_time": "2017-07-18T14:27:50.176628"
    }
   },
   "outputs": [
    {
     "data": {
      "text/html": [
       "<div>\n",
       "<style>\n",
       "    .dataframe thead tr:only-child th {\n",
       "        text-align: right;\n",
       "    }\n",
       "\n",
       "    .dataframe thead th {\n",
       "        text-align: left;\n",
       "    }\n",
       "\n",
       "    .dataframe tbody tr th {\n",
       "        vertical-align: top;\n",
       "    }\n",
       "</style>\n",
       "<table border=\"1\" class=\"dataframe\">\n",
       "  <thead>\n",
       "    <tr style=\"text-align: right;\">\n",
       "      <th></th>\n",
       "      <th>location</th>\n",
       "      <th>attacker_size</th>\n",
       "      <th>defender_size</th>\n",
       "      <th>deaths</th>\n",
       "    </tr>\n",
       "  </thead>\n",
       "  <tbody>\n",
       "    <tr>\n",
       "      <th>0</th>\n",
       "      <td>Golden Tooth</td>\n",
       "      <td>15000.0</td>\n",
       "      <td>4000.0</td>\n",
       "      <td>8000.0</td>\n",
       "    </tr>\n",
       "    <tr>\n",
       "      <th>2</th>\n",
       "      <td>Riverrun</td>\n",
       "      <td>15000.0</td>\n",
       "      <td>10000.0</td>\n",
       "      <td>20000.0</td>\n",
       "    </tr>\n",
       "    <tr>\n",
       "      <th>3</th>\n",
       "      <td>Green Fork</td>\n",
       "      <td>18000.0</td>\n",
       "      <td>20000.0</td>\n",
       "      <td>36000.0</td>\n",
       "    </tr>\n",
       "    <tr>\n",
       "      <th>4</th>\n",
       "      <td>Whispering Wood</td>\n",
       "      <td>1875.0</td>\n",
       "      <td>6000.0</td>\n",
       "      <td>3750.0</td>\n",
       "    </tr>\n",
       "    <tr>\n",
       "      <th>5</th>\n",
       "      <td>Riverrun</td>\n",
       "      <td>6000.0</td>\n",
       "      <td>12625.0</td>\n",
       "      <td>12000.0</td>\n",
       "    </tr>\n",
       "    <tr>\n",
       "      <th>10</th>\n",
       "      <td>Torrhen's Square</td>\n",
       "      <td>244.0</td>\n",
       "      <td>900.0</td>\n",
       "      <td>488.0</td>\n",
       "    </tr>\n",
       "    <tr>\n",
       "      <th>13</th>\n",
       "      <td>Winterfell</td>\n",
       "      <td>618.0</td>\n",
       "      <td>2000.0</td>\n",
       "      <td>1236.0</td>\n",
       "    </tr>\n",
       "    <tr>\n",
       "      <th>14</th>\n",
       "      <td>Oxcross</td>\n",
       "      <td>6000.0</td>\n",
       "      <td>10000.0</td>\n",
       "      <td>12000.0</td>\n",
       "    </tr>\n",
       "    <tr>\n",
       "      <th>15</th>\n",
       "      <td>Storm's End</td>\n",
       "      <td>5000.0</td>\n",
       "      <td>20000.0</td>\n",
       "      <td>10000.0</td>\n",
       "    </tr>\n",
       "    <tr>\n",
       "      <th>16</th>\n",
       "      <td>Red Fork</td>\n",
       "      <td>20000.0</td>\n",
       "      <td>10000.0</td>\n",
       "      <td>20000.0</td>\n",
       "    </tr>\n",
       "    <tr>\n",
       "      <th>17</th>\n",
       "      <td>Harrenhal</td>\n",
       "      <td>100.0</td>\n",
       "      <td>100.0</td>\n",
       "      <td>200.0</td>\n",
       "    </tr>\n",
       "    <tr>\n",
       "      <th>19</th>\n",
       "      <td>King's Landing</td>\n",
       "      <td>21000.0</td>\n",
       "      <td>7250.0</td>\n",
       "      <td>14500.0</td>\n",
       "    </tr>\n",
       "    <tr>\n",
       "      <th>25</th>\n",
       "      <td>The Twins</td>\n",
       "      <td>3500.0</td>\n",
       "      <td>3500.0</td>\n",
       "      <td>7000.0</td>\n",
       "    </tr>\n",
       "    <tr>\n",
       "      <th>27</th>\n",
       "      <td>Castle Black</td>\n",
       "      <td>100000.0</td>\n",
       "      <td>1240.0</td>\n",
       "      <td>2480.0</td>\n",
       "    </tr>\n",
       "    <tr>\n",
       "      <th>30</th>\n",
       "      <td>Deepwood Motte</td>\n",
       "      <td>4500.0</td>\n",
       "      <td>200.0</td>\n",
       "      <td>400.0</td>\n",
       "    </tr>\n",
       "    <tr>\n",
       "      <th>37</th>\n",
       "      <td>Winterfell</td>\n",
       "      <td>5000.0</td>\n",
       "      <td>8000.0</td>\n",
       "      <td>10000.0</td>\n",
       "    </tr>\n",
       "  </tbody>\n",
       "</table>\n",
       "</div>"
      ],
      "text/plain": [
       "            location  attacker_size  defender_size   deaths\n",
       "0       Golden Tooth        15000.0         4000.0   8000.0\n",
       "2           Riverrun        15000.0        10000.0  20000.0\n",
       "3         Green Fork        18000.0        20000.0  36000.0\n",
       "4    Whispering Wood         1875.0         6000.0   3750.0\n",
       "5           Riverrun         6000.0        12625.0  12000.0\n",
       "10  Torrhen's Square          244.0          900.0    488.0\n",
       "13        Winterfell          618.0         2000.0   1236.0\n",
       "14           Oxcross         6000.0        10000.0  12000.0\n",
       "15       Storm's End         5000.0        20000.0  10000.0\n",
       "16          Red Fork        20000.0        10000.0  20000.0\n",
       "17         Harrenhal          100.0          100.0    200.0\n",
       "19    King's Landing        21000.0         7250.0  14500.0\n",
       "25         The Twins         3500.0         3500.0   7000.0\n",
       "27      Castle Black       100000.0         1240.0   2480.0\n",
       "30    Deepwood Motte         4500.0          200.0    400.0\n",
       "37        Winterfell         5000.0         8000.0  10000.0"
      ]
     },
     "execution_count": 7,
     "metadata": {},
     "output_type": "execute_result"
    }
   ],
   "source": [
    "armies = df[['location', 'attacker_size', 'defender_size']]\\\n",
    "            .dropna(subset=['attacker_size', 'defender_size'])\n",
    "armies['deaths'] = 2*armies.loc[:,['attacker_size', 'defender_size']].min(axis=1)\n",
    "armies"
   ]
  },
  {
   "cell_type": "code",
   "execution_count": 8,
   "metadata": {},
   "outputs": [
    {
     "name": "stdout",
     "output_type": "stream",
     "text": [
      "High five! You successfuly sent some data to your account on plotly. View your plot in your browser at https://plot.ly/~RerumNovarum/0 or inside your plot.ly account where it is named 'deaths_pie'\n"
     ]
    },
    {
     "data": {
      "text/html": [
       "<iframe id=\"igraph\" scrolling=\"no\" style=\"border:none;\" seamless=\"seamless\" src=\"https://plot.ly/~RerumNovarum/0.embed\" height=\"525px\" width=\"100%\"></iframe>"
      ],
      "text/plain": [
       "<plotly.tools.PlotlyDisplay object>"
      ]
     },
     "execution_count": 8,
     "metadata": {},
     "output_type": "execute_result"
    }
   ],
   "source": [
    "deaths_pie = go.Pie(labels=armies['location'], values=armies['deaths'])\n",
    "py.iplot([deaths_pie], filename='deaths_pie')"
   ]
  },
  {
   "cell_type": "code",
   "execution_count": null,
   "metadata": {
    "collapsed": true
   },
   "outputs": [],
   "source": []
  }
 ],
 "metadata": {
  "kernelspec": {
   "display_name": "Python 3",
   "language": "python",
   "name": "python3"
  },
  "language_info": {
   "codemirror_mode": {
    "name": "ipython",
    "version": 3
   },
   "file_extension": ".py",
   "mimetype": "text/x-python",
   "name": "python",
   "nbconvert_exporter": "python",
   "pygments_lexer": "ipython3",
   "version": "3.6.1"
  },
  "toc": {
   "colors": {
    "hover_highlight": "#DAA520",
    "running_highlight": "#FF0000",
    "selected_highlight": "#FFD700"
   },
   "moveMenuLeft": true,
   "nav_menu": {
    "height": "12px",
    "width": "252px"
   },
   "navigate_menu": true,
   "number_sections": true,
   "sideBar": true,
   "threshold": 4,
   "toc_cell": false,
   "toc_section_display": "block",
   "toc_window_display": false
  }
 },
 "nbformat": 4,
 "nbformat_minor": 2
}
